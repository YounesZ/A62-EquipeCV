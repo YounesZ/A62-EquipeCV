{
 "cells": [
  {
   "cell_type": "code",
   "execution_count": 1,
   "id": "P9lXbmvedny2",
   "metadata": {
    "colab": {
     "base_uri": "https://localhost:8080/"
    },
    "executionInfo": {
     "elapsed": 1201,
     "status": "ok",
     "timestamp": 1638104785671,
     "user": {
      "displayName": "Rene MAROT",
      "photoUrl": "https://lh3.googleusercontent.com/a/default-user=s64",
      "userId": "11976636736374307912"
     },
     "user_tz": 300
    },
    "id": "P9lXbmvedny2",
    "outputId": "bce399f2-5c4f-427c-eaa5-3ad2b44ff310"
   },
   "outputs": [],
   "source": [
    "# from google.colab import drive\n",
    "# drive.mount('/content/drive',force_remount=True)"
   ]
  },
  {
   "cell_type": "code",
   "execution_count": 2,
   "id": "H8kGJ0NOdo09",
   "metadata": {
    "colab": {
     "base_uri": "https://localhost:8080/"
    },
    "executionInfo": {
     "elapsed": 3398,
     "status": "ok",
     "timestamp": 1638104789067,
     "user": {
      "displayName": "Rene MAROT",
      "photoUrl": "https://lh3.googleusercontent.com/a/default-user=s64",
      "userId": "11976636736374307912"
     },
     "user_tz": 300
    },
    "id": "H8kGJ0NOdo09",
    "outputId": "3d59ada4-409a-4941-bd7b-74532f668ad1"
   },
   "outputs": [],
   "source": [
    "# !pip install import-ipynb"
   ]
  },
  {
   "cell_type": "code",
   "execution_count": 3,
   "id": "9AGWAZ5wgEGF",
   "metadata": {
    "executionInfo": {
     "elapsed": 11,
     "status": "ok",
     "timestamp": 1638104789067,
     "user": {
      "displayName": "Rene MAROT",
      "photoUrl": "https://lh3.googleusercontent.com/a/default-user=s64",
      "userId": "11976636736374307912"
     },
     "user_tz": 300
    },
    "id": "9AGWAZ5wgEGF"
   },
   "outputs": [],
   "source": [
    "import import_ipynb"
   ]
  },
  {
   "cell_type": "code",
   "execution_count": 4,
   "id": "gQbs_MIkdrHX",
   "metadata": {
    "colab": {
     "base_uri": "https://localhost:8080/"
    },
    "executionInfo": {
     "elapsed": 179,
     "status": "ok",
     "timestamp": 1638104789235,
     "user": {
      "displayName": "Rene MAROT",
      "photoUrl": "https://lh3.googleusercontent.com/a/default-user=s64",
      "userId": "11976636736374307912"
     },
     "user_tz": 300
    },
    "id": "gQbs_MIkdrHX",
    "outputId": "57c69d2e-db7c-4d40-97b4-7c37add23611"
   },
   "outputs": [],
   "source": [
    "# %cd /content/drive/MyDrive/A62_projet_synthese_feature/feature-colab-from-git/notebook"
   ]
  },
  {
   "cell_type": "code",
   "execution_count": 5,
   "id": "QCRssuS3dt1u",
   "metadata": {
    "executionInfo": {
     "elapsed": 381,
     "status": "ok",
     "timestamp": 1638104789611,
     "user": {
      "displayName": "Rene MAROT",
      "photoUrl": "https://lh3.googleusercontent.com/a/default-user=s64",
      "userId": "11976636736374307912"
     },
     "user_tz": 300
    },
    "id": "QCRssuS3dt1u"
   },
   "outputs": [],
   "source": [
    "%run iteration_01_0_imports.py"
   ]
  },
  {
   "cell_type": "code",
   "execution_count": 6,
   "id": "6XvrVF4GdkD6",
   "metadata": {
    "executionInfo": {
     "elapsed": 205,
     "status": "ok",
     "timestamp": 1638104789811,
     "user": {
      "displayName": "Rene MAROT",
      "photoUrl": "https://lh3.googleusercontent.com/a/default-user=s64",
      "userId": "11976636736374307912"
     },
     "user_tz": 300
    },
    "id": "6XvrVF4GdkD6"
   },
   "outputs": [],
   "source": [
    "%run iteration_01_0_parameters.py"
   ]
  },
  {
   "cell_type": "code",
   "execution_count": 7,
   "id": "Ep8e8I59dkD6",
   "metadata": {
    "colab": {
     "base_uri": "https://localhost:8080/"
    },
    "executionInfo": {
     "elapsed": 4,
     "status": "ok",
     "timestamp": 1638104789811,
     "user": {
      "displayName": "Rene MAROT",
      "photoUrl": "https://lh3.googleusercontent.com/a/default-user=s64",
      "userId": "11976636736374307912"
     },
     "user_tz": 300
    },
    "id": "Ep8e8I59dkD6",
    "outputId": "b57ad777-144a-4911-e477-00f7674eb89a"
   },
   "outputs": [
    {
     "name": "stdout",
     "output_type": "stream",
     "text": [
      "importing Jupyter notebook from iteration_01_0_utils.ipynb\n"
     ]
    }
   ],
   "source": [
    "import iteration_01_0_utils as utils"
   ]
  },
  {
   "cell_type": "code",
   "execution_count": 8,
   "id": "qC29yEDneQmm",
   "metadata": {
    "colab": {
     "base_uri": "https://localhost:8080/"
    },
    "executionInfo": {
     "elapsed": 7,
     "status": "ok",
     "timestamp": 1638104789941,
     "user": {
      "displayName": "Rene MAROT",
      "photoUrl": "https://lh3.googleusercontent.com/a/default-user=s64",
      "userId": "11976636736374307912"
     },
     "user_tz": 300
    },
    "id": "qC29yEDneQmm",
    "outputId": "97e14e3e-91a2-475e-8983-8cc67632e0a3"
   },
   "outputs": [
    {
     "name": "stdout",
     "output_type": "stream",
     "text": [
      "Variable           Type      Data/Info\n",
      "--------------------------------------\n",
      "HEALTHY            str       H\n",
      "IMG_SIZE           int       64\n",
      "Image              module    <module 'PIL.Image' from <...>packages\\\\PIL\\\\Image.py'>\n",
      "NBR_SAMPLE         int       20000\n",
      "PATH_DATA          str       ../data\n",
      "PATH_DATA_EDA      str       ../data/eda\n",
      "PATH_DATA_LIST     str       ../data/list\n",
      "PATH_DATA_SAMPLE   str       ../data/sample\n",
      "PATH_MODEL         str       ../model\n",
      "PATH_ROOT          str       ..\n",
      "PATH_SOURCE_IMG    str       ../cell_images\n",
      "SICK               str       S\n",
      "cv2                module    <module 'cv2' from 'C:\\\\U<...>kages\\\\cv2\\\\__init__.py'>\n",
      "datetime           type      <class 'datetime.datetime'>\n",
      "glob               module    <module 'glob' from 'C:\\\\<...>anaconda3\\\\lib\\\\glob.py'>\n",
      "gzip               module    <module 'gzip' from 'C:\\\\<...>anaconda3\\\\lib\\\\gzip.py'>\n",
      "import_ipynb       module    <module 'import_ipynb' fr<...>ckages\\\\import_ipynb.py'>\n",
      "np                 module    <module 'numpy' from 'C:\\<...>ges\\\\numpy\\\\__init__.py'>\n",
      "os                 module    <module 'os' from 'C:\\\\Us<...>\\\\anaconda3\\\\lib\\\\os.py'>\n",
      "pd                 module    <module 'pandas' from 'C:<...>es\\\\pandas\\\\__init__.py'>\n",
      "pickle             module    <module 'pickle' from 'C:<...>aconda3\\\\lib\\\\pickle.py'>\n",
      "plt                module    <module 'matplotlib.pyplo<...>\\\\matplotlib\\\\pyplot.py'>\n",
      "random             module    <module 'random' from 'C:<...>aconda3\\\\lib\\\\random.py'>\n",
      "sns                module    <module 'seaborn' from 'C<...>s\\\\seaborn\\\\__init__.py'>\n",
      "tqdm               type      <class 'tqdm.std.tqdm'>\n",
      "utils              module    <module 'iteration_01_0_u<...> at 0x0000020165769910>)>\n"
     ]
    }
   ],
   "source": [
    "%whos"
   ]
  },
  {
   "cell_type": "code",
   "execution_count": 9,
   "id": "hJ3iVyBHdkD7",
   "metadata": {
    "executionInfo": {
     "elapsed": 141,
     "status": "ok",
     "timestamp": 1638104790077,
     "user": {
      "displayName": "Rene MAROT",
      "photoUrl": "https://lh3.googleusercontent.com/a/default-user=s64",
      "userId": "11976636736374307912"
     },
     "user_tz": 300
    },
    "id": "hJ3iVyBHdkD7"
   },
   "outputs": [],
   "source": [
    "df_path_img_sick = pd.read_csv(PATH_DATA_LIST + \"/\" + \"df_list_path_sick_img.csv\")\n",
    "df_path_img_healthy = pd.read_csv(PATH_DATA_LIST + \"/\" + \"df_list_path_healthy_img.csv\")\n",
    "df_path_img = pd.read_csv(PATH_DATA_LIST + \"/\" + \"df_list_path_img.csv\")"
   ]
  },
  {
   "cell_type": "markdown",
   "id": "UJ6qnkwzdkD7",
   "metadata": {
    "id": "UJ6qnkwzdkD7"
   },
   "source": [
    "# Prétraitement"
   ]
  },
  {
   "cell_type": "markdown",
   "id": "NbvLsRqVdkD9",
   "metadata": {
    "id": "NbvLsRqVdkD9"
   },
   "source": [
    "## positif_global_std"
   ]
  },
  {
   "cell_type": "code",
   "execution_count": 10,
   "id": "homeless-explosion",
   "metadata": {},
   "outputs": [],
   "source": [
    "IMG_IN_COLOR = 1\n",
    "def image_resize(path_img: str) -> np.array:\n",
    "    img_arr = cv2.imread(path_img, flags = IMG_IN_COLOR)\n",
    "    \n",
    "    h, w, _ = img_arr.shape\n",
    "    ratio = IMG_SIZE / max(h,w) \n",
    "    img_arr_resize = cv2.resize(img_arr, dsize = (int(np.ceil(w*ratio)), int(np.ceil(h*ratio)) ))\n",
    "    return img_arr_resize"
   ]
  },
  {
   "cell_type": "code",
   "execution_count": 11,
   "id": "gUHh2T1tdkD9",
   "metadata": {
    "executionInfo": {
     "elapsed": 6,
     "status": "ok",
     "timestamp": 1638104790077,
     "user": {
      "displayName": "Rene MAROT",
      "photoUrl": "https://lh3.googleusercontent.com/a/default-user=s64",
      "userId": "11976636736374307912"
     },
     "user_tz": 300
    },
    "id": "gUHh2T1tdkD9"
   },
   "outputs": [],
   "source": [
    "def positive_global_std(img_arr: np.array) -> np.array:\n",
    "    \n",
    "    mean = img_arr.mean()\n",
    "    std  = img_arr.std()\n",
    "    img_arr_std = (img_arr - mean) / std\n",
    "    \n",
    "    # clip les valeurs\n",
    "    img_arr_std = np.clip(img_arr_std, -1.0, 1.0)\n",
    "    \n",
    "    # shift to 0--1\n",
    "    img_arr_std = (img_arr_std + 1.0) / 2.0\n",
    "    \n",
    "    return img_arr_std"
   ]
  },
  {
   "cell_type": "markdown",
   "id": "XYIYqzT4dkD-",
   "metadata": {
    "id": "XYIYqzT4dkD-"
   },
   "source": [
    "* Voir avec le prof la pertinence de clip les valeurs extremes -1 et 1"
   ]
  },
  {
   "cell_type": "code",
   "execution_count": 12,
   "id": "BhlWyq1pdkD-",
   "metadata": {
    "colab": {
     "base_uri": "https://localhost:8080/"
    },
    "executionInfo": {
     "elapsed": 5,
     "status": "ok",
     "timestamp": 1638104790077,
     "user": {
      "displayName": "Rene MAROT",
      "photoUrl": "https://lh3.googleusercontent.com/a/default-user=s64",
      "userId": "11976636736374307912"
     },
     "user_tz": 300
    },
    "id": "BhlWyq1pdkD-",
    "outputId": "5127da6b-15d5-46a4-cff6-924e667fe5e7"
   },
   "outputs": [
    {
     "data": {
      "text/plain": [
       "20000"
      ]
     },
     "execution_count": 12,
     "metadata": {},
     "output_type": "execute_result"
    }
   ],
   "source": [
    "NBR_SAMPLE"
   ]
  },
  {
   "cell_type": "code",
   "execution_count": 13,
   "id": "mJsCL7ibdkEA",
   "metadata": {
    "executionInfo": {
     "elapsed": 5,
     "status": "ok",
     "timestamp": 1638104790078,
     "user": {
      "displayName": "Rene MAROT",
      "photoUrl": "https://lh3.googleusercontent.com/a/default-user=s64",
      "userId": "11976636736374307912"
     },
     "user_tz": 300
    },
    "id": "mJsCL7ibdkEA"
   },
   "outputs": [],
   "source": [
    "df_path_img_healthy_sample = df_path_img_healthy.sample(n = int(NBR_SAMPLE/2))\n",
    "df_path_img_sick_sample    = df_path_img_sick.sample(n = int(NBR_SAMPLE/2))"
   ]
  },
  {
   "cell_type": "code",
   "execution_count": 14,
   "id": "LI7bOfvAdkEA",
   "metadata": {
    "colab": {
     "base_uri": "https://localhost:8080/",
     "height": 35
    },
    "executionInfo": {
     "elapsed": 10,
     "status": "ok",
     "timestamp": 1638104790207,
     "user": {
      "displayName": "Rene MAROT",
      "photoUrl": "https://lh3.googleusercontent.com/a/default-user=s64",
      "userId": "11976636736374307912"
     },
     "user_tz": 300
    },
    "id": "LI7bOfvAdkEA",
    "outputId": "6377fbf5-04af-4304-d580-bf3ebaa1f5d7"
   },
   "outputs": [
    {
     "data": {
      "text/plain": [
       "'../data/sample'"
      ]
     },
     "execution_count": 14,
     "metadata": {},
     "output_type": "execute_result"
    }
   ],
   "source": [
    "PATH_DATA_SAMPLE"
   ]
  },
  {
   "cell_type": "code",
   "execution_count": 15,
   "id": "ZQZBMpgkdkEB",
   "metadata": {
    "executionInfo": {
     "elapsed": 9,
     "status": "ok",
     "timestamp": 1638104790207,
     "user": {
      "displayName": "Rene MAROT",
      "photoUrl": "https://lh3.googleusercontent.com/a/default-user=s64",
      "userId": "11976636736374307912"
     },
     "user_tz": 300
    },
    "id": "ZQZBMpgkdkEB"
   },
   "outputs": [],
   "source": [
    "DATE_TIME = \"2021-11-18_20-39-00\"\n",
    "\n",
    "def create_sample(df_path_img:str, img_type:str, path_sample:str, date_time:str, clean_dir:bool):\n",
    "    path_sample_time = path_sample+\"/\"+date_time\n",
    "\n",
    "    os.makedirs(path_sample_time, exist_ok=True)\n",
    "    if clean_dir:\n",
    "        file_list = glob.glob(path_sample_time+\"/\"+\"*.*\")\n",
    "        for f in file_list:\n",
    "            os.remove(f)\n",
    "    \n",
    "    for path_img , _ in zip(df_path_img.path_img, tqdm(range(len(df_path_img.path_img)))):\n",
    "        \n",
    "        _, img_name, _ = utils.split_file_info(path_img)\n",
    "        \n",
    "        \n",
    "        img_arr_std = positive_global_std(image_resize(path_img))\n",
    "        # padding\n",
    "        img_arr_padded = np.zeros((IMG_SIZE, IMG_SIZE, 3))\n",
    "        img_arr_padded[:img_arr_std.shape[0],:img_arr_std.shape[1],:] = img_arr_std\n",
    "        \n",
    "        utils.pickle_save(img_arr_padded, path_sample_time + \"/\" + str(img_type).upper() + \"_\" + img_name + \".pklz\")\n",
    "        "
   ]
  },
  {
   "cell_type": "code",
   "execution_count": 16,
   "id": "oZyNpdLmdkEB",
   "metadata": {
    "colab": {
     "base_uri": "https://localhost:8080/"
    },
    "executionInfo": {
     "elapsed": 2380762,
     "status": "ok",
     "timestamp": 1638107170961,
     "user": {
      "displayName": "Rene MAROT",
      "photoUrl": "https://lh3.googleusercontent.com/a/default-user=s64",
      "userId": "11976636736374307912"
     },
     "user_tz": 300
    },
    "id": "oZyNpdLmdkEB",
    "outputId": "72b56d8b-6c42-40a6-c0d7-a05142417739"
   },
   "outputs": [
    {
     "name": "stderr",
     "output_type": "stream",
     "text": [
      "100%|█████████▉| 9999/10000 [05:06<00:00, 32.62it/s]\n"
     ]
    }
   ],
   "source": [
    "create_sample(df_path_img_healthy_sample, HEALTHY, PATH_DATA_SAMPLE, DATE_TIME, clean_dir=True)"
   ]
  },
  {
   "cell_type": "code",
   "execution_count": 17,
   "id": "-8wRiHw5dkEB",
   "metadata": {
    "colab": {
     "base_uri": "https://localhost:8080/"
    },
    "executionInfo": {
     "elapsed": 2234295,
     "status": "ok",
     "timestamp": 1638109405245,
     "user": {
      "displayName": "Rene MAROT",
      "photoUrl": "https://lh3.googleusercontent.com/a/default-user=s64",
      "userId": "11976636736374307912"
     },
     "user_tz": 300
    },
    "id": "-8wRiHw5dkEB",
    "outputId": "6b297645-bb5e-4e75-ed34-29d3ac567e24"
   },
   "outputs": [
    {
     "name": "stderr",
     "output_type": "stream",
     "text": [
      "100%|█████████▉| 9999/10000 [05:08<00:00, 32.39it/s]\n"
     ]
    }
   ],
   "source": [
    "create_sample(df_path_img_sick_sample, SICK, PATH_DATA_SAMPLE, DATE_TIME, clean_dir=False)"
   ]
  },
  {
   "cell_type": "code",
   "execution_count": 18,
   "id": "ffkCQIbPdkEC",
   "metadata": {
    "executionInfo": {
     "elapsed": 17318,
     "status": "ok",
     "timestamp": 1638109422552,
     "user": {
      "displayName": "Rene MAROT",
      "photoUrl": "https://lh3.googleusercontent.com/a/default-user=s64",
      "userId": "11976636736374307912"
     },
     "user_tz": 300
    },
    "id": "ffkCQIbPdkEC"
   },
   "outputs": [],
   "source": [
    "df_path_img_sample = pd.concat([df_path_img_healthy_sample, df_path_img_sick_sample], ignore_index=True)\n",
    "df_path_img_not_in_sample = pd.DataFrame([i for i in df_path_img.path_img.values if not i in df_path_img_sample.path_img.values], \n",
    "                 columns=df_path_img_sample.columns)"
   ]
  },
  {
   "cell_type": "code",
   "execution_count": 19,
   "id": "-rJBxsQxdkEC",
   "metadata": {
    "colab": {
     "base_uri": "https://localhost:8080/"
    },
    "executionInfo": {
     "elapsed": 19,
     "status": "ok",
     "timestamp": 1638109422554,
     "user": {
      "displayName": "Rene MAROT",
      "photoUrl": "https://lh3.googleusercontent.com/a/default-user=s64",
      "userId": "11976636736374307912"
     },
     "user_tz": 300
    },
    "id": "-rJBxsQxdkEC",
    "outputId": "fe7023eb-9072-46f7-b68c-5cb1c5503d35"
   },
   "outputs": [
    {
     "data": {
      "text/plain": [
       "(7558, 1)"
      ]
     },
     "execution_count": 19,
     "metadata": {},
     "output_type": "execute_result"
    }
   ],
   "source": [
    "df_path_img_not_in_sample.shape"
   ]
  },
  {
   "cell_type": "code",
   "execution_count": 20,
   "id": "zJrlzZ81dkEC",
   "metadata": {
    "colab": {
     "base_uri": "https://localhost:8080/",
     "height": 0
    },
    "executionInfo": {
     "elapsed": 17,
     "status": "ok",
     "timestamp": 1638109422555,
     "user": {
      "displayName": "Rene MAROT",
      "photoUrl": "https://lh3.googleusercontent.com/a/default-user=s64",
      "userId": "11976636736374307912"
     },
     "user_tz": 300
    },
    "id": "zJrlzZ81dkEC",
    "outputId": "d6b3489c-7c66-4f77-d2da-4d26dde8a608"
   },
   "outputs": [
    {
     "data": {
      "text/html": [
       "<div>\n",
       "<style scoped>\n",
       "    .dataframe tbody tr th:only-of-type {\n",
       "        vertical-align: middle;\n",
       "    }\n",
       "\n",
       "    .dataframe tbody tr th {\n",
       "        vertical-align: top;\n",
       "    }\n",
       "\n",
       "    .dataframe thead th {\n",
       "        text-align: right;\n",
       "    }\n",
       "</style>\n",
       "<table border=\"1\" class=\"dataframe\">\n",
       "  <thead>\n",
       "    <tr style=\"text-align: right;\">\n",
       "      <th></th>\n",
       "      <th>path_img</th>\n",
       "    </tr>\n",
       "  </thead>\n",
       "  <tbody>\n",
       "    <tr>\n",
       "      <th>0</th>\n",
       "      <td>../cell_images/Parasitized\\C100P61ThinF_IMG_20...</td>\n",
       "    </tr>\n",
       "    <tr>\n",
       "      <th>1</th>\n",
       "      <td>../cell_images/Parasitized\\C100P61ThinF_IMG_20...</td>\n",
       "    </tr>\n",
       "    <tr>\n",
       "      <th>2</th>\n",
       "      <td>../cell_images/Parasitized\\C100P61ThinF_IMG_20...</td>\n",
       "    </tr>\n",
       "    <tr>\n",
       "      <th>3</th>\n",
       "      <td>../cell_images/Parasitized\\C100P61ThinF_IMG_20...</td>\n",
       "    </tr>\n",
       "    <tr>\n",
       "      <th>4</th>\n",
       "      <td>../cell_images/Parasitized\\C100P61ThinF_IMG_20...</td>\n",
       "    </tr>\n",
       "  </tbody>\n",
       "</table>\n",
       "</div>"
      ],
      "text/plain": [
       "                                            path_img\n",
       "0  ../cell_images/Parasitized\\C100P61ThinF_IMG_20...\n",
       "1  ../cell_images/Parasitized\\C100P61ThinF_IMG_20...\n",
       "2  ../cell_images/Parasitized\\C100P61ThinF_IMG_20...\n",
       "3  ../cell_images/Parasitized\\C100P61ThinF_IMG_20...\n",
       "4  ../cell_images/Parasitized\\C100P61ThinF_IMG_20..."
      ]
     },
     "execution_count": 20,
     "metadata": {},
     "output_type": "execute_result"
    }
   ],
   "source": [
    "df_path_img_not_in_sample.head()"
   ]
  },
  {
   "cell_type": "code",
   "execution_count": 21,
   "id": "t7W4RJ37dkED",
   "metadata": {
    "colab": {
     "base_uri": "https://localhost:8080/"
    },
    "executionInfo": {
     "elapsed": 10,
     "status": "ok",
     "timestamp": 1638109422555,
     "user": {
      "displayName": "Rene MAROT",
      "photoUrl": "https://lh3.googleusercontent.com/a/default-user=s64",
      "userId": "11976636736374307912"
     },
     "user_tz": 300
    },
    "id": "t7W4RJ37dkED",
    "outputId": "89285b9a-e05e-41d6-f01b-3e7edd8b894a"
   },
   "outputs": [
    {
     "data": {
      "text/plain": [
       "array([['../cell_images/Parasitized\\\\C109P70ThinF_IMG_20150930_103811_cell_159.png']],\n",
       "      dtype=object)"
      ]
     },
     "execution_count": 21,
     "metadata": {},
     "output_type": "execute_result"
    }
   ],
   "source": [
    "df_path_img_not_in_sample.sample(1).values"
   ]
  },
  {
   "cell_type": "code",
   "execution_count": null,
   "id": "dried-bonus",
   "metadata": {},
   "outputs": [],
   "source": []
  }
 ],
 "metadata": {
  "accelerator": "GPU",
  "colab": {
   "collapsed_sections": [],
   "name": "iteration_01_2_pretraitement_1.ipynb",
   "provenance": [
    {
     "file_id": "https://github.com/YounesZ/A62-EquipeCV/blob/feature-colab-integration/notebook/iteration_01_2_pretraitement_1.ipynb",
     "timestamp": 1637800145320
    }
   ]
  },
  "kernelspec": {
   "display_name": "Python 3",
   "language": "python",
   "name": "python3"
  },
  "language_info": {
   "codemirror_mode": {
    "name": "ipython",
    "version": 3
   },
   "file_extension": ".py",
   "mimetype": "text/x-python",
   "name": "python",
   "nbconvert_exporter": "python",
   "pygments_lexer": "ipython3",
   "version": "3.8.5"
  },
  "toc": {
   "base_numbering": 1,
   "nav_menu": {},
   "number_sections": true,
   "sideBar": true,
   "skip_h1_title": false,
   "title_cell": "Table of Contents",
   "title_sidebar": "Contents",
   "toc_cell": false,
   "toc_position": {},
   "toc_section_display": true,
   "toc_window_display": false
  }
 },
 "nbformat": 4,
 "nbformat_minor": 5
}
