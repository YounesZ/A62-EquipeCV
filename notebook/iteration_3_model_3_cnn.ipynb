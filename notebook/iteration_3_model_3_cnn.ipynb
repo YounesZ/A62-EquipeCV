{
 "cells": [
  {
   "cell_type": "code",
   "execution_count": 1,
   "metadata": {},
   "outputs": [],
   "source": [
    "import import_ipynb"
   ]
  },
  {
   "cell_type": "code",
   "execution_count": 2,
   "metadata": {},
   "outputs": [],
   "source": [
    "%run iteration_0_imports.py"
   ]
  },
  {
   "cell_type": "code",
   "execution_count": 3,
   "metadata": {},
   "outputs": [],
   "source": [
    "%run iteration_0_parameters.py"
   ]
  },
  {
   "cell_type": "code",
   "execution_count": 4,
   "metadata": {},
   "outputs": [
    {
     "name": "stdout",
     "output_type": "stream",
     "text": [
      "importing Jupyter notebook from iteration_0_utils.ipynb\n"
     ]
    }
   ],
   "source": [
    "import iteration_0_utils as utils"
   ]
  },
  {
   "cell_type": "code",
   "execution_count": 5,
   "metadata": {},
   "outputs": [
    {
     "name": "stdout",
     "output_type": "stream",
     "text": [
      "Variable                          Type        Data/Info\n",
      "-------------------------------------------------------\n",
      "HEALTHY                           str         H\n",
      "IMG_IN_COLOR                      int         1\n",
      "IMG_SIZE                          int         64\n",
      "Image                             module      <module 'PIL.Image' from <...>packages\\\\PIL\\\\Image.py'>\n",
      "NBR_SAMPLE                        int         20000\n",
      "PATH_DATA                         str         ../data\n",
      "PATH_DATA_EDA                     str         ../data/eda\n",
      "PATH_DATA_LIST                    str         ../data/list\n",
      "PATH_DATA_SAMPLE                  str         ../data/sample\n",
      "PATH_MODEL                        str         ../model\n",
      "PATH_ROOT                         str         ..\n",
      "PATH_SOURCE_IMG                   str         ../cell_images\n",
      "RandomForestClassifier            ABCMeta     <class 'sklearn.ensemble.<...>.RandomForestClassifier'>\n",
      "SICK                              str         S\n",
      "classification_report             function    <function classification_<...>rt at 0x00000236AF30DAF0>\n",
      "confusion_matrix                  function    <function confusion_matrix at 0x00000236AF30D280>\n",
      "cv2                               module      <module 'cv2' from 'C:\\\\U<...>kages\\\\cv2\\\\__init__.py'>\n",
      "datetime                          type        <class 'datetime.datetime'>\n",
      "f1_score                          function    <function f1_score at 0x00000236AF30D5E0>\n",
      "gc                                module      <module 'gc' (built-in)>\n",
      "glob                              module      <module 'glob' from 'C:\\\\<...>Anaconda3\\\\lib\\\\glob.py'>\n",
      "gzip                              module      <module 'gzip' from 'C:\\\\<...>Anaconda3\\\\lib\\\\gzip.py'>\n",
      "import_ipynb                      module      <module 'import_ipynb' fr<...>ckages\\\\import_ipynb.py'>\n",
      "learning_curve                    function    <function learning_curve at 0x00000236AF4D9430>\n",
      "mlflow                            module      <module 'mlflow' from 'C:<...>es\\\\mlflow\\\\__init__.py'>\n",
      "np                                module      <module 'numpy' from 'C:\\<...>ges\\\\numpy\\\\__init__.py'>\n",
      "os                                module      <module 'os' from 'C:\\\\Te<...>\\\\Anaconda3\\\\lib\\\\os.py'>\n",
      "pd                                module      <module 'pandas' from 'C:<...>es\\\\pandas\\\\__init__.py'>\n",
      "pickle                            module      <module 'pickle' from 'C:<...>aconda3\\\\lib\\\\pickle.py'>\n",
      "plt                               module      <module 'matplotlib.pyplo<...>\\\\matplotlib\\\\pyplot.py'>\n",
      "precision_recall_fscore_support   function    <function precision_recal<...>rt at 0x00000236AF30D8B0>\n",
      "random                            module      <module 'random' from 'C:<...>aconda3\\\\lib\\\\random.py'>\n",
      "sns                               module      <module 'seaborn' from 'C<...>s\\\\seaborn\\\\__init__.py'>\n",
      "sp                                module      <module 'scipy.sparse' fr<...>py\\\\sparse\\\\__init__.py'>\n",
      "tqdm                              type        <class 'tqdm.std.tqdm'>\n",
      "train_test_split                  function    <function train_test_split at 0x00000236AF4D3790>\n",
      "utils                             module      <module 'iteration_0_util<...> at 0x000002368065ECD0>)>\n"
     ]
    }
   ],
   "source": [
    "%whos"
   ]
  },
  {
   "cell_type": "markdown",
   "metadata": {},
   "source": [
    "# make X, y"
   ]
  },
  {
   "cell_type": "code",
   "execution_count": 6,
   "metadata": {},
   "outputs": [],
   "source": [
    "DATE_TIME = \"2021-11-18_20-39-00\""
   ]
  },
  {
   "cell_type": "code",
   "execution_count": 7,
   "metadata": {},
   "outputs": [],
   "source": [
    "# get list \n",
    "list_path_sample_img = []\n",
    "list_path_sample_img.extend(glob.glob(PATH_DATA_SAMPLE+\"/\"+DATE_TIME+ \"/\"+ \"*.pklz\"))"
   ]
  },
  {
   "cell_type": "code",
   "execution_count": 8,
   "metadata": {},
   "outputs": [],
   "source": [
    "# split train, validation, test set\n",
    "list_path_sample_img_train, list_path_sample_img_test  = train_test_split(list_path_sample_img, test_size=0.2)\n",
    "list_path_sample_img_train, list_path_sample_img_valid = train_test_split(list_path_sample_img_train, test_size=0.2)"
   ]
  },
  {
   "cell_type": "code",
   "execution_count": 9,
   "metadata": {},
   "outputs": [],
   "source": [
    "def make_Xy(list_path_sample_img: list) -> (np.array, np.array):\n",
    "    X = np.ndarray( (len(list_path_sample_img), IMG_SIZE, IMG_SIZE, 3) ,dtype = \"float16\")\n",
    "    y = np.array([\"\"] * len(list_path_sample_img))\n",
    "    for i, path in tqdm(enumerate(list_path_sample_img)):\n",
    "        \n",
    "        X[i] = utils.pickle_read(path).astype(\"float16\")\n",
    "    \n",
    "        _, file_name, _ = utils.split_file_info(path)\n",
    "        y[i] = file_name[0]\n",
    "    \n",
    "    return X, y\n",
    "    "
   ]
  },
  {
   "cell_type": "code",
   "execution_count": 10,
   "metadata": {},
   "outputs": [
    {
     "name": "stderr",
     "output_type": "stream",
     "text": [
      "12800it [02:09, 98.65it/s] \n"
     ]
    }
   ],
   "source": [
    "X_train, y_train  = make_Xy(list_path_sample_img_train)"
   ]
  },
  {
   "cell_type": "code",
   "execution_count": 11,
   "metadata": {},
   "outputs": [
    {
     "name": "stderr",
     "output_type": "stream",
     "text": [
      "3200it [00:30, 104.74it/s]\n"
     ]
    }
   ],
   "source": [
    "X_valid, y_valid  = make_Xy(list_path_sample_img_valid)"
   ]
  },
  {
   "cell_type": "code",
   "execution_count": 12,
   "metadata": {},
   "outputs": [
    {
     "name": "stderr",
     "output_type": "stream",
     "text": [
      "4000it [00:37, 106.40it/s]\n"
     ]
    }
   ],
   "source": [
    "X_test, y_test  = make_Xy(list_path_sample_img_test)"
   ]
  },
  {
   "cell_type": "markdown",
   "metadata": {},
   "source": [
    "# model_cnn"
   ]
  },
  {
   "cell_type": "markdown",
   "metadata": {},
   "source": [
    "* Ref: https://towardsdatascience.com/detecting-malaria-with-deep-learning-9e45c1e34b60\n",
    "* https://towardsdatascience.com/understanding-and-calculating-the-number-of-parameters-in-convolution-neural-networks-cnns-fc88790d530d"
   ]
  },
  {
   "cell_type": "code",
   "execution_count": 13,
   "metadata": {},
   "outputs": [],
   "source": [
    "BATCH_SIZE = 500\n",
    "NUM_CLASSES = 2\n",
    "EPOCHS = 15\n",
    "INPUT_SHAPE = (IMG_SIZE, IMG_SIZE, 3)"
   ]
  },
  {
   "cell_type": "code",
   "execution_count": 14,
   "metadata": {},
   "outputs": [],
   "source": [
    "# Encoder y\n",
    "from sklearn.preprocessing import LabelEncoder"
   ]
  },
  {
   "cell_type": "code",
   "execution_count": 15,
   "metadata": {},
   "outputs": [],
   "source": [
    "le = LabelEncoder()"
   ]
  },
  {
   "cell_type": "code",
   "execution_count": 16,
   "metadata": {},
   "outputs": [],
   "source": [
    "y_train_enc = le.fit_transform(y_train)"
   ]
  },
  {
   "cell_type": "code",
   "execution_count": 17,
   "metadata": {},
   "outputs": [],
   "source": [
    "y_valid_enc = le.transform(y_valid)\n",
    "y_test_enc  = le.transform(y_test)"
   ]
  },
  {
   "cell_type": "code",
   "execution_count": 18,
   "metadata": {},
   "outputs": [
    {
     "data": {
      "text/plain": [
       "array(['H', 'S'], dtype='<U1')"
      ]
     },
     "execution_count": 18,
     "metadata": {},
     "output_type": "execute_result"
    }
   ],
   "source": [
    "le.classes_"
   ]
  },
  {
   "cell_type": "code",
   "execution_count": 19,
   "metadata": {},
   "outputs": [],
   "source": [
    "#!pip uninstall tensorflow"
   ]
  },
  {
   "cell_type": "markdown",
   "metadata": {},
   "source": [
    "Créer un fichier .reg avec les instructions suivantes :\n",
    "\n",
    "===\n",
    "\n",
    "Windows Registry Editor Version 5.00\n",
    "\n",
    "[HKEY_LOCAL_MACHINE\\SYSTEM\\CurrentControlSet\\Control\\FileSystem]\n",
    "\"LongPathsEnabled\"=dword:00000001\n",
    "\n",
    "---\n",
    "\n",
    "Exécuter le .reg"
   ]
  },
  {
   "cell_type": "code",
   "execution_count": 20,
   "metadata": {},
   "outputs": [],
   "source": [
    "#!pip install tensorflow"
   ]
  },
  {
   "cell_type": "code",
   "execution_count": 21,
   "metadata": {},
   "outputs": [],
   "source": [
    "import tensorflow as tf"
   ]
  },
  {
   "cell_type": "code",
   "execution_count": 22,
   "metadata": {},
   "outputs": [],
   "source": [
    "from keras.models import Sequential"
   ]
  },
  {
   "cell_type": "code",
   "execution_count": 23,
   "metadata": {},
   "outputs": [],
   "source": [
    "#assert False"
   ]
  },
  {
   "cell_type": "code",
   "execution_count": 24,
   "metadata": {},
   "outputs": [],
   "source": [
    "model_cnn = Sequential()\n",
    "model_cnn.add(tf.keras.layers.Input(name = \"input\", shape=INPUT_SHAPE))\n",
    "model_cnn.add(tf.keras.layers.Conv2D(name = \"conv2D\",\n",
    "                                     filters=32,\n",
    "                                     kernel_size=(3,3),\n",
    "                                     activation=\"LeakyReLU\",\n",
    "                                     padding=\"same\",\n",
    "                                     kernel_initializer=\"he_uniform\"\n",
    "                                    ))\n",
    "model_cnn.add(tf.keras.layers.MaxPooling2D(name=\"pooling\", pool_size=(2,2)))\n",
    "model_cnn.add(tf.keras.layers.Flatten(name=\"flatten\"))\n",
    "model_cnn.add(tf.keras.layers.Dense(name=\"dense_hidden\", units = 256, activation=\"LeakyReLU\",\n",
    "                                    kernel_initializer=\"he_uniform\" ))\n",
    "model_cnn.add(tf.keras.layers.Dense(name=\"ouput\", units = 1, activation=\"sigmoid\"))\n"
   ]
  },
  {
   "cell_type": "code",
   "execution_count": 25,
   "metadata": {},
   "outputs": [],
   "source": [
    "# compiler modele\n",
    "model_cnn.compile(optimizer = \"adam\", loss =\"binary_crossentropy\", metrics=[\"accuracy\"])"
   ]
  },
  {
   "cell_type": "code",
   "execution_count": 26,
   "metadata": {},
   "outputs": [
    {
     "name": "stdout",
     "output_type": "stream",
     "text": [
      "Model: \"sequential\"\n",
      "_________________________________________________________________\n",
      " Layer (type)                Output Shape              Param #   \n",
      "=================================================================\n",
      " conv2D (Conv2D)             (None, 64, 64, 32)        896       \n",
      "                                                                 \n",
      " pooling (MaxPooling2D)      (None, 32, 32, 32)        0         \n",
      "                                                                 \n",
      " flatten (Flatten)           (None, 32768)             0         \n",
      "                                                                 \n",
      " dense_hidden (Dense)        (None, 256)               8388864   \n",
      "                                                                 \n",
      " ouput (Dense)               (None, 1)                 257       \n",
      "                                                                 \n",
      "=================================================================\n",
      "Total params: 8,390,017\n",
      "Trainable params: 8,390,017\n",
      "Non-trainable params: 0\n",
      "_________________________________________________________________\n"
     ]
    }
   ],
   "source": [
    "model_cnn.summary()"
   ]
  },
  {
   "cell_type": "code",
   "execution_count": 27,
   "metadata": {},
   "outputs": [],
   "source": [
    "from keras.callbacks import EarlyStopping"
   ]
  },
  {
   "cell_type": "code",
   "execution_count": 28,
   "metadata": {},
   "outputs": [],
   "source": [
    "# es = EarlyStopping(mode='min', monitor='val_loss')"
   ]
  },
  {
   "cell_type": "code",
   "execution_count": 29,
   "metadata": {},
   "outputs": [
    {
     "name": "stdout",
     "output_type": "stream",
     "text": [
      "Epoch 1/15\n",
      "26/26 [==============================] - 29s 820ms/step - loss: 7.2260 - accuracy: 0.5328 - val_loss: 1.2758 - val_accuracy: 0.6250\n",
      "Epoch 2/15\n",
      "26/26 [==============================] - 23s 872ms/step - loss: 1.0587 - accuracy: 0.5893 - val_loss: 0.6449 - val_accuracy: 0.6562\n",
      "Epoch 3/15\n",
      "26/26 [==============================] - 21s 790ms/step - loss: 0.5918 - accuracy: 0.6982 - val_loss: 0.5922 - val_accuracy: 0.6950\n",
      "Epoch 4/15\n",
      "26/26 [==============================] - 20s 785ms/step - loss: 0.5654 - accuracy: 0.7215 - val_loss: 0.5999 - val_accuracy: 0.6800\n",
      "Epoch 5/15\n",
      "26/26 [==============================] - 20s 786ms/step - loss: 0.5479 - accuracy: 0.7334 - val_loss: 0.5829 - val_accuracy: 0.7103\n",
      "Epoch 6/15\n",
      "26/26 [==============================] - 20s 784ms/step - loss: 0.5438 - accuracy: 0.7308 - val_loss: 0.5837 - val_accuracy: 0.6988\n",
      "Epoch 7/15\n",
      "26/26 [==============================] - 20s 778ms/step - loss: 0.5302 - accuracy: 0.7489 - val_loss: 0.5811 - val_accuracy: 0.7028\n",
      "Epoch 8/15\n",
      "26/26 [==============================] - 20s 758ms/step - loss: 0.5192 - accuracy: 0.7543 - val_loss: 0.5830 - val_accuracy: 0.6969\n",
      "Epoch 9/15\n",
      "26/26 [==============================] - 20s 772ms/step - loss: 0.5191 - accuracy: 0.7529 - val_loss: 0.5775 - val_accuracy: 0.7122\n",
      "Epoch 10/15\n",
      "26/26 [==============================] - 20s 778ms/step - loss: 0.5149 - accuracy: 0.7491 - val_loss: 0.5787 - val_accuracy: 0.7147\n",
      "Epoch 11/15\n",
      "26/26 [==============================] - 20s 787ms/step - loss: 0.4963 - accuracy: 0.7695 - val_loss: 0.5993 - val_accuracy: 0.6988\n",
      "Epoch 12/15\n",
      "26/26 [==============================] - 20s 776ms/step - loss: 0.5113 - accuracy: 0.7508 - val_loss: 0.5961 - val_accuracy: 0.7059\n",
      "Epoch 13/15\n",
      "26/26 [==============================] - 20s 772ms/step - loss: 0.5314 - accuracy: 0.7391 - val_loss: 0.5900 - val_accuracy: 0.6988\n",
      "Epoch 14/15\n",
      "26/26 [==============================] - 20s 761ms/step - loss: 0.4758 - accuracy: 0.7846 - val_loss: 0.5747 - val_accuracy: 0.7194\n",
      "Epoch 15/15\n",
      "26/26 [==============================] - 20s 763ms/step - loss: 0.4623 - accuracy: 0.7946 - val_loss: 0.5736 - val_accuracy: 0.7122\n"
     ]
    }
   ],
   "source": [
    "history = model_cnn.fit(X_train, y_train_enc, epochs=EPOCHS, validation_data=(X_valid, y_valid_enc), batch_size = BATCH_SIZE,\n",
    "                        )"
   ]
  },
  {
   "cell_type": "code",
   "execution_count": 30,
   "metadata": {},
   "outputs": [
    {
     "data": {
      "text/plain": [
       "{'loss': [7.226010322570801,\n",
       "  1.0586555004119873,\n",
       "  0.5918169617652893,\n",
       "  0.5653559565544128,\n",
       "  0.5479273796081543,\n",
       "  0.5437681674957275,\n",
       "  0.5302184820175171,\n",
       "  0.5191575884819031,\n",
       "  0.5191425085067749,\n",
       "  0.5148696303367615,\n",
       "  0.4962579607963562,\n",
       "  0.5113233923912048,\n",
       "  0.5313677787780762,\n",
       "  0.4757610261440277,\n",
       "  0.462263822555542],\n",
       " 'accuracy': [0.5328124761581421,\n",
       "  0.5892968773841858,\n",
       "  0.6982031464576721,\n",
       "  0.721484363079071,\n",
       "  0.7334374785423279,\n",
       "  0.7307812571525574,\n",
       "  0.7489062547683716,\n",
       "  0.7542968988418579,\n",
       "  0.7528906464576721,\n",
       "  0.7490624785423279,\n",
       "  0.76953125,\n",
       "  0.750781238079071,\n",
       "  0.7391406297683716,\n",
       "  0.7846093773841858,\n",
       "  0.7946093678474426],\n",
       " 'val_loss': [1.2757974863052368,\n",
       "  0.6449447870254517,\n",
       "  0.5922414064407349,\n",
       "  0.5998721122741699,\n",
       "  0.5828545093536377,\n",
       "  0.583723247051239,\n",
       "  0.5811009407043457,\n",
       "  0.5830079913139343,\n",
       "  0.5775321125984192,\n",
       "  0.578665018081665,\n",
       "  0.5993422269821167,\n",
       "  0.5960540175437927,\n",
       "  0.5899648070335388,\n",
       "  0.5746533274650574,\n",
       "  0.5736194252967834],\n",
       " 'val_accuracy': [0.625,\n",
       "  0.65625,\n",
       "  0.6949999928474426,\n",
       "  0.6800000071525574,\n",
       "  0.7103124856948853,\n",
       "  0.6987500190734863,\n",
       "  0.7028124928474426,\n",
       "  0.6968749761581421,\n",
       "  0.7121875286102295,\n",
       "  0.7146875262260437,\n",
       "  0.6987500190734863,\n",
       "  0.7059375047683716,\n",
       "  0.6987500190734863,\n",
       "  0.7193750143051147,\n",
       "  0.7121875286102295]}"
      ]
     },
     "execution_count": 30,
     "metadata": {},
     "output_type": "execute_result"
    }
   ],
   "source": [
    "history.history"
   ]
  },
  {
   "cell_type": "code",
   "execution_count": 31,
   "metadata": {},
   "outputs": [
    {
     "name": "stdout",
     "output_type": "stream",
     "text": [
      "['loss', 'accuracy']\n"
     ]
    }
   ],
   "source": [
    "print(model_cnn.metrics_names)"
   ]
  },
  {
   "cell_type": "code",
   "execution_count": 32,
   "metadata": {},
   "outputs": [],
   "source": [
    "def plot_history(history):\n",
    "    plt.figure(figsize=(16,9))\n",
    "    # plot loss\n",
    "    plt.subplot(211)\n",
    "    plt.grid()\n",
    "    plt.title('binary_crossentropy')\n",
    "    plt.plot(history.history['loss'], \"o-\", color='blue', label='train')\n",
    "    plt.plot(history.history['val_loss'], \"o-\", color='orange', label='validation')\n",
    "    plt.legend()    \n",
    "    # plot accuracy\n",
    "    plt.subplot(212)\n",
    "    plt.grid()\n",
    "    plt.title('Classification Accuracy')\n",
    "    plt.plot(history.history['accuracy'], \"o-\",color='blue', label='train')\n",
    "    plt.plot(history.history['val_accuracy'], \"o-\",color='orange', label='validation')\n",
    "    plt.legend()\n",
    "    plt.show()"
   ]
  },
  {
   "cell_type": "code",
   "execution_count": 33,
   "metadata": {},
   "outputs": [
    {
     "data": {
      "image/png": "[encoded data removed]",
      "text/plain": [
       "<Figure size 1152x648 with 2 Axes>"
      ]
     },
     "metadata": {
      "needs_background": "light"
     },
     "output_type": "display_data"
    }
   ],
   "source": [
    "plot_history(history)"
   ]
  },
  {
   "cell_type": "code",
   "execution_count": 44,
   "metadata": {},
   "outputs": [],
   "source": [
    "model_cnn_2 = Sequential()\n",
    "model_cnn_2.add(tf.keras.layers.Input(name = \"input\", shape=INPUT_SHAPE))\n",
    "model_cnn_2.add(tf.keras.layers.Conv2D(name = \"conv2D\",\n",
    "                                     filters=32,\n",
    "                                     kernel_size=(3,3),\n",
    "                                     activation=\"LeakyReLU\",\n",
    "                                     padding=\"same\",\n",
    "                                     kernel_initializer=\"he_uniform\"\n",
    "                                    ))\n",
    "model_cnn_2.add(tf.keras.layers.MaxPooling2D(name=\"pooling\", pool_size=(2,2)))\n",
    "model_cnn_2.add(tf.keras.layers.Conv2D(name = \"conv2D_2\",\n",
    "                                     filters=64,\n",
    "                                     kernel_size=(3,3),\n",
    "                                     activation=\"LeakyReLU\",\n",
    "                                     padding=\"same\",\n",
    "                                     kernel_initializer=\"he_uniform\"\n",
    "                                    ))\n",
    "model_cnn_2.add(tf.keras.layers.MaxPooling2D(name=\"pooling_2\", pool_size=(2,2)))\n",
    "model_cnn_2.add(tf.keras.layers.Flatten(name=\"flatten\"))\n",
    "model_cnn_2.add(tf.keras.layers.Dense(name=\"dense_hidden\", units = 256, activation=\"LeakyReLU\",\n",
    "                                    kernel_initializer=\"he_uniform\" ))\n",
    "model_cnn_2.add(tf.keras.layers.Dense(name=\"dense_hidden_2\", units = 128, activation=\"LeakyReLU\",\n",
    "                                    kernel_initializer=\"he_uniform\" ))\n",
    "model_cnn_2.add(tf.keras.layers.Dense(name=\"ouput\", units = 1, activation=\"sigmoid\"))\n"
   ]
  },
  {
   "cell_type": "code",
   "execution_count": 45,
   "metadata": {},
   "outputs": [],
   "source": [
    "# compiler modele\n",
    "model_cnn_2.compile(optimizer = \"adam\", loss =\"binary_crossentropy\", metrics=[\"accuracy\"])"
   ]
  },
  {
   "cell_type": "code",
   "execution_count": 46,
   "metadata": {},
   "outputs": [
    {
     "name": "stdout",
     "output_type": "stream",
     "text": [
      "Model: \"sequential_3\"\n",
      "_________________________________________________________________\n",
      " Layer (type)                Output Shape              Param #   \n",
      "=================================================================\n",
      " conv2D (Conv2D)             (None, 64, 64, 32)        896       \n",
      "                                                                 \n",
      " pooling (MaxPooling2D)      (None, 32, 32, 32)        0         \n",
      "                                                                 \n",
      " conv2D_2 (Conv2D)           (None, 32, 32, 64)        18496     \n",
      "                                                                 \n",
      " pooling_2 (MaxPooling2D)    (None, 16, 16, 64)        0         \n",
      "                                                                 \n",
      " flatten (Flatten)           (None, 16384)             0         \n",
      "                                                                 \n",
      " dense_hidden (Dense)        (None, 256)               4194560   \n",
      "                                                                 \n",
      " dense_hidden_2 (Dense)      (None, 128)               32896     \n",
      "                                                                 \n",
      " ouput (Dense)               (None, 1)                 129       \n",
      "                                                                 \n",
      "=================================================================\n",
      "Total params: 4,246,977\n",
      "Trainable params: 4,246,977\n",
      "Non-trainable params: 0\n",
      "_________________________________________________________________\n"
     ]
    }
   ],
   "source": [
    "model_cnn_2.summary()"
   ]
  },
  {
   "cell_type": "code",
   "execution_count": 47,
   "metadata": {},
   "outputs": [
    {
     "data": {
      "text/plain": [
       "(12800, 64, 64, 3)"
      ]
     },
     "execution_count": 47,
     "metadata": {},
     "output_type": "execute_result"
    }
   ],
   "source": [
    "X_train.shape"
   ]
  },
  {
   "cell_type": "code",
   "execution_count": 48,
   "metadata": {},
   "outputs": [
    {
     "name": "stdout",
     "output_type": "stream",
     "text": [
      "Epoch 1/15\n",
      "26/26 [==============================] - 42s 2s/step - loss: 4.2447 - accuracy: 0.5157 - val_loss: 0.7277 - val_accuracy: 0.5228\n",
      "Epoch 2/15\n",
      "26/26 [==============================] - 36s 1s/step - loss: 0.6775 - accuracy: 0.5728 - val_loss: 0.6290 - val_accuracy: 0.6466\n",
      "Epoch 3/15\n",
      "26/26 [==============================] - 36s 1s/step - loss: 0.6148 - accuracy: 0.6631 - val_loss: 0.6028 - val_accuracy: 0.6766\n",
      "Epoch 4/15\n",
      "26/26 [==============================] - 37s 1s/step - loss: 0.5919 - accuracy: 0.6857 - val_loss: 0.6026 - val_accuracy: 0.6903\n",
      "Epoch 5/15\n",
      "26/26 [==============================] - 36s 1s/step - loss: 0.5722 - accuracy: 0.7073 - val_loss: 0.5733 - val_accuracy: 0.7156\n",
      "Epoch 6/15\n",
      "26/26 [==============================] - 36s 1s/step - loss: 0.5471 - accuracy: 0.7259 - val_loss: 0.5613 - val_accuracy: 0.7103\n",
      "Epoch 7/15\n",
      "26/26 [==============================] - 36s 1s/step - loss: 0.5359 - accuracy: 0.7296 - val_loss: 0.5314 - val_accuracy: 0.7391\n",
      "Epoch 8/15\n",
      "26/26 [==============================] - 37s 1s/step - loss: 0.4982 - accuracy: 0.7605 - val_loss: 0.5611 - val_accuracy: 0.7200\n",
      "Epoch 9/15\n",
      "26/26 [==============================] - 38s 1s/step - loss: 0.4892 - accuracy: 0.7641 - val_loss: 0.5132 - val_accuracy: 0.7475\n",
      "Epoch 10/15\n",
      "26/26 [==============================] - 39s 2s/step - loss: 0.4778 - accuracy: 0.7707 - val_loss: 0.5068 - val_accuracy: 0.7525\n",
      "Epoch 11/15\n",
      "26/26 [==============================] - 37s 1s/step - loss: 0.4617 - accuracy: 0.7820 - val_loss: 0.4880 - val_accuracy: 0.7759\n",
      "Epoch 12/15\n",
      "26/26 [==============================] - 39s 2s/step - loss: 0.4161 - accuracy: 0.8095 - val_loss: 0.4858 - val_accuracy: 0.7638\n",
      "Epoch 13/15\n",
      "26/26 [==============================] - 37s 1s/step - loss: 0.3836 - accuracy: 0.8330 - val_loss: 0.4694 - val_accuracy: 0.7937\n",
      "Epoch 14/15\n",
      "26/26 [==============================] - 38s 1s/step - loss: 0.3778 - accuracy: 0.8338 - val_loss: 0.4845 - val_accuracy: 0.7725\n",
      "Epoch 15/15\n",
      "26/26 [==============================] - 37s 1s/step - loss: 0.3480 - accuracy: 0.8488 - val_loss: 0.4401 - val_accuracy: 0.7991\n"
     ]
    }
   ],
   "source": [
    "history_2 = model_cnn_2.fit(X_train, y_train_enc, epochs=EPOCHS, validation_data=(X_valid, y_valid_enc), batch_size = BATCH_SIZE,\n",
    "                        )"
   ]
  },
  {
   "cell_type": "code",
   "execution_count": 49,
   "metadata": {},
   "outputs": [
    {
     "data": {
      "image/png": "[encoded data removed]",
      "text/plain": [
       "<Figure size 1152x648 with 2 Axes>"
      ]
     },
     "metadata": {
      "needs_background": "light"
     },
     "output_type": "display_data"
    }
   ],
   "source": [
    "plot_history(history_2)"
   ]
  },
  {
   "cell_type": "code",
   "execution_count": 61,
   "metadata": {},
   "outputs": [],
   "source": [
    "model_cnn_2.save(PATH_MODEL + \"/model_cnn_2.h5\")"
   ]
  },
  {
   "cell_type": "code",
   "execution_count": 63,
   "metadata": {},
   "outputs": [
    {
     "data": {
      "text/plain": [
       "'2.7.0'"
      ]
     },
     "execution_count": 63,
     "metadata": {},
     "output_type": "execute_result"
    }
   ],
   "source": [
    "tf.keras.__version__"
   ]
  },
  {
   "cell_type": "code",
   "execution_count": null,
   "metadata": {},
   "outputs": [],
   "source": [
    "# assert False"
   ]
  },
  {
   "cell_type": "code",
   "execution_count": null,
   "metadata": {},
   "outputs": [],
   "source": [
    "# modele article"
   ]
  },
  {
   "cell_type": "code",
   "execution_count": null,
   "metadata": {},
   "outputs": [],
   "source": [
    "BATCH_SIZE = 64\n",
    "NUM_CLASSES = 2\n",
    "EPOCHS = 25\n",
    "INPUT_SHAPE = (IMG_SIZE, IMG_SIZE, 3)"
   ]
  },
  {
   "cell_type": "code",
   "execution_count": null,
   "metadata": {},
   "outputs": [],
   "source": [
    "\n",
    "model_cnn_3 = Sequential()\n",
    "model_cnn_3.add(tf.keras.layers.Input(name = \"input\", shape=INPUT_SHAPE))\n",
    "\n",
    "model_cnn_3.add(tf.keras.layers.Conv2D(name = \"conv2D\",\n",
    "                                       filters=32,\n",
    "                                       kernel_size=(3,3),\n",
    "                                       activation=\"relu\",\n",
    "                                       padding=\"same\",\n",
    "                                       ))\n",
    "model_cnn_3.add(tf.keras.layers.MaxPooling2D(name=\"pooling\",\n",
    "                                             pool_size=(2,2)\n",
    "                                            ))\n",
    "model_cnn_3.add(tf.keras.layers.Conv2D(name = \"conv2D_2\",\n",
    "                                       filters=64,\n",
    "                                       kernel_size=(3,3),\n",
    "                                       activation=\"relu\",\n",
    "                                       padding=\"same\",\n",
    "                                       ))\n",
    "model_cnn_3.add(tf.keras.layers.MaxPooling2D(name=\"pooling_2\",\n",
    "                                             pool_size=(2,2)\n",
    "                                            ))\n",
    "model_cnn_3.add(tf.keras.layers.Conv2D(name=\"conv2D_3\",\n",
    "                                       filters=128,\n",
    "                                       kernel_size=(3,3),\n",
    "                                       activation=\"relu\",\n",
    "                                       padding=\"same\",\n",
    "                                      ))\n",
    "model_cnn_3.add(tf.keras.layers.MaxPooling2D(name=\"pooling_3\",\n",
    "                                             pool_size=(2,2)\n",
    "                                            ))\n",
    "model_cnn_3.add(tf.keras.layers.Flatten(name=\"flatten\"))\n",
    "model_cnn_3.add(tf.keras.layers.Dense(name=\"dense_hidden\",\n",
    "                                      units = 512,\n",
    "                                      activation=\"relu\",\n",
    "                                     ))\n",
    "model_cnn_3.add(tf.keras.layers.Dropout(name=\"drop_1\",\n",
    "                                      rate=0.3,                                      \n",
    "                                     ))\n",
    "model_cnn_3.add(tf.keras.layers.Dense(name=\"dense_hidden_2\",\n",
    "                                      units = 512,\n",
    "                                      activation=\"relu\",\n",
    "                                     ))\n",
    "model_cnn_3.add(tf.keras.layers.Dropout(name=\"drop_2\",\n",
    "                                      rate=0.3,                                      \n",
    "                                     ))\n",
    "model_cnn_3.add(tf.keras.layers.Dense(name=\"ouput\", units = 1, activation=\"sigmoid\"))"
   ]
  },
  {
   "cell_type": "code",
   "execution_count": null,
   "metadata": {},
   "outputs": [],
   "source": [
    "# compiler modele\n",
    "model_cnn_3.compile(optimizer = \"adam\", loss =\"binary_crossentropy\", metrics=[\"accuracy\"])"
   ]
  },
  {
   "cell_type": "code",
   "execution_count": null,
   "metadata": {},
   "outputs": [],
   "source": [
    "model_cnn_3.summary()"
   ]
  },
  {
   "cell_type": "code",
   "execution_count": null,
   "metadata": {
    "scrolled": false
   },
   "outputs": [],
   "source": [
    "history_3 = model_cnn_3.fit(X_train, y_train_enc,\n",
    "                            epochs=EPOCHS, validation_data=(X_valid, y_valid_enc),\n",
    "                            batch_size = BATCH_SIZE\n",
    "                           )"
   ]
  },
  {
   "cell_type": "code",
   "execution_count": null,
   "metadata": {
    "scrolled": false
   },
   "outputs": [],
   "source": [
    "plot_history(history_3)"
   ]
  },
  {
   "cell_type": "markdown",
   "metadata": {},
   "source": [
    "Keras avec GPU AMD\n",
    "https://medium.com/@Vatsal410/keras-without-nvidia-gpus-with-plaidml-and-amd-gpu-4ba6f60025ce"
   ]
  }
 ],
 "metadata": {
  "kernelspec": {
   "display_name": "keras",
   "language": "python",
   "name": "keras"
  },
  "language_info": {
   "codemirror_mode": {
    "name": "ipython",
    "version": 3
   },
   "file_extension": ".py",
   "mimetype": "text/x-python",
   "name": "python",
   "nbconvert_exporter": "python",
   "pygments_lexer": "ipython3",
   "version": "3.8.5"
  },
  "toc": {
   "base_numbering": 1,
   "nav_menu": {},
   "number_sections": true,
   "sideBar": true,
   "skip_h1_title": false,
   "title_cell": "Table of Contents",
   "title_sidebar": "Contents",
   "toc_cell": false,
   "toc_position": {
    "height": "calc(100% - 180px)",
    "left": "10px",
    "top": "150px",
    "width": "349.091px"
   },
   "toc_section_display": true,
   "toc_window_display": true
  }
 },
 "nbformat": 4,
 "nbformat_minor": 5
}
