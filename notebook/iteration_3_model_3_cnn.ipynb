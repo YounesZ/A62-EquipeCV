{
 "cells": [
  {
   "cell_type": "code",
   "execution_count": 1,
   "id": "f2dd6f60",
   "metadata": {},
   "outputs": [],
   "source": [
    "import import_ipynb"
   ]
  },
  {
   "cell_type": "code",
   "execution_count": 2,
   "id": "53fc0dfa",
   "metadata": {},
   "outputs": [],
   "source": [
    "%run iteration_0_imports.py"
   ]
  },
  {
   "cell_type": "code",
   "execution_count": 3,
   "id": "b99e215b",
   "metadata": {},
   "outputs": [],
   "source": [
    "%run iteration_0_parameters.py"
   ]
  },
  {
   "cell_type": "code",
   "execution_count": 4,
   "id": "5681e0c9",
   "metadata": {},
   "outputs": [
    {
     "name": "stdout",
     "output_type": "stream",
     "text": [
      "importing Jupyter notebook from iteration_0_utils.ipynb\n"
     ]
    }
   ],
   "source": [
    "import iteration_0_utils as utils"
   ]
  },
  {
   "cell_type": "code",
   "execution_count": 5,
   "id": "314b08c5",
   "metadata": {},
   "outputs": [
    {
     "name": "stdout",
     "output_type": "stream",
     "text": [
      "Variable                          Type        Data/Info\n",
      "-------------------------------------------------------\n",
      "HEALTHY                           str         H\n",
      "IMG_IN_COLOR                      int         1\n",
      "IMG_SIZE                          int         64\n",
      "Image                             module      <module 'PIL.Image' from <...>packages\\\\PIL\\\\Image.py'>\n",
      "NBR_SAMPLE                        int         20000\n",
      "PATH_DATA                         str         ../data\n",
      "PATH_DATA_EDA                     str         ../data/eda\n",
      "PATH_DATA_LIST                    str         ../data/list\n",
      "PATH_DATA_SAMPLE                  str         ../data/sample\n",
      "PATH_MODEL                        str         ../model\n",
      "PATH_ROOT                         str         ..\n",
      "PATH_SOURCE_IMG                   str         ../cell_images\n",
      "RandomForestClassifier            ABCMeta     <class 'sklearn.ensemble.<...>.RandomForestClassifier'>\n",
      "SICK                              str         S\n",
      "classification_report             function    <function classification_<...>rt at 0x0000025F4F8A4040>\n",
      "confusion_matrix                  function    <function confusion_matrix at 0x0000025F4F89E0D0>\n",
      "cv2                               module      <module 'cv2' from 'C:\\\\U<...>kages\\\\cv2\\\\__init__.py'>\n",
      "datetime                          type        <class 'datetime.datetime'>\n",
      "f1_score                          function    <function f1_score at 0x0000025F4F89E790>\n",
      "gc                                module      <module 'gc' (built-in)>\n",
      "glob                              module      <module 'glob' from 'C:\\\\<...>anaconda3\\\\lib\\\\glob.py'>\n",
      "gzip                              module      <module 'gzip' from 'C:\\\\<...>anaconda3\\\\lib\\\\gzip.py'>\n",
      "import_ipynb                      module      <module 'import_ipynb' fr<...>ckages\\\\import_ipynb.py'>\n",
      "learning_curve                    function    <function learning_curve at 0x0000025F4FA73160>\n",
      "mlflow                            module      <module 'mlflow' from 'C:<...>es\\\\mlflow\\\\__init__.py'>\n",
      "np                                module      <module 'numpy' from 'C:\\<...>ges\\\\numpy\\\\__init__.py'>\n",
      "os                                module      <module 'os' from 'C:\\\\Us<...>\\\\anaconda3\\\\lib\\\\os.py'>\n",
      "pd                                module      <module 'pandas' from 'C:<...>es\\\\pandas\\\\__init__.py'>\n",
      "pickle                            module      <module 'pickle' from 'C:<...>aconda3\\\\lib\\\\pickle.py'>\n",
      "plt                               module      <module 'matplotlib.pyplo<...>\\\\matplotlib\\\\pyplot.py'>\n",
      "precision_recall_fscore_support   function    <function precision_recal<...>rt at 0x0000025F4F89EB80>\n",
      "random                            module      <module 'random' from 'C:<...>aconda3\\\\lib\\\\random.py'>\n",
      "sns                               module      <module 'seaborn' from 'C<...>s\\\\seaborn\\\\__init__.py'>\n",
      "sp                                module      <module 'scipy.sparse' fr<...>py\\\\sparse\\\\__init__.py'>\n",
      "tqdm                              type        <class 'tqdm.std.tqdm'>\n",
      "train_test_split                  function    <function train_test_split at 0x0000025F4FA6A1F0>\n",
      "utils                             module      <module 'iteration_0_util<...> at 0x0000025F4CCB05E0>)>\n"
     ]
    }
   ],
   "source": [
    "%whos"
   ]
  },
  {
   "cell_type": "markdown",
   "id": "770de071",
   "metadata": {},
   "source": [
    "# make X, y"
   ]
  },
  {
   "cell_type": "code",
   "execution_count": 6,
   "id": "cf796b26",
   "metadata": {},
   "outputs": [],
   "source": [
    "DATE_TIME = \"2021-11-18_20-39-00\""
   ]
  },
  {
   "cell_type": "code",
   "execution_count": 7,
   "id": "08c385d3",
   "metadata": {},
   "outputs": [],
   "source": [
    "# get list \n",
    "list_path_sample_img = []\n",
    "list_path_sample_img.extend(glob.glob(PATH_DATA_SAMPLE+\"/\"+DATE_TIME+ \"/\"+ \"*.pklz\"))"
   ]
  },
  {
   "cell_type": "code",
   "execution_count": 8,
   "id": "eace4219",
   "metadata": {},
   "outputs": [],
   "source": [
    "# split train, validation, test set\n",
    "list_path_sample_img_train, list_path_sample_img_test  = train_test_split(list_path_sample_img, test_size=0.2)\n",
    "list_path_sample_img_train, list_path_sample_img_valid = train_test_split(list_path_sample_img_train, test_size=0.2)"
   ]
  },
  {
   "cell_type": "code",
   "execution_count": 9,
   "id": "8799c5e7",
   "metadata": {},
   "outputs": [],
   "source": [
    "def make_Xy(list_path_sample_img: list) -> (np.array, np.array):\n",
    "    X = np.ndarray( (len(list_path_sample_img), IMG_SIZE, IMG_SIZE, 3) ,dtype = \"float16\")\n",
    "    y = np.array([\"\"] * len(list_path_sample_img))\n",
    "    for i, path in tqdm(enumerate(list_path_sample_img)):\n",
    "        \n",
    "        X[i] = utils.pickle_read(path).astype(\"float16\")\n",
    "    \n",
    "        _, file_name, _ = utils.split_file_info(path)\n",
    "        y[i] = file_name[0]\n",
    "    \n",
    "    return X, y\n",
    "    "
   ]
  },
  {
   "cell_type": "code",
   "execution_count": 10,
   "id": "e50abf4d",
   "metadata": {},
   "outputs": [
    {
     "name": "stderr",
     "output_type": "stream",
     "text": [
      "12800it [03:29, 61.18it/s]\n"
     ]
    }
   ],
   "source": [
    "X_train, y_train  = make_Xy(list_path_sample_img_train)"
   ]
  },
  {
   "cell_type": "code",
   "execution_count": 11,
   "id": "89fde0c8",
   "metadata": {},
   "outputs": [
    {
     "name": "stderr",
     "output_type": "stream",
     "text": [
      "3200it [00:49, 64.50it/s]\n"
     ]
    }
   ],
   "source": [
    "X_valid, y_valid  = make_Xy(list_path_sample_img_valid)"
   ]
  },
  {
   "cell_type": "code",
   "execution_count": 12,
   "id": "099ddd37",
   "metadata": {},
   "outputs": [
    {
     "name": "stderr",
     "output_type": "stream",
     "text": [
      "4000it [01:04, 61.54it/s]\n"
     ]
    }
   ],
   "source": [
    "X_test, y_test  = make_Xy(list_path_sample_img_test)"
   ]
  },
  {
   "cell_type": "markdown",
   "id": "aae5001f",
   "metadata": {},
   "source": [
    "# model_cnn"
   ]
  },
  {
   "cell_type": "markdown",
   "id": "interracial-chess",
   "metadata": {},
   "source": [
    "* Ref: https://towardsdatascience.com/detecting-malaria-with-deep-learning-9e45c1e34b60\n",
    "* https://towardsdatascience.com/understanding-and-calculating-the-number-of-parameters-in-convolution-neural-networks-cnns-fc88790d530d"
   ]
  },
  {
   "cell_type": "code",
   "execution_count": 138,
   "id": "editorial-stations",
   "metadata": {},
   "outputs": [],
   "source": [
    "BATCH_SIZE = 500\n",
    "NUM_CLASSES = 2\n",
    "EPOCHS = 15\n",
    "INPUT_SHAPE = (IMG_SIZE, IMG_SIZE, 3)"
   ]
  },
  {
   "cell_type": "code",
   "execution_count": 49,
   "id": "descending-combat",
   "metadata": {},
   "outputs": [],
   "source": [
    "# Encoder y\n",
    "from sklearn.preprocessing import LabelEncoder"
   ]
  },
  {
   "cell_type": "code",
   "execution_count": 139,
   "id": "saved-offer",
   "metadata": {},
   "outputs": [],
   "source": [
    "le = LabelEncoder()"
   ]
  },
  {
   "cell_type": "code",
   "execution_count": 140,
   "id": "determined-occurrence",
   "metadata": {},
   "outputs": [],
   "source": [
    "y_train_enc = le.fit_transform(y_train)"
   ]
  },
  {
   "cell_type": "code",
   "execution_count": 141,
   "id": "hollywood-reservation",
   "metadata": {},
   "outputs": [],
   "source": [
    "y_valid_enc = le.transform(y_valid)\n",
    "y_test_enc  = le.transform(y_test)"
   ]
  },
  {
   "cell_type": "code",
   "execution_count": 142,
   "id": "lasting-crawford",
   "metadata": {},
   "outputs": [
    {
     "data": {
      "text/plain": [
       "array(['H', 'S'], dtype='<U1')"
      ]
     },
     "execution_count": 142,
     "metadata": {},
     "output_type": "execute_result"
    }
   ],
   "source": [
    "le.classes_"
   ]
  },
  {
   "cell_type": "code",
   "execution_count": 143,
   "id": "saving-circuit",
   "metadata": {},
   "outputs": [],
   "source": [
    "import tensorflow as tf"
   ]
  },
  {
   "cell_type": "code",
   "execution_count": 144,
   "id": "bound-centre",
   "metadata": {},
   "outputs": [],
   "source": [
    "from keras.models import Sequential"
   ]
  },
  {
   "cell_type": "code",
   "execution_count": 145,
   "id": "standard-publicity",
   "metadata": {},
   "outputs": [],
   "source": [
    "model_cnn = Sequential()\n",
    "model_cnn.add(tf.keras.layers.Input(name = \"input\", shape=INPUT_SHAPE))\n",
    "model_cnn.add(tf.keras.layers.Conv2D(name = \"conv2D\",\n",
    "                                     filters=32,\n",
    "                                     kernel_size=(3,3),\n",
    "                                     activation=\"LeakyReLU\",\n",
    "                                     padding=\"same\",\n",
    "                                     kernel_initializer=\"he_uniform\"\n",
    "                                    ))\n",
    "model_cnn.add(tf.keras.layers.MaxPooling2D(name=\"pooling\", pool_size=(2,2)))\n",
    "model_cnn.add(tf.keras.layers.Flatten(name=\"flatten\"))\n",
    "model_cnn.add(tf.keras.layers.Dense(name=\"dense_hidden\", units = 256, activation=\"LeakyReLU\",\n",
    "                                    kernel_initializer=\"he_uniform\" ))\n",
    "model_cnn.add(tf.keras.layers.Dense(name=\"ouput\", units = 1, activation=\"sigmoid\"))\n"
   ]
  },
  {
   "cell_type": "code",
   "execution_count": 146,
   "id": "humanitarian-invite",
   "metadata": {},
   "outputs": [],
   "source": [
    "# compiler modele\n",
    "model_cnn.compile(optimizer = \"adam\", loss =\"binary_crossentropy\", metrics=[\"accuracy\"])"
   ]
  },
  {
   "cell_type": "code",
   "execution_count": 147,
   "id": "sized-manual",
   "metadata": {},
   "outputs": [
    {
     "name": "stdout",
     "output_type": "stream",
     "text": [
      "Model: \"sequential_19\"\n",
      "_________________________________________________________________\n",
      "Layer (type)                 Output Shape              Param #   \n",
      "=================================================================\n",
      "conv2D (Conv2D)              (None, 64, 64, 32)        896       \n",
      "_________________________________________________________________\n",
      "pooling (MaxPooling2D)       (None, 32, 32, 32)        0         \n",
      "_________________________________________________________________\n",
      "flatten (Flatten)            (None, 32768)             0         \n",
      "_________________________________________________________________\n",
      "dense_hidden (Dense)         (None, 256)               8388864   \n",
      "_________________________________________________________________\n",
      "ouput (Dense)                (None, 1)                 257       \n",
      "=================================================================\n",
      "Total params: 8,390,017\n",
      "Trainable params: 8,390,017\n",
      "Non-trainable params: 0\n",
      "_________________________________________________________________\n"
     ]
    }
   ],
   "source": [
    "model_cnn.summary()"
   ]
  },
  {
   "cell_type": "code",
   "execution_count": 148,
   "id": "undefined-trash",
   "metadata": {},
   "outputs": [],
   "source": [
    "from keras.callbacks import EarlyStopping"
   ]
  },
  {
   "cell_type": "code",
   "execution_count": 149,
   "id": "sonic-popularity",
   "metadata": {},
   "outputs": [],
   "source": [
    "# es = EarlyStopping(mode='min', monitor='val_loss')"
   ]
  },
  {
   "cell_type": "code",
   "execution_count": 150,
   "id": "atmospheric-connecticut",
   "metadata": {},
   "outputs": [
    {
     "name": "stdout",
     "output_type": "stream",
     "text": [
      "Epoch 1/15\n",
      "26/26 [==============================] - 66s 2s/step - loss: 6.2456 - accuracy: 0.5558 - val_loss: 2.5559 - val_accuracy: 0.5691\n",
      "Epoch 2/15\n",
      "26/26 [==============================] - 55s 2s/step - loss: 1.1429 - accuracy: 0.6381 - val_loss: 0.7312 - val_accuracy: 0.6469\n",
      "Epoch 3/15\n",
      "26/26 [==============================] - 55s 2s/step - loss: 0.6012 - accuracy: 0.6894 - val_loss: 0.5922 - val_accuracy: 0.6888\n",
      "Epoch 4/15\n",
      "26/26 [==============================] - 55s 2s/step - loss: 0.5634 - accuracy: 0.7130 - val_loss: 0.6763 - val_accuracy: 0.6356\n",
      "Epoch 5/15\n",
      "26/26 [==============================] - 54s 2s/step - loss: 0.6113 - accuracy: 0.6899 - val_loss: 0.6877 - val_accuracy: 0.6463\n",
      "Epoch 6/15\n",
      "26/26 [==============================] - 57s 2s/step - loss: 0.5839 - accuracy: 0.7026 - val_loss: 0.7075 - val_accuracy: 0.6288\n",
      "Epoch 7/15\n",
      "26/26 [==============================] - 58s 2s/step - loss: 0.6598 - accuracy: 0.6840 - val_loss: 0.7586 - val_accuracy: 0.6313\n",
      "Epoch 8/15\n",
      "26/26 [==============================] - 56s 2s/step - loss: 0.5706 - accuracy: 0.7167 - val_loss: 0.6148 - val_accuracy: 0.6828\n",
      "Epoch 9/15\n",
      "26/26 [==============================] - 56s 2s/step - loss: 0.5401 - accuracy: 0.7334 - val_loss: 0.5748 - val_accuracy: 0.7119\n",
      "Epoch 10/15\n",
      "26/26 [==============================] - 55s 2s/step - loss: 0.5094 - accuracy: 0.7573 - val_loss: 0.7745 - val_accuracy: 0.6125\n",
      "Epoch 11/15\n",
      "26/26 [==============================] - 56s 2s/step - loss: 0.6240 - accuracy: 0.6949 - val_loss: 0.6327 - val_accuracy: 0.6900\n",
      "Epoch 12/15\n",
      "26/26 [==============================] - 64s 2s/step - loss: 0.4772 - accuracy: 0.7785 - val_loss: 0.6788 - val_accuracy: 0.6541\n",
      "Epoch 13/15\n",
      "26/26 [==============================] - 56s 2s/step - loss: 0.5127 - accuracy: 0.7516 - val_loss: 0.5704 - val_accuracy: 0.7200\n",
      "Epoch 14/15\n",
      "26/26 [==============================] - 58s 2s/step - loss: 0.4505 - accuracy: 0.7966 - val_loss: 0.5631 - val_accuracy: 0.7166\n",
      "Epoch 15/15\n",
      "26/26 [==============================] - 56s 2s/step - loss: 0.4682 - accuracy: 0.7811 - val_loss: 0.5761 - val_accuracy: 0.7138\n"
     ]
    }
   ],
   "source": [
    "history = model_cnn.fit(X_train, y_train_enc, epochs=EPOCHS, validation_data=(X_valid, y_valid_enc), batch_size = BATCH_SIZE,\n",
    "                        )"
   ]
  },
  {
   "cell_type": "code",
   "execution_count": 158,
   "id": "expressed-greenhouse",
   "metadata": {
    "collapsed": true
   },
   "outputs": [
    {
     "data": {
      "text/plain": [
       "{'loss': [6.245577335357666,\n",
       "  1.1429164409637451,\n",
       "  0.6012476086616516,\n",
       "  0.5633777976036072,\n",
       "  0.6113153100013733,\n",
       "  0.5838627815246582,\n",
       "  0.6597861647605896,\n",
       "  0.5706486701965332,\n",
       "  0.5401079058647156,\n",
       "  0.5093961954116821,\n",
       "  0.6239539980888367,\n",
       "  0.4772053062915802,\n",
       "  0.5127290487289429,\n",
       "  0.45049813389778137,\n",
       "  0.4681810736656189],\n",
       " 'accuracy': [0.5557812452316284,\n",
       "  0.6381250023841858,\n",
       "  0.6893749833106995,\n",
       "  0.7129687666893005,\n",
       "  0.6899218559265137,\n",
       "  0.7025781273841858,\n",
       "  0.6839843988418579,\n",
       "  0.7167187333106995,\n",
       "  0.7333593964576721,\n",
       "  0.7572656273841858,\n",
       "  0.6949218511581421,\n",
       "  0.778515636920929,\n",
       "  0.7515624761581421,\n",
       "  0.7966406345367432,\n",
       "  0.7810937762260437],\n",
       " 'val_loss': [2.5558669567108154,\n",
       "  0.7311764359474182,\n",
       "  0.5921860337257385,\n",
       "  0.6763321757316589,\n",
       "  0.6876797676086426,\n",
       "  0.7075080275535583,\n",
       "  0.7585574388504028,\n",
       "  0.6147882342338562,\n",
       "  0.5748110413551331,\n",
       "  0.7745088338851929,\n",
       "  0.6327125430107117,\n",
       "  0.6787801384925842,\n",
       "  0.570412814617157,\n",
       "  0.5630914568901062,\n",
       "  0.5761411786079407],\n",
       " 'val_accuracy': [0.5690624713897705,\n",
       "  0.6468750238418579,\n",
       "  0.6887500286102295,\n",
       "  0.6356250047683716,\n",
       "  0.6462500095367432,\n",
       "  0.6287500262260437,\n",
       "  0.6312500238418579,\n",
       "  0.682812511920929,\n",
       "  0.7118750214576721,\n",
       "  0.612500011920929,\n",
       "  0.6899999976158142,\n",
       "  0.6540625095367432,\n",
       "  0.7200000286102295,\n",
       "  0.7165625095367432,\n",
       "  0.7137500047683716]}"
      ]
     },
     "execution_count": 158,
     "metadata": {},
     "output_type": "execute_result"
    }
   ],
   "source": [
    "history.history"
   ]
  },
  {
   "cell_type": "code",
   "execution_count": 157,
   "id": "occupational-frederick",
   "metadata": {},
   "outputs": [
    {
     "name": "stdout",
     "output_type": "stream",
     "text": [
      "['loss', 'accuracy']\n"
     ]
    }
   ],
   "source": [
    "print(model_cnn.metrics_names)"
   ]
  },
  {
   "cell_type": "code",
   "execution_count": 206,
   "id": "alien-clock",
   "metadata": {},
   "outputs": [],
   "source": [
    "def plot_history(history):\n",
    "    plt.figure(figsize=(16,9))\n",
    "    # plot loss\n",
    "    plt.subplot(211)\n",
    "    plt.grid()\n",
    "    plt.title('binary_crossentropy')\n",
    "    plt.plot(history.history['loss'], \"o-\", color='blue', label='train')\n",
    "    plt.plot(history.history['val_loss'], \"o-\", color='orange', label='validation')\n",
    "    plt.legend()    \n",
    "    # plot accuracy\n",
    "    plt.subplot(212)\n",
    "    plt.grid()\n",
    "    plt.title('Classification Accuracy')\n",
    "    plt.plot(history.history['accuracy'], \"o-\",color='blue', label='train')\n",
    "    plt.plot(history.history['val_accuracy'], \"o-\",color='orange', label='validation')\n",
    "    plt.legend()\n",
    "    plt.show()"
   ]
  },
  {
   "cell_type": "code",
   "execution_count": 207,
   "id": "particular-gilbert",
   "metadata": {},
   "outputs": [
    {
     "data": {
      "image/png": "[encoded data removed]",
      "text/plain": [
       "<Figure size 1152x648 with 2 Axes>"
      ]
     },
     "metadata": {
      "needs_background": "light"
     },
     "output_type": "display_data"
    }
   ],
   "source": [
    "plot_history(history)"
   ]
  },
  {
   "cell_type": "code",
   "execution_count": 170,
   "id": "found-lithuania",
   "metadata": {},
   "outputs": [],
   "source": [
    "model_cnn_2 = Sequential()\n",
    "model_cnn_2.add(tf.keras.layers.Input(name = \"input\", shape=INPUT_SHAPE))\n",
    "model_cnn_2.add(tf.keras.layers.Conv2D(name = \"conv2D\",\n",
    "                                     filters=32,\n",
    "                                     kernel_size=(3,3),\n",
    "                                     activation=\"LeakyReLU\",\n",
    "                                     padding=\"same\",\n",
    "                                     kernel_initializer=\"he_uniform\"\n",
    "                                    ))\n",
    "model_cnn_2.add(tf.keras.layers.MaxPooling2D(name=\"pooling\", pool_size=(2,2)))\n",
    "model_cnn_2.add(tf.keras.layers.Conv2D(name = \"conv2D_2\",\n",
    "                                     filters=64,\n",
    "                                     kernel_size=(3,3),\n",
    "                                     activation=\"LeakyReLU\",\n",
    "                                     padding=\"same\",\n",
    "                                     kernel_initializer=\"he_uniform\"\n",
    "                                    ))\n",
    "model_cnn_2.add(tf.keras.layers.MaxPooling2D(name=\"pooling_2\", pool_size=(2,2)))\n",
    "model_cnn_2.add(tf.keras.layers.Flatten(name=\"flatten\"))\n",
    "model_cnn_2.add(tf.keras.layers.Dense(name=\"dense_hidden\", units = 256, activation=\"LeakyReLU\",\n",
    "                                    kernel_initializer=\"he_uniform\" ))\n",
    "model_cnn_2.add(tf.keras.layers.Dense(name=\"dense_hidden_2\", units = 128, activation=\"LeakyReLU\",\n",
    "                                    kernel_initializer=\"he_uniform\" ))\n",
    "model_cnn_2.add(tf.keras.layers.Dense(name=\"ouput\", units = 1, activation=\"sigmoid\"))\n"
   ]
  },
  {
   "cell_type": "code",
   "execution_count": 171,
   "id": "thick-difficulty",
   "metadata": {},
   "outputs": [],
   "source": [
    "# compiler modele\n",
    "model_cnn_2.compile(optimizer = \"adam\", loss =\"binary_crossentropy\", metrics=[\"accuracy\"])"
   ]
  },
  {
   "cell_type": "code",
   "execution_count": 172,
   "id": "pleasant-paraguay",
   "metadata": {},
   "outputs": [
    {
     "name": "stdout",
     "output_type": "stream",
     "text": [
      "Model: \"sequential_24\"\n",
      "_________________________________________________________________\n",
      "Layer (type)                 Output Shape              Param #   \n",
      "=================================================================\n",
      "conv2D (Conv2D)              (None, 64, 64, 32)        896       \n",
      "_________________________________________________________________\n",
      "pooling (MaxPooling2D)       (None, 32, 32, 32)        0         \n",
      "_________________________________________________________________\n",
      "conv2D_2 (Conv2D)            (None, 32, 32, 64)        18496     \n",
      "_________________________________________________________________\n",
      "pooling_2 (MaxPooling2D)     (None, 16, 16, 64)        0         \n",
      "_________________________________________________________________\n",
      "flatten (Flatten)            (None, 16384)             0         \n",
      "_________________________________________________________________\n",
      "dense_hidden (Dense)         (None, 256)               4194560   \n",
      "_________________________________________________________________\n",
      "dense_hidden_2 (Dense)       (None, 128)               32896     \n",
      "_________________________________________________________________\n",
      "ouput (Dense)                (None, 1)                 129       \n",
      "=================================================================\n",
      "Total params: 4,246,977\n",
      "Trainable params: 4,246,977\n",
      "Non-trainable params: 0\n",
      "_________________________________________________________________\n"
     ]
    }
   ],
   "source": [
    "model_cnn_2.summary()"
   ]
  },
  {
   "cell_type": "code",
   "execution_count": 173,
   "id": "starting-mitchell",
   "metadata": {},
   "outputs": [
    {
     "name": "stdout",
     "output_type": "stream",
     "text": [
      "Epoch 1/15\n",
      "26/26 [==============================] - 92s 3s/step - loss: 1.8322 - accuracy: 0.5441 - val_loss: 0.6237 - val_accuracy: 0.6609\n",
      "Epoch 2/15\n",
      "26/26 [==============================] - 87s 3s/step - loss: 0.5979 - accuracy: 0.6813 - val_loss: 0.5883 - val_accuracy: 0.7006\n",
      "Epoch 3/15\n",
      "26/26 [==============================] - 88s 3s/step - loss: 0.5639 - accuracy: 0.7148 - val_loss: 0.5823 - val_accuracy: 0.6888\n",
      "Epoch 4/15\n",
      "26/26 [==============================] - 91s 4s/step - loss: 0.5277 - accuracy: 0.7409 - val_loss: 0.5609 - val_accuracy: 0.7088\n",
      "Epoch 5/15\n",
      "26/26 [==============================] - 92s 4s/step - loss: 0.5232 - accuracy: 0.7420 - val_loss: 0.5326 - val_accuracy: 0.7350\n",
      "Epoch 6/15\n",
      "26/26 [==============================] - 89s 3s/step - loss: 0.4684 - accuracy: 0.7791 - val_loss: 0.5810 - val_accuracy: 0.6938\n",
      "Epoch 7/15\n",
      "26/26 [==============================] - 85s 3s/step - loss: 0.4592 - accuracy: 0.7840 - val_loss: 0.5237 - val_accuracy: 0.7381\n",
      "Epoch 8/15\n",
      "26/26 [==============================] - 88s 3s/step - loss: 0.4480 - accuracy: 0.7884 - val_loss: 0.5322 - val_accuracy: 0.7366\n",
      "Epoch 9/15\n",
      "26/26 [==============================] - 85s 3s/step - loss: 0.4020 - accuracy: 0.8241 - val_loss: 0.4769 - val_accuracy: 0.7691\n",
      "Epoch 10/15\n",
      "26/26 [==============================] - 88s 3s/step - loss: 0.3724 - accuracy: 0.8370 - val_loss: 0.4649 - val_accuracy: 0.7766\n",
      "Epoch 11/15\n",
      "26/26 [==============================] - 77s 3s/step - loss: 0.3470 - accuracy: 0.8530 - val_loss: 0.4972 - val_accuracy: 0.7672\n",
      "Epoch 12/15\n",
      "26/26 [==============================] - 73s 3s/step - loss: 0.3272 - accuracy: 0.8637 - val_loss: 0.5899 - val_accuracy: 0.7359\n",
      "Epoch 13/15\n",
      "26/26 [==============================] - 73s 3s/step - loss: 0.3030 - accuracy: 0.8763 - val_loss: 0.4672 - val_accuracy: 0.7928\n",
      "Epoch 14/15\n",
      "26/26 [==============================] - 72s 3s/step - loss: 0.2747 - accuracy: 0.8902 - val_loss: 0.6353 - val_accuracy: 0.7166\n",
      "Epoch 15/15\n",
      "26/26 [==============================] - 73s 3s/step - loss: 0.2360 - accuracy: 0.9098 - val_loss: 0.4309 - val_accuracy: 0.8141\n"
     ]
    }
   ],
   "source": [
    "history_2 = model_cnn_2.fit(X_train, y_train_enc, epochs=EPOCHS, validation_data=(X_valid, y_valid_enc), batch_size = BATCH_SIZE,\n",
    "                        )"
   ]
  },
  {
   "cell_type": "code",
   "execution_count": 208,
   "id": "preliminary-header",
   "metadata": {},
   "outputs": [
    {
     "data": {
      "image/png": "[encoded data removed]",
      "text/plain": [
       "<Figure size 1152x648 with 2 Axes>"
      ]
     },
     "metadata": {
      "needs_background": "light"
     },
     "output_type": "display_data"
    }
   ],
   "source": [
    "plot_history(history_2)"
   ]
  },
  {
   "cell_type": "code",
   "execution_count": 215,
   "id": "grave-transparency",
   "metadata": {},
   "outputs": [],
   "source": [
    "# modele article"
   ]
  },
  {
   "cell_type": "code",
   "execution_count": 216,
   "id": "trained-discharge",
   "metadata": {},
   "outputs": [],
   "source": [
    "BATCH_SIZE = 64\n",
    "NUM_CLASSES = 2\n",
    "EPOCHS = 25\n",
    "INPUT_SHAPE = (IMG_SIZE, IMG_SIZE, 3)"
   ]
  },
  {
   "cell_type": "code",
   "execution_count": 220,
   "id": "comic-seafood",
   "metadata": {},
   "outputs": [],
   "source": [
    "\n",
    "model_cnn_3 = Sequential()\n",
    "model_cnn_3.add(tf.keras.layers.Input(name = \"input\", shape=INPUT_SHAPE))\n",
    "\n",
    "model_cnn_3.add(tf.keras.layers.Conv2D(name = \"conv2D\",\n",
    "                                       filters=32,\n",
    "                                       kernel_size=(3,3),\n",
    "                                       activation=\"relu\",\n",
    "                                       padding=\"same\",\n",
    "                                       ))\n",
    "model_cnn_3.add(tf.keras.layers.MaxPooling2D(name=\"pooling\",\n",
    "                                             pool_size=(2,2)\n",
    "                                            ))\n",
    "model_cnn_3.add(tf.keras.layers.Conv2D(name = \"conv2D_2\",\n",
    "                                       filters=64,\n",
    "                                       kernel_size=(3,3),\n",
    "                                       activation=\"relu\",\n",
    "                                       padding=\"same\",\n",
    "                                       ))\n",
    "model_cnn_3.add(tf.keras.layers.MaxPooling2D(name=\"pooling_2\",\n",
    "                                             pool_size=(2,2)\n",
    "                                            ))\n",
    "model_cnn_3.add(tf.keras.layers.Conv2D(name=\"conv2D_3\",\n",
    "                                       filters=128,\n",
    "                                       kernel_size=(3,3),\n",
    "                                       activation=\"relu\",\n",
    "                                       padding=\"same\",\n",
    "                                      ))\n",
    "model_cnn_3.add(tf.keras.layers.MaxPooling2D(name=\"pooling_3\",\n",
    "                                             pool_size=(2,2)\n",
    "                                            ))\n",
    "model_cnn_3.add(tf.keras.layers.Flatten(name=\"flatten\"))\n",
    "model_cnn_3.add(tf.keras.layers.Dense(name=\"dense_hidden\",\n",
    "                                      units = 512,\n",
    "                                      activation=\"relu\",\n",
    "                                     ))\n",
    "model_cnn_3.add(tf.keras.layers.Dropout(name=\"drop_1\",\n",
    "                                      rate=0.3,                                      \n",
    "                                     ))\n",
    "model_cnn_3.add(tf.keras.layers.Dense(name=\"dense_hidden_2\",\n",
    "                                      units = 512,\n",
    "                                      activation=\"relu\",\n",
    "                                     ))\n",
    "model_cnn_3.add(tf.keras.layers.Dropout(name=\"drop_2\",\n",
    "                                      rate=0.3,                                      \n",
    "                                     ))\n",
    "model_cnn_3.add(tf.keras.layers.Dense(name=\"ouput\", units = 1, activation=\"sigmoid\"))"
   ]
  },
  {
   "cell_type": "code",
   "execution_count": 221,
   "id": "appreciated-music",
   "metadata": {},
   "outputs": [],
   "source": [
    "# compiler modele\n",
    "model_cnn_3.compile(optimizer = \"adam\", loss =\"binary_crossentropy\", metrics=[\"accuracy\"])"
   ]
  },
  {
   "cell_type": "code",
   "execution_count": 222,
   "id": "preceding-action",
   "metadata": {},
   "outputs": [
    {
     "name": "stdout",
     "output_type": "stream",
     "text": [
      "Model: \"sequential_31\"\n",
      "_________________________________________________________________\n",
      "Layer (type)                 Output Shape              Param #   \n",
      "=================================================================\n",
      "conv2D (Conv2D)              (None, 64, 64, 32)        896       \n",
      "_________________________________________________________________\n",
      "pooling (MaxPooling2D)       (None, 32, 32, 32)        0         \n",
      "_________________________________________________________________\n",
      "conv2D_2 (Conv2D)            (None, 32, 32, 64)        18496     \n",
      "_________________________________________________________________\n",
      "pooling_2 (MaxPooling2D)     (None, 16, 16, 64)        0         \n",
      "_________________________________________________________________\n",
      "conv2D_3 (Conv2D)            (None, 16, 16, 128)       73856     \n",
      "_________________________________________________________________\n",
      "pooling_3 (MaxPooling2D)     (None, 8, 8, 128)         0         \n",
      "_________________________________________________________________\n",
      "flatten (Flatten)            (None, 8192)              0         \n",
      "_________________________________________________________________\n",
      "dense_hidden (Dense)         (None, 512)               4194816   \n",
      "_________________________________________________________________\n",
      "drop_1 (Dropout)             (None, 512)               0         \n",
      "_________________________________________________________________\n",
      "dense_hidden_2 (Dense)       (None, 512)               262656    \n",
      "_________________________________________________________________\n",
      "drop_2 (Dropout)             (None, 512)               0         \n",
      "_________________________________________________________________\n",
      "ouput (Dense)                (None, 1)                 513       \n",
      "=================================================================\n",
      "Total params: 4,551,233\n",
      "Trainable params: 4,551,233\n",
      "Non-trainable params: 0\n",
      "_________________________________________________________________\n"
     ]
    }
   ],
   "source": [
    "model_cnn_3.summary()"
   ]
  },
  {
   "cell_type": "code",
   "execution_count": 223,
   "id": "official-publication",
   "metadata": {
    "scrolled": true
   },
   "outputs": [
    {
     "name": "stdout",
     "output_type": "stream",
     "text": [
      "Epoch 1/25\n",
      "200/200 [==============================] - 104s 501ms/step - loss: 0.4808 - accuracy: 0.7316 - val_loss: 0.1768 - val_accuracy: 0.9413\n",
      "Epoch 2/25\n",
      "200/200 [==============================] - 98s 490ms/step - loss: 0.1507 - accuracy: 0.9522 - val_loss: 0.1550 - val_accuracy: 0.9525\n",
      "Epoch 3/25\n",
      "200/200 [==============================] - 98s 492ms/step - loss: 0.1320 - accuracy: 0.9566 - val_loss: 0.1408 - val_accuracy: 0.9584\n",
      "Epoch 4/25\n",
      "200/200 [==============================] - 101s 504ms/step - loss: 0.1167 - accuracy: 0.9616 - val_loss: 0.1313 - val_accuracy: 0.9597\n",
      "Epoch 5/25\n",
      "200/200 [==============================] - 99s 498ms/step - loss: 0.1050 - accuracy: 0.9637 - val_loss: 0.1563 - val_accuracy: 0.9478\n",
      "Epoch 6/25\n",
      "200/200 [==============================] - 99s 498ms/step - loss: 0.0923 - accuracy: 0.9687 - val_loss: 0.1438 - val_accuracy: 0.9575\n",
      "Epoch 7/25\n",
      "200/200 [==============================] - 109s 545ms/step - loss: 0.0776 - accuracy: 0.9734 - val_loss: 0.1708 - val_accuracy: 0.9563\n",
      "Epoch 8/25\n",
      "200/200 [==============================] - 116s 578ms/step - loss: 0.0578 - accuracy: 0.9794 - val_loss: 0.1665 - val_accuracy: 0.9622\n",
      "Epoch 9/25\n",
      "200/200 [==============================] - 112s 560ms/step - loss: 0.0439 - accuracy: 0.9838 - val_loss: 0.1991 - val_accuracy: 0.9509\n",
      "Epoch 10/25\n",
      "200/200 [==============================] - 109s 547ms/step - loss: 0.0439 - accuracy: 0.9844 - val_loss: 0.2419 - val_accuracy: 0.9550\n",
      "Epoch 11/25\n",
      "200/200 [==============================] - 109s 547ms/step - loss: 0.0299 - accuracy: 0.9899 - val_loss: 0.2382 - val_accuracy: 0.9566\n",
      "Epoch 12/25\n",
      "200/200 [==============================] - 111s 555ms/step - loss: 0.0218 - accuracy: 0.9930 - val_loss: 0.2830 - val_accuracy: 0.9603\n",
      "Epoch 13/25\n",
      "200/200 [==============================] - 118s 590ms/step - loss: 0.0201 - accuracy: 0.9922 - val_loss: 0.2881 - val_accuracy: 0.9425\n",
      "Epoch 14/25\n",
      "200/200 [==============================] - 106s 529ms/step - loss: 0.0153 - accuracy: 0.9948 - val_loss: 0.3258 - val_accuracy: 0.9581\n",
      "Epoch 15/25\n",
      "200/200 [==============================] - 103s 514ms/step - loss: 0.0125 - accuracy: 0.9959 - val_loss: 0.3907 - val_accuracy: 0.9566\n",
      "Epoch 16/25\n",
      "200/200 [==============================] - 108s 542ms/step - loss: 0.0218 - accuracy: 0.9936 - val_loss: 0.3404 - val_accuracy: 0.9522\n",
      "Epoch 17/25\n",
      "200/200 [==============================] - 113s 564ms/step - loss: 0.0110 - accuracy: 0.9959 - val_loss: 0.3739 - val_accuracy: 0.9519\n",
      "Epoch 18/25\n",
      "200/200 [==============================] - 105s 523ms/step - loss: 0.0135 - accuracy: 0.9952 - val_loss: 0.3414 - val_accuracy: 0.9553\n",
      "Epoch 19/25\n",
      "200/200 [==============================] - 107s 534ms/step - loss: 0.0097 - accuracy: 0.9969 - val_loss: 0.3775 - val_accuracy: 0.9550\n",
      "Epoch 20/25\n",
      "200/200 [==============================] - 105s 527ms/step - loss: 0.0097 - accuracy: 0.9963 - val_loss: 0.4464 - val_accuracy: 0.9581\n",
      "Epoch 21/25\n",
      "200/200 [==============================] - 112s 560ms/step - loss: 0.0090 - accuracy: 0.9970 - val_loss: 0.4238 - val_accuracy: 0.9578\n",
      "Epoch 22/25\n",
      "200/200 [==============================] - 110s 550ms/step - loss: 0.0067 - accuracy: 0.9975 - val_loss: 0.5626 - val_accuracy: 0.9531\n",
      "Epoch 23/25\n",
      "200/200 [==============================] - 96s 482ms/step - loss: 0.0151 - accuracy: 0.9957 - val_loss: 0.3677 - val_accuracy: 0.9559\n",
      "Epoch 24/25\n",
      "200/200 [==============================] - 98s 492ms/step - loss: 0.0092 - accuracy: 0.9963 - val_loss: 0.4319 - val_accuracy: 0.9553\n",
      "Epoch 25/25\n",
      "200/200 [==============================] - 96s 482ms/step - loss: 0.0058 - accuracy: 0.9981 - val_loss: 0.4229 - val_accuracy: 0.9581\n"
     ]
    }
   ],
   "source": [
    "history_3 = model_cnn_3.fit(X_train, y_train_enc,\n",
    "                            epochs=EPOCHS, validation_data=(X_valid, y_valid_enc),\n",
    "                            batch_size = BATCH_SIZE\n",
    "                           )"
   ]
  },
  {
   "cell_type": "code",
   "execution_count": 224,
   "id": "manual-proposition",
   "metadata": {
    "scrolled": false
   },
   "outputs": [
    {
     "data": {
      "image/png": "[encoded data removed]",
      "text/plain": [
       "<Figure size 1152x648 with 2 Axes>"
      ]
     },
     "metadata": {
      "needs_background": "light"
     },
     "output_type": "display_data"
    }
   ],
   "source": [
    "plot_history(history_3)"
   ]
  },
  {
   "cell_type": "code",
   "execution_count": null,
   "id": "dressed-shakespeare",
   "metadata": {},
   "outputs": [],
   "source": []
  },
  {
   "cell_type": "code",
   "execution_count": null,
   "id": "protecting-sentence",
   "metadata": {},
   "outputs": [],
   "source": []
  },
  {
   "cell_type": "code",
   "execution_count": null,
   "id": "sweet-despite",
   "metadata": {},
   "outputs": [],
   "source": []
  },
  {
   "cell_type": "code",
   "execution_count": null,
   "id": "sharp-suite",
   "metadata": {},
   "outputs": [],
   "source": []
  }
 ],
 "metadata": {
  "kernelspec": {
   "display_name": "Python 3",
   "language": "python",
   "name": "python3"
  },
  "language_info": {
   "codemirror_mode": {
    "name": "ipython",
    "version": 3
   },
   "file_extension": ".py",
   "mimetype": "text/x-python",
   "name": "python",
   "nbconvert_exporter": "python",
   "pygments_lexer": "ipython3",
   "version": "3.8.5"
  },
  "toc": {
   "base_numbering": 1,
   "nav_menu": {},
   "number_sections": true,
   "sideBar": true,
   "skip_h1_title": false,
   "title_cell": "Table of Contents",
   "title_sidebar": "Contents",
   "toc_cell": false,
   "toc_position": {
    "height": "calc(100% - 180px)",
    "left": "10px",
    "top": "150px",
    "width": "349.091px"
   },
   "toc_section_display": true,
   "toc_window_display": true
  }
 },
 "nbformat": 4,
 "nbformat_minor": 5
}
