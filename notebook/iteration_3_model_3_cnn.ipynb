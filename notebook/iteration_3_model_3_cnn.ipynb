{
 "cells": [
  {
   "cell_type": "code",
   "execution_count": 1,
   "id": "f2dd6f60",
   "metadata": {},
   "outputs": [],
   "source": [
    "import import_ipynb"
   ]
  },
  {
   "cell_type": "code",
   "execution_count": 2,
   "id": "53fc0dfa",
   "metadata": {},
   "outputs": [],
   "source": [
    "%run iteration_0_imports.py"
   ]
  },
  {
   "cell_type": "code",
   "execution_count": 3,
   "id": "b99e215b",
   "metadata": {},
   "outputs": [],
   "source": [
    "%run iteration_0_parameters.py"
   ]
  },
  {
   "cell_type": "code",
   "execution_count": 4,
   "id": "5681e0c9",
   "metadata": {},
   "outputs": [
    {
     "name": "stdout",
     "output_type": "stream",
     "text": [
      "importing Jupyter notebook from iteration_0_utils.ipynb\n"
     ]
    }
   ],
   "source": [
    "import iteration_0_utils as utils"
   ]
  },
  {
   "cell_type": "code",
   "execution_count": 5,
   "id": "314b08c5",
   "metadata": {},
   "outputs": [
    {
     "name": "stdout",
     "output_type": "stream",
     "text": [
      "Variable                          Type        Data/Info\n",
      "-------------------------------------------------------\n",
      "HEALTHY                           str         H\n",
      "IMG_IN_COLOR                      int         1\n",
      "IMG_SIZE                          int         64\n",
      "Image                             module      <module 'PIL.Image' from <...>packages\\\\PIL\\\\Image.py'>\n",
      "NBR_SAMPLE                        int         20000\n",
      "PATH_DATA                         str         ../data\n",
      "PATH_DATA_EDA                     str         ../data/eda\n",
      "PATH_DATA_LIST                    str         ../data/list\n",
      "PATH_DATA_SAMPLE                  str         ../data/sample\n",
      "PATH_MODEL                        str         ../model\n",
      "PATH_ROOT                         str         ..\n",
      "PATH_SOURCE_IMG                   str         ../cell_images\n",
      "RandomForestClassifier            ABCMeta     <class 'sklearn.ensemble.<...>.RandomForestClassifier'>\n",
      "SICK                              str         S\n",
      "classification_report             function    <function classification_<...>rt at 0x000001842DFBDAF0>\n",
      "confusion_matrix                  function    <function confusion_matrix at 0x000001842DFBD280>\n",
      "cv2                               module      <module 'cv2' from 'C:\\\\U<...>kages\\\\cv2\\\\__init__.py'>\n",
      "datetime                          type        <class 'datetime.datetime'>\n",
      "f1_score                          function    <function f1_score at 0x000001842DFBD5E0>\n",
      "gc                                module      <module 'gc' (built-in)>\n",
      "glob                              module      <module 'glob' from 'C:\\\\<...>Anaconda3\\\\lib\\\\glob.py'>\n",
      "gzip                              module      <module 'gzip' from 'C:\\\\<...>Anaconda3\\\\lib\\\\gzip.py'>\n",
      "import_ipynb                      module      <module 'import_ipynb' fr<...>ckages\\\\import_ipynb.py'>\n",
      "learning_curve                    function    <function learning_curve at 0x000001842E188430>\n",
      "mlflow                            module      <module 'mlflow' from 'C:<...>es\\\\mlflow\\\\__init__.py'>\n",
      "np                                module      <module 'numpy' from 'C:\\<...>ges\\\\numpy\\\\__init__.py'>\n",
      "os                                module      <module 'os' from 'C:\\\\Te<...>\\\\Anaconda3\\\\lib\\\\os.py'>\n",
      "pd                                module      <module 'pandas' from 'C:<...>es\\\\pandas\\\\__init__.py'>\n",
      "pickle                            module      <module 'pickle' from 'C:<...>aconda3\\\\lib\\\\pickle.py'>\n",
      "plt                               module      <module 'matplotlib.pyplo<...>\\\\matplotlib\\\\pyplot.py'>\n",
      "precision_recall_fscore_support   function    <function precision_recal<...>rt at 0x000001842DFBD8B0>\n",
      "random                            module      <module 'random' from 'C:<...>aconda3\\\\lib\\\\random.py'>\n",
      "sns                               module      <module 'seaborn' from 'C<...>s\\\\seaborn\\\\__init__.py'>\n",
      "sp                                module      <module 'scipy.sparse' fr<...>py\\\\sparse\\\\__init__.py'>\n",
      "tqdm                              type        <class 'tqdm.std.tqdm'>\n",
      "train_test_split                  function    <function train_test_split at 0x000001842E182790>\n",
      "utils                             module      <module 'iteration_0_util<...> at 0x000001847F458310>)>\n"
     ]
    }
   ],
   "source": [
    "%whos"
   ]
  },
  {
   "cell_type": "markdown",
   "id": "770de071",
   "metadata": {},
   "source": [
    "# make X, y"
   ]
  },
  {
   "cell_type": "code",
   "execution_count": 6,
   "id": "cf796b26",
   "metadata": {},
   "outputs": [],
   "source": [
    "DATE_TIME = \"2021-11-18_20-39-00\""
   ]
  },
  {
   "cell_type": "code",
   "execution_count": 7,
   "id": "08c385d3",
   "metadata": {},
   "outputs": [],
   "source": [
    "# get list \n",
    "list_path_sample_img = []\n",
    "list_path_sample_img.extend(glob.glob(PATH_DATA_SAMPLE+\"/\"+DATE_TIME+ \"/\"+ \"*.pklz\"))"
   ]
  },
  {
   "cell_type": "code",
   "execution_count": 8,
   "id": "eace4219",
   "metadata": {},
   "outputs": [],
   "source": [
    "# split train, validation, test set\n",
    "list_path_sample_img_train, list_path_sample_img_test  = train_test_split(list_path_sample_img, test_size=0.2)\n",
    "list_path_sample_img_train, list_path_sample_img_valid = train_test_split(list_path_sample_img_train, test_size=0.2)"
   ]
  },
  {
   "cell_type": "code",
   "execution_count": 9,
   "id": "8799c5e7",
   "metadata": {},
   "outputs": [],
   "source": [
    "def make_Xy(list_path_sample_img: list) -> (np.array, np.array):\n",
    "    X = np.ndarray( (len(list_path_sample_img), IMG_SIZE, IMG_SIZE, 3) ,dtype = \"float16\")\n",
    "    y = np.array([\"\"] * len(list_path_sample_img))\n",
    "    for i, path in tqdm(enumerate(list_path_sample_img)):\n",
    "        \n",
    "        X[i] = utils.pickle_read(path).astype(\"float16\")\n",
    "    \n",
    "        _, file_name, _ = utils.split_file_info(path)\n",
    "        y[i] = file_name[0]\n",
    "    \n",
    "    return X, y\n",
    "    "
   ]
  },
  {
   "cell_type": "code",
   "execution_count": 10,
   "id": "e50abf4d",
   "metadata": {},
   "outputs": [
    {
     "name": "stderr",
     "output_type": "stream",
     "text": [
      "12800it [00:14, 903.79it/s]\n"
     ]
    }
   ],
   "source": [
    "X_train, y_train  = make_Xy(list_path_sample_img_train)"
   ]
  },
  {
   "cell_type": "code",
   "execution_count": 11,
   "id": "89fde0c8",
   "metadata": {},
   "outputs": [
    {
     "name": "stderr",
     "output_type": "stream",
     "text": [
      "3200it [00:03, 926.94it/s]\n"
     ]
    }
   ],
   "source": [
    "X_valid, y_valid  = make_Xy(list_path_sample_img_valid)"
   ]
  },
  {
   "cell_type": "code",
   "execution_count": 12,
   "id": "099ddd37",
   "metadata": {},
   "outputs": [
    {
     "name": "stderr",
     "output_type": "stream",
     "text": [
      "4000it [00:04, 899.05it/s]\n"
     ]
    }
   ],
   "source": [
    "X_test, y_test  = make_Xy(list_path_sample_img_test)"
   ]
  },
  {
   "cell_type": "markdown",
   "id": "aae5001f",
   "metadata": {},
   "source": [
    "# model_cnn"
   ]
  },
  {
   "cell_type": "markdown",
   "id": "interracial-chess",
   "metadata": {},
   "source": [
    "* Ref: https://towardsdatascience.com/detecting-malaria-with-deep-learning-9e45c1e34b60\n",
    "* https://towardsdatascience.com/understanding-and-calculating-the-number-of-parameters-in-convolution-neural-networks-cnns-fc88790d530d"
   ]
  },
  {
   "cell_type": "code",
   "execution_count": 13,
   "id": "editorial-stations",
   "metadata": {},
   "outputs": [],
   "source": [
    "BATCH_SIZE = 500\n",
    "NUM_CLASSES = 2\n",
    "EPOCHS = 15\n",
    "INPUT_SHAPE = (IMG_SIZE, IMG_SIZE, 3)"
   ]
  },
  {
   "cell_type": "code",
   "execution_count": 14,
   "id": "descending-combat",
   "metadata": {},
   "outputs": [],
   "source": [
    "# Encoder y\n",
    "from sklearn.preprocessing import LabelEncoder"
   ]
  },
  {
   "cell_type": "code",
   "execution_count": 15,
   "id": "saved-offer",
   "metadata": {},
   "outputs": [],
   "source": [
    "le = LabelEncoder()"
   ]
  },
  {
   "cell_type": "code",
   "execution_count": 16,
   "id": "determined-occurrence",
   "metadata": {},
   "outputs": [],
   "source": [
    "y_train_enc = le.fit_transform(y_train)"
   ]
  },
  {
   "cell_type": "code",
   "execution_count": 17,
   "id": "hollywood-reservation",
   "metadata": {},
   "outputs": [],
   "source": [
    "y_valid_enc = le.transform(y_valid)\n",
    "y_test_enc  = le.transform(y_test)"
   ]
  },
  {
   "cell_type": "code",
   "execution_count": 18,
   "id": "lasting-crawford",
   "metadata": {},
   "outputs": [
    {
     "data": {
      "text/plain": [
       "array(['H', 'S'], dtype='<U1')"
      ]
     },
     "execution_count": 18,
     "metadata": {},
     "output_type": "execute_result"
    }
   ],
   "source": [
    "le.classes_"
   ]
  },
  {
   "cell_type": "code",
   "execution_count": 19,
   "id": "b52ba093",
   "metadata": {},
   "outputs": [],
   "source": [
    "#!pip uninstall tensorflow"
   ]
  },
  {
   "cell_type": "markdown",
   "id": "5c30342c",
   "metadata": {},
   "source": [
    "Créer un fichier .reg avec les instructions suivantes :\n",
    "\n",
    "===\n",
    "\n",
    "Windows Registry Editor Version 5.00\n",
    "\n",
    "[HKEY_LOCAL_MACHINE\\SYSTEM\\CurrentControlSet\\Control\\FileSystem]\n",
    "\"LongPathsEnabled\"=dword:00000001\n",
    "\n",
    "---\n",
    "\n",
    "Exécuter le .reg"
   ]
  },
  {
   "cell_type": "code",
   "execution_count": 20,
   "id": "8b7e07c4",
   "metadata": {},
   "outputs": [],
   "source": [
    "#!pip install tensorflow"
   ]
  },
  {
   "cell_type": "code",
   "execution_count": 21,
   "id": "saving-circuit",
   "metadata": {},
   "outputs": [],
   "source": [
    "import tensorflow as tf"
   ]
  },
  {
   "cell_type": "code",
   "execution_count": 22,
   "id": "bound-centre",
   "metadata": {},
   "outputs": [],
   "source": [
    "from keras.models import Sequential"
   ]
  },
  {
   "cell_type": "code",
   "execution_count": 23,
   "id": "standard-publicity",
   "metadata": {},
   "outputs": [],
   "source": [
    "model_cnn = Sequential()\n",
    "model_cnn.add(tf.keras.layers.Input(name = \"input\", shape=INPUT_SHAPE))\n",
    "model_cnn.add(tf.keras.layers.Conv2D(name = \"conv2D\",\n",
    "                                     filters=32,\n",
    "                                     kernel_size=(3,3),\n",
    "                                     activation=\"LeakyReLU\",\n",
    "                                     padding=\"same\",\n",
    "                                     kernel_initializer=\"he_uniform\"\n",
    "                                    ))\n",
    "model_cnn.add(tf.keras.layers.MaxPooling2D(name=\"pooling\", pool_size=(2,2)))\n",
    "model_cnn.add(tf.keras.layers.Flatten(name=\"flatten\"))\n",
    "model_cnn.add(tf.keras.layers.Dense(name=\"dense_hidden\", units = 256, activation=\"LeakyReLU\",\n",
    "                                    kernel_initializer=\"he_uniform\" ))\n",
    "model_cnn.add(tf.keras.layers.Dense(name=\"ouput\", units = 1, activation=\"sigmoid\"))\n"
   ]
  },
  {
   "cell_type": "code",
   "execution_count": 24,
   "id": "humanitarian-invite",
   "metadata": {},
   "outputs": [],
   "source": [
    "# compiler modele\n",
    "model_cnn.compile(optimizer = \"adam\", loss =\"binary_crossentropy\", metrics=[\"accuracy\"])"
   ]
  },
  {
   "cell_type": "code",
   "execution_count": 25,
   "id": "sized-manual",
   "metadata": {},
   "outputs": [
    {
     "name": "stdout",
     "output_type": "stream",
     "text": [
      "Model: \"sequential\"\n",
      "_________________________________________________________________\n",
      " Layer (type)                Output Shape              Param #   \n",
      "=================================================================\n",
      " conv2D (Conv2D)             (None, 64, 64, 32)        896       \n",
      "                                                                 \n",
      " pooling (MaxPooling2D)      (None, 32, 32, 32)        0         \n",
      "                                                                 \n",
      " flatten (Flatten)           (None, 32768)             0         \n",
      "                                                                 \n",
      " dense_hidden (Dense)        (None, 256)               8388864   \n",
      "                                                                 \n",
      " ouput (Dense)               (None, 1)                 257       \n",
      "                                                                 \n",
      "=================================================================\n",
      "Total params: 8,390,017\n",
      "Trainable params: 8,390,017\n",
      "Non-trainable params: 0\n",
      "_________________________________________________________________\n"
     ]
    }
   ],
   "source": [
    "model_cnn.summary()"
   ]
  },
  {
   "cell_type": "code",
   "execution_count": 26,
   "id": "undefined-trash",
   "metadata": {},
   "outputs": [],
   "source": [
    "from keras.callbacks import EarlyStopping"
   ]
  },
  {
   "cell_type": "code",
   "execution_count": 27,
   "id": "sonic-popularity",
   "metadata": {},
   "outputs": [],
   "source": [
    "# es = EarlyStopping(mode='min', monitor='val_loss')"
   ]
  },
  {
   "cell_type": "code",
   "execution_count": 28,
   "id": "atmospheric-connecticut",
   "metadata": {},
   "outputs": [
    {
     "name": "stdout",
     "output_type": "stream",
     "text": [
      "Epoch 1/15\n",
      "26/26 [==============================] - 18s 654ms/step - loss: 14.4929 - accuracy: 0.5176 - val_loss: 4.6620 - val_accuracy: 0.5094\n",
      "Epoch 2/15\n",
      "26/26 [==============================] - 16s 628ms/step - loss: 1.8800 - accuracy: 0.5857 - val_loss: 1.2432 - val_accuracy: 0.5681\n",
      "Epoch 3/15\n",
      "26/26 [==============================] - 16s 633ms/step - loss: 0.7031 - accuracy: 0.6651 - val_loss: 0.6201 - val_accuracy: 0.6794\n",
      "Epoch 4/15\n",
      "26/26 [==============================] - 16s 632ms/step - loss: 0.5970 - accuracy: 0.6834 - val_loss: 0.6139 - val_accuracy: 0.6678\n",
      "Epoch 5/15\n",
      "26/26 [==============================] - 16s 635ms/step - loss: 0.5655 - accuracy: 0.7148 - val_loss: 0.6091 - val_accuracy: 0.6616\n",
      "Epoch 6/15\n",
      "26/26 [==============================] - 16s 633ms/step - loss: 0.6098 - accuracy: 0.6713 - val_loss: 0.8331 - val_accuracy: 0.5822\n",
      "Epoch 7/15\n",
      "26/26 [==============================] - 16s 632ms/step - loss: 0.6733 - accuracy: 0.6601 - val_loss: 0.6022 - val_accuracy: 0.6984\n",
      "Epoch 8/15\n",
      "26/26 [==============================] - 17s 648ms/step - loss: 0.5506 - accuracy: 0.7284 - val_loss: 0.5811 - val_accuracy: 0.7078\n",
      "Epoch 9/15\n",
      "26/26 [==============================] - 16s 631ms/step - loss: 0.5534 - accuracy: 0.7179 - val_loss: 0.5723 - val_accuracy: 0.7134\n",
      "Epoch 10/15\n",
      "26/26 [==============================] - 16s 630ms/step - loss: 0.5680 - accuracy: 0.7138 - val_loss: 0.5764 - val_accuracy: 0.7138\n",
      "Epoch 11/15\n",
      "26/26 [==============================] - 16s 633ms/step - loss: 0.5904 - accuracy: 0.7010 - val_loss: 0.8052 - val_accuracy: 0.5741\n",
      "Epoch 12/15\n",
      "26/26 [==============================] - 16s 633ms/step - loss: 0.6634 - accuracy: 0.6759 - val_loss: 1.0027 - val_accuracy: 0.5625\n",
      "Epoch 13/15\n",
      "26/26 [==============================] - 16s 629ms/step - loss: 0.7076 - accuracy: 0.6595 - val_loss: 0.5807 - val_accuracy: 0.7222\n",
      "Epoch 14/15\n",
      "26/26 [==============================] - 17s 639ms/step - loss: 0.5313 - accuracy: 0.7421 - val_loss: 0.6028 - val_accuracy: 0.6866\n",
      "Epoch 15/15\n",
      "26/26 [==============================] - 16s 633ms/step - loss: 0.5085 - accuracy: 0.7541 - val_loss: 0.7691 - val_accuracy: 0.6119\n"
     ]
    }
   ],
   "source": [
    "history = model_cnn.fit(X_train, y_train_enc, epochs=EPOCHS, validation_data=(X_valid, y_valid_enc), batch_size = BATCH_SIZE,\n",
    "                        )"
   ]
  },
  {
   "cell_type": "code",
   "execution_count": 29,
   "id": "expressed-greenhouse",
   "metadata": {},
   "outputs": [
    {
     "data": {
      "text/plain": [
       "{'loss': [14.492919921875,\n",
       "  1.879981517791748,\n",
       "  0.7031097412109375,\n",
       "  0.5970156192779541,\n",
       "  0.5655335783958435,\n",
       "  0.6097965836524963,\n",
       "  0.673307478427887,\n",
       "  0.5505918264389038,\n",
       "  0.5533512234687805,\n",
       "  0.5680277347564697,\n",
       "  0.5904393792152405,\n",
       "  0.6633522510528564,\n",
       "  0.7076021432876587,\n",
       "  0.531328558921814,\n",
       "  0.5084639191627502],\n",
       " 'accuracy': [0.517578125,\n",
       "  0.5857031345367432,\n",
       "  0.6650781035423279,\n",
       "  0.6834375262260437,\n",
       "  0.7147656083106995,\n",
       "  0.6713281273841858,\n",
       "  0.6600781083106995,\n",
       "  0.7284374833106995,\n",
       "  0.7178906202316284,\n",
       "  0.7137500047683716,\n",
       "  0.7010156512260437,\n",
       "  0.6758593916893005,\n",
       "  0.6594531536102295,\n",
       "  0.7421093583106995,\n",
       "  0.7541406154632568],\n",
       " 'val_loss': [4.661953449249268,\n",
       "  1.2432347536087036,\n",
       "  0.6201465129852295,\n",
       "  0.6138918995857239,\n",
       "  0.609139621257782,\n",
       "  0.8331092596054077,\n",
       "  0.602247416973114,\n",
       "  0.5811394453048706,\n",
       "  0.5723382234573364,\n",
       "  0.5764080286026001,\n",
       "  0.8051626086235046,\n",
       "  1.002732276916504,\n",
       "  0.5806928873062134,\n",
       "  0.6028499007225037,\n",
       "  0.7690980434417725],\n",
       " 'val_accuracy': [0.5093749761581421,\n",
       "  0.5681250095367432,\n",
       "  0.6793749928474426,\n",
       "  0.6678125262260437,\n",
       "  0.6615625023841858,\n",
       "  0.5821874737739563,\n",
       "  0.698437511920929,\n",
       "  0.707812488079071,\n",
       "  0.7134374976158142,\n",
       "  0.7137500047683716,\n",
       "  0.5740625262260437,\n",
       "  0.5625,\n",
       "  0.7221875190734863,\n",
       "  0.6865624785423279,\n",
       "  0.6118749976158142]}"
      ]
     },
     "execution_count": 29,
     "metadata": {},
     "output_type": "execute_result"
    }
   ],
   "source": [
    "history.history"
   ]
  },
  {
   "cell_type": "code",
   "execution_count": 30,
   "id": "occupational-frederick",
   "metadata": {},
   "outputs": [
    {
     "name": "stdout",
     "output_type": "stream",
     "text": [
      "['loss', 'accuracy']\n"
     ]
    }
   ],
   "source": [
    "print(model_cnn.metrics_names)"
   ]
  },
  {
   "cell_type": "code",
   "execution_count": 31,
   "id": "alien-clock",
   "metadata": {},
   "outputs": [],
   "source": [
    "def plot_history(history):\n",
    "    plt.figure(figsize=(16,9))\n",
    "    # plot loss\n",
    "    plt.subplot(211)\n",
    "    plt.grid()\n",
    "    plt.title('binary_crossentropy')\n",
    "    plt.plot(history.history['loss'], \"o-\", color='blue', label='train')\n",
    "    plt.plot(history.history['val_loss'], \"o-\", color='orange', label='validation')\n",
    "    plt.legend()    \n",
    "    # plot accuracy\n",
    "    plt.subplot(212)\n",
    "    plt.grid()\n",
    "    plt.title('Classification Accuracy')\n",
    "    plt.plot(history.history['accuracy'], \"o-\",color='blue', label='train')\n",
    "    plt.plot(history.history['val_accuracy'], \"o-\",color='orange', label='validation')\n",
    "    plt.legend()\n",
    "    plt.show()"
   ]
  },
  {
   "cell_type": "code",
   "execution_count": 32,
   "id": "particular-gilbert",
   "metadata": {},
   "outputs": [
    {
     "data": {
      "image/png": "[encoded data removed]",
      "text/plain": [
       "<Figure size 1152x648 with 2 Axes>"
      ]
     },
     "metadata": {
      "needs_background": "light"
     },
     "output_type": "display_data"
    }
   ],
   "source": [
    "plot_history(history)"
   ]
  },
  {
   "cell_type": "code",
   "execution_count": 33,
   "id": "found-lithuania",
   "metadata": {},
   "outputs": [],
   "source": [
    "model_cnn_2 = Sequential()\n",
    "model_cnn_2.add(tf.keras.layers.Input(name = \"input\", shape=INPUT_SHAPE))\n",
    "model_cnn_2.add(tf.keras.layers.Conv2D(name = \"conv2D\",\n",
    "                                     filters=32,\n",
    "                                     kernel_size=(3,3),\n",
    "                                     activation=\"LeakyReLU\",\n",
    "                                     padding=\"same\",\n",
    "                                     kernel_initializer=\"he_uniform\"\n",
    "                                    ))\n",
    "model_cnn_2.add(tf.keras.layers.MaxPooling2D(name=\"pooling\", pool_size=(2,2)))\n",
    "model_cnn_2.add(tf.keras.layers.Conv2D(name = \"conv2D_2\",\n",
    "                                     filters=64,\n",
    "                                     kernel_size=(3,3),\n",
    "                                     activation=\"LeakyReLU\",\n",
    "                                     padding=\"same\",\n",
    "                                     kernel_initializer=\"he_uniform\"\n",
    "                                    ))\n",
    "model_cnn_2.add(tf.keras.layers.MaxPooling2D(name=\"pooling_2\", pool_size=(2,2)))\n",
    "model_cnn_2.add(tf.keras.layers.Flatten(name=\"flatten\"))\n",
    "model_cnn_2.add(tf.keras.layers.Dense(name=\"dense_hidden\", units = 256, activation=\"LeakyReLU\",\n",
    "                                    kernel_initializer=\"he_uniform\" ))\n",
    "model_cnn_2.add(tf.keras.layers.Dense(name=\"dense_hidden_2\", units = 128, activation=\"LeakyReLU\",\n",
    "                                    kernel_initializer=\"he_uniform\" ))\n",
    "model_cnn_2.add(tf.keras.layers.Dense(name=\"ouput\", units = 1, activation=\"sigmoid\"))\n"
   ]
  },
  {
   "cell_type": "code",
   "execution_count": 34,
   "id": "thick-difficulty",
   "metadata": {},
   "outputs": [],
   "source": [
    "# compiler modele\n",
    "model_cnn_2.compile(optimizer = \"adam\", loss =\"binary_crossentropy\", metrics=[\"accuracy\"])"
   ]
  },
  {
   "cell_type": "code",
   "execution_count": 35,
   "id": "pleasant-paraguay",
   "metadata": {},
   "outputs": [
    {
     "name": "stdout",
     "output_type": "stream",
     "text": [
      "Model: \"sequential_1\"\n",
      "_________________________________________________________________\n",
      " Layer (type)                Output Shape              Param #   \n",
      "=================================================================\n",
      " conv2D (Conv2D)             (None, 64, 64, 32)        896       \n",
      "                                                                 \n",
      " pooling (MaxPooling2D)      (None, 32, 32, 32)        0         \n",
      "                                                                 \n",
      " conv2D_2 (Conv2D)           (None, 32, 32, 64)        18496     \n",
      "                                                                 \n",
      " pooling_2 (MaxPooling2D)    (None, 16, 16, 64)        0         \n",
      "                                                                 \n",
      " flatten (Flatten)           (None, 16384)             0         \n",
      "                                                                 \n",
      " dense_hidden (Dense)        (None, 256)               4194560   \n",
      "                                                                 \n",
      " dense_hidden_2 (Dense)      (None, 128)               32896     \n",
      "                                                                 \n",
      " ouput (Dense)               (None, 1)                 129       \n",
      "                                                                 \n",
      "=================================================================\n",
      "Total params: 4,246,977\n",
      "Trainable params: 4,246,977\n",
      "Non-trainable params: 0\n",
      "_________________________________________________________________\n"
     ]
    }
   ],
   "source": [
    "model_cnn_2.summary()"
   ]
  },
  {
   "cell_type": "code",
   "execution_count": 36,
   "id": "starting-mitchell",
   "metadata": {},
   "outputs": [
    {
     "name": "stdout",
     "output_type": "stream",
     "text": [
      "Epoch 1/15\n",
      "26/26 [==============================] - 32s 1s/step - loss: 2.0882 - accuracy: 0.5615 - val_loss: 0.6623 - val_accuracy: 0.5997\n",
      "Epoch 2/15\n",
      "26/26 [==============================] - 31s 1s/step - loss: 0.6178 - accuracy: 0.6637 - val_loss: 0.5852 - val_accuracy: 0.7028\n",
      "Epoch 3/15\n",
      "26/26 [==============================] - 31s 1s/step - loss: 0.5699 - accuracy: 0.7103 - val_loss: 0.5598 - val_accuracy: 0.7194\n",
      "Epoch 4/15\n",
      "26/26 [==============================] - 30s 1s/step - loss: 0.5473 - accuracy: 0.7253 - val_loss: 0.5331 - val_accuracy: 0.7456\n",
      "Epoch 5/15\n",
      "26/26 [==============================] - 30s 1s/step - loss: 0.5084 - accuracy: 0.7534 - val_loss: 0.4986 - val_accuracy: 0.7644\n",
      "Epoch 6/15\n",
      "26/26 [==============================] - 30s 1s/step - loss: 0.4691 - accuracy: 0.7753 - val_loss: 0.4631 - val_accuracy: 0.7875\n",
      "Epoch 7/15\n",
      "26/26 [==============================] - 30s 1s/step - loss: 0.4318 - accuracy: 0.7999 - val_loss: 0.6309 - val_accuracy: 0.6650\n",
      "Epoch 8/15\n",
      "26/26 [==============================] - 30s 1s/step - loss: 0.4428 - accuracy: 0.7877 - val_loss: 0.4158 - val_accuracy: 0.8144\n",
      "Epoch 9/15\n",
      "26/26 [==============================] - 31s 1s/step - loss: 0.3678 - accuracy: 0.8390 - val_loss: 0.4483 - val_accuracy: 0.7928\n",
      "Epoch 10/15\n",
      "26/26 [==============================] - 30s 1s/step - loss: 0.3272 - accuracy: 0.8623 - val_loss: 0.5176 - val_accuracy: 0.7416\n",
      "Epoch 11/15\n",
      "26/26 [==============================] - 31s 1s/step - loss: 0.3202 - accuracy: 0.8605 - val_loss: 0.3569 - val_accuracy: 0.8469\n",
      "Epoch 12/15\n",
      "26/26 [==============================] - 31s 1s/step - loss: 0.2384 - accuracy: 0.9127 - val_loss: 0.3903 - val_accuracy: 0.8316\n",
      "Epoch 13/15\n",
      "26/26 [==============================] - 31s 1s/step - loss: 0.2651 - accuracy: 0.8888 - val_loss: 0.3238 - val_accuracy: 0.8675\n",
      "Epoch 14/15\n",
      "26/26 [==============================] - 31s 1s/step - loss: 0.1885 - accuracy: 0.9345 - val_loss: 0.2934 - val_accuracy: 0.8794\n",
      "Epoch 15/15\n",
      "26/26 [==============================] - 32s 1s/step - loss: 0.1920 - accuracy: 0.9236 - val_loss: 0.3671 - val_accuracy: 0.8531\n"
     ]
    }
   ],
   "source": [
    "history_2 = model_cnn_2.fit(X_train, y_train_enc, epochs=EPOCHS, validation_data=(X_valid, y_valid_enc), batch_size = BATCH_SIZE,\n",
    "                        )"
   ]
  },
  {
   "cell_type": "code",
   "execution_count": 37,
   "id": "preliminary-header",
   "metadata": {},
   "outputs": [
    {
     "data": {
      "image/png": "[encoded data removed]",
      "text/plain": [
       "<Figure size 1152x648 with 2 Axes>"
      ]
     },
     "metadata": {
      "needs_background": "light"
     },
     "output_type": "display_data"
    }
   ],
   "source": [
    "plot_history(history_2)"
   ]
  },
  {
   "cell_type": "code",
   "execution_count": 38,
   "id": "grave-transparency",
   "metadata": {},
   "outputs": [],
   "source": [
    "# modele article"
   ]
  },
  {
   "cell_type": "code",
   "execution_count": 39,
   "id": "trained-discharge",
   "metadata": {},
   "outputs": [],
   "source": [
    "BATCH_SIZE = 64\n",
    "NUM_CLASSES = 2\n",
    "EPOCHS = 25\n",
    "INPUT_SHAPE = (IMG_SIZE, IMG_SIZE, 3)"
   ]
  },
  {
   "cell_type": "code",
   "execution_count": 40,
   "id": "comic-seafood",
   "metadata": {},
   "outputs": [],
   "source": [
    "\n",
    "model_cnn_3 = Sequential()\n",
    "model_cnn_3.add(tf.keras.layers.Input(name = \"input\", shape=INPUT_SHAPE))\n",
    "\n",
    "model_cnn_3.add(tf.keras.layers.Conv2D(name = \"conv2D\",\n",
    "                                       filters=32,\n",
    "                                       kernel_size=(3,3),\n",
    "                                       activation=\"relu\",\n",
    "                                       padding=\"same\",\n",
    "                                       ))\n",
    "model_cnn_3.add(tf.keras.layers.MaxPooling2D(name=\"pooling\",\n",
    "                                             pool_size=(2,2)\n",
    "                                            ))\n",
    "model_cnn_3.add(tf.keras.layers.Conv2D(name = \"conv2D_2\",\n",
    "                                       filters=64,\n",
    "                                       kernel_size=(3,3),\n",
    "                                       activation=\"relu\",\n",
    "                                       padding=\"same\",\n",
    "                                       ))\n",
    "model_cnn_3.add(tf.keras.layers.MaxPooling2D(name=\"pooling_2\",\n",
    "                                             pool_size=(2,2)\n",
    "                                            ))\n",
    "model_cnn_3.add(tf.keras.layers.Conv2D(name=\"conv2D_3\",\n",
    "                                       filters=128,\n",
    "                                       kernel_size=(3,3),\n",
    "                                       activation=\"relu\",\n",
    "                                       padding=\"same\",\n",
    "                                      ))\n",
    "model_cnn_3.add(tf.keras.layers.MaxPooling2D(name=\"pooling_3\",\n",
    "                                             pool_size=(2,2)\n",
    "                                            ))\n",
    "model_cnn_3.add(tf.keras.layers.Flatten(name=\"flatten\"))\n",
    "model_cnn_3.add(tf.keras.layers.Dense(name=\"dense_hidden\",\n",
    "                                      units = 512,\n",
    "                                      activation=\"relu\",\n",
    "                                     ))\n",
    "model_cnn_3.add(tf.keras.layers.Dropout(name=\"drop_1\",\n",
    "                                      rate=0.3,                                      \n",
    "                                     ))\n",
    "model_cnn_3.add(tf.keras.layers.Dense(name=\"dense_hidden_2\",\n",
    "                                      units = 512,\n",
    "                                      activation=\"relu\",\n",
    "                                     ))\n",
    "model_cnn_3.add(tf.keras.layers.Dropout(name=\"drop_2\",\n",
    "                                      rate=0.3,                                      \n",
    "                                     ))\n",
    "model_cnn_3.add(tf.keras.layers.Dense(name=\"ouput\", units = 1, activation=\"sigmoid\"))"
   ]
  },
  {
   "cell_type": "code",
   "execution_count": 41,
   "id": "appreciated-music",
   "metadata": {},
   "outputs": [],
   "source": [
    "# compiler modele\n",
    "model_cnn_3.compile(optimizer = \"adam\", loss =\"binary_crossentropy\", metrics=[\"accuracy\"])"
   ]
  },
  {
   "cell_type": "code",
   "execution_count": 42,
   "id": "preceding-action",
   "metadata": {},
   "outputs": [
    {
     "name": "stdout",
     "output_type": "stream",
     "text": [
      "Model: \"sequential_2\"\n",
      "_________________________________________________________________\n",
      " Layer (type)                Output Shape              Param #   \n",
      "=================================================================\n",
      " conv2D (Conv2D)             (None, 64, 64, 32)        896       \n",
      "                                                                 \n",
      " pooling (MaxPooling2D)      (None, 32, 32, 32)        0         \n",
      "                                                                 \n",
      " conv2D_2 (Conv2D)           (None, 32, 32, 64)        18496     \n",
      "                                                                 \n",
      " pooling_2 (MaxPooling2D)    (None, 16, 16, 64)        0         \n",
      "                                                                 \n",
      " conv2D_3 (Conv2D)           (None, 16, 16, 128)       73856     \n",
      "                                                                 \n",
      " pooling_3 (MaxPooling2D)    (None, 8, 8, 128)         0         \n",
      "                                                                 \n",
      " flatten (Flatten)           (None, 8192)              0         \n",
      "                                                                 \n",
      " dense_hidden (Dense)        (None, 512)               4194816   \n",
      "                                                                 \n",
      " drop_1 (Dropout)            (None, 512)               0         \n",
      "                                                                 \n",
      " dense_hidden_2 (Dense)      (None, 512)               262656    \n",
      "                                                                 \n",
      " drop_2 (Dropout)            (None, 512)               0         \n",
      "                                                                 \n",
      " ouput (Dense)               (None, 1)                 513       \n",
      "                                                                 \n",
      "=================================================================\n",
      "Total params: 4,551,233\n",
      "Trainable params: 4,551,233\n",
      "Non-trainable params: 0\n",
      "_________________________________________________________________\n"
     ]
    }
   ],
   "source": [
    "model_cnn_3.summary()"
   ]
  },
  {
   "cell_type": "code",
   "execution_count": 43,
   "id": "official-publication",
   "metadata": {
    "scrolled": false
   },
   "outputs": [
    {
     "name": "stdout",
     "output_type": "stream",
     "text": [
      "Epoch 1/25\n",
      "200/200 [==============================] - 43s 214ms/step - loss: 0.6268 - accuracy: 0.6363 - val_loss: 0.2912 - val_accuracy: 0.8822\n",
      "Epoch 2/25\n",
      "200/200 [==============================] - 42s 209ms/step - loss: 0.2082 - accuracy: 0.9288 - val_loss: 0.1663 - val_accuracy: 0.9428\n",
      "Epoch 3/25\n",
      "200/200 [==============================] - 43s 213ms/step - loss: 0.1457 - accuracy: 0.9535 - val_loss: 0.1469 - val_accuracy: 0.9553\n",
      "Epoch 4/25\n",
      "200/200 [==============================] - 42s 209ms/step - loss: 0.1272 - accuracy: 0.9586 - val_loss: 0.1472 - val_accuracy: 0.9516\n",
      "Epoch 5/25\n",
      "200/200 [==============================] - 43s 214ms/step - loss: 0.1169 - accuracy: 0.9597 - val_loss: 0.1336 - val_accuracy: 0.9563\n",
      "Epoch 6/25\n",
      "200/200 [==============================] - 44s 222ms/step - loss: 0.1049 - accuracy: 0.9631 - val_loss: 0.1538 - val_accuracy: 0.9503\n",
      "Epoch 7/25\n",
      "200/200 [==============================] - 43s 214ms/step - loss: 0.0868 - accuracy: 0.9699 - val_loss: 0.1409 - val_accuracy: 0.9538\n",
      "Epoch 8/25\n",
      "200/200 [==============================] - 43s 216ms/step - loss: 0.0704 - accuracy: 0.9746 - val_loss: 0.1625 - val_accuracy: 0.9469\n",
      "Epoch 9/25\n",
      "200/200 [==============================] - 42s 212ms/step - loss: 0.0593 - accuracy: 0.9797 - val_loss: 0.1948 - val_accuracy: 0.9372\n",
      "Epoch 10/25\n",
      "200/200 [==============================] - 43s 214ms/step - loss: 0.0489 - accuracy: 0.9834 - val_loss: 0.2240 - val_accuracy: 0.9500\n",
      "Epoch 11/25\n",
      "200/200 [==============================] - 43s 215ms/step - loss: 0.0392 - accuracy: 0.9870 - val_loss: 0.2302 - val_accuracy: 0.9481\n",
      "Epoch 12/25\n",
      "200/200 [==============================] - 43s 217ms/step - loss: 0.0288 - accuracy: 0.9903 - val_loss: 0.3018 - val_accuracy: 0.9484\n",
      "Epoch 13/25\n",
      "200/200 [==============================] - 43s 217ms/step - loss: 0.0199 - accuracy: 0.9927 - val_loss: 0.2892 - val_accuracy: 0.9475\n",
      "Epoch 14/25\n",
      "200/200 [==============================] - 44s 221ms/step - loss: 0.0235 - accuracy: 0.9926 - val_loss: 0.3028 - val_accuracy: 0.9416\n",
      "Epoch 15/25\n",
      "200/200 [==============================] - 45s 227ms/step - loss: 0.0196 - accuracy: 0.9927 - val_loss: 0.4005 - val_accuracy: 0.9428\n",
      "Epoch 16/25\n",
      "200/200 [==============================] - 45s 226ms/step - loss: 0.0149 - accuracy: 0.9951 - val_loss: 0.3414 - val_accuracy: 0.9478\n",
      "Epoch 17/25\n",
      "200/200 [==============================] - 46s 230ms/step - loss: 0.0103 - accuracy: 0.9969 - val_loss: 0.3780 - val_accuracy: 0.9472\n",
      "Epoch 18/25\n",
      "200/200 [==============================] - 46s 228ms/step - loss: 0.0041 - accuracy: 0.9987 - val_loss: 0.4642 - val_accuracy: 0.9500\n",
      "Epoch 19/25\n",
      "200/200 [==============================] - 46s 232ms/step - loss: 0.0117 - accuracy: 0.9962 - val_loss: 0.3666 - val_accuracy: 0.9466\n",
      "Epoch 20/25\n",
      "200/200 [==============================] - 45s 226ms/step - loss: 0.0214 - accuracy: 0.9931 - val_loss: 0.4243 - val_accuracy: 0.9472\n",
      "Epoch 21/25\n",
      "200/200 [==============================] - 47s 237ms/step - loss: 0.0096 - accuracy: 0.9970 - val_loss: 0.4144 - val_accuracy: 0.9463\n",
      "Epoch 22/25\n",
      "200/200 [==============================] - 46s 230ms/step - loss: 0.0089 - accuracy: 0.9970 - val_loss: 0.4309 - val_accuracy: 0.9522\n",
      "Epoch 23/25\n",
      "200/200 [==============================] - 45s 225ms/step - loss: 0.0032 - accuracy: 0.9991 - val_loss: 0.4689 - val_accuracy: 0.9491\n",
      "Epoch 24/25\n",
      "200/200 [==============================] - 46s 232ms/step - loss: 0.0019 - accuracy: 0.9996 - val_loss: 0.5229 - val_accuracy: 0.9491\n",
      "Epoch 25/25\n",
      "200/200 [==============================] - 45s 227ms/step - loss: 0.0062 - accuracy: 0.9980 - val_loss: 0.4766 - val_accuracy: 0.9484\n"
     ]
    }
   ],
   "source": [
    "history_3 = model_cnn_3.fit(X_train, y_train_enc,\n",
    "                            epochs=EPOCHS, validation_data=(X_valid, y_valid_enc),\n",
    "                            batch_size = BATCH_SIZE\n",
    "                           )"
   ]
  },
  {
   "cell_type": "code",
   "execution_count": 44,
   "id": "manual-proposition",
   "metadata": {
    "scrolled": false
   },
   "outputs": [
    {
     "data": {
      "image/png": "[encoded data removed]",
      "text/plain": [
       "<Figure size 1152x648 with 2 Axes>"
      ]
     },
     "metadata": {
      "needs_background": "light"
     },
     "output_type": "display_data"
    }
   ],
   "source": [
    "plot_history(history_3)"
   ]
  },
  {
   "cell_type": "markdown",
   "id": "07936290",
   "metadata": {},
   "source": [
    "Keras avec GPU AMD\n",
    "https://medium.com/@Vatsal410/keras-without-nvidia-gpus-with-plaidml-and-amd-gpu-4ba6f60025ce"
   ]
  },
  {
   "cell_type": "code",
   "execution_count": null,
   "id": "protecting-sentence",
   "metadata": {},
   "outputs": [],
   "source": []
  },
  {
   "cell_type": "code",
   "execution_count": null,
   "id": "sweet-despite",
   "metadata": {},
   "outputs": [],
   "source": []
  },
  {
   "cell_type": "code",
   "execution_count": null,
   "id": "sharp-suite",
   "metadata": {},
   "outputs": [],
   "source": []
  }
 ],
 "metadata": {
  "kernelspec": {
   "display_name": "keras",
   "language": "python",
   "name": "keras"
  },
  "language_info": {
   "codemirror_mode": {
    "name": "ipython",
    "version": 3
   },
   "file_extension": ".py",
   "mimetype": "text/x-python",
   "name": "python",
   "nbconvert_exporter": "python",
   "pygments_lexer": "ipython3",
   "version": "3.8.5"
  },
  "toc": {
   "base_numbering": 1,
   "nav_menu": {},
   "number_sections": true,
   "sideBar": true,
   "skip_h1_title": false,
   "title_cell": "Table of Contents",
   "title_sidebar": "Contents",
   "toc_cell": false,
   "toc_position": {
    "height": "calc(100% - 180px)",
    "left": "10px",
    "top": "150px",
    "width": "349.091px"
   },
   "toc_section_display": true,
   "toc_window_display": true
  }
 },
 "nbformat": 4,
 "nbformat_minor": 5
}
