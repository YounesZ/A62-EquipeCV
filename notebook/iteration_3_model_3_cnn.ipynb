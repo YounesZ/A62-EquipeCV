{
 "cells": [
  {
   "cell_type": "code",
   "execution_count": 1,
   "id": "f2dd6f60",
   "metadata": {},
   "outputs": [],
   "source": [
    "import import_ipynb"
   ]
  },
  {
   "cell_type": "code",
   "execution_count": 2,
   "id": "53fc0dfa",
   "metadata": {},
   "outputs": [],
   "source": [
    "%run iteration_0_imports.py"
   ]
  },
  {
   "cell_type": "code",
   "execution_count": 3,
   "id": "b99e215b",
   "metadata": {},
   "outputs": [],
   "source": [
    "%run iteration_0_parameters.py"
   ]
  },
  {
   "cell_type": "code",
   "execution_count": 4,
   "id": "5681e0c9",
   "metadata": {},
   "outputs": [
    {
     "name": "stdout",
     "output_type": "stream",
     "text": [
      "importing Jupyter notebook from iteration_0_utils.ipynb\n"
     ]
    }
   ],
   "source": [
    "import iteration_0_utils as utils"
   ]
  },
  {
   "cell_type": "code",
   "execution_count": 5,
   "id": "314b08c5",
   "metadata": {},
   "outputs": [
    {
     "name": "stdout",
     "output_type": "stream",
     "text": [
      "Variable                          Type        Data/Info\n",
      "-------------------------------------------------------\n",
      "HEALTHY                           str         H\n",
      "IMG_IN_COLOR                      int         1\n",
      "IMG_SIZE                          int         64\n",
      "Image                             module      <module 'PIL.Image' from <...>packages\\\\PIL\\\\Image.py'>\n",
      "NBR_SAMPLE                        int         20000\n",
      "PATH_DATA                         str         ../data\n",
      "PATH_DATA_EDA                     str         ../data/eda\n",
      "PATH_DATA_LIST                    str         ../data/list\n",
      "PATH_DATA_SAMPLE                  str         ../data/sample\n",
      "PATH_MODEL                        str         ../model\n",
      "PATH_ROOT                         str         ..\n",
      "PATH_SOURCE_IMG                   str         ../cell_images\n",
      "RandomForestClassifier            ABCMeta     <class 'sklearn.ensemble.<...>.RandomForestClassifier'>\n",
      "SICK                              str         S\n",
      "classification_report             function    <function classification_<...>rt at 0x000002108A1F2040>\n",
      "confusion_matrix                  function    <function confusion_matrix at 0x000002108A1ED0D0>\n",
      "cv2                               module      <module 'cv2' from 'C:\\\\U<...>kages\\\\cv2\\\\__init__.py'>\n",
      "datetime                          type        <class 'datetime.datetime'>\n",
      "f1_score                          function    <function f1_score at 0x000002108A1ED790>\n",
      "gc                                module      <module 'gc' (built-in)>\n",
      "glob                              module      <module 'glob' from 'C:\\\\<...>anaconda3\\\\lib\\\\glob.py'>\n",
      "gzip                              module      <module 'gzip' from 'C:\\\\<...>anaconda3\\\\lib\\\\gzip.py'>\n",
      "import_ipynb                      module      <module 'import_ipynb' fr<...>ckages\\\\import_ipynb.py'>\n",
      "learning_curve                    function    <function learning_curve at 0x000002108A3C1160>\n",
      "mlflow                            module      <module 'mlflow' from 'C:<...>es\\\\mlflow\\\\__init__.py'>\n",
      "np                                module      <module 'numpy' from 'C:\\<...>ges\\\\numpy\\\\__init__.py'>\n",
      "os                                module      <module 'os' from 'C:\\\\Us<...>\\\\anaconda3\\\\lib\\\\os.py'>\n",
      "pd                                module      <module 'pandas' from 'C:<...>es\\\\pandas\\\\__init__.py'>\n",
      "pickle                            module      <module 'pickle' from 'C:<...>aconda3\\\\lib\\\\pickle.py'>\n",
      "plt                               module      <module 'matplotlib.pyplo<...>\\\\matplotlib\\\\pyplot.py'>\n",
      "precision_recall_fscore_support   function    <function precision_recal<...>rt at 0x000002108A1EDB80>\n",
      "random                            module      <module 'random' from 'C:<...>aconda3\\\\lib\\\\random.py'>\n",
      "sns                               module      <module 'seaborn' from 'C<...>s\\\\seaborn\\\\__init__.py'>\n",
      "sp                                module      <module 'scipy.sparse' fr<...>py\\\\sparse\\\\__init__.py'>\n",
      "tqdm                              type        <class 'tqdm.std.tqdm'>\n",
      "train_test_split                  function    <function train_test_split at 0x000002108A3BB1F0>\n",
      "utils                             module      <module 'iteration_0_util<...> at 0x00000210875F0280>)>\n"
     ]
    }
   ],
   "source": [
    "%whos"
   ]
  },
  {
   "cell_type": "markdown",
   "id": "770de071",
   "metadata": {},
   "source": [
    "# make X, y"
   ]
  },
  {
   "cell_type": "code",
   "execution_count": 6,
   "id": "cf796b26",
   "metadata": {},
   "outputs": [],
   "source": [
    "DATE_TIME = \"2021-11-18_20-39-00\""
   ]
  },
  {
   "cell_type": "code",
   "execution_count": 7,
   "id": "08c385d3",
   "metadata": {},
   "outputs": [],
   "source": [
    "# get list \n",
    "list_path_sample_img = []\n",
    "list_path_sample_img.extend(glob.glob(PATH_DATA_SAMPLE+\"/\"+DATE_TIME+ \"/\"+ \"*.pklz\"))"
   ]
  },
  {
   "cell_type": "code",
   "execution_count": 8,
   "id": "eace4219",
   "metadata": {},
   "outputs": [],
   "source": [
    "# split train, validation, test set\n",
    "list_path_sample_img_train, list_path_sample_img_test  = train_test_split(list_path_sample_img, test_size=0.2)\n",
    "list_path_sample_img_train, list_path_sample_img_valid = train_test_split(list_path_sample_img_train, test_size=0.2)"
   ]
  },
  {
   "cell_type": "code",
   "execution_count": 9,
   "id": "8799c5e7",
   "metadata": {},
   "outputs": [],
   "source": [
    "def make_Xy(list_path_sample_img: list) -> (np.array, np.array):\n",
    "    X = np.ndarray( (len(list_path_sample_img), IMG_SIZE, IMG_SIZE, 3) ,dtype = \"float16\")\n",
    "    y = np.array([\"\"] * len(list_path_sample_img))\n",
    "    for i, path in tqdm(enumerate(list_path_sample_img)):\n",
    "        \n",
    "        X[i] = utils.pickle_read(path).astype(\"float16\")\n",
    "    \n",
    "        _, file_name, _ = utils.split_file_info(path)\n",
    "        y[i] = file_name[0]\n",
    "    \n",
    "    return X, y\n",
    "    "
   ]
  },
  {
   "cell_type": "code",
   "execution_count": 10,
   "id": "e50abf4d",
   "metadata": {},
   "outputs": [
    {
     "name": "stderr",
     "output_type": "stream",
     "text": [
      "12800it [00:12, 1036.73it/s]\n"
     ]
    }
   ],
   "source": [
    "X_train, y_train  = make_Xy(list_path_sample_img_train)"
   ]
  },
  {
   "cell_type": "code",
   "execution_count": 11,
   "id": "89fde0c8",
   "metadata": {},
   "outputs": [
    {
     "name": "stderr",
     "output_type": "stream",
     "text": [
      "3200it [00:02, 1240.31it/s]\n"
     ]
    }
   ],
   "source": [
    "X_valid, y_valid  = make_Xy(list_path_sample_img_valid)"
   ]
  },
  {
   "cell_type": "code",
   "execution_count": 12,
   "id": "099ddd37",
   "metadata": {},
   "outputs": [
    {
     "name": "stderr",
     "output_type": "stream",
     "text": [
      "4000it [00:03, 1235.21it/s]\n"
     ]
    }
   ],
   "source": [
    "X_test, y_test  = make_Xy(list_path_sample_img_test)"
   ]
  },
  {
   "cell_type": "markdown",
   "id": "aae5001f",
   "metadata": {},
   "source": [
    "# model_cnn"
   ]
  },
  {
   "cell_type": "markdown",
   "id": "interracial-chess",
   "metadata": {},
   "source": [
    "* Ref: https://towardsdatascience.com/detecting-malaria-with-deep-learning-9e45c1e34b60\n",
    "* https://towardsdatascience.com/understanding-and-calculating-the-number-of-parameters-in-convolution-neural-networks-cnns-fc88790d530d"
   ]
  },
  {
   "cell_type": "code",
   "execution_count": 13,
   "id": "editorial-stations",
   "metadata": {},
   "outputs": [],
   "source": [
    "BATCH_SIZE = 500\n",
    "NUM_CLASSES = 2\n",
    "EPOCHS = 15\n",
    "INPUT_SHAPE = (IMG_SIZE, IMG_SIZE, 3)"
   ]
  },
  {
   "cell_type": "code",
   "execution_count": 14,
   "id": "descending-combat",
   "metadata": {},
   "outputs": [],
   "source": [
    "# Encoder y\n",
    "from sklearn.preprocessing import LabelEncoder"
   ]
  },
  {
   "cell_type": "code",
   "execution_count": 15,
   "id": "saved-offer",
   "metadata": {},
   "outputs": [],
   "source": [
    "le = LabelEncoder()"
   ]
  },
  {
   "cell_type": "code",
   "execution_count": 16,
   "id": "determined-occurrence",
   "metadata": {},
   "outputs": [],
   "source": [
    "y_train_enc = le.fit_transform(y_train)"
   ]
  },
  {
   "cell_type": "code",
   "execution_count": 17,
   "id": "hollywood-reservation",
   "metadata": {},
   "outputs": [],
   "source": [
    "y_valid_enc = le.transform(y_valid)\n",
    "y_test_enc  = le.transform(y_test)"
   ]
  },
  {
   "cell_type": "code",
   "execution_count": 18,
   "id": "lasting-crawford",
   "metadata": {},
   "outputs": [
    {
     "data": {
      "text/plain": [
       "array(['H', 'S'], dtype='<U1')"
      ]
     },
     "execution_count": 18,
     "metadata": {},
     "output_type": "execute_result"
    }
   ],
   "source": [
    "le.classes_"
   ]
  },
  {
   "cell_type": "code",
   "execution_count": 19,
   "id": "b52ba093",
   "metadata": {},
   "outputs": [],
   "source": [
    "#!pip uninstall tensorflow"
   ]
  },
  {
   "cell_type": "markdown",
   "id": "5c30342c",
   "metadata": {},
   "source": [
    "Créer un fichier .reg avec les instructions suivantes :\n",
    "\n",
    "===\n",
    "\n",
    "Windows Registry Editor Version 5.00\n",
    "\n",
    "[HKEY_LOCAL_MACHINE\\SYSTEM\\CurrentControlSet\\Control\\FileSystem]\n",
    "\"LongPathsEnabled\"=dword:00000001\n",
    "\n",
    "---\n",
    "\n",
    "Exécuter le .reg"
   ]
  },
  {
   "cell_type": "code",
   "execution_count": 20,
   "id": "8b7e07c4",
   "metadata": {},
   "outputs": [],
   "source": [
    "#!pip install tensorflow"
   ]
  },
  {
   "cell_type": "code",
   "execution_count": 21,
   "id": "saving-circuit",
   "metadata": {},
   "outputs": [],
   "source": [
    "import tensorflow as tf"
   ]
  },
  {
   "cell_type": "code",
   "execution_count": 22,
   "id": "bound-centre",
   "metadata": {},
   "outputs": [],
   "source": [
    "from keras.models import Sequential"
   ]
  },
  {
   "cell_type": "code",
   "execution_count": 23,
   "id": "1121e381",
   "metadata": {},
   "outputs": [],
   "source": [
    "#assert False"
   ]
  },
  {
   "cell_type": "code",
   "execution_count": 24,
   "id": "standard-publicity",
   "metadata": {},
   "outputs": [],
   "source": [
    "model_cnn = Sequential()\n",
    "model_cnn.add(tf.keras.layers.Input(name = \"input\", shape=INPUT_SHAPE))\n",
    "model_cnn.add(tf.keras.layers.Conv2D(name = \"conv2D\",\n",
    "                                     filters=32,\n",
    "                                     kernel_size=(3,3),\n",
    "                                     activation=\"LeakyReLU\",\n",
    "                                     padding=\"same\",\n",
    "                                     kernel_initializer=\"he_uniform\"\n",
    "                                    ))\n",
    "model_cnn.add(tf.keras.layers.MaxPooling2D(name=\"pooling\", pool_size=(2,2)))\n",
    "model_cnn.add(tf.keras.layers.Flatten(name=\"flatten\"))\n",
    "model_cnn.add(tf.keras.layers.Dense(name=\"dense_hidden\", units = 256, activation=\"LeakyReLU\",\n",
    "                                    kernel_initializer=\"he_uniform\" ))\n",
    "model_cnn.add(tf.keras.layers.Dense(name=\"ouput\", units = 1, activation=\"sigmoid\"))\n"
   ]
  },
  {
   "cell_type": "code",
   "execution_count": 25,
   "id": "humanitarian-invite",
   "metadata": {},
   "outputs": [],
   "source": [
    "# compiler modele\n",
    "model_cnn.compile(optimizer = \"adam\", loss =\"binary_crossentropy\", metrics=[\"accuracy\"])"
   ]
  },
  {
   "cell_type": "code",
   "execution_count": 26,
   "id": "sized-manual",
   "metadata": {},
   "outputs": [
    {
     "name": "stdout",
     "output_type": "stream",
     "text": [
      "Model: \"sequential\"\n",
      "_________________________________________________________________\n",
      " Layer (type)                Output Shape              Param #   \n",
      "=================================================================\n",
      " conv2D (Conv2D)             (None, 64, 64, 32)        896       \n",
      "                                                                 \n",
      " pooling (MaxPooling2D)      (None, 32, 32, 32)        0         \n",
      "                                                                 \n",
      " flatten (Flatten)           (None, 32768)             0         \n",
      "                                                                 \n",
      " dense_hidden (Dense)        (None, 256)               8388864   \n",
      "                                                                 \n",
      " ouput (Dense)               (None, 1)                 257       \n",
      "                                                                 \n",
      "=================================================================\n",
      "Total params: 8,390,017\n",
      "Trainable params: 8,390,017\n",
      "Non-trainable params: 0\n",
      "_________________________________________________________________\n"
     ]
    }
   ],
   "source": [
    "model_cnn.summary()"
   ]
  },
  {
   "cell_type": "code",
   "execution_count": 27,
   "id": "undefined-trash",
   "metadata": {},
   "outputs": [],
   "source": [
    "from keras.callbacks import EarlyStopping"
   ]
  },
  {
   "cell_type": "code",
   "execution_count": 28,
   "id": "sonic-popularity",
   "metadata": {},
   "outputs": [],
   "source": [
    "# es = EarlyStopping(mode='min', monitor='val_loss')"
   ]
  },
  {
   "cell_type": "code",
   "execution_count": 29,
   "id": "atmospheric-connecticut",
   "metadata": {},
   "outputs": [
    {
     "name": "stdout",
     "output_type": "stream",
     "text": [
      "Epoch 1/15\n",
      "26/26 [==============================] - 20s 771ms/step - loss: 7.3847 - accuracy: 0.5305 - val_loss: 2.4257 - val_accuracy: 0.5475\n",
      "Epoch 2/15\n",
      "26/26 [==============================] - 20s 758ms/step - loss: 1.1580 - accuracy: 0.5869 - val_loss: 0.6678 - val_accuracy: 0.6478\n",
      "Epoch 3/15\n",
      "26/26 [==============================] - 20s 774ms/step - loss: 0.6038 - accuracy: 0.6944 - val_loss: 0.5863 - val_accuracy: 0.7134\n",
      "Epoch 4/15\n",
      "26/26 [==============================] - 20s 758ms/step - loss: 0.5532 - accuracy: 0.7286 - val_loss: 0.5720 - val_accuracy: 0.7156\n",
      "Epoch 5/15\n",
      "26/26 [==============================] - 20s 754ms/step - loss: 0.5387 - accuracy: 0.7404 - val_loss: 0.5673 - val_accuracy: 0.7191\n",
      "Epoch 6/15\n",
      "26/26 [==============================] - 19s 744ms/step - loss: 0.5364 - accuracy: 0.7370 - val_loss: 0.5656 - val_accuracy: 0.7256\n",
      "Epoch 7/15\n",
      "26/26 [==============================] - 19s 738ms/step - loss: 0.5461 - accuracy: 0.7239 - val_loss: 0.5645 - val_accuracy: 0.7244\n",
      "Epoch 8/15\n",
      "26/26 [==============================] - 19s 742ms/step - loss: 0.5283 - accuracy: 0.7441 - val_loss: 0.5885 - val_accuracy: 0.6975\n",
      "Epoch 9/15\n",
      "26/26 [==============================] - 19s 746ms/step - loss: 0.5086 - accuracy: 0.7638 - val_loss: 0.5714 - val_accuracy: 0.7128\n",
      "Epoch 10/15\n",
      "26/26 [==============================] - 20s 755ms/step - loss: 0.5091 - accuracy: 0.7532 - val_loss: 0.5612 - val_accuracy: 0.7272\n",
      "Epoch 11/15\n",
      "26/26 [==============================] - 20s 752ms/step - loss: 0.5006 - accuracy: 0.7588 - val_loss: 0.5593 - val_accuracy: 0.7359\n",
      "Epoch 12/15\n",
      "26/26 [==============================] - 20s 754ms/step - loss: 0.4704 - accuracy: 0.7932 - val_loss: 0.5935 - val_accuracy: 0.6978\n",
      "Epoch 13/15\n",
      "26/26 [==============================] - 19s 748ms/step - loss: 0.4762 - accuracy: 0.7826 - val_loss: 0.5588 - val_accuracy: 0.7347\n",
      "Epoch 14/15\n",
      "26/26 [==============================] - 20s 778ms/step - loss: 0.4632 - accuracy: 0.7938 - val_loss: 0.5643 - val_accuracy: 0.7222\n",
      "Epoch 15/15\n",
      "26/26 [==============================] - 20s 775ms/step - loss: 0.4674 - accuracy: 0.7812 - val_loss: 0.5845 - val_accuracy: 0.7119\n"
     ]
    }
   ],
   "source": [
    "history = model_cnn.fit(X_train, y_train_enc, epochs=EPOCHS, validation_data=(X_valid, y_valid_enc), batch_size = BATCH_SIZE,\n",
    "                        )"
   ]
  },
  {
   "cell_type": "code",
   "execution_count": 30,
   "id": "expressed-greenhouse",
   "metadata": {},
   "outputs": [
    {
     "data": {
      "text/plain": [
       "{'loss': [7.384681224822998,\n",
       "  1.1580359935760498,\n",
       "  0.6037726402282715,\n",
       "  0.5531564950942993,\n",
       "  0.5387405157089233,\n",
       "  0.5364094972610474,\n",
       "  0.5460623502731323,\n",
       "  0.5283384919166565,\n",
       "  0.5086095929145813,\n",
       "  0.5090916752815247,\n",
       "  0.5005897283554077,\n",
       "  0.4704243540763855,\n",
       "  0.4762183129787445,\n",
       "  0.4632304906845093,\n",
       "  0.46737149357795715],\n",
       " 'accuracy': [0.530468761920929,\n",
       "  0.5868750214576721,\n",
       "  0.6943749785423279,\n",
       "  0.7285937666893005,\n",
       "  0.7403905987739563,\n",
       "  0.7369531393051147,\n",
       "  0.7239062786102295,\n",
       "  0.7440624833106995,\n",
       "  0.7638280987739563,\n",
       "  0.7532031536102295,\n",
       "  0.7587500214576721,\n",
       "  0.7932031154632568,\n",
       "  0.7825781106948853,\n",
       "  0.7938281297683716,\n",
       "  0.78125],\n",
       " 'val_loss': [2.425722360610962,\n",
       "  0.6677753925323486,\n",
       "  0.5863196849822998,\n",
       "  0.5719549059867859,\n",
       "  0.5672568678855896,\n",
       "  0.5656003355979919,\n",
       "  0.5644923448562622,\n",
       "  0.588542640209198,\n",
       "  0.5713697671890259,\n",
       "  0.561215341091156,\n",
       "  0.5593048334121704,\n",
       "  0.5934865474700928,\n",
       "  0.5587794780731201,\n",
       "  0.5643130540847778,\n",
       "  0.584471583366394],\n",
       " 'val_accuracy': [0.5475000143051147,\n",
       "  0.6478124856948853,\n",
       "  0.7134374976158142,\n",
       "  0.715624988079071,\n",
       "  0.7190625071525574,\n",
       "  0.7256249785423279,\n",
       "  0.7243750095367432,\n",
       "  0.6974999904632568,\n",
       "  0.7128124833106995,\n",
       "  0.7271875143051147,\n",
       "  0.7359374761581421,\n",
       "  0.6978124976158142,\n",
       "  0.7346875071525574,\n",
       "  0.7221875190734863,\n",
       "  0.7118750214576721]}"
      ]
     },
     "execution_count": 30,
     "metadata": {},
     "output_type": "execute_result"
    }
   ],
   "source": [
    "history.history"
   ]
  },
  {
   "cell_type": "code",
   "execution_count": 31,
   "id": "occupational-frederick",
   "metadata": {},
   "outputs": [
    {
     "name": "stdout",
     "output_type": "stream",
     "text": [
      "['loss', 'accuracy']\n"
     ]
    }
   ],
   "source": [
    "print(model_cnn.metrics_names)"
   ]
  },
  {
   "cell_type": "code",
   "execution_count": 32,
   "id": "alien-clock",
   "metadata": {},
   "outputs": [],
   "source": [
    "def plot_history(history):\n",
    "    plt.figure(figsize=(16,9))\n",
    "    # plot loss\n",
    "    plt.subplot(211)\n",
    "    plt.grid()\n",
    "    plt.title('binary_crossentropy')\n",
    "    plt.plot(history.history['loss'], \"o-\", color='blue', label='train')\n",
    "    plt.plot(history.history['val_loss'], \"o-\", color='orange', label='validation')\n",
    "    plt.legend()    \n",
    "    # plot accuracy\n",
    "    plt.subplot(212)\n",
    "    plt.grid()\n",
    "    plt.title('Classification Accuracy')\n",
    "    plt.plot(history.history['accuracy'], \"o-\",color='blue', label='train')\n",
    "    plt.plot(history.history['val_accuracy'], \"o-\",color='orange', label='validation')\n",
    "    plt.legend()\n",
    "    plt.show()"
   ]
  },
  {
   "cell_type": "code",
   "execution_count": 33,
   "id": "particular-gilbert",
   "metadata": {},
   "outputs": [
    {
     "data": {
      "image/png": "[encoded data removed]",
      "text/plain": [
       "<Figure size 1152x648 with 2 Axes>"
      ]
     },
     "metadata": {
      "needs_background": "light"
     },
     "output_type": "display_data"
    }
   ],
   "source": [
    "plot_history(history)"
   ]
  },
  {
   "cell_type": "code",
   "execution_count": 34,
   "id": "found-lithuania",
   "metadata": {},
   "outputs": [],
   "source": [
    "model_cnn_2 = Sequential()\n",
    "model_cnn_2.add(tf.keras.layers.Input(name = \"input\", shape=INPUT_SHAPE))\n",
    "model_cnn_2.add(tf.keras.layers.Conv2D(name = \"conv2D\",\n",
    "                                     filters=32,\n",
    "                                     kernel_size=(3,3),\n",
    "                                     activation=\"LeakyReLU\",\n",
    "                                     padding=\"same\",\n",
    "                                     kernel_initializer=\"he_uniform\"\n",
    "                                    ))\n",
    "model_cnn_2.add(tf.keras.layers.MaxPooling2D(name=\"pooling\", pool_size=(2,2)))\n",
    "model_cnn_2.add(tf.keras.layers.Conv2D(name = \"conv2D_2\",\n",
    "                                     filters=64,\n",
    "                                     kernel_size=(3,3),\n",
    "                                     activation=\"LeakyReLU\",\n",
    "                                     padding=\"same\",\n",
    "                                     kernel_initializer=\"he_uniform\"\n",
    "                                    ))\n",
    "model_cnn_2.add(tf.keras.layers.MaxPooling2D(name=\"pooling_2\", pool_size=(2,2)))\n",
    "model_cnn_2.add(tf.keras.layers.Flatten(name=\"flatten\"))\n",
    "model_cnn_2.add(tf.keras.layers.Dense(name=\"dense_hidden\", units = 256, activation=\"LeakyReLU\",\n",
    "                                    kernel_initializer=\"he_uniform\" ))\n",
    "model_cnn_2.add(tf.keras.layers.Dense(name=\"dense_hidden_2\", units = 128, activation=\"LeakyReLU\",\n",
    "                                    kernel_initializer=\"he_uniform\" ))\n",
    "model_cnn_2.add(tf.keras.layers.Dense(name=\"ouput\", units = 1, activation=\"sigmoid\"))\n"
   ]
  },
  {
   "cell_type": "code",
   "execution_count": 35,
   "id": "thick-difficulty",
   "metadata": {},
   "outputs": [],
   "source": [
    "# compiler modele\n",
    "model_cnn_2.compile(optimizer = \"adam\", loss =\"binary_crossentropy\", metrics=[\"accuracy\"])"
   ]
  },
  {
   "cell_type": "code",
   "execution_count": 36,
   "id": "pleasant-paraguay",
   "metadata": {},
   "outputs": [
    {
     "name": "stdout",
     "output_type": "stream",
     "text": [
      "Model: \"sequential_1\"\n",
      "_________________________________________________________________\n",
      " Layer (type)                Output Shape              Param #   \n",
      "=================================================================\n",
      " conv2D (Conv2D)             (None, 64, 64, 32)        896       \n",
      "                                                                 \n",
      " pooling (MaxPooling2D)      (None, 32, 32, 32)        0         \n",
      "                                                                 \n",
      " conv2D_2 (Conv2D)           (None, 32, 32, 64)        18496     \n",
      "                                                                 \n",
      " pooling_2 (MaxPooling2D)    (None, 16, 16, 64)        0         \n",
      "                                                                 \n",
      " flatten (Flatten)           (None, 16384)             0         \n",
      "                                                                 \n",
      " dense_hidden (Dense)        (None, 256)               4194560   \n",
      "                                                                 \n",
      " dense_hidden_2 (Dense)      (None, 128)               32896     \n",
      "                                                                 \n",
      " ouput (Dense)               (None, 1)                 129       \n",
      "                                                                 \n",
      "=================================================================\n",
      "Total params: 4,246,977\n",
      "Trainable params: 4,246,977\n",
      "Non-trainable params: 0\n",
      "_________________________________________________________________\n"
     ]
    }
   ],
   "source": [
    "model_cnn_2.summary()"
   ]
  },
  {
   "cell_type": "code",
   "execution_count": 37,
   "id": "c890d4e1",
   "metadata": {},
   "outputs": [
    {
     "data": {
      "text/plain": [
       "(12800, 64, 64, 3)"
      ]
     },
     "execution_count": 37,
     "metadata": {},
     "output_type": "execute_result"
    }
   ],
   "source": [
    "X_train.shape"
   ]
  },
  {
   "cell_type": "code",
   "execution_count": 38,
   "id": "starting-mitchell",
   "metadata": {},
   "outputs": [
    {
     "name": "stdout",
     "output_type": "stream",
     "text": [
      "Epoch 1/15\n",
      "26/26 [==============================] - 37s 1s/step - loss: 2.3516 - accuracy: 0.5265 - val_loss: 0.7214 - val_accuracy: 0.5297\n",
      "Epoch 2/15\n",
      "26/26 [==============================] - 40s 2s/step - loss: 0.6458 - accuracy: 0.6181 - val_loss: 0.6392 - val_accuracy: 0.6322\n",
      "Epoch 3/15\n",
      "26/26 [==============================] - 44s 2s/step - loss: 0.6025 - accuracy: 0.6786 - val_loss: 0.5880 - val_accuracy: 0.6988\n",
      "Epoch 4/15\n",
      "26/26 [==============================] - 44s 2s/step - loss: 0.5755 - accuracy: 0.7061 - val_loss: 0.6122 - val_accuracy: 0.6806\n",
      "Epoch 5/15\n",
      "26/26 [==============================] - 43s 2s/step - loss: 0.5777 - accuracy: 0.6932 - val_loss: 0.5857 - val_accuracy: 0.7006\n",
      "Epoch 6/15\n",
      "26/26 [==============================] - 41s 2s/step - loss: 0.5365 - accuracy: 0.7335 - val_loss: 0.5502 - val_accuracy: 0.7278\n",
      "Epoch 7/15\n",
      "26/26 [==============================] - 39s 1s/step - loss: 0.5172 - accuracy: 0.7406 - val_loss: 0.5788 - val_accuracy: 0.7050\n",
      "Epoch 8/15\n",
      "26/26 [==============================] - 38s 1s/step - loss: 0.4870 - accuracy: 0.7648 - val_loss: 0.5359 - val_accuracy: 0.7366\n",
      "Epoch 9/15\n",
      "26/26 [==============================] - 41s 2s/step - loss: 0.4636 - accuracy: 0.7797 - val_loss: 0.5304 - val_accuracy: 0.7428\n",
      "Epoch 10/15\n",
      "26/26 [==============================] - 36s 1s/step - loss: 0.4255 - accuracy: 0.8053 - val_loss: 0.5280 - val_accuracy: 0.7519\n",
      "Epoch 11/15\n",
      "26/26 [==============================] - 36s 1s/step - loss: 0.4331 - accuracy: 0.8017 - val_loss: 0.4893 - val_accuracy: 0.7688\n",
      "Epoch 12/15\n",
      "26/26 [==============================] - 36s 1s/step - loss: 0.3860 - accuracy: 0.8298 - val_loss: 0.4703 - val_accuracy: 0.7800\n",
      "Epoch 13/15\n",
      "26/26 [==============================] - 36s 1s/step - loss: 0.3407 - accuracy: 0.8533 - val_loss: 0.5144 - val_accuracy: 0.7622\n",
      "Epoch 14/15\n",
      "26/26 [==============================] - 36s 1s/step - loss: 0.4044 - accuracy: 0.8102 - val_loss: 0.4907 - val_accuracy: 0.7609\n",
      "Epoch 15/15\n",
      "26/26 [==============================] - 36s 1s/step - loss: 0.2944 - accuracy: 0.8834 - val_loss: 0.5659 - val_accuracy: 0.7525\n"
     ]
    }
   ],
   "source": [
    "history_2 = model_cnn_2.fit(X_train, y_train_enc, epochs=EPOCHS, validation_data=(X_valid, y_valid_enc), batch_size = BATCH_SIZE,\n",
    "                        )"
   ]
  },
  {
   "cell_type": "code",
   "execution_count": 39,
   "id": "preliminary-header",
   "metadata": {},
   "outputs": [
    {
     "data": {
      "image/png": "[encoded data removed]",
      "text/plain": [
       "<Figure size 1152x648 with 2 Axes>"
      ]
     },
     "metadata": {
      "needs_background": "light"
     },
     "output_type": "display_data"
    }
   ],
   "source": [
    "plot_history(history_2)"
   ]
  },
  {
   "cell_type": "code",
   "execution_count": 40,
   "id": "2467c355",
   "metadata": {},
   "outputs": [
    {
     "name": "stderr",
     "output_type": "stream",
     "text": [
      "WARNING:absl:Found untraced functions such as leaky_re_lu_2_layer_call_fn, leaky_re_lu_2_layer_call_and_return_conditional_losses, leaky_re_lu_3_layer_call_fn, leaky_re_lu_3_layer_call_and_return_conditional_losses, leaky_re_lu_4_layer_call_fn while saving (showing 5 of 20). These functions will not be directly callable after loading.\n"
     ]
    },
    {
     "name": "stdout",
     "output_type": "stream",
     "text": [
      "INFO:tensorflow:Assets written to: ../model/model_cnn_2\\assets\n"
     ]
    },
    {
     "name": "stderr",
     "output_type": "stream",
     "text": [
      "INFO:tensorflow:Assets written to: ../model/model_cnn_2\\assets\n"
     ]
    }
   ],
   "source": [
    "model_cnn_2.save(PATH_MODEL + \"/model_cnn_2\")"
   ]
  },
  {
   "cell_type": "code",
   "execution_count": 41,
   "id": "22ec6c9e",
   "metadata": {},
   "outputs": [],
   "source": [
    "#assert False"
   ]
  },
  {
   "cell_type": "code",
   "execution_count": 42,
   "id": "grave-transparency",
   "metadata": {},
   "outputs": [],
   "source": [
    "# modele article"
   ]
  },
  {
   "cell_type": "code",
   "execution_count": 43,
   "id": "trained-discharge",
   "metadata": {},
   "outputs": [],
   "source": [
    "BATCH_SIZE = 64\n",
    "NUM_CLASSES = 2\n",
    "EPOCHS = 25\n",
    "INPUT_SHAPE = (IMG_SIZE, IMG_SIZE, 3)"
   ]
  },
  {
   "cell_type": "code",
   "execution_count": 44,
   "id": "comic-seafood",
   "metadata": {},
   "outputs": [],
   "source": [
    "\n",
    "model_cnn_3 = Sequential()\n",
    "model_cnn_3.add(tf.keras.layers.Input(name = \"input\", shape=INPUT_SHAPE))\n",
    "\n",
    "model_cnn_3.add(tf.keras.layers.Conv2D(name = \"conv2D\",\n",
    "                                       filters=32,\n",
    "                                       kernel_size=(3,3),\n",
    "                                       activation=\"relu\",\n",
    "                                       padding=\"same\",\n",
    "                                       ))\n",
    "model_cnn_3.add(tf.keras.layers.MaxPooling2D(name=\"pooling\",\n",
    "                                             pool_size=(2,2)\n",
    "                                            ))\n",
    "model_cnn_3.add(tf.keras.layers.Conv2D(name = \"conv2D_2\",\n",
    "                                       filters=64,\n",
    "                                       kernel_size=(3,3),\n",
    "                                       activation=\"relu\",\n",
    "                                       padding=\"same\",\n",
    "                                       ))\n",
    "model_cnn_3.add(tf.keras.layers.MaxPooling2D(name=\"pooling_2\",\n",
    "                                             pool_size=(2,2)\n",
    "                                            ))\n",
    "model_cnn_3.add(tf.keras.layers.Conv2D(name=\"conv2D_3\",\n",
    "                                       filters=128,\n",
    "                                       kernel_size=(3,3),\n",
    "                                       activation=\"relu\",\n",
    "                                       padding=\"same\",\n",
    "                                      ))\n",
    "model_cnn_3.add(tf.keras.layers.MaxPooling2D(name=\"pooling_3\",\n",
    "                                             pool_size=(2,2)\n",
    "                                            ))\n",
    "model_cnn_3.add(tf.keras.layers.Flatten(name=\"flatten\"))\n",
    "model_cnn_3.add(tf.keras.layers.Dense(name=\"dense_hidden\",\n",
    "                                      units = 512,\n",
    "                                      activation=\"relu\",\n",
    "                                     ))\n",
    "model_cnn_3.add(tf.keras.layers.Dropout(name=\"drop_1\",\n",
    "                                      rate=0.3,                                      \n",
    "                                     ))\n",
    "model_cnn_3.add(tf.keras.layers.Dense(name=\"dense_hidden_2\",\n",
    "                                      units = 512,\n",
    "                                      activation=\"relu\",\n",
    "                                     ))\n",
    "model_cnn_3.add(tf.keras.layers.Dropout(name=\"drop_2\",\n",
    "                                      rate=0.3,                                      \n",
    "                                     ))\n",
    "model_cnn_3.add(tf.keras.layers.Dense(name=\"ouput\", units = 1, activation=\"sigmoid\"))"
   ]
  },
  {
   "cell_type": "code",
   "execution_count": 45,
   "id": "appreciated-music",
   "metadata": {},
   "outputs": [],
   "source": [
    "# compiler modele\n",
    "model_cnn_3.compile(optimizer = \"adam\", loss =\"binary_crossentropy\", metrics=[\"accuracy\"])"
   ]
  },
  {
   "cell_type": "code",
   "execution_count": 46,
   "id": "preceding-action",
   "metadata": {},
   "outputs": [
    {
     "name": "stdout",
     "output_type": "stream",
     "text": [
      "Model: \"sequential_2\"\n",
      "_________________________________________________________________\n",
      " Layer (type)                Output Shape              Param #   \n",
      "=================================================================\n",
      " conv2D (Conv2D)             (None, 64, 64, 32)        896       \n",
      "                                                                 \n",
      " pooling (MaxPooling2D)      (None, 32, 32, 32)        0         \n",
      "                                                                 \n",
      " conv2D_2 (Conv2D)           (None, 32, 32, 64)        18496     \n",
      "                                                                 \n",
      " pooling_2 (MaxPooling2D)    (None, 16, 16, 64)        0         \n",
      "                                                                 \n",
      " conv2D_3 (Conv2D)           (None, 16, 16, 128)       73856     \n",
      "                                                                 \n",
      " pooling_3 (MaxPooling2D)    (None, 8, 8, 128)         0         \n",
      "                                                                 \n",
      " flatten (Flatten)           (None, 8192)              0         \n",
      "                                                                 \n",
      " dense_hidden (Dense)        (None, 512)               4194816   \n",
      "                                                                 \n",
      " drop_1 (Dropout)            (None, 512)               0         \n",
      "                                                                 \n",
      " dense_hidden_2 (Dense)      (None, 512)               262656    \n",
      "                                                                 \n",
      " drop_2 (Dropout)            (None, 512)               0         \n",
      "                                                                 \n",
      " ouput (Dense)               (None, 1)                 513       \n",
      "                                                                 \n",
      "=================================================================\n",
      "Total params: 4,551,233\n",
      "Trainable params: 4,551,233\n",
      "Non-trainable params: 0\n",
      "_________________________________________________________________\n"
     ]
    }
   ],
   "source": [
    "model_cnn_3.summary()"
   ]
  },
  {
   "cell_type": "code",
   "execution_count": 47,
   "id": "official-publication",
   "metadata": {
    "scrolled": false
   },
   "outputs": [
    {
     "name": "stdout",
     "output_type": "stream",
     "text": [
      "Epoch 1/25\n",
      "200/200 [==============================] - 51s 255ms/step - loss: 0.6751 - accuracy: 0.5649 - val_loss: 0.5649 - val_accuracy: 0.7072\n",
      "Epoch 2/25\n",
      "200/200 [==============================] - 51s 253ms/step - loss: 0.2248 - accuracy: 0.9173 - val_loss: 0.1706 - val_accuracy: 0.9478\n",
      "Epoch 3/25\n",
      "200/200 [==============================] - 50s 252ms/step - loss: 0.1423 - accuracy: 0.9555 - val_loss: 0.1454 - val_accuracy: 0.9525\n",
      "Epoch 4/25\n",
      "200/200 [==============================] - 53s 264ms/step - loss: 0.1263 - accuracy: 0.9609 - val_loss: 0.1456 - val_accuracy: 0.9500\n",
      "Epoch 5/25\n",
      "200/200 [==============================] - 51s 257ms/step - loss: 0.1115 - accuracy: 0.9645 - val_loss: 0.1353 - val_accuracy: 0.9525\n",
      "Epoch 6/25\n",
      "200/200 [==============================] - 50s 248ms/step - loss: 0.0968 - accuracy: 0.9681 - val_loss: 0.2088 - val_accuracy: 0.9397\n",
      "Epoch 7/25\n",
      "200/200 [==============================] - 50s 252ms/step - loss: 0.0836 - accuracy: 0.9719 - val_loss: 0.1657 - val_accuracy: 0.9447\n",
      "Epoch 8/25\n",
      "200/200 [==============================] - 50s 251ms/step - loss: 0.0677 - accuracy: 0.9747 - val_loss: 0.1766 - val_accuracy: 0.9522\n",
      "Epoch 9/25\n",
      "200/200 [==============================] - 51s 253ms/step - loss: 0.0494 - accuracy: 0.9821 - val_loss: 0.1834 - val_accuracy: 0.9456\n",
      "Epoch 10/25\n",
      "200/200 [==============================] - 50s 250ms/step - loss: 0.0351 - accuracy: 0.9883 - val_loss: 0.2295 - val_accuracy: 0.9494\n",
      "Epoch 11/25\n",
      "200/200 [==============================] - 50s 250ms/step - loss: 0.0339 - accuracy: 0.9877 - val_loss: 0.2346 - val_accuracy: 0.9506\n",
      "Epoch 12/25\n",
      "200/200 [==============================] - 50s 252ms/step - loss: 0.0270 - accuracy: 0.9905 - val_loss: 0.2703 - val_accuracy: 0.9509\n",
      "Epoch 13/25\n",
      "200/200 [==============================] - 50s 252ms/step - loss: 0.0138 - accuracy: 0.9959 - val_loss: 0.2667 - val_accuracy: 0.9525\n",
      "Epoch 14/25\n",
      "200/200 [==============================] - 50s 251ms/step - loss: 0.0075 - accuracy: 0.9973 - val_loss: 0.3889 - val_accuracy: 0.9519\n",
      "Epoch 15/25\n",
      "200/200 [==============================] - 49s 243ms/step - loss: 0.0182 - accuracy: 0.9927 - val_loss: 0.3606 - val_accuracy: 0.9488\n",
      "Epoch 16/25\n",
      "200/200 [==============================] - 51s 254ms/step - loss: 0.0168 - accuracy: 0.9942 - val_loss: 0.3163 - val_accuracy: 0.9497\n",
      "Epoch 17/25\n",
      "200/200 [==============================] - 50s 252ms/step - loss: 0.0194 - accuracy: 0.9939 - val_loss: 0.3594 - val_accuracy: 0.9525\n",
      "Epoch 18/25\n",
      "200/200 [==============================] - 49s 247ms/step - loss: 0.0140 - accuracy: 0.9950 - val_loss: 0.4399 - val_accuracy: 0.9534\n",
      "Epoch 19/25\n",
      "200/200 [==============================] - 49s 244ms/step - loss: 0.0159 - accuracy: 0.9958 - val_loss: 0.3662 - val_accuracy: 0.9519\n",
      "Epoch 20/25\n",
      "200/200 [==============================] - 50s 252ms/step - loss: 0.0094 - accuracy: 0.9972 - val_loss: 0.4881 - val_accuracy: 0.9466\n",
      "Epoch 21/25\n",
      "200/200 [==============================] - 52s 260ms/step - loss: 0.0140 - accuracy: 0.9955 - val_loss: 0.3819 - val_accuracy: 0.9531\n",
      "Epoch 22/25\n",
      "200/200 [==============================] - 50s 250ms/step - loss: 0.0085 - accuracy: 0.9977 - val_loss: 0.4453 - val_accuracy: 0.9525\n",
      "Epoch 23/25\n",
      "200/200 [==============================] - 49s 246ms/step - loss: 0.0149 - accuracy: 0.9959 - val_loss: 0.3352 - val_accuracy: 0.9544\n",
      "Epoch 24/25\n",
      "200/200 [==============================] - 50s 249ms/step - loss: 0.0053 - accuracy: 0.9982 - val_loss: 0.4167 - val_accuracy: 0.9534\n",
      "Epoch 25/25\n",
      "200/200 [==============================] - 49s 245ms/step - loss: 0.0053 - accuracy: 0.9984 - val_loss: 0.4493 - val_accuracy: 0.9478\n"
     ]
    }
   ],
   "source": [
    "history_3 = model_cnn_3.fit(X_train, y_train_enc,\n",
    "                            epochs=EPOCHS, validation_data=(X_valid, y_valid_enc),\n",
    "                            batch_size = BATCH_SIZE\n",
    "                           )"
   ]
  },
  {
   "cell_type": "code",
   "execution_count": 48,
   "id": "manual-proposition",
   "metadata": {
    "scrolled": false
   },
   "outputs": [
    {
     "data": {
      "image/png": "[encoded data removed]",
      "text/plain": [
       "<Figure size 1152x648 with 2 Axes>"
      ]
     },
     "metadata": {
      "needs_background": "light"
     },
     "output_type": "display_data"
    }
   ],
   "source": [
    "plot_history(history_3)"
   ]
  },
  {
   "cell_type": "markdown",
   "id": "07936290",
   "metadata": {},
   "source": [
    "Keras avec GPU AMD\n",
    "https://medium.com/@Vatsal410/keras-without-nvidia-gpus-with-plaidml-and-amd-gpu-4ba6f60025ce"
   ]
  },
  {
   "cell_type": "code",
   "execution_count": null,
   "id": "protecting-sentence",
   "metadata": {},
   "outputs": [],
   "source": []
  },
  {
   "cell_type": "code",
   "execution_count": null,
   "id": "sweet-despite",
   "metadata": {},
   "outputs": [],
   "source": []
  },
  {
   "cell_type": "code",
   "execution_count": null,
   "id": "sharp-suite",
   "metadata": {},
   "outputs": [],
   "source": []
  }
 ],
 "metadata": {
  "kernelspec": {
   "display_name": "Python 3",
   "language": "python",
   "name": "python3"
  },
  "language_info": {
   "codemirror_mode": {
    "name": "ipython",
    "version": 3
   },
   "file_extension": ".py",
   "mimetype": "text/x-python",
   "name": "python",
   "nbconvert_exporter": "python",
   "pygments_lexer": "ipython3",
   "version": "3.8.5"
  },
  "toc": {
   "base_numbering": 1,
   "nav_menu": {},
   "number_sections": true,
   "sideBar": true,
   "skip_h1_title": false,
   "title_cell": "Table of Contents",
   "title_sidebar": "Contents",
   "toc_cell": false,
   "toc_position": {
    "height": "calc(100% - 180px)",
    "left": "10px",
    "top": "150px",
    "width": "349.091px"
   },
   "toc_section_display": true,
   "toc_window_display": true
  }
 },
 "nbformat": 4,
 "nbformat_minor": 5
}
