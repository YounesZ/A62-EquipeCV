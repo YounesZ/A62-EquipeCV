{
 "cells": [
  {
   "cell_type": "code",
   "execution_count": 1,
   "id": "f2dd6f60",
   "metadata": {},
   "outputs": [],
   "source": [
    "import import_ipynb"
   ]
  },
  {
   "cell_type": "code",
   "execution_count": 2,
   "id": "53fc0dfa",
   "metadata": {},
   "outputs": [],
   "source": [
    "%run iteration_0_imports.py"
   ]
  },
  {
   "cell_type": "code",
   "execution_count": 3,
   "id": "b99e215b",
   "metadata": {},
   "outputs": [],
   "source": [
    "%run iteration_0_parameters.py"
   ]
  },
  {
   "cell_type": "code",
   "execution_count": 4,
   "id": "5681e0c9",
   "metadata": {},
   "outputs": [
    {
     "name": "stdout",
     "output_type": "stream",
     "text": [
      "importing Jupyter notebook from iteration_0_utils.ipynb\n"
     ]
    }
   ],
   "source": [
    "import iteration_0_utils as utils"
   ]
  },
  {
   "cell_type": "code",
   "execution_count": 5,
   "id": "314b08c5",
   "metadata": {},
   "outputs": [
    {
     "name": "stdout",
     "output_type": "stream",
     "text": [
      "Variable                          Type        Data/Info\n",
      "-------------------------------------------------------\n",
      "HEALTHY                           str         H\n",
      "IMG_IN_COLOR                      int         1\n",
      "IMG_SIZE                          int         64\n",
      "Image                             module      <module 'PIL.Image' from <...>packages\\\\PIL\\\\Image.py'>\n",
      "NBR_SAMPLE                        int         20000\n",
      "PATH_DATA                         str         ../data\n",
      "PATH_DATA_EDA                     str         ../data/eda\n",
      "PATH_DATA_LIST                    str         ../data/list\n",
      "PATH_DATA_SAMPLE                  str         ../data/sample\n",
      "PATH_MODEL                        str         ../model\n",
      "PATH_ROOT                         str         ..\n",
      "PATH_SOURCE_IMG                   str         ../cell_images\n",
      "RandomForestClassifier            ABCMeta     <class 'sklearn.ensemble.<...>.RandomForestClassifier'>\n",
      "SICK                              str         S\n",
      "classification_report             function    <function classification_<...>rt at 0x0000025F4F8A4040>\n",
      "confusion_matrix                  function    <function confusion_matrix at 0x0000025F4F89E0D0>\n",
      "cv2                               module      <module 'cv2' from 'C:\\\\U<...>kages\\\\cv2\\\\__init__.py'>\n",
      "datetime                          type        <class 'datetime.datetime'>\n",
      "f1_score                          function    <function f1_score at 0x0000025F4F89E790>\n",
      "gc                                module      <module 'gc' (built-in)>\n",
      "glob                              module      <module 'glob' from 'C:\\\\<...>anaconda3\\\\lib\\\\glob.py'>\n",
      "gzip                              module      <module 'gzip' from 'C:\\\\<...>anaconda3\\\\lib\\\\gzip.py'>\n",
      "import_ipynb                      module      <module 'import_ipynb' fr<...>ckages\\\\import_ipynb.py'>\n",
      "learning_curve                    function    <function learning_curve at 0x0000025F4FA73160>\n",
      "mlflow                            module      <module 'mlflow' from 'C:<...>es\\\\mlflow\\\\__init__.py'>\n",
      "np                                module      <module 'numpy' from 'C:\\<...>ges\\\\numpy\\\\__init__.py'>\n",
      "os                                module      <module 'os' from 'C:\\\\Us<...>\\\\anaconda3\\\\lib\\\\os.py'>\n",
      "pd                                module      <module 'pandas' from 'C:<...>es\\\\pandas\\\\__init__.py'>\n",
      "pickle                            module      <module 'pickle' from 'C:<...>aconda3\\\\lib\\\\pickle.py'>\n",
      "plt                               module      <module 'matplotlib.pyplo<...>\\\\matplotlib\\\\pyplot.py'>\n",
      "precision_recall_fscore_support   function    <function precision_recal<...>rt at 0x0000025F4F89EB80>\n",
      "random                            module      <module 'random' from 'C:<...>aconda3\\\\lib\\\\random.py'>\n",
      "sns                               module      <module 'seaborn' from 'C<...>s\\\\seaborn\\\\__init__.py'>\n",
      "sp                                module      <module 'scipy.sparse' fr<...>py\\\\sparse\\\\__init__.py'>\n",
      "tqdm                              type        <class 'tqdm.std.tqdm'>\n",
      "train_test_split                  function    <function train_test_split at 0x0000025F4FA6A1F0>\n",
      "utils                             module      <module 'iteration_0_util<...> at 0x0000025F4CCB05E0>)>\n"
     ]
    }
   ],
   "source": [
    "%whos"
   ]
  },
  {
   "cell_type": "markdown",
   "id": "770de071",
   "metadata": {},
   "source": [
    "# make X, y"
   ]
  },
  {
   "cell_type": "code",
   "execution_count": 6,
   "id": "cf796b26",
   "metadata": {},
   "outputs": [],
   "source": [
    "DATE_TIME = \"2021-11-18_20-39-00\""
   ]
  },
  {
   "cell_type": "code",
   "execution_count": 7,
   "id": "08c385d3",
   "metadata": {},
   "outputs": [],
   "source": [
    "# get list \n",
    "list_path_sample_img = []\n",
    "list_path_sample_img.extend(glob.glob(PATH_DATA_SAMPLE+\"/\"+DATE_TIME+ \"/\"+ \"*.pklz\"))"
   ]
  },
  {
   "cell_type": "code",
   "execution_count": 8,
   "id": "eace4219",
   "metadata": {},
   "outputs": [],
   "source": [
    "# split train, validation, test set\n",
    "list_path_sample_img_train, list_path_sample_img_test  = train_test_split(list_path_sample_img, test_size=0.2)\n",
    "list_path_sample_img_train, list_path_sample_img_valid = train_test_split(list_path_sample_img_train, test_size=0.2)"
   ]
  },
  {
   "cell_type": "code",
   "execution_count": 9,
   "id": "8799c5e7",
   "metadata": {},
   "outputs": [],
   "source": [
    "def make_Xy(list_path_sample_img: list) -> (np.array, np.array):\n",
    "    X = np.ndarray( (len(list_path_sample_img), IMG_SIZE, IMG_SIZE, 3) ,dtype = \"float16\")\n",
    "    y = np.array([\"\"] * len(list_path_sample_img))\n",
    "    for i, path in tqdm(enumerate(list_path_sample_img)):\n",
    "        \n",
    "        \n",
    "        X[i] = utils.pickle_read(path).astype(\"float16\")\n",
    "    \n",
    "        _, file_name, _ = utils.split_file_info(path)\n",
    "        y[i] = file_name[0]\n",
    "    \n",
    "    return X, y\n",
    "    "
   ]
  },
  {
   "cell_type": "code",
   "execution_count": 10,
   "id": "e50abf4d",
   "metadata": {},
   "outputs": [
    {
     "name": "stderr",
     "output_type": "stream",
     "text": [
      "12800it [03:29, 61.18it/s]\n"
     ]
    }
   ],
   "source": [
    "X_train, y_train  = make_Xy(list_path_sample_img_train)"
   ]
  },
  {
   "cell_type": "code",
   "execution_count": 11,
   "id": "89fde0c8",
   "metadata": {},
   "outputs": [
    {
     "name": "stderr",
     "output_type": "stream",
     "text": [
      "3200it [00:49, 64.50it/s]\n"
     ]
    }
   ],
   "source": [
    "X_valid, y_valid  = make_Xy(list_path_sample_img_valid)"
   ]
  },
  {
   "cell_type": "code",
   "execution_count": 12,
   "id": "099ddd37",
   "metadata": {},
   "outputs": [
    {
     "name": "stderr",
     "output_type": "stream",
     "text": [
      "4000it [01:04, 61.54it/s]\n"
     ]
    }
   ],
   "source": [
    "X_test, y_test  = make_Xy(list_path_sample_img_test)"
   ]
  },
  {
   "cell_type": "markdown",
   "id": "aae5001f",
   "metadata": {},
   "source": [
    "# model_cnn"
   ]
  },
  {
   "cell_type": "markdown",
   "id": "optional-mention",
   "metadata": {},
   "source": [
    "* Ref: https://towardsdatascience.com/detecting-malaria-with-deep-learning-9e45c1e34b60\n",
    "* https://towardsdatascience.com/understanding-and-calculating-the-number-of-parameters-in-convolution-neural-networks-cnns-fc88790d530d"
   ]
  },
  {
   "cell_type": "code",
   "execution_count": 138,
   "id": "affecting-myrtle",
   "metadata": {},
   "outputs": [],
   "source": [
    "BATCH_SIZE = 500\n",
    "NUM_CLASSES = 2\n",
    "EPOCHS = 15\n",
    "INPUT_SHAPE = (IMG_SIZE, IMG_SIZE, 3)"
   ]
  },
  {
   "cell_type": "code",
   "execution_count": 49,
   "id": "nominated-bubble",
   "metadata": {},
   "outputs": [],
   "source": [
    "# Encoder y\n",
    "from sklearn.preprocessing import LabelEncoder"
   ]
  },
  {
   "cell_type": "code",
   "execution_count": 139,
   "id": "secret-divide",
   "metadata": {},
   "outputs": [],
   "source": [
    "le = LabelEncoder()"
   ]
  },
  {
   "cell_type": "code",
   "execution_count": 140,
   "id": "congressional-accountability",
   "metadata": {},
   "outputs": [],
   "source": [
    "y_train_enc = le.fit_transform(y_train)"
   ]
  },
  {
   "cell_type": "code",
   "execution_count": 141,
   "id": "duplicate-storm",
   "metadata": {},
   "outputs": [],
   "source": [
    "y_valid_enc = le.transform(y_valid)\n",
    "y_test_enc  = le.transform(y_test)"
   ]
  },
  {
   "cell_type": "code",
   "execution_count": 142,
   "id": "accessible-daughter",
   "metadata": {},
   "outputs": [
    {
     "data": {
      "text/plain": [
       "array(['H', 'S'], dtype='<U1')"
      ]
     },
     "execution_count": 142,
     "metadata": {},
     "output_type": "execute_result"
    }
   ],
   "source": [
    "le.classes_"
   ]
  },
  {
   "cell_type": "code",
   "execution_count": 143,
   "id": "advance-fabric",
   "metadata": {},
   "outputs": [],
   "source": [
    "import tensorflow as tf"
   ]
  },
  {
   "cell_type": "code",
   "execution_count": 144,
   "id": "going-assignment",
   "metadata": {},
   "outputs": [],
   "source": [
    "from keras.models import Sequential"
   ]
  },
  {
   "cell_type": "code",
   "execution_count": 145,
   "id": "unexpected-syndicate",
   "metadata": {},
   "outputs": [],
   "source": [
    "model_cnn = Sequential()\n",
    "model_cnn.add(tf.keras.layers.Input(name = \"input\", shape=INPUT_SHAPE))\n",
    "model_cnn.add(tf.keras.layers.Conv2D(name = \"conv2D\",\n",
    "                                     filters=32,\n",
    "                                     kernel_size=(3,3),\n",
    "                                     activation=\"LeakyReLU\",\n",
    "                                     padding=\"same\",\n",
    "                                     kernel_initializer=\"he_uniform\"\n",
    "                                    ))\n",
    "model_cnn.add(tf.keras.layers.MaxPooling2D(name=\"pooling\", pool_size=(2,2)))\n",
    "model_cnn.add(tf.keras.layers.Flatten(name=\"flatten\"))\n",
    "model_cnn.add(tf.keras.layers.Dense(name=\"dense_hidden\", units = 256, activation=\"LeakyReLU\",\n",
    "                                    kernel_initializer=\"he_uniform\" ))\n",
    "model_cnn.add(tf.keras.layers.Dense(name=\"ouput\", units = 1, activation=\"sigmoid\"))\n"
   ]
  },
  {
   "cell_type": "code",
   "execution_count": 146,
   "id": "intensive-token",
   "metadata": {},
   "outputs": [],
   "source": [
    "# compiler modele\n",
    "model_cnn.compile(optimizer = \"adam\", loss =\"binary_crossentropy\", metrics=[\"accuracy\"])"
   ]
  },
  {
   "cell_type": "code",
   "execution_count": 147,
   "id": "oriental-recommendation",
   "metadata": {},
   "outputs": [
    {
     "name": "stdout",
     "output_type": "stream",
     "text": [
      "Model: \"sequential_19\"\n",
      "_________________________________________________________________\n",
      "Layer (type)                 Output Shape              Param #   \n",
      "=================================================================\n",
      "conv2D (Conv2D)              (None, 64, 64, 32)        896       \n",
      "_________________________________________________________________\n",
      "pooling (MaxPooling2D)       (None, 32, 32, 32)        0         \n",
      "_________________________________________________________________\n",
      "flatten (Flatten)            (None, 32768)             0         \n",
      "_________________________________________________________________\n",
      "dense_hidden (Dense)         (None, 256)               8388864   \n",
      "_________________________________________________________________\n",
      "ouput (Dense)                (None, 1)                 257       \n",
      "=================================================================\n",
      "Total params: 8,390,017\n",
      "Trainable params: 8,390,017\n",
      "Non-trainable params: 0\n",
      "_________________________________________________________________\n"
     ]
    }
   ],
   "source": [
    "model_cnn.summary()"
   ]
  },
  {
   "cell_type": "code",
   "execution_count": 148,
   "id": "vital-waste",
   "metadata": {},
   "outputs": [],
   "source": [
    "from keras.callbacks import EarlyStopping"
   ]
  },
  {
   "cell_type": "code",
   "execution_count": 149,
   "id": "annual-possible",
   "metadata": {},
   "outputs": [],
   "source": [
    "# es = EarlyStopping(mode='min', monitor='val_loss')"
   ]
  },
  {
   "cell_type": "code",
   "execution_count": 150,
   "id": "abstract-laptop",
   "metadata": {},
   "outputs": [
    {
     "name": "stdout",
     "output_type": "stream",
     "text": [
      "Epoch 1/15\n",
      "26/26 [==============================] - 66s 2s/step - loss: 6.2456 - accuracy: 0.5558 - val_loss: 2.5559 - val_accuracy: 0.5691\n",
      "Epoch 2/15\n",
      "26/26 [==============================] - 55s 2s/step - loss: 1.1429 - accuracy: 0.6381 - val_loss: 0.7312 - val_accuracy: 0.6469\n",
      "Epoch 3/15\n",
      "26/26 [==============================] - 55s 2s/step - loss: 0.6012 - accuracy: 0.6894 - val_loss: 0.5922 - val_accuracy: 0.6888\n",
      "Epoch 4/15\n",
      "26/26 [==============================] - 55s 2s/step - loss: 0.5634 - accuracy: 0.7130 - val_loss: 0.6763 - val_accuracy: 0.6356\n",
      "Epoch 5/15\n",
      "26/26 [==============================] - 54s 2s/step - loss: 0.6113 - accuracy: 0.6899 - val_loss: 0.6877 - val_accuracy: 0.6463\n",
      "Epoch 6/15\n",
      "26/26 [==============================] - 57s 2s/step - loss: 0.5839 - accuracy: 0.7026 - val_loss: 0.7075 - val_accuracy: 0.6288\n",
      "Epoch 7/15\n",
      "26/26 [==============================] - 58s 2s/step - loss: 0.6598 - accuracy: 0.6840 - val_loss: 0.7586 - val_accuracy: 0.6313\n",
      "Epoch 8/15\n",
      "26/26 [==============================] - 56s 2s/step - loss: 0.5706 - accuracy: 0.7167 - val_loss: 0.6148 - val_accuracy: 0.6828\n",
      "Epoch 9/15\n",
      "26/26 [==============================] - 56s 2s/step - loss: 0.5401 - accuracy: 0.7334 - val_loss: 0.5748 - val_accuracy: 0.7119\n",
      "Epoch 10/15\n",
      "26/26 [==============================] - 55s 2s/step - loss: 0.5094 - accuracy: 0.7573 - val_loss: 0.7745 - val_accuracy: 0.6125\n",
      "Epoch 11/15\n",
      "26/26 [==============================] - 56s 2s/step - loss: 0.6240 - accuracy: 0.6949 - val_loss: 0.6327 - val_accuracy: 0.6900\n",
      "Epoch 12/15\n",
      "26/26 [==============================] - 64s 2s/step - loss: 0.4772 - accuracy: 0.7785 - val_loss: 0.6788 - val_accuracy: 0.6541\n",
      "Epoch 13/15\n",
      "26/26 [==============================] - 56s 2s/step - loss: 0.5127 - accuracy: 0.7516 - val_loss: 0.5704 - val_accuracy: 0.7200\n",
      "Epoch 14/15\n",
      "26/26 [==============================] - 58s 2s/step - loss: 0.4505 - accuracy: 0.7966 - val_loss: 0.5631 - val_accuracy: 0.7166\n",
      "Epoch 15/15\n",
      "26/26 [==============================] - 56s 2s/step - loss: 0.4682 - accuracy: 0.7811 - val_loss: 0.5761 - val_accuracy: 0.7138\n"
     ]
    }
   ],
   "source": [
    "history = model_cnn.fit(X_train, y_train_enc, epochs=EPOCHS, validation_data=(X_valid, y_valid_enc), batch_size = BATCH_SIZE,\n",
    "                        )"
   ]
  },
  {
   "cell_type": "code",
   "execution_count": 158,
   "id": "considered-budapest",
   "metadata": {
    "collapsed": true
   },
   "outputs": [
    {
     "data": {
      "text/plain": [
       "{'loss': [6.245577335357666,\n",
       "  1.1429164409637451,\n",
       "  0.6012476086616516,\n",
       "  0.5633777976036072,\n",
       "  0.6113153100013733,\n",
       "  0.5838627815246582,\n",
       "  0.6597861647605896,\n",
       "  0.5706486701965332,\n",
       "  0.5401079058647156,\n",
       "  0.5093961954116821,\n",
       "  0.6239539980888367,\n",
       "  0.4772053062915802,\n",
       "  0.5127290487289429,\n",
       "  0.45049813389778137,\n",
       "  0.4681810736656189],\n",
       " 'accuracy': [0.5557812452316284,\n",
       "  0.6381250023841858,\n",
       "  0.6893749833106995,\n",
       "  0.7129687666893005,\n",
       "  0.6899218559265137,\n",
       "  0.7025781273841858,\n",
       "  0.6839843988418579,\n",
       "  0.7167187333106995,\n",
       "  0.7333593964576721,\n",
       "  0.7572656273841858,\n",
       "  0.6949218511581421,\n",
       "  0.778515636920929,\n",
       "  0.7515624761581421,\n",
       "  0.7966406345367432,\n",
       "  0.7810937762260437],\n",
       " 'val_loss': [2.5558669567108154,\n",
       "  0.7311764359474182,\n",
       "  0.5921860337257385,\n",
       "  0.6763321757316589,\n",
       "  0.6876797676086426,\n",
       "  0.7075080275535583,\n",
       "  0.7585574388504028,\n",
       "  0.6147882342338562,\n",
       "  0.5748110413551331,\n",
       "  0.7745088338851929,\n",
       "  0.6327125430107117,\n",
       "  0.6787801384925842,\n",
       "  0.570412814617157,\n",
       "  0.5630914568901062,\n",
       "  0.5761411786079407],\n",
       " 'val_accuracy': [0.5690624713897705,\n",
       "  0.6468750238418579,\n",
       "  0.6887500286102295,\n",
       "  0.6356250047683716,\n",
       "  0.6462500095367432,\n",
       "  0.6287500262260437,\n",
       "  0.6312500238418579,\n",
       "  0.682812511920929,\n",
       "  0.7118750214576721,\n",
       "  0.612500011920929,\n",
       "  0.6899999976158142,\n",
       "  0.6540625095367432,\n",
       "  0.7200000286102295,\n",
       "  0.7165625095367432,\n",
       "  0.7137500047683716]}"
      ]
     },
     "execution_count": 158,
     "metadata": {},
     "output_type": "execute_result"
    }
   ],
   "source": [
    "history.history"
   ]
  },
  {
   "cell_type": "code",
   "execution_count": 157,
   "id": "signal-cursor",
   "metadata": {},
   "outputs": [
    {
     "name": "stdout",
     "output_type": "stream",
     "text": [
      "['loss', 'accuracy']\n"
     ]
    }
   ],
   "source": [
    "print(model_cnn.metrics_names)"
   ]
  },
  {
   "cell_type": "code",
   "execution_count": 159,
   "id": "healthy-james",
   "metadata": {},
   "outputs": [
    {
     "data": {
      "image/png": "[encoded data removed]",
      "text/plain": [
       "<Figure size 1152x648 with 2 Axes>"
      ]
     },
     "metadata": {
      "needs_background": "light"
     },
     "output_type": "display_data"
    }
   ],
   "source": [
    "plt.figure(figsize=(16,9))\n",
    "# plot loss\n",
    "plt.subplot(211)\n",
    "plt.title('binary_crossentropy')\n",
    "plt.plot(history.history['loss'], color='blue', label='train')\n",
    "plt.plot(history.history['val_loss'], color='orange', label='test')\n",
    "    \n",
    "# plot accuracy\n",
    "plt.subplot(212)\n",
    "plt.title('Classification Accuracy')\n",
    "plt.plot(history.history['accuracy'], color='blue', label='train')\n",
    "plt.plot(history.history['val_accuracy'], color='orange', label='validation')\n",
    "plt.legend()\n",
    "plt.show()"
   ]
  },
  {
   "cell_type": "code",
   "execution_count": 170,
   "id": "proof-victoria",
   "metadata": {},
   "outputs": [],
   "source": [
    "model_cnn_2 = Sequential()\n",
    "model_cnn_2.add(tf.keras.layers.Input(name = \"input\", shape=INPUT_SHAPE))\n",
    "model_cnn_2.add(tf.keras.layers.Conv2D(name = \"conv2D\",\n",
    "                                     filters=32,\n",
    "                                     kernel_size=(3,3),\n",
    "                                     activation=\"LeakyReLU\",\n",
    "                                     padding=\"same\",\n",
    "                                     kernel_initializer=\"he_uniform\"\n",
    "                                    ))\n",
    "model_cnn_2.add(tf.keras.layers.MaxPooling2D(name=\"pooling\", pool_size=(2,2)))\n",
    "model_cnn_2.add(tf.keras.layers.Conv2D(name = \"conv2D_2\",\n",
    "                                     filters=64,\n",
    "                                     kernel_size=(3,3),\n",
    "                                     activation=\"LeakyReLU\",\n",
    "                                     padding=\"same\",\n",
    "                                     kernel_initializer=\"he_uniform\"\n",
    "                                    ))\n",
    "model_cnn_2.add(tf.keras.layers.MaxPooling2D(name=\"pooling_2\", pool_size=(2,2)))\n",
    "model_cnn_2.add(tf.keras.layers.Flatten(name=\"flatten\"))\n",
    "model_cnn_2.add(tf.keras.layers.Dense(name=\"dense_hidden\", units = 256, activation=\"LeakyReLU\",\n",
    "                                    kernel_initializer=\"he_uniform\" ))\n",
    "model_cnn_2.add(tf.keras.layers.Dense(name=\"dense_hidden_2\", units = 128, activation=\"LeakyReLU\",\n",
    "                                    kernel_initializer=\"he_uniform\" ))\n",
    "model_cnn_2.add(tf.keras.layers.Dense(name=\"ouput\", units = 1, activation=\"sigmoid\"))\n"
   ]
  },
  {
   "cell_type": "code",
   "execution_count": 171,
   "id": "fitted-safety",
   "metadata": {},
   "outputs": [],
   "source": [
    "# compiler modele\n",
    "model_cnn_2.compile(optimizer = \"adam\", loss =\"binary_crossentropy\", metrics=[\"accuracy\"])"
   ]
  },
  {
   "cell_type": "code",
   "execution_count": 172,
   "id": "involved-jewelry",
   "metadata": {},
   "outputs": [
    {
     "name": "stdout",
     "output_type": "stream",
     "text": [
      "Model: \"sequential_24\"\n",
      "_________________________________________________________________\n",
      "Layer (type)                 Output Shape              Param #   \n",
      "=================================================================\n",
      "conv2D (Conv2D)              (None, 64, 64, 32)        896       \n",
      "_________________________________________________________________\n",
      "pooling (MaxPooling2D)       (None, 32, 32, 32)        0         \n",
      "_________________________________________________________________\n",
      "conv2D_2 (Conv2D)            (None, 32, 32, 64)        18496     \n",
      "_________________________________________________________________\n",
      "pooling_2 (MaxPooling2D)     (None, 16, 16, 64)        0         \n",
      "_________________________________________________________________\n",
      "flatten (Flatten)            (None, 16384)             0         \n",
      "_________________________________________________________________\n",
      "dense_hidden (Dense)         (None, 256)               4194560   \n",
      "_________________________________________________________________\n",
      "dense_hidden_2 (Dense)       (None, 128)               32896     \n",
      "_________________________________________________________________\n",
      "ouput (Dense)                (None, 1)                 129       \n",
      "=================================================================\n",
      "Total params: 4,246,977\n",
      "Trainable params: 4,246,977\n",
      "Non-trainable params: 0\n",
      "_________________________________________________________________\n"
     ]
    }
   ],
   "source": [
    "model_cnn_2.summary()"
   ]
  },
  {
   "cell_type": "code",
   "execution_count": null,
   "id": "charming-viewer",
   "metadata": {},
   "outputs": [],
   "source": [
    "history_2 = model_cnn_2.fit(X_train, y_train_enc, epochs=EPOCHS, validation_data=(X_valid, y_valid_enc), batch_size = BATCH_SIZE,\n",
    "                        )"
   ]
  },
  {
   "cell_type": "code",
   "execution_count": null,
   "id": "western-reggae",
   "metadata": {},
   "outputs": [],
   "source": [
    "plt.figure(figsize=(16,9))\n",
    "# plot loss\n",
    "plt.subplot(211)\n",
    "plt.title('binary_crossentropy')\n",
    "plt.plot(history_2.history['loss'], color='blue', label='train')\n",
    "plt.plot(history_2.history['val_loss'], color='orange', label='test')\n",
    "    \n",
    "# plot accuracy\n",
    "plt.subplot(212)\n",
    "plt.title('Classification Accuracy')\n",
    "plt.plot(history_2.history['accuracy'], color='blue', label='train')\n",
    "plt.plot(history_2.history['val_accuracy'], color='orange', label='validation')\n",
    "plt.legend()\n",
    "plt.show()"
   ]
  },
  {
   "cell_type": "code",
   "execution_count": null,
   "id": "executed-drawing",
   "metadata": {},
   "outputs": [],
   "source": []
  },
  {
   "cell_type": "code",
   "execution_count": null,
   "id": "neural-builder",
   "metadata": {},
   "outputs": [],
   "source": []
  }
 ],
 "metadata": {
  "kernelspec": {
   "display_name": "Python 3",
   "language": "python",
   "name": "python3"
  },
  "language_info": {
   "codemirror_mode": {
    "name": "ipython",
    "version": 3
   },
   "file_extension": ".py",
   "mimetype": "text/x-python",
   "name": "python",
   "nbconvert_exporter": "python",
   "pygments_lexer": "ipython3",
   "version": "3.8.5"
  },
  "toc": {
   "base_numbering": 1,
   "nav_menu": {},
   "number_sections": true,
   "sideBar": true,
   "skip_h1_title": false,
   "title_cell": "Table of Contents",
   "title_sidebar": "Contents",
   "toc_cell": false,
   "toc_position": {},
   "toc_section_display": true,
   "toc_window_display": false
  }
 },
 "nbformat": 4,
 "nbformat_minor": 5
}
