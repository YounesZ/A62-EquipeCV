{
 "cells": [
  {
   "cell_type": "code",
   "execution_count": 17,
   "metadata": {},
   "outputs": [],
   "source": [
    "%run iteration_01_0_imports.ipynb"
   ]
  },
  {
   "cell_type": "code",
   "execution_count": 18,
   "metadata": {},
   "outputs": [],
   "source": [
    "%run iteration_01_0_parameters.ipynb"
   ]
  },
  {
   "cell_type": "code",
   "execution_count": 19,
   "metadata": {},
   "outputs": [],
   "source": [
    "%run iteration_01_0_utils.ipynb"
   ]
  },
  {
   "cell_type": "markdown",
   "metadata": {},
   "source": [
    "# Acquisition des données"
   ]
  },
  {
   "cell_type": "code",
   "execution_count": 20,
   "metadata": {},
   "outputs": [],
   "source": [
    "path_img = PATH_SOURCE_IMG"
   ]
  },
  {
   "cell_type": "code",
   "execution_count": 21,
   "metadata": {},
   "outputs": [
    {
     "data": {
      "text/plain": [
       "'../cell_images/Parasitized/*.png'"
      ]
     },
     "execution_count": 21,
     "metadata": {},
     "output_type": "execute_result"
    }
   ],
   "source": [
    "path_img+\"/Parasitized/*.png\""
   ]
  },
  {
   "cell_type": "code",
   "execution_count": 22,
   "metadata": {},
   "outputs": [],
   "source": [
    "# get list sick_images\n",
    "list_path_sick_img = []\n",
    "list_path_sick_img.extend(glob.glob(path_img+\"/Parasitized/*.png\"))\n",
    "\n",
    "# get list healthy_images\n",
    "list_path_healthy_img = []\n",
    "list_path_healthy_img.extend(glob.glob(path_img+\"/Uninfected/*.png\"))\n"
   ]
  },
  {
   "cell_type": "code",
   "execution_count": 23,
   "metadata": {},
   "outputs": [
    {
     "data": {
      "text/plain": [
       "27558"
      ]
     },
     "execution_count": 23,
     "metadata": {},
     "output_type": "execute_result"
    }
   ],
   "source": [
    "list_path_img = list_path_sick_img + list_path_healthy_img\n",
    "len(list_path_img)"
   ]
  },
  {
   "cell_type": "code",
   "execution_count": 24,
   "metadata": {},
   "outputs": [],
   "source": [
    "df_list_path_img = pd.DataFrame({\"path_img\": list_path_img})\n",
    "df_list_path_sick_img = pd.DataFrame({\"path_img\": list_path_sick_img})\n",
    "df_list_path_healthy_img = pd.DataFrame({\"path_img\": list_path_healthy_img})"
   ]
  },
  {
   "cell_type": "code",
   "execution_count": 27,
   "metadata": {},
   "outputs": [
    {
     "data": {
      "text/plain": [
       "'../data/list'"
      ]
     },
     "execution_count": 27,
     "metadata": {},
     "output_type": "execute_result"
    }
   ],
   "source": [
    "PATH_DATA_LIST\n",
    "create_dir_hierarchy(PATH_DATA_LIST)"
   ]
  },
  {
   "cell_type": "code",
   "execution_count": 28,
   "metadata": {},
   "outputs": [],
   "source": [
    "df_list_path_img.to_csv(PATH_DATA_LIST + \"/\" + \"df_list_path_img.csv\", index=False)\n",
    "df_list_path_sick_img.to_csv(PATH_DATA_LIST + \"/\" + \"df_list_path_sick_img.csv\", index=False)\n",
    "df_list_path_healthy_img.to_csv(PATH_DATA_LIST + \"/\" + \"df_list_path_healthy_img.csv\", index=False)"
   ]
  },
  {
   "cell_type": "markdown",
   "metadata": {},
   "source": [
    "# EDA"
   ]
  },
  {
   "cell_type": "markdown",
   "metadata": {},
   "source": [
    "## Dimensions des photos"
   ]
  },
  {
   "cell_type": "code",
   "execution_count": 29,
   "metadata": {
    "scrolled": true
   },
   "outputs": [
    {
     "name": "stderr",
     "output_type": "stream",
     "text": [
      "100%|██████████████████████████████████████████████████████████████████████████▉| 27557/27558 [03:06<00:00, 147.49it/s]\n"
     ]
    }
   ],
   "source": [
    "df_eda = pd.DataFrame(columns = [\"name\", \"label\", \"width\", \"height\"])\n",
    "\n",
    "for path_img, _ in zip(list_path_img, tqdm(range(len(list_path_img)))):\n",
    "    img     = Image.open(path_img)\n",
    "    file_path, file_name, _ = split_file_info(path_img)\n",
    "    \n",
    "    df_img_info = pd.DataFrame({\"name\":file_name,\n",
    "                                \"label\":file_path.split(\"/\")[-1],\n",
    "                                \"width\": img.size[0],\n",
    "                                \"height\":img.size[1],\n",
    "                                }, index=[0])\n",
    "    \n",
    "    df_eda = pd.concat([df_eda, df_img_info])"
   ]
  },
  {
   "cell_type": "code",
   "execution_count": 30,
   "metadata": {},
   "outputs": [],
   "source": [
    "df_eda[[\"width\", \"height\"]] = df_eda[[\"width\", \"height\"]].astype(\"int\")"
   ]
  },
  {
   "cell_type": "code",
   "execution_count": 31,
   "metadata": {},
   "outputs": [
    {
     "data": {
      "text/html": [
       "<div>\n",
       "<style scoped>\n",
       "    .dataframe tbody tr th:only-of-type {\n",
       "        vertical-align: middle;\n",
       "    }\n",
       "\n",
       "    .dataframe tbody tr th {\n",
       "        vertical-align: top;\n",
       "    }\n",
       "\n",
       "    .dataframe thead th {\n",
       "        text-align: right;\n",
       "    }\n",
       "</style>\n",
       "<table border=\"1\" class=\"dataframe\">\n",
       "  <thead>\n",
       "    <tr style=\"text-align: right;\">\n",
       "      <th></th>\n",
       "      <th>name</th>\n",
       "      <th>label</th>\n",
       "      <th>width</th>\n",
       "      <th>height</th>\n",
       "    </tr>\n",
       "  </thead>\n",
       "  <tbody>\n",
       "    <tr>\n",
       "      <th>0</th>\n",
       "      <td>C179P140ThinF_IMG_20151127_153350_cell_170</td>\n",
       "      <td>Parasitized</td>\n",
       "      <td>130</td>\n",
       "      <td>142</td>\n",
       "    </tr>\n",
       "    <tr>\n",
       "      <th>0</th>\n",
       "      <td>C116P77ThinF_IMG_20150930_171635_cell_62</td>\n",
       "      <td>Uninfected</td>\n",
       "      <td>112</td>\n",
       "      <td>139</td>\n",
       "    </tr>\n",
       "    <tr>\n",
       "      <th>0</th>\n",
       "      <td>C116P77ThinF_IMG_20150930_171739_cell_98</td>\n",
       "      <td>Parasitized</td>\n",
       "      <td>100</td>\n",
       "      <td>109</td>\n",
       "    </tr>\n",
       "    <tr>\n",
       "      <th>0</th>\n",
       "      <td>C48P9thinF_IMG_20150721_161055_cell_119</td>\n",
       "      <td>Uninfected</td>\n",
       "      <td>151</td>\n",
       "      <td>148</td>\n",
       "    </tr>\n",
       "    <tr>\n",
       "      <th>0</th>\n",
       "      <td>C118P79ThinF_IMG_20151002_105125_cell_154</td>\n",
       "      <td>Parasitized</td>\n",
       "      <td>142</td>\n",
       "      <td>136</td>\n",
       "    </tr>\n",
       "  </tbody>\n",
       "</table>\n",
       "</div>"
      ],
      "text/plain": [
       "                                         name        label  width  height\n",
       "0  C179P140ThinF_IMG_20151127_153350_cell_170  Parasitized    130     142\n",
       "0    C116P77ThinF_IMG_20150930_171635_cell_62   Uninfected    112     139\n",
       "0    C116P77ThinF_IMG_20150930_171739_cell_98  Parasitized    100     109\n",
       "0     C48P9thinF_IMG_20150721_161055_cell_119   Uninfected    151     148\n",
       "0   C118P79ThinF_IMG_20151002_105125_cell_154  Parasitized    142     136"
      ]
     },
     "execution_count": 31,
     "metadata": {},
     "output_type": "execute_result"
    }
   ],
   "source": [
    "df_eda.sample(5)"
   ]
  },
  {
   "cell_type": "code",
   "execution_count": 32,
   "metadata": {},
   "outputs": [
    {
     "data": {
      "text/html": [
       "<div>\n",
       "<style scoped>\n",
       "    .dataframe tbody tr th:only-of-type {\n",
       "        vertical-align: middle;\n",
       "    }\n",
       "\n",
       "    .dataframe tbody tr th {\n",
       "        vertical-align: top;\n",
       "    }\n",
       "\n",
       "    .dataframe thead th {\n",
       "        text-align: right;\n",
       "    }\n",
       "</style>\n",
       "<table border=\"1\" class=\"dataframe\">\n",
       "  <thead>\n",
       "    <tr style=\"text-align: right;\">\n",
       "      <th></th>\n",
       "      <th>width</th>\n",
       "      <th>height</th>\n",
       "    </tr>\n",
       "  </thead>\n",
       "  <tbody>\n",
       "    <tr>\n",
       "      <th>count</th>\n",
       "      <td>27558.000000</td>\n",
       "      <td>27558.000000</td>\n",
       "    </tr>\n",
       "    <tr>\n",
       "      <th>mean</th>\n",
       "      <td>132.487154</td>\n",
       "      <td>132.983453</td>\n",
       "    </tr>\n",
       "    <tr>\n",
       "      <th>std</th>\n",
       "      <td>20.015949</td>\n",
       "      <td>20.619650</td>\n",
       "    </tr>\n",
       "    <tr>\n",
       "      <th>min</th>\n",
       "      <td>46.000000</td>\n",
       "      <td>40.000000</td>\n",
       "    </tr>\n",
       "    <tr>\n",
       "      <th>25%</th>\n",
       "      <td>121.000000</td>\n",
       "      <td>121.000000</td>\n",
       "    </tr>\n",
       "    <tr>\n",
       "      <th>50%</th>\n",
       "      <td>130.000000</td>\n",
       "      <td>130.000000</td>\n",
       "    </tr>\n",
       "    <tr>\n",
       "      <th>75%</th>\n",
       "      <td>142.000000</td>\n",
       "      <td>145.000000</td>\n",
       "    </tr>\n",
       "    <tr>\n",
       "      <th>max</th>\n",
       "      <td>394.000000</td>\n",
       "      <td>385.000000</td>\n",
       "    </tr>\n",
       "  </tbody>\n",
       "</table>\n",
       "</div>"
      ],
      "text/plain": [
       "              width        height\n",
       "count  27558.000000  27558.000000\n",
       "mean     132.487154    132.983453\n",
       "std       20.015949     20.619650\n",
       "min       46.000000     40.000000\n",
       "25%      121.000000    121.000000\n",
       "50%      130.000000    130.000000\n",
       "75%      142.000000    145.000000\n",
       "max      394.000000    385.000000"
      ]
     },
     "execution_count": 32,
     "metadata": {},
     "output_type": "execute_result"
    }
   ],
   "source": [
    "df_eda.describe()"
   ]
  },
  {
   "cell_type": "markdown",
   "metadata": {},
   "source": [
    "* Note: Resize 400 * 400"
   ]
  },
  {
   "cell_type": "code",
   "execution_count": 35,
   "metadata": {},
   "outputs": [],
   "source": [
    "PATH_DATA_EDA\n",
    "create_dir_hierarchy(PATH_DATA_EDA)"
   ]
  },
  {
   "cell_type": "code",
   "execution_count": 33,
   "metadata": {},
   "outputs": [],
   "source": [
    "df_eda.to_csv(PATH_DATA_EDA + \"/\" + \"df_eda.csv\", index=False)"
   ]
  }
 ],
 "metadata": {
  "kernelspec": {
   "display_name": "Python 3",
   "language": "python",
   "name": "python3"
  },
  "language_info": {
   "codemirror_mode": {
    "name": "ipython",
    "version": 3
   },
   "file_extension": ".py",
   "mimetype": "text/x-python",
   "name": "python",
   "nbconvert_exporter": "python",
   "pygments_lexer": "ipython3",
   "version": "3.8.2"
  },
  "toc": {
   "base_numbering": 1,
   "nav_menu": {},
   "number_sections": true,
   "sideBar": true,
   "skip_h1_title": false,
   "title_cell": "Table of Contents",
   "title_sidebar": "Contents",
   "toc_cell": false,
   "toc_position": {},
   "toc_section_display": true,
   "toc_window_display": false
  }
 },
 "nbformat": 4,
 "nbformat_minor": 5
}
