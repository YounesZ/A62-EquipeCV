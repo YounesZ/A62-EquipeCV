{
 "cells": [
  {
   "cell_type": "code",
   "execution_count": 1,
   "metadata": {
    "colab": {
     "base_uri": "https://localhost:8080/"
    },
    "executionInfo": {
     "elapsed": 1197,
     "status": "ok",
     "timestamp": 1637934900450,
     "user": {
      "displayName": "Rene MAROT",
      "photoUrl": "https://lh3.googleusercontent.com/a/default-user=s64",
      "userId": "11976636736374307912"
     },
     "user_tz": 300
    },
    "id": "0J9idH6-ZsVq",
    "outputId": "bd7f77ce-2ac0-4b24-8513-3c5812a91dac"
   },
   "outputs": [],
   "source": [
    "# from google.colab import drive\n",
    "# drive.mount('/content/drive',force_remount=True)"
   ]
  },
  {
   "cell_type": "code",
   "execution_count": 2,
   "metadata": {
    "colab": {
     "base_uri": "https://localhost:8080/"
    },
    "executionInfo": {
     "elapsed": 3379,
     "status": "ok",
     "timestamp": 1637934903827,
     "user": {
      "displayName": "Rene MAROT",
      "photoUrl": "https://lh3.googleusercontent.com/a/default-user=s64",
      "userId": "11976636736374307912"
     },
     "user_tz": 300
    },
    "id": "SBbNgV9TZuDl",
    "outputId": "9310da87-dbec-4bc7-e7d2-198e8bbd007d"
   },
   "outputs": [
    {
     "name": "stdout",
     "output_type": "stream",
     "text": [
      "Collecting import-ipynb"
     ]
    },
    {
     "name": "stderr",
     "output_type": "stream",
     "text": [
      "WARNING: You are using pip version 19.2.3, however version 21.3.1 is available.\n",
      "You should consider upgrading via the 'python -m pip install --upgrade pip' command.\n"
     ]
    },
    {
     "name": "stdout",
     "output_type": "stream",
     "text": [
      "\n",
      "  Downloading https://files.pythonhosted.org/packages/63/35/495e0021bfdcc924c7cdec4e9fbb87c88dd03b9b9b22419444dc370c8a45/import-ipynb-0.1.3.tar.gz\n",
      "Installing collected packages: import-ipynb\n",
      "  Running setup.py install for import-ipynb: started\n",
      "    Running setup.py install for import-ipynb: finished with status 'done'\n",
      "Successfully installed import-ipynb-0.1.3\n"
     ]
    }
   ],
   "source": [
    "!pip install import-ipynb"
   ]
  },
  {
   "cell_type": "code",
   "execution_count": 3,
   "metadata": {
    "executionInfo": {
     "elapsed": 5,
     "status": "ok",
     "timestamp": 1637934903827,
     "user": {
      "displayName": "Rene MAROT",
      "photoUrl": "https://lh3.googleusercontent.com/a/default-user=s64",
      "userId": "11976636736374307912"
     },
     "user_tz": 300
    },
    "id": "GTD6Q3IdZ7QR"
   },
   "outputs": [],
   "source": [
    "import import_ipynb"
   ]
  },
  {
   "cell_type": "code",
   "execution_count": 4,
   "metadata": {
    "colab": {
     "base_uri": "https://localhost:8080/"
    },
    "executionInfo": {
     "elapsed": 325,
     "status": "ok",
     "timestamp": 1637934904148,
     "user": {
      "displayName": "Rene MAROT",
      "photoUrl": "https://lh3.googleusercontent.com/a/default-user=s64",
      "userId": "11976636736374307912"
     },
     "user_tz": 300
    },
    "id": "izhKpfKFZ-5R",
    "outputId": "7b5f0d8e-35da-4a7f-f65e-b5032e6d2fcd"
   },
   "outputs": [],
   "source": [
    "# %cd /content/drive/MyDrive/A62_projet_synthese_feature/feature-colab-from-git/notebook"
   ]
  },
  {
   "cell_type": "code",
   "execution_count": 5,
   "metadata": {
    "executionInfo": {
     "elapsed": 148,
     "status": "ok",
     "timestamp": 1637934904293,
     "user": {
      "displayName": "Rene MAROT",
      "photoUrl": "https://lh3.googleusercontent.com/a/default-user=s64",
      "userId": "11976636736374307912"
     },
     "user_tz": 300
    },
    "id": "ihTeitUwZXTu"
   },
   "outputs": [],
   "source": [
    "%run iteration_0_imports.py"
   ]
  },
  {
   "cell_type": "code",
   "execution_count": 6,
   "metadata": {
    "executionInfo": {
     "elapsed": 8,
     "status": "ok",
     "timestamp": 1637934904294,
     "user": {
      "displayName": "Rene MAROT",
      "photoUrl": "https://lh3.googleusercontent.com/a/default-user=s64",
      "userId": "11976636736374307912"
     },
     "user_tz": 300
    },
    "id": "rL-lSD20ZXTx"
   },
   "outputs": [],
   "source": [
    "%run iteration_0_parameters.py"
   ]
  },
  {
   "cell_type": "code",
   "execution_count": 7,
   "metadata": {
    "colab": {
     "base_uri": "https://localhost:8080/"
    },
    "executionInfo": {
     "elapsed": 8,
     "status": "ok",
     "timestamp": 1637934904294,
     "user": {
      "displayName": "Rene MAROT",
      "photoUrl": "https://lh3.googleusercontent.com/a/default-user=s64",
      "userId": "11976636736374307912"
     },
     "user_tz": 300
    },
    "id": "v5zaKjfrZXTy",
    "outputId": "4a4c6f95-973d-4d35-c6a2-cdd09cf4cbbf"
   },
   "outputs": [
    {
     "name": "stdout",
     "output_type": "stream",
     "text": [
      "importing Jupyter notebook from iteration_0_utils.ipynb\n"
     ]
    }
   ],
   "source": [
    "import iteration_0_utils as utils"
   ]
  },
  {
   "cell_type": "code",
   "execution_count": 8,
   "metadata": {
    "colab": {
     "base_uri": "https://localhost:8080/"
    },
    "executionInfo": {
     "elapsed": 7,
     "status": "ok",
     "timestamp": 1637934904294,
     "user": {
      "displayName": "Rene MAROT",
      "photoUrl": "https://lh3.googleusercontent.com/a/default-user=s64",
      "userId": "11976636736374307912"
     },
     "user_tz": 300
    },
    "id": "KXIdAAvdaKuh",
    "outputId": "741bc20d-fc08-4277-8515-45f071d80fd9"
   },
   "outputs": [
    {
     "name": "stdout",
     "output_type": "stream",
     "text": [
      "Variable           Type      Data/Info\n",
      "--------------------------------------\n",
      "HEALTHY            str       H\n",
      "IMG_SIZE           int       64\n",
      "Image              module    <module 'PIL.Image' from <...>packages\\\\PIL\\\\Image.py'>\n",
      "NBR_SAMPLE         int       20000\n",
      "PATH_DATA          str       ../data\n",
      "PATH_DATA_EDA      str       ../data/eda\n",
      "PATH_DATA_LIST     str       ../data/list\n",
      "PATH_DATA_SAMPLE   str       ../data/sample\n",
      "PATH_MODEL         str       ../model\n",
      "PATH_ROOT          str       ..\n",
      "PATH_SOURCE_IMG    str       ../cell_images\n",
      "SICK               str       S\n",
      "cv2                module    <module 'cv2' from 'c:\\\\u<...>kages\\\\cv2\\\\__init__.py'>\n",
      "datetime           type      <class 'datetime.datetime'>\n",
      "glob               module    <module 'glob' from 'c:\\\\<...>\\python38\\\\lib\\\\glob.py'>\n",
      "gzip               module    <module 'gzip' from 'c:\\\\<...>\\python38\\\\lib\\\\gzip.py'>\n",
      "import_ipynb       module    <module 'import_ipynb' fr<...>ckages\\\\import_ipynb.py'>\n",
      "np                 module    <module 'numpy' from 'c:\\<...>ges\\\\numpy\\\\__init__.py'>\n",
      "os                 module    <module 'os' from 'c:\\\\us<...>n\\\\python38\\\\lib\\\\os.py'>\n",
      "pd                 module    <module 'pandas' from 'c:<...>es\\\\pandas\\\\__init__.py'>\n",
      "pickle             module    <module 'pickle' from 'c:<...>ython38\\\\lib\\\\pickle.py'>\n",
      "plt                module    <module 'matplotlib.pyplo<...>\\\\matplotlib\\\\pyplot.py'>\n",
      "random             module    <module 'random' from 'c:<...>ython38\\\\lib\\\\random.py'>\n",
      "sns                module    <module 'seaborn' from 'c<...>s\\\\seaborn\\\\__init__.py'>\n",
      "tqdm               type      <class 'tqdm.std.tqdm'>\n",
      "utils              module    <module 'iteration_0_util<...> at 0x000002C2FAC3BFD0>)>\n"
     ]
    }
   ],
   "source": [
    "%whos"
   ]
  },
  {
   "cell_type": "code",
   "execution_count": 9,
   "metadata": {
    "colab": {
     "base_uri": "https://localhost:8080/",
     "height": 35
    },
    "executionInfo": {
     "elapsed": 6,
     "status": "ok",
     "timestamp": 1637934904295,
     "user": {
      "displayName": "Rene MAROT",
      "photoUrl": "https://lh3.googleusercontent.com/a/default-user=s64",
      "userId": "11976636736374307912"
     },
     "user_tz": 300
    },
    "id": "u5YtIKz5ZXTy",
    "outputId": "1f46421d-8e41-4df5-dece-58893b92edf0"
   },
   "outputs": [
    {
     "data": {
      "text/plain": [
       "'../data/list'"
      ]
     },
     "execution_count": 9,
     "metadata": {},
     "output_type": "execute_result"
    }
   ],
   "source": [
    "PATH_DATA_LIST"
   ]
  },
  {
   "cell_type": "code",
   "execution_count": 10,
   "metadata": {
    "executionInfo": {
     "elapsed": 1591,
     "status": "ok",
     "timestamp": 1637934906045,
     "user": {
      "displayName": "Rene MAROT",
      "photoUrl": "https://lh3.googleusercontent.com/a/default-user=s64",
      "userId": "11976636736374307912"
     },
     "user_tz": 300
    },
    "id": "7XP6fUiLZXTy"
   },
   "outputs": [],
   "source": [
    "df_path_img_sick = pd.read_csv(PATH_DATA_LIST + \"/\" + \"df_list_path_sick_img.csv\")\n",
    "df_path_img_healthy = pd.read_csv(PATH_DATA_LIST + \"/\" + \"df_list_path_healthy_img.csv\")\n",
    "df_path_img = pd.read_csv(PATH_DATA_LIST + \"/\" + \"df_list_path_img.csv\")"
   ]
  },
  {
   "cell_type": "markdown",
   "metadata": {
    "id": "xqI7epukZXTz"
   },
   "source": [
    "## Image moyenne par classe "
   ]
  },
  {
   "cell_type": "code",
   "execution_count": 11,
   "metadata": {
    "executionInfo": {
     "elapsed": 7,
     "status": "ok",
     "timestamp": 1637934906046,
     "user": {
      "displayName": "Rene MAROT",
      "photoUrl": "https://lh3.googleusercontent.com/a/default-user=s64",
      "userId": "11976636736374307912"
     },
     "user_tz": 300
    },
    "id": "CZtSB_dPZXT0",
    "scrolled": true
   },
   "outputs": [],
   "source": [
    "# get array from image\n",
    "IMG_IN_COLOR = 1\n",
    "def img_mean(df_path_img):\n",
    "    img_arr_sum = np.zeros((400,400,3))\n",
    "    for path_img, _ in zip(df_path_img.path_img, tqdm(range(len(df_path_img.path_img)))):\n",
    "        img_arr = cv2.imread(path_img, flags = IMG_IN_COLOR)\n",
    "\n",
    "        img_arr_sum[:img_arr.shape[0],:img_arr.shape[1],:] += img_arr \n",
    "    \n",
    "    return img_arr_sum / df_path_img.shape[0]\n",
    "            "
   ]
  },
  {
   "cell_type": "code",
   "execution_count": 12,
   "metadata": {
    "colab": {
     "base_uri": "https://localhost:8080/"
    },
    "executionInfo": {
     "elapsed": 2709951,
     "status": "ok",
     "timestamp": 1637937615991,
     "user": {
      "displayName": "Rene MAROT",
      "photoUrl": "https://lh3.googleusercontent.com/a/default-user=s64",
      "userId": "11976636736374307912"
     },
     "user_tz": 300
    },
    "id": "tEw3k_ZvZXT1",
    "outputId": "f5a3841f-81c6-4ebb-cfe9-ca517dd834c5",
    "scrolled": true
   },
   "outputs": [
    {
     "name": "stderr",
     "output_type": "stream",
     "text": [
      "100%|██████████████████████████████████████████████████████████████████████████▉| 13778/13779 [01:42<00:00, 134.48it/s]\n"
     ]
    }
   ],
   "source": [
    "img_mean_healthy =  img_mean(df_path_img_healthy)"
   ]
  },
  {
   "cell_type": "code",
   "execution_count": 13,
   "metadata": {
    "colab": {
     "base_uri": "https://localhost:8080/"
    },
    "executionInfo": {
     "elapsed": 2779304,
     "status": "ok",
     "timestamp": 1637940395285,
     "user": {
      "displayName": "Rene MAROT",
      "photoUrl": "https://lh3.googleusercontent.com/a/default-user=s64",
      "userId": "11976636736374307912"
     },
     "user_tz": 300
    },
    "id": "wC_TzSavZXT2",
    "outputId": "210c7df7-9586-4cf5-8fb6-fb67cbf9f7ca"
   },
   "outputs": [
    {
     "name": "stderr",
     "output_type": "stream",
     "text": [
      "100%|██████████████████████████████████████████████████████████████████████████▉| 13778/13779 [02:04<00:00, 110.31it/s]\n"
     ]
    }
   ],
   "source": [
    "img_mean_sick =  img_mean(df_path_img_sick)"
   ]
  },
  {
   "cell_type": "code",
   "execution_count": 14,
   "metadata": {
    "colab": {
     "base_uri": "https://localhost:8080/",
     "height": 286
    },
    "executionInfo": {
     "elapsed": 320,
     "status": "ok",
     "timestamp": 1637940395595,
     "user": {
      "displayName": "Rene MAROT",
      "photoUrl": "https://lh3.googleusercontent.com/a/default-user=s64",
      "userId": "11976636736374307912"
     },
     "user_tz": 300
    },
    "id": "R3cxZzZVZXT3",
    "outputId": "12898be4-d19e-4cb1-f9b9-f3038396efef"
   },
   "outputs": [
    {
     "data": {
      "text/plain": [
       "<matplotlib.image.AxesImage at 0x2c3009ef670>"
      ]
     },
     "execution_count": 14,
     "metadata": {},
     "output_type": "execute_result"
    },
    {
     "data": {
      "image/png": "[encoded data removed]",
      "text/plain": [
       "<Figure size 432x288 with 1 Axes>"
      ]
     },
     "metadata": {
      "needs_background": "light"
     },
     "output_type": "display_data"
    }
   ],
   "source": [
    "plt.imshow(img_mean_healthy.astype(np.uint8))"
   ]
  },
  {
   "cell_type": "code",
   "execution_count": 15,
   "metadata": {
    "colab": {
     "base_uri": "https://localhost:8080/",
     "height": 286
    },
    "executionInfo": {
     "elapsed": 333,
     "status": "ok",
     "timestamp": 1637940395924,
     "user": {
      "displayName": "Rene MAROT",
      "photoUrl": "https://lh3.googleusercontent.com/a/default-user=s64",
      "userId": "11976636736374307912"
     },
     "user_tz": 300
    },
    "id": "84n2WRM4ZXT3",
    "outputId": "4e8b3045-8b69-4b7a-ddb2-0a853961c490",
    "scrolled": true
   },
   "outputs": [
    {
     "data": {
      "text/plain": [
       "<matplotlib.image.AxesImage at 0x2c300ac8d00>"
      ]
     },
     "execution_count": 15,
     "metadata": {},
     "output_type": "execute_result"
    },
    {
     "data": {
      "image/png": "[encoded data removed]",
      "text/plain": [
       "<Figure size 432x288 with 1 Axes>"
      ]
     },
     "metadata": {
      "needs_background": "light"
     },
     "output_type": "display_data"
    }
   ],
   "source": [
    "plt.imshow(img_mean_sick.astype(np.uint8))"
   ]
  },
  {
   "cell_type": "code",
   "execution_count": 16,
   "metadata": {
    "colab": {
     "base_uri": "https://localhost:8080/",
     "height": 269
    },
    "executionInfo": {
     "elapsed": 2177,
     "status": "ok",
     "timestamp": 1637940398099,
     "user": {
      "displayName": "Rene MAROT",
      "photoUrl": "https://lh3.googleusercontent.com/a/default-user=s64",
      "userId": "11976636736374307912"
     },
     "user_tz": 300
    },
    "id": "E-6Et_fAZXT4",
    "outputId": "4db7a1f9-66ae-4ee8-d11c-9410ada1a88b"
   },
   "outputs": [
    {
     "data": {
      "image/png": "[encoded data removed]",
      "text/plain": [
       "<Figure size 432x288 with 1 Axes>"
      ]
     },
     "metadata": {
      "needs_background": "light"
     },
     "output_type": "display_data"
    }
   ],
   "source": [
    "sns.histplot(img_mean_healthy.ravel(), bins = 256, alpha = 0.95)\n",
    "sns.histplot(img_mean_sick.ravel(), bins = 256, color = \"r\",alpha = 0.5)\n",
    "plt.ylim(0,5000)\n",
    "plt.show()"
   ]
  },
  {
   "cell_type": "code",
   "execution_count": 17,
   "metadata": {
    "colab": {
     "base_uri": "https://localhost:8080/",
     "height": 163
    },
    "executionInfo": {
     "elapsed": 149,
     "status": "error",
     "timestamp": 1637953216432,
     "user": {
      "displayName": "Rene MAROT",
      "photoUrl": "https://lh3.googleusercontent.com/a/default-user=s64",
      "userId": "11976636736374307912"
     },
     "user_tz": 300
    },
    "id": "XK-QXV8RcuJv",
    "outputId": "21245db0-9ec4-4cfa-e128-bf140d24e167"
   },
   "outputs": [
    {
     "data": {
      "text/plain": [
       "'../data/eda'"
      ]
     },
     "execution_count": 17,
     "metadata": {},
     "output_type": "execute_result"
    }
   ],
   "source": [
    "PATH_DATA_EDA"
   ]
  },
  {
   "cell_type": "code",
   "execution_count": 18,
   "metadata": {
    "executionInfo": {
     "elapsed": 5,
     "status": "ok",
     "timestamp": 1637940398100,
     "user": {
      "displayName": "Rene MAROT",
      "photoUrl": "https://lh3.googleusercontent.com/a/default-user=s64",
      "userId": "11976636736374307912"
     },
     "user_tz": 300
    },
    "id": "un4EuEePZXT4"
   },
   "outputs": [],
   "source": [
    "os.makedirs(PATH_DATA_EDA, exist_ok=True)"
   ]
  },
  {
   "cell_type": "code",
   "execution_count": 19,
   "metadata": {
    "executionInfo": {
     "elapsed": 300,
     "status": "ok",
     "timestamp": 1637940398395,
     "user": {
      "displayName": "Rene MAROT",
      "photoUrl": "https://lh3.googleusercontent.com/a/default-user=s64",
      "userId": "11976636736374307912"
     },
     "user_tz": 300
    },
    "id": "fG2L8-u3ZXT4"
   },
   "outputs": [],
   "source": [
    "# https://www.thoughtco.com/using-pickle-to-save-objects-2813661\n",
    "utils.pickle_save(img_mean_healthy, PATH_DATA_EDA + \"/\" + \"img_mean_healthy.pklz\")\n",
    "utils.pickle_save(img_mean_sick, PATH_DATA_EDA + \"/\" + \"img_mean_sick.pklz\")"
   ]
  },
  {
   "cell_type": "markdown",
   "metadata": {},
   "source": [
    "## Histogramme des pixels non nuls pour chaque image et par classe"
   ]
  },
  {
   "cell_type": "code",
   "execution_count": 20,
   "metadata": {},
   "outputs": [],
   "source": [
    "DF_PIXEL_COUNT_ID_COL = 0\n",
    "DF_PIXEL_COUNT_ZERO_COL = 1\n",
    "DF_PIXEL_COUNT_NON_ZERO_COL = 2\n",
    "DF_PIXEL_COUNT_TOTAL_COL = 3\n",
    "\n",
    "def pixel_count(df_path_img: pd.DataFrame) -> np.array:\n",
    "    result = np.zeros((len(df_path_img.path_img),4))\n",
    "    for i, path_img in enumerate(tqdm(df_path_img.path_img)):\n",
    "        img_arr = cv2.imread(path_img, flags = IMG_IN_COLOR)\n",
    "        \n",
    "        result[i,DF_PIXEL_COUNT_ID_COL] = i\n",
    "        result[i,DF_PIXEL_COUNT_ZERO_COL] = np.count_nonzero(img_arr == 0)\n",
    "        result[i,DF_PIXEL_COUNT_NON_ZERO_COL] = np.count_nonzero(img_arr != 0)\n",
    "        result[i,DF_PIXEL_COUNT_TOTAL_COL] = len(img_arr.ravel())\n",
    "\n",
    "    return result"
   ]
  },
  {
   "cell_type": "code",
   "execution_count": 21,
   "metadata": {},
   "outputs": [
    {
     "name": "stderr",
     "output_type": "stream",
     "text": [
      "100%|██████████████████████████████████████████████████████████████████████████| 13779/13779 [00:08<00:00, 1558.40it/s]\n"
     ]
    }
   ],
   "source": [
    "pixel_count_healthy = pixel_count(df_path_img_healthy)\n"
   ]
  },
  {
   "cell_type": "code",
   "execution_count": 22,
   "metadata": {},
   "outputs": [
    {
     "name": "stderr",
     "output_type": "stream",
     "text": [
      "100%|██████████████████████████████████████████████████████████████████████████| 13779/13779 [00:08<00:00, 1571.66it/s]\n"
     ]
    }
   ],
   "source": [
    "pixel_count_sick = pixel_count(df_path_img_sick)"
   ]
  },
  {
   "cell_type": "code",
   "execution_count": 24,
   "metadata": {},
   "outputs": [],
   "source": [
    "df_pixel_count_healthy = pd.DataFrame(pixel_count_healthy, columns=[\"id\", \"zeros\", \"non_zeros\", \"total\"])\n",
    "df_pixel_count_healthy[\"label\"] = \"healthy\"\n",
    "df_pixel_count_sick = pd.DataFrame(pixel_count_sick, columns=[\"id\", \"zeros\", \"non_zeros\", \"total\"])\n",
    "df_pixel_count_sick[\"label\"] = \"sick\""
   ]
  },
  {
   "cell_type": "code",
   "execution_count": 25,
   "metadata": {},
   "outputs": [],
   "source": [
    "df_pixel_count = pd.concat([df_pixel_count_healthy, df_pixel_count_sick], ignore_index = True)"
   ]
  },
  {
   "cell_type": "code",
   "execution_count": 33,
   "metadata": {},
   "outputs": [
    {
     "data": {
      "image/png": "[encoded data removed]",
      "text/plain": [
       "<Figure size 1153.62x432 with 1 Axes>"
      ]
     },
     "metadata": {
      "needs_background": "light"
     },
     "output_type": "display_data"
    }
   ],
   "source": [
    "sns.displot(data = df_pixel_count, x = df_pixel_count[\"non_zeros\"], kde = True, hue = \"label\", aspect=2.5, height=6)\n",
    "plt.show()"
   ]
  },
  {
   "cell_type": "code",
   "execution_count": 27,
   "metadata": {},
   "outputs": [],
   "source": [
    "df_pixel_count[\"pct\"] = df_pixel_count[\"non_zeros\"] / df_pixel_count[\"total\"]"
   ]
  },
  {
   "cell_type": "code",
   "execution_count": 28,
   "metadata": {},
   "outputs": [
    {
     "data": {
      "text/html": [
       "<div>\n",
       "<style scoped>\n",
       "    .dataframe tbody tr th:only-of-type {\n",
       "        vertical-align: middle;\n",
       "    }\n",
       "\n",
       "    .dataframe tbody tr th {\n",
       "        vertical-align: top;\n",
       "    }\n",
       "\n",
       "    .dataframe thead th {\n",
       "        text-align: right;\n",
       "    }\n",
       "</style>\n",
       "<table border=\"1\" class=\"dataframe\">\n",
       "  <thead>\n",
       "    <tr style=\"text-align: right;\">\n",
       "      <th></th>\n",
       "      <th>id</th>\n",
       "      <th>zeros</th>\n",
       "      <th>non_zeros</th>\n",
       "      <th>total</th>\n",
       "      <th>pct</th>\n",
       "    </tr>\n",
       "  </thead>\n",
       "  <tbody>\n",
       "    <tr>\n",
       "      <th>count</th>\n",
       "      <td>27558.00000</td>\n",
       "      <td>27558.000000</td>\n",
       "      <td>27558.000000</td>\n",
       "      <td>27558.000000</td>\n",
       "      <td>27558.000000</td>\n",
       "    </tr>\n",
       "    <tr>\n",
       "      <th>mean</th>\n",
       "      <td>6889.00000</td>\n",
       "      <td>15567.353473</td>\n",
       "      <td>37939.915632</td>\n",
       "      <td>53507.269105</td>\n",
       "      <td>0.716275</td>\n",
       "    </tr>\n",
       "    <tr>\n",
       "      <th>std</th>\n",
       "      <td>3977.72684</td>\n",
       "      <td>7553.929749</td>\n",
       "      <td>8987.182130</td>\n",
       "      <td>14902.714162</td>\n",
       "      <td>0.060674</td>\n",
       "    </tr>\n",
       "    <tr>\n",
       "      <th>min</th>\n",
       "      <td>0.00000</td>\n",
       "      <td>2079.000000</td>\n",
       "      <td>3549.000000</td>\n",
       "      <td>6600.000000</td>\n",
       "      <td>0.299869</td>\n",
       "    </tr>\n",
       "    <tr>\n",
       "      <th>25%</th>\n",
       "      <td>3444.25000</td>\n",
       "      <td>11286.000000</td>\n",
       "      <td>32160.000000</td>\n",
       "      <td>44202.000000</td>\n",
       "      <td>0.692130</td>\n",
       "    </tr>\n",
       "    <tr>\n",
       "      <th>50%</th>\n",
       "      <td>6889.00000</td>\n",
       "      <td>13915.500000</td>\n",
       "      <td>37596.000000</td>\n",
       "      <td>51870.000000</td>\n",
       "      <td>0.730053</td>\n",
       "    </tr>\n",
       "    <tr>\n",
       "      <th>75%</th>\n",
       "      <td>10333.75000</td>\n",
       "      <td>17550.000000</td>\n",
       "      <td>43212.000000</td>\n",
       "      <td>60465.000000</td>\n",
       "      <td>0.756611</td>\n",
       "    </tr>\n",
       "    <tr>\n",
       "      <th>max</th>\n",
       "      <td>13778.00000</td>\n",
       "      <td>237918.000000</td>\n",
       "      <td>133362.000000</td>\n",
       "      <td>371280.000000</td>\n",
       "      <td>0.862702</td>\n",
       "    </tr>\n",
       "  </tbody>\n",
       "</table>\n",
       "</div>"
      ],
      "text/plain": [
       "                id          zeros      non_zeros          total           pct\n",
       "count  27558.00000   27558.000000   27558.000000   27558.000000  27558.000000\n",
       "mean    6889.00000   15567.353473   37939.915632   53507.269105      0.716275\n",
       "std     3977.72684    7553.929749    8987.182130   14902.714162      0.060674\n",
       "min        0.00000    2079.000000    3549.000000    6600.000000      0.299869\n",
       "25%     3444.25000   11286.000000   32160.000000   44202.000000      0.692130\n",
       "50%     6889.00000   13915.500000   37596.000000   51870.000000      0.730053\n",
       "75%    10333.75000   17550.000000   43212.000000   60465.000000      0.756611\n",
       "max    13778.00000  237918.000000  133362.000000  371280.000000      0.862702"
      ]
     },
     "execution_count": 28,
     "metadata": {},
     "output_type": "execute_result"
    }
   ],
   "source": [
    "df_pixel_count.describe()"
   ]
  },
  {
   "cell_type": "code",
   "execution_count": 34,
   "metadata": {},
   "outputs": [
    {
     "data": {
      "image/png": "[encoded data removed]",
      "text/plain": [
       "<Figure size 1153.62x432 with 1 Axes>"
      ]
     },
     "metadata": {
      "needs_background": "light"
     },
     "output_type": "display_data"
    }
   ],
   "source": [
    "sns.displot(data = df_pixel_count, x = df_pixel_count[\"pct\"], kde = True, hue = \"label\", aspect=2.5, height=6)\n",
    "plt.show()"
   ]
  }
 ],
 "metadata": {
  "accelerator": "GPU",
  "colab": {
   "collapsed_sections": [],
   "name": "iteration_01_1_eda_2.ipynb",
   "provenance": [
    {
     "file_id": "https://github.com/YounesZ/A62-EquipeCV/blob/feature-colab-integration/notebook/iteration_01_1_eda_2.ipynb",
     "timestamp": 1637798491604
    }
   ]
  },
  "kernelspec": {
   "display_name": "Python 3",
   "language": "python",
   "name": "python3"
  },
  "language_info": {
   "codemirror_mode": {
    "name": "ipython",
    "version": 3
   },
   "file_extension": ".py",
   "mimetype": "text/x-python",
   "name": "python",
   "nbconvert_exporter": "python",
   "pygments_lexer": "ipython3",
   "version": "3.8.2"
  },
  "toc": {
   "base_numbering": 1,
   "nav_menu": {},
   "number_sections": true,
   "sideBar": true,
   "skip_h1_title": false,
   "title_cell": "Table of Contents",
   "title_sidebar": "Contents",
   "toc_cell": false,
   "toc_position": {},
   "toc_section_display": true,
   "toc_window_display": false
  }
 },
 "nbformat": 4,
 "nbformat_minor": 5
}
