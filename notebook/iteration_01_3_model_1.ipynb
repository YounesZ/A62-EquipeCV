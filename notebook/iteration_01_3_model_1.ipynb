{
 "cells": [
  {
   "cell_type": "code",
   "execution_count": 1,
   "id": "tutorial-remainder",
   "metadata": {},
   "outputs": [],
   "source": [
    "%run iteration_01_0_imports.ipynb"
   ]
  },
  {
   "cell_type": "code",
   "execution_count": 2,
   "id": "bottom-davis",
   "metadata": {},
   "outputs": [],
   "source": [
    "%run iteration_01_0_parameters.ipynb"
   ]
  },
  {
   "cell_type": "code",
   "execution_count": 3,
   "id": "remarkable-allocation",
   "metadata": {},
   "outputs": [],
   "source": [
    "%run iteration_01_0_utils.ipynb"
   ]
  },
  {
   "cell_type": "code",
   "execution_count": 4,
   "id": "developing-correspondence",
   "metadata": {},
   "outputs": [
    {
     "data": {
      "text/plain": [
       "'\\nPATH_SAMPLE = \"data/sample\"\\nHEALTHY = \"H\"\\nSICK = \"S\"\\nIMG_SIZE = 400\\n'"
      ]
     },
     "execution_count": 4,
     "metadata": {},
     "output_type": "execute_result"
    }
   ],
   "source": [
    "DATE_TIME = \"2021-11-18_20-39-00\"\n",
    "\n",
    "\"\"\"\n",
    "PATH_SAMPLE = \"data/sample\"\n",
    "HEALTHY = \"H\"\n",
    "SICK = \"S\"\n",
    "IMG_SIZE = 400\n",
    "\"\"\""
   ]
  },
  {
   "cell_type": "markdown",
   "id": "statewide-motel",
   "metadata": {},
   "source": [
    "# Modele"
   ]
  },
  {
   "cell_type": "markdown",
   "id": "higher-citation",
   "metadata": {},
   "source": [
    "## make X, y"
   ]
  },
  {
   "cell_type": "code",
   "execution_count": 5,
   "id": "better-james",
   "metadata": {},
   "outputs": [
    {
     "data": {
      "text/plain": [
       "'../data/sample'"
      ]
     },
     "execution_count": 5,
     "metadata": {},
     "output_type": "execute_result"
    }
   ],
   "source": [
    "PATH_DATA_SAMPLE"
   ]
  },
  {
   "cell_type": "code",
   "execution_count": 6,
   "id": "saving-white",
   "metadata": {},
   "outputs": [
    {
     "data": {
      "text/plain": [
       "2000"
      ]
     },
     "execution_count": 6,
     "metadata": {},
     "output_type": "execute_result"
    }
   ],
   "source": [
    "NBR_SAMPLE"
   ]
  },
  {
   "cell_type": "code",
   "execution_count": 7,
   "id": "charming-deviation",
   "metadata": {},
   "outputs": [
    {
     "data": {
      "text/plain": [
       "'2021-11-18_20-39-00'"
      ]
     },
     "execution_count": 7,
     "metadata": {},
     "output_type": "execute_result"
    }
   ],
   "source": [
    "DATE_TIME"
   ]
  },
  {
   "cell_type": "code",
   "execution_count": 8,
   "id": "detailed-lodging",
   "metadata": {},
   "outputs": [
    {
     "data": {
      "text/plain": [
       "400"
      ]
     },
     "execution_count": 8,
     "metadata": {},
     "output_type": "execute_result"
    }
   ],
   "source": [
    "IMG_SIZE"
   ]
  },
  {
   "cell_type": "code",
   "execution_count": 9,
   "id": "periodic-scoop",
   "metadata": {},
   "outputs": [],
   "source": [
    "# get list \n",
    "list_path_sample_img = []\n",
    "list_path_sample_img.extend(glob.glob(PATH_DATA_SAMPLE+\"/\"+DATE_TIME+ \"/\"+ \"*.pkl\"))"
   ]
  },
  {
   "cell_type": "code",
   "execution_count": 10,
   "id": "single-brighton",
   "metadata": {},
   "outputs": [],
   "source": [
    "X = np.zeros((NBR_SAMPLE, IMG_SIZE * IMG_SIZE * 3))"
   ]
  },
  {
   "cell_type": "code",
   "execution_count": 11,
   "id": "hairy-aruba",
   "metadata": {},
   "outputs": [],
   "source": [
    "# y = np.chararray(NBR_SAMPLE)\n",
    "y = np.array([\"\"] * NBR_SAMPLE)"
   ]
  },
  {
   "cell_type": "code",
   "execution_count": 12,
   "id": "handled-resort",
   "metadata": {},
   "outputs": [
    {
     "name": "stderr",
     "output_type": "stream",
     "text": [
      "2000it [02:33, 13.00it/s]\n"
     ]
    }
   ],
   "source": [
    "for i, path in tqdm(enumerate(list_path_sample_img)):\n",
    "    \n",
    "    X[i] = pickel_read(path).ravel()\n",
    "    \n",
    "    _, file_name, _ = split_file_info(path)\n",
    "    y[i] = file_name[0]"
   ]
  },
  {
   "cell_type": "markdown",
   "id": "bulgarian-villa",
   "metadata": {},
   "source": [
    "## Random forest"
   ]
  },
  {
   "cell_type": "code",
   "execution_count": 13,
   "id": "related-picking",
   "metadata": {},
   "outputs": [],
   "source": [
    "from sklearn.ensemble import RandomForestClassifier"
   ]
  },
  {
   "cell_type": "code",
   "execution_count": 14,
   "id": "ahead-bulgarian",
   "metadata": {},
   "outputs": [],
   "source": [
    "clf = RandomForestClassifier(random_state = 0)"
   ]
  },
  {
   "cell_type": "code",
   "execution_count": 15,
   "id": "minus-economy",
   "metadata": {},
   "outputs": [],
   "source": [
    "# lire les pkl \n",
    "# recuperer le S et H (labels)"
   ]
  },
  {
   "cell_type": "code",
   "execution_count": 16,
   "id": "adverse-liberal",
   "metadata": {},
   "outputs": [],
   "source": [
    "# decouper train / validation"
   ]
  },
  {
   "cell_type": "code",
   "execution_count": 17,
   "id": "tracked-milwaukee",
   "metadata": {},
   "outputs": [],
   "source": [
    "from sklearn.model_selection import train_test_split"
   ]
  },
  {
   "cell_type": "code",
   "execution_count": 18,
   "id": "greek-sharp",
   "metadata": {},
   "outputs": [],
   "source": [
    "X_train, X_test, y_train, y_test = train_test_split(X, y, test_size = 0.2, stratify=y, random_state = 0) "
   ]
  },
  {
   "cell_type": "code",
   "execution_count": 19,
   "id": "electoral-appreciation",
   "metadata": {},
   "outputs": [],
   "source": [
    "from datetime import datetime "
   ]
  },
  {
   "cell_type": "code",
   "execution_count": 20,
   "id": "annual-symphony",
   "metadata": {},
   "outputs": [],
   "source": [
    "from sklearn.metrics import f1_score, confusion_matrix, classification_report\n",
    "from sklearn.model_selection import learning_curve\n",
    "\n",
    "def evaluate(model, X_train, X_test, y_train, y_test, cv = 5):\n",
    "    \n",
    "    model.fit(X_train, y_train)\n",
    "    y_pred = model.predict(X_test)\n",
    "#     print(confusion_matrix(y_test, y_pred))\n",
    "    cm = confusion_matrix(y_test, y_pred)\n",
    "    ax = sns.heatmap(cm, annot=True, cbar = False,\n",
    "                     xticklabels=np.unique(y_train), \n",
    "                     yticklabels=np.unique(y_train),\n",
    "                     fmt='5d') # cells are counts\n",
    "    ax.set_xlabel('Prediction')\n",
    "    ax.set_ylabel('Réel');\n",
    "    print(classification_report(y_test, y_pred))\n",
    "    print(\"on y est\")\n",
    "\n",
    "    \"\"\"\n",
    "    # ===\n",
    "    N, train_score, val_score = learning_curve(model, X_train, y_train, cv = cv, \n",
    "                                               train_sizes =np.linspace(0.1, 1, 10),\n",
    "                                                scoring = 'f1_micro'\n",
    "                                          )\n",
    "    plt.figure(figsize=(12,8))\n",
    "    axes = plt.gca()\n",
    "    axes.set_ylim([0.5,1.05])\n",
    "    plt.plot(N, train_score.mean(axis = 1), label = 'train_score')\n",
    "    plt.plot(N, val_score.mean(axis = 1), label = 'validation_score')\n",
    "    plt.legend()\n",
    "    plt.show()\n",
    "    # ---\n",
    "    \"\"\""
   ]
  },
  {
   "cell_type": "code",
   "execution_count": 21,
   "id": "contained-casting",
   "metadata": {
    "scrolled": false
   },
   "outputs": [
    {
     "name": "stdout",
     "output_type": "stream",
     "text": [
      "2021-11-21 12:01:48.677533\n",
      "              precision    recall  f1-score   support\n",
      "\n",
      "           H       0.71      0.65      0.68       200\n",
      "           S       0.68      0.74      0.71       200\n",
      "\n",
      "    accuracy                           0.69       400\n",
      "   macro avg       0.70      0.70      0.69       400\n",
      "weighted avg       0.70      0.69      0.69       400\n",
      "\n",
      "on y est\n",
      "2021-11-21 12:02:27.499589\n"
     ]
    },
    {
     "data": {
      "image/png": "[encoded data removed]",
      "text/plain": [
       "<Figure size 432x288 with 1 Axes>"
      ]
     },
     "metadata": {
      "needs_background": "light"
     },
     "output_type": "display_data"
    }
   ],
   "source": [
    "print(datetime.now())\n",
    "evaluate(clf, X_train, X_test, y_train, y_test)\n",
    "print(datetime.now())"
   ]
  },
  {
   "cell_type": "code",
   "execution_count": 23,
   "id": "according-assurance",
   "metadata": {},
   "outputs": [],
   "source": [
    "# Sauvegarder le modèle\n",
    "create_dir_hierarchy(PATH_MODEL)\n",
    "pickel_save(clf, PATH_MODEL + \"/\" + \"model_rf.pkl\")"
   ]
  },
  {
   "cell_type": "code",
   "execution_count": 26,
   "id": "harmful-cooler",
   "metadata": {},
   "outputs": [
    {
     "data": {
      "text/plain": [
       "(1600, 480000)"
      ]
     },
     "execution_count": 26,
     "metadata": {},
     "output_type": "execute_result"
    }
   ],
   "source": [
    "np.shape(X_train)"
   ]
  },
  {
   "cell_type": "code",
   "execution_count": null,
   "id": "serious-optimum",
   "metadata": {},
   "outputs": [],
   "source": []
  }
 ],
 "metadata": {
  "kernelspec": {
   "display_name": "Python 3",
   "language": "python",
   "name": "python3"
  },
  "language_info": {
   "codemirror_mode": {
    "name": "ipython",
    "version": 3
   },
   "file_extension": ".py",
   "mimetype": "text/x-python",
   "name": "python",
   "nbconvert_exporter": "python",
   "pygments_lexer": "ipython3",
   "version": "3.8.5"
  },
  "toc": {
   "base_numbering": 1,
   "nav_menu": {},
   "number_sections": true,
   "sideBar": true,
   "skip_h1_title": false,
   "title_cell": "Table of Contents",
   "title_sidebar": "Contents",
   "toc_cell": false,
   "toc_position": {},
   "toc_section_display": true,
   "toc_window_display": false
  }
 },
 "nbformat": 4,
 "nbformat_minor": 5
}
