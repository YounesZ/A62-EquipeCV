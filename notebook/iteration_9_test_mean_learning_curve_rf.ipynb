{
 "cells": [
  {
   "cell_type": "markdown",
   "id": "4eea5ee0",
   "metadata": {},
   "source": [
    "# tester des modeles rf avec differents samples de Xy "
   ]
  },
  {
   "cell_type": "code",
   "execution_count": 1,
   "id": "traditional-admission",
   "metadata": {
    "colab": {
     "base_uri": "https://localhost:8080/"
    },
    "executionInfo": {
     "elapsed": 3398,
     "status": "ok",
     "timestamp": 1638104789067,
     "user": {
      "displayName": "Rene MAROT",
      "photoUrl": "https://lh3.googleusercontent.com/a/default-user=s64",
      "userId": "11976636736374307912"
     },
     "user_tz": 300
    },
    "id": "H8kGJ0NOdo09",
    "outputId": "3d59ada4-409a-4941-bd7b-74532f668ad1"
   },
   "outputs": [],
   "source": [
    "# !pip install import-ipynb"
   ]
  },
  {
   "cell_type": "code",
   "execution_count": 2,
   "id": "permanent-elevation",
   "metadata": {
    "executionInfo": {
     "elapsed": 11,
     "status": "ok",
     "timestamp": 1638104789067,
     "user": {
      "displayName": "Rene MAROT",
      "photoUrl": "https://lh3.googleusercontent.com/a/default-user=s64",
      "userId": "11976636736374307912"
     },
     "user_tz": 300
    },
    "id": "9AGWAZ5wgEGF"
   },
   "outputs": [],
   "source": [
    "import import_ipynb"
   ]
  },
  {
   "cell_type": "code",
   "execution_count": 3,
   "id": "honest-ranch",
   "metadata": {
    "executionInfo": {
     "elapsed": 381,
     "status": "ok",
     "timestamp": 1638104789611,
     "user": {
      "displayName": "Rene MAROT",
      "photoUrl": "https://lh3.googleusercontent.com/a/default-user=s64",
      "userId": "11976636736374307912"
     },
     "user_tz": 300
    },
    "id": "QCRssuS3dt1u"
   },
   "outputs": [],
   "source": [
    "%run iteration_0_imports.py"
   ]
  },
  {
   "cell_type": "code",
   "execution_count": 4,
   "id": "institutional-perry",
   "metadata": {
    "executionInfo": {
     "elapsed": 205,
     "status": "ok",
     "timestamp": 1638104789811,
     "user": {
      "displayName": "Rene MAROT",
      "photoUrl": "https://lh3.googleusercontent.com/a/default-user=s64",
      "userId": "11976636736374307912"
     },
     "user_tz": 300
    },
    "id": "6XvrVF4GdkD6"
   },
   "outputs": [],
   "source": [
    "%run iteration_0_parameters.py"
   ]
  },
  {
   "cell_type": "code",
   "execution_count": 5,
   "id": "parliamentary-samuel",
   "metadata": {
    "colab": {
     "base_uri": "https://localhost:8080/"
    },
    "executionInfo": {
     "elapsed": 4,
     "status": "ok",
     "timestamp": 1638104789811,
     "user": {
      "displayName": "Rene MAROT",
      "photoUrl": "https://lh3.googleusercontent.com/a/default-user=s64",
      "userId": "11976636736374307912"
     },
     "user_tz": 300
    },
    "id": "Ep8e8I59dkD6",
    "outputId": "b57ad777-144a-4911-e477-00f7674eb89a"
   },
   "outputs": [
    {
     "name": "stdout",
     "output_type": "stream",
     "text": [
      "importing Jupyter notebook from iteration_0_utils.ipynb\n"
     ]
    }
   ],
   "source": [
    "import iteration_0_utils as utils"
   ]
  },
  {
   "cell_type": "code",
   "execution_count": 6,
   "id": "consecutive-botswana",
   "metadata": {
    "colab": {
     "base_uri": "https://localhost:8080/"
    },
    "executionInfo": {
     "elapsed": 7,
     "status": "ok",
     "timestamp": 1638104789941,
     "user": {
      "displayName": "Rene MAROT",
      "photoUrl": "https://lh3.googleusercontent.com/a/default-user=s64",
      "userId": "11976636736374307912"
     },
     "user_tz": 300
    },
    "id": "qC29yEDneQmm",
    "outputId": "97e14e3e-91a2-475e-8983-8cc67632e0a3"
   },
   "outputs": [
    {
     "name": "stdout",
     "output_type": "stream",
     "text": [
      "Variable                          Type        Data/Info\n",
      "-------------------------------------------------------\n",
      "HEALTHY                           str         H\n",
      "IMG_IN_COLOR                      int         1\n",
      "IMG_SIZE                          int         64\n",
      "Image                             module      <module 'PIL.Image' from <...>packages\\\\PIL\\\\Image.py'>\n",
      "NBR_SAMPLE                        int         20000\n",
      "PATH_DATA                         str         ../data\n",
      "PATH_DATA_EDA                     str         ../data/eda\n",
      "PATH_DATA_LIST                    str         ../data/list\n",
      "PATH_DATA_SAMPLE                  str         ../data/sample\n",
      "PATH_MODEL                        str         ../model\n",
      "PATH_ROOT                         str         ..\n",
      "PATH_SOURCE_IMG                   str         ../cell_images\n",
      "RandomForestClassifier            ABCMeta     <class 'sklearn.ensemble.<...>.RandomForestClassifier'>\n",
      "SICK                              str         S\n",
      "classification_report             function    <function classification_<...>rt at 0x000002D8E9E23040>\n",
      "confusion_matrix                  function    <function confusion_matrix at 0x000002D8E9E1D0D0>\n",
      "cv2                               module      <module 'cv2' from 'C:\\\\U<...>kages\\\\cv2\\\\__init__.py'>\n",
      "datetime                          type        <class 'datetime.datetime'>\n",
      "f1_score                          function    <function f1_score at 0x000002D8E9E1D790>\n",
      "gc                                module      <module 'gc' (built-in)>\n",
      "glob                              module      <module 'glob' from 'C:\\\\<...>anaconda3\\\\lib\\\\glob.py'>\n",
      "gzip                              module      <module 'gzip' from 'C:\\\\<...>anaconda3\\\\lib\\\\gzip.py'>\n",
      "import_ipynb                      module      <module 'import_ipynb' fr<...>ckages\\\\import_ipynb.py'>\n",
      "learning_curve                    function    <function learning_curve at 0x000002D8E9FF3160>\n",
      "mlflow                            module      <module 'mlflow' from 'C:<...>es\\\\mlflow\\\\__init__.py'>\n",
      "np                                module      <module 'numpy' from 'C:\\<...>ges\\\\numpy\\\\__init__.py'>\n",
      "os                                module      <module 'os' from 'C:\\\\Us<...>\\\\anaconda3\\\\lib\\\\os.py'>\n",
      "pd                                module      <module 'pandas' from 'C:<...>es\\\\pandas\\\\__init__.py'>\n",
      "pickle                            module      <module 'pickle' from 'C:<...>aconda3\\\\lib\\\\pickle.py'>\n",
      "plt                               module      <module 'matplotlib.pyplo<...>\\\\matplotlib\\\\pyplot.py'>\n",
      "precision_recall_fscore_support   function    <function precision_recal<...>rt at 0x000002D8E9E1DB80>\n",
      "random                            module      <module 'random' from 'C:<...>aconda3\\\\lib\\\\random.py'>\n",
      "sns                               module      <module 'seaborn' from 'C<...>s\\\\seaborn\\\\__init__.py'>\n",
      "sp                                module      <module 'scipy.sparse' fr<...>py\\\\sparse\\\\__init__.py'>\n",
      "tqdm                              type        <class 'tqdm.std.tqdm'>\n",
      "train_test_split                  function    <function train_test_split at 0x000002D8E9FEA1F0>\n",
      "utils                             module      <module 'iteration_0_util<...> at 0x000002D8E7235220>)>\n"
     ]
    }
   ],
   "source": [
    "%whos"
   ]
  },
  {
   "cell_type": "code",
   "execution_count": 7,
   "id": "thirty-spread",
   "metadata": {
    "executionInfo": {
     "elapsed": 141,
     "status": "ok",
     "timestamp": 1638104790077,
     "user": {
      "displayName": "Rene MAROT",
      "photoUrl": "https://lh3.googleusercontent.com/a/default-user=s64",
      "userId": "11976636736374307912"
     },
     "user_tz": 300
    },
    "id": "hJ3iVyBHdkD7"
   },
   "outputs": [],
   "source": [
    "df_path_img_sick = pd.read_csv(PATH_DATA_LIST + \"/\" + \"df_list_path_sick_img.csv\")\n",
    "df_path_img_healthy = pd.read_csv(PATH_DATA_LIST + \"/\" + \"df_list_path_healthy_img.csv\")\n",
    "df_path_img = pd.read_csv(PATH_DATA_LIST + \"/\" + \"df_list_path_img.csv\")"
   ]
  },
  {
   "cell_type": "markdown",
   "id": "published-victorian",
   "metadata": {
    "id": "UJ6qnkwzdkD7"
   },
   "source": [
    "# Prétraitement"
   ]
  },
  {
   "cell_type": "code",
   "execution_count": 8,
   "id": "local-miracle",
   "metadata": {},
   "outputs": [],
   "source": [
    "def image_resize(path_img: str) -> np.array:\n",
    "    img_arr = cv2.imread(path_img, flags = IMG_IN_COLOR)\n",
    "    \n",
    "    h, w, _ = img_arr.shape\n",
    "    ratio = IMG_SIZE / max(h,w) \n",
    "    img_arr_resize = cv2.resize(img_arr, dsize = (int(np.ceil(w*ratio)), int(np.ceil(h*ratio)) ))\n",
    "    return img_arr_resize"
   ]
  },
  {
   "cell_type": "code",
   "execution_count": 9,
   "id": "acoustic-figure",
   "metadata": {},
   "outputs": [],
   "source": [
    "def normalize_pixels(img_arr: np.array) -> np.array:\n",
    "    img_arr_norm = img_arr / 255.0\n",
    "    return img_arr_norm    "
   ]
  },
  {
   "cell_type": "code",
   "execution_count": 10,
   "id": "labeled-sunglasses",
   "metadata": {
    "colab": {
     "base_uri": "https://localhost:8080/"
    },
    "executionInfo": {
     "elapsed": 5,
     "status": "ok",
     "timestamp": 1638104790077,
     "user": {
      "displayName": "Rene MAROT",
      "photoUrl": "https://lh3.googleusercontent.com/a/default-user=s64",
      "userId": "11976636736374307912"
     },
     "user_tz": 300
    },
    "id": "BhlWyq1pdkD-",
    "outputId": "5127da6b-15d5-46a4-cff6-924e667fe5e7"
   },
   "outputs": [
    {
     "data": {
      "text/plain": [
       "20000"
      ]
     },
     "execution_count": 10,
     "metadata": {},
     "output_type": "execute_result"
    }
   ],
   "source": [
    "NBR_SAMPLE"
   ]
  },
  {
   "cell_type": "code",
   "execution_count": 11,
   "id": "external-correlation",
   "metadata": {
    "executionInfo": {
     "elapsed": 9,
     "status": "ok",
     "timestamp": 1638104790207,
     "user": {
      "displayName": "Rene MAROT",
      "photoUrl": "https://lh3.googleusercontent.com/a/default-user=s64",
      "userId": "11976636736374307912"
     },
     "user_tz": 300
    },
    "id": "ZQZBMpgkdkEB"
   },
   "outputs": [],
   "source": [
    "DATE_TIME = \"2021-11-18_20-39-00\"\n",
    "\n",
    "def create_sample(df_path_img:str, img_type:str, path_sample:str, date_time:str, clean_dir:bool):\n",
    "    path_sample_time = path_sample+\"/\"+date_time\n",
    "\n",
    "    os.makedirs(path_sample_time, exist_ok=True)\n",
    "    if clean_dir:\n",
    "        file_list = glob.glob(path_sample_time+\"/\"+\"*.*\")\n",
    "        for f in file_list:\n",
    "            os.remove(f)\n",
    "    \n",
    "    for path_img , _ in zip(df_path_img.path_img, tqdm(range(len(df_path_img.path_img)))):\n",
    "        \n",
    "        _, img_name, _ = utils.split_file_info(path_img)\n",
    "        \n",
    "        \n",
    "        #img_arr_std = positive_global_std(image_resize(path_img))\n",
    "        img_arr_std = normalize_pixels(image_resize(path_img))\n",
    "        # padding\n",
    "        img_arr_padded = np.zeros((IMG_SIZE, IMG_SIZE, 3))\n",
    "        img_arr_padded[:img_arr_std.shape[0],:img_arr_std.shape[1],:] = img_arr_std\n",
    "        \n",
    "        utils.pickle_save(img_arr_padded, path_sample_time + \"/\" + str(img_type).upper() + \"_\" + img_name + \".pklz\")\n",
    "        "
   ]
  },
  {
   "cell_type": "code",
   "execution_count": 12,
   "id": "20d99dd0",
   "metadata": {},
   "outputs": [],
   "source": [
    "def spot_overfit_needed_data(model, X_train, y_train, cv = 5, scoring= \"f1_macro\"):\n",
    "\n",
    "    N, train_score, val_score = learning_curve(model, X_train, y_train, cv = cv, \n",
    "                                               train_sizes =np.linspace(0.1, 1, 10),\n",
    "                                                scoring = scoring)\n",
    "\n",
    "\n",
    "    return N, train_score.mean(axis = 1), val_score.mean(axis = 1)"
   ]
  },
  {
   "cell_type": "code",
   "execution_count": 13,
   "id": "a3dd99bf",
   "metadata": {},
   "outputs": [],
   "source": [
    "def test_models(random_state:int) -> (np.array, np.array, np.array):\n",
    "    # creer liste sample\n",
    "    df_path_img_healthy_sample = df_path_img_healthy.sample(n = int(NBR_SAMPLE/2), random_state=random_state)\n",
    "    df_path_img_sick_sample    = df_path_img_sick.sample(n = int(NBR_SAMPLE/2), random_state=random_state)\n",
    "    # creer sample\n",
    "    create_sample(df_path_img_healthy_sample, HEALTHY, PATH_DATA_SAMPLE, DATE_TIME, clean_dir=True)\n",
    "    create_sample(df_path_img_sick_sample, SICK, PATH_DATA_SAMPLE, DATE_TIME, clean_dir=False)\n",
    "    \n",
    "    # construire Xy\n",
    "    list_path_sample_img = []\n",
    "    list_path_sample_img.extend(glob.glob(PATH_DATA_SAMPLE+\"/\"+DATE_TIME+ \"/\"+ \"*.pklz\"))\n",
    "    # initialiser X y\n",
    "    X = sp.lil_matrix((NBR_SAMPLE, IMG_SIZE * IMG_SIZE * 3), dtype = \"float32\")\n",
    "    y = np.array([\"\"] * NBR_SAMPLE)\n",
    "    \n",
    "    # construire X y\n",
    "    for i, path in tqdm(enumerate(list_path_sample_img)):\n",
    "        X[i] = utils.pickle_read(path).ravel()\n",
    "        _, file_name, _ = utils.split_file_info(path)\n",
    "        y[i] = file_name[0]\n",
    "    \n",
    "    del list_path_sample_img\n",
    "    gc.collect()\n",
    "    gc.collect()\n",
    "    \n",
    "    # split \n",
    "    X_train, X_test, y_train, y_test = train_test_split(X, y, test_size = 0.2, stratify=y, random_state = 0) \n",
    "    \n",
    "    del X\n",
    "    del y\n",
    "    del X_test\n",
    "    del y_test\n",
    "    gc.collect()\n",
    "    gc.collect()\n",
    "    \n",
    "    # modele\n",
    "    model_rf = RandomForestClassifier(random_state = 0)\n",
    "    N, train_score_mean, val_score_mean = spot_overfit_needed_data(model_rf, X_train, y_train)\n",
    "    \n",
    "    del X_train\n",
    "    del y_train\n",
    "    del model_rf\n",
    "    gc.collect()\n",
    "    gc.collect()\n",
    "    \n",
    "    return N, train_score_mean, val_score_mean"
   ]
  },
  {
   "cell_type": "code",
   "execution_count": 14,
   "id": "0b9b1efb",
   "metadata": {},
   "outputs": [],
   "source": [
    "# random_state_list = [63,  5, 77,  8, 91, 71, 10, 40, 31, 96]\n",
    "# random_state_list = [96, 163, 15, 177, 18, 191, 171, 110, 140, 131, 196]\n",
    "random_state_list = [96, 163, 15, 177, 18]#191, 171, 110, 140, 131, 196]"
   ]
  },
  {
   "cell_type": "code",
   "execution_count": 16,
   "id": "da2bce22",
   "metadata": {},
   "outputs": [],
   "source": [
    "import time"
   ]
  },
  {
   "cell_type": "code",
   "execution_count": 17,
   "id": "e90eff3d",
   "metadata": {},
   "outputs": [
    {
     "name": "stdout",
     "output_type": "stream",
     "text": [
      "96 --> start at:2022-01-05 23:49:37.205741\n"
     ]
    },
    {
     "name": "stderr",
     "output_type": "stream",
     "text": [
      "100%|█████████▉| 9999/10000 [02:02<00:00, 81.71it/s] \n",
      "100%|█████████▉| 9999/10000 [02:09<00:00, 76.99it/s] \n",
      "20000it [02:56, 113.09it/s]\n"
     ]
    },
    {
     "name": "stdout",
     "output_type": "stream",
     "text": [
      "delta_t 2:36:03.582752\n",
      "\n",
      "163 --> start at:2022-01-06 02:25:40.788493\n"
     ]
    },
    {
     "name": "stderr",
     "output_type": "stream",
     "text": [
      "100%|█████████▉| 9999/10000 [04:18<00:00, 38.75it/s]\n",
      "100%|█████████▉| 9999/10000 [04:15<00:00, 39.10it/s]\n",
      "20000it [02:20, 142.33it/s]\n"
     ]
    },
    {
     "name": "stdout",
     "output_type": "stream",
     "text": [
      "delta_t 2:36:05.848675\n",
      "\n",
      "15 --> start at:2022-01-06 05:01:46.652807\n"
     ]
    },
    {
     "name": "stderr",
     "output_type": "stream",
     "text": [
      "100%|█████████▉| 9999/10000 [04:19<00:00, 38.57it/s]\n",
      "100%|█████████▉| 9999/10000 [04:14<00:00, 39.31it/s]\n",
      "20000it [02:59, 111.35it/s]\n"
     ]
    },
    {
     "name": "stdout",
     "output_type": "stream",
     "text": [
      "delta_t 2:31:24.044694\n",
      "\n",
      "177 --> start at:2022-01-06 07:33:10.697501\n"
     ]
    },
    {
     "name": "stderr",
     "output_type": "stream",
     "text": [
      "100%|█████████▉| 9999/10000 [04:12<00:00, 39.54it/s]\n",
      "100%|█████████▉| 9999/10000 [04:10<00:00, 39.99it/s]\n",
      "20000it [02:34, 129.28it/s]\n"
     ]
    },
    {
     "name": "stdout",
     "output_type": "stream",
     "text": [
      "delta_t 2:35:25.727612\n",
      "\n",
      "18 --> start at:2022-01-06 10:08:36.425113\n"
     ]
    },
    {
     "name": "stderr",
     "output_type": "stream",
     "text": [
      "100%|█████████▉| 9999/10000 [04:23<00:00, 37.98it/s]\n",
      "100%|█████████▉| 9999/10000 [04:21<00:00, 38.23it/s]\n",
      "20000it [03:35, 92.97it/s] \n"
     ]
    },
    {
     "name": "stdout",
     "output_type": "stream",
     "text": [
      "delta_t 2:37:54.027932\n",
      "\n",
      "Fini\n"
     ]
    }
   ],
   "source": [
    "for random_state in random_state_list:\n",
    "    start_time = datetime.now()\n",
    "    print(random_state, f\"--> start at:{start_time}\")\n",
    "    \n",
    "    N, train_score_mean, val_score_mean = test_models(random_state)\n",
    "    \n",
    "    utils.pickle_save([N, train_score_mean, val_score_mean], f\"{PATH_DATA}/results/results_{random_state}.pklz\")\n",
    "    end_time = datetime.now()\n",
    "    print(\"delta_t\",end_time - start_time)\n",
    "    print(\"\")\n",
    "print(\"Fini\")"
   ]
  },
  {
   "cell_type": "code",
   "execution_count": null,
   "id": "ccdee7ab",
   "metadata": {},
   "outputs": [],
   "source": [
    "# a,b,c = utils.pickle_read(f\"{PATH_DATA}/results/results_63.pklz\")"
   ]
  },
  {
   "cell_type": "code",
   "execution_count": null,
   "id": "56b1b2b5",
   "metadata": {},
   "outputs": [],
   "source": [
    "# a, b, c = np.mean(results, axis = 0)"
   ]
  },
  {
   "cell_type": "code",
   "execution_count": null,
   "id": "9deacd6b",
   "metadata": {},
   "outputs": [],
   "source": [
    "start_time = datetime.now()\n",
    "start_time.hour, start_time.minute, start_time.second"
   ]
  },
  {
   "cell_type": "code",
   "execution_count": null,
   "id": "b04326ba",
   "metadata": {},
   "outputs": [],
   "source": []
  },
  {
   "cell_type": "code",
   "execution_count": null,
   "id": "4fc7c452",
   "metadata": {},
   "outputs": [],
   "source": []
  }
 ],
 "metadata": {
  "accelerator": "GPU",
  "colab": {
   "collapsed_sections": [],
   "name": "iteration_01_2_pretraitement_1.ipynb",
   "provenance": [
    {
     "file_id": "https://github.com/YounesZ/A62-EquipeCV/blob/feature-colab-integration/notebook/iteration_01_2_pretraitement_1.ipynb",
     "timestamp": 1637800145320
    }
   ]
  },
  "kernelspec": {
   "display_name": "Python 3",
   "language": "python",
   "name": "python3"
  },
  "language_info": {
   "codemirror_mode": {
    "name": "ipython",
    "version": 3
   },
   "file_extension": ".py",
   "mimetype": "text/x-python",
   "name": "python",
   "nbconvert_exporter": "python",
   "pygments_lexer": "ipython3",
   "version": "3.8.5"
  },
  "toc": {
   "base_numbering": 1,
   "nav_menu": {},
   "number_sections": true,
   "sideBar": true,
   "skip_h1_title": false,
   "title_cell": "Table of Contents",
   "title_sidebar": "Contents",
   "toc_cell": false,
   "toc_position": {},
   "toc_section_display": true,
   "toc_window_display": false
  }
 },
 "nbformat": 4,
 "nbformat_minor": 5
}
