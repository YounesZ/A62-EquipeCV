{
 "cells": [
  {
   "cell_type": "code",
   "execution_count": 1,
   "metadata": {},
   "outputs": [],
   "source": [
    "def create_dir_hierarchy(dir_hierarchy: str):\n",
    "    dir_hierarchy_temp=dir_hierarchy.replace(\"/\", \"\\\\\")\n",
    "    dir_token_list=dir_hierarchy_temp.split(\"\\\\\")\n",
    "\n",
    "    dir_hierarchy_temp=\"\"\n",
    "    for dir_token in dir_token_list:\n",
    "        dir_hierarchy_temp += dir_token\n",
    "\n",
    "        if os.path.isdir(dir_hierarchy_temp)==False:\n",
    "            os.mkdir(dir_hierarchy_temp)\n",
    "\n",
    "        dir_hierarchy_temp += \"\\\\\""
   ]
  },
  {
   "cell_type": "code",
   "execution_count": 2,
   "metadata": {},
   "outputs": [],
   "source": [
    "def pickel_save(object_to_save: object, file_info: str):\n",
    "    pickle.dump(object_to_save, open(file_info, \"wb\"))"
   ]
  },
  {
   "cell_type": "code",
   "execution_count": 3,
   "metadata": {},
   "outputs": [],
   "source": [
    "def pickel_read(file_info: str) -> object:\n",
    "    return pickle.load(open(file_info, \"rb\" ))"
   ]
  },
  {
   "cell_type": "code",
   "execution_count": 4,
   "metadata": {},
   "outputs": [],
   "source": [
    "def split_file_info(file_info: str) -> (str, str, str):\n",
    "    file_info_temp  = file_info.replace(\"/\", \"\\\\\")\n",
    "    info_token_list = file_info_temp.split(\"\\\\\")\n",
    "    file_token_list = info_token_list[-1].split(\".\")\n",
    "    file_name       = file_token_list[0]\n",
    "    file_extension  = file_token_list[1]\n",
    "    path = \"/\".join(info_token_list[:-1])\n",
    "    return path, file_name, file_extension"
   ]
  },
  {
   "cell_type": "code",
   "execution_count": null,
   "metadata": {},
   "outputs": [],
   "source": []
  }
 ],
 "metadata": {
  "kernelspec": {
   "display_name": "Python 3",
   "language": "python",
   "name": "python3"
  },
  "language_info": {
   "codemirror_mode": {
    "name": "ipython",
    "version": 3
   },
   "file_extension": ".py",
   "mimetype": "text/x-python",
   "name": "python",
   "nbconvert_exporter": "python",
   "pygments_lexer": "ipython3",
   "version": "3.8.2"
  },
  "toc": {
   "base_numbering": 1,
   "nav_menu": {},
   "number_sections": true,
   "sideBar": true,
   "skip_h1_title": false,
   "title_cell": "Table of Contents",
   "title_sidebar": "Contents",
   "toc_cell": false,
   "toc_position": {},
   "toc_section_display": true,
   "toc_window_display": false
  }
 },
 "nbformat": 4,
 "nbformat_minor": 5
}
