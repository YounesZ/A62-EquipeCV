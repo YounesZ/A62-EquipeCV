{
 "cells": [
  {
   "cell_type": "code",
   "execution_count": 1,
   "metadata": {},
   "outputs": [],
   "source": [
    "PATH_ROOT = \"..\"\n",
    "\n",
    "PATH_SOURCE_IMG = PATH_ROOT + \"/\" + \"cell_images\"\n",
    "\n",
    "PATH_DATA = PATH_ROOT + \"/\" + \"data\"\n",
    "PATH_DATA_LIST = PATH_DATA + \"/\" + \"list\"\n",
    "PATH_DATA_EDA = PATH_DATA + \"/\" + \"eda\"\n",
    "PATH_DATA_SAMPLE = PATH_DATA + \"/\" + \"sample\"\n",
    "\n",
    "PATH_MODEL = PATH_ROOT + \"/\" + \"model\"\n",
    "\n",
    "HEALTHY = \"H\"\n",
    "SICK = \"S\"\n",
    "NBR_SAMPLE = 2000\n",
    "IMG_SIZE = 400"
   ]
  },
  {
   "cell_type": "code",
   "execution_count": null,
   "metadata": {},
   "outputs": [],
   "source": []
  }
 ],
 "metadata": {
  "kernelspec": {
   "display_name": "Python 3",
   "language": "python",
   "name": "python3"
  },
  "language_info": {
   "codemirror_mode": {
    "name": "ipython",
    "version": 3
   },
   "file_extension": ".py",
   "mimetype": "text/x-python",
   "name": "python",
   "nbconvert_exporter": "python",
   "pygments_lexer": "ipython3",
   "version": "3.8.2"
  }
 },
 "nbformat": 4,
 "nbformat_minor": 4
}
