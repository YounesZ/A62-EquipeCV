{
 "cells": [
  {
   "cell_type": "code",
   "execution_count": 1,
   "id": "ad865c85",
   "metadata": {},
   "outputs": [],
   "source": [
    "import import_ipynb"
   ]
  },
  {
   "cell_type": "code",
   "execution_count": 2,
   "id": "5a2ac324",
   "metadata": {},
   "outputs": [],
   "source": [
    "%run iteration_0_imports.py"
   ]
  },
  {
   "cell_type": "code",
   "execution_count": 3,
   "id": "e8567f07",
   "metadata": {},
   "outputs": [],
   "source": [
    "%run iteration_0_parameters.py"
   ]
  },
  {
   "cell_type": "code",
   "execution_count": 4,
   "id": "fcbd8b98",
   "metadata": {},
   "outputs": [
    {
     "name": "stdout",
     "output_type": "stream",
     "text": [
      "importing Jupyter notebook from iteration_0_utils.ipynb\n"
     ]
    }
   ],
   "source": [
    "import iteration_0_utils as utils"
   ]
  },
  {
   "cell_type": "code",
   "execution_count": 5,
   "id": "a411afe7",
   "metadata": {},
   "outputs": [
    {
     "name": "stdout",
     "output_type": "stream",
     "text": [
      "Variable                          Type        Data/Info\n",
      "-------------------------------------------------------\n",
      "HEALTHY                           str         H\n",
      "IMG_IN_COLOR                      int         1\n",
      "IMG_SIZE                          int         64\n",
      "Image                             module      <module 'PIL.Image' from <...>packages\\\\PIL\\\\Image.py'>\n",
      "NBR_SAMPLE                        int         20000\n",
      "PATH_DATA                         str         ../data\n",
      "PATH_DATA_EDA                     str         ../data/eda\n",
      "PATH_DATA_LIST                    str         ../data/list\n",
      "PATH_DATA_SAMPLE                  str         ../data/sample\n",
      "PATH_MODEL                        str         ../model\n",
      "PATH_ROOT                         str         ..\n",
      "PATH_SOURCE_IMG                   str         ../cell_images\n",
      "RandomForestClassifier            ABCMeta     <class 'sklearn.ensemble.<...>.RandomForestClassifier'>\n",
      "SICK                              str         S\n",
      "classification_report             function    <function classification_<...>rt at 0x0000020548B52AF0>\n",
      "confusion_matrix                  function    <function confusion_matrix at 0x0000020548B52280>\n",
      "cv2                               module      <module 'cv2' from 'c:\\\\u<...>kages\\\\cv2\\\\__init__.py'>\n",
      "datetime                          type        <class 'datetime.datetime'>\n",
      "f1_score                          function    <function f1_score at 0x0000020548B525E0>\n",
      "gc                                module      <module 'gc' (built-in)>\n",
      "glob                              module      <module 'glob' from 'C:\\\\<...>Anaconda3\\\\lib\\\\glob.py'>\n",
      "gzip                              module      <module 'gzip' from 'C:\\\\<...>Anaconda3\\\\lib\\\\gzip.py'>\n",
      "import_ipynb                      module      <module 'import_ipynb' fr<...>ckages\\\\import_ipynb.py'>\n",
      "learning_curve                    function    <function learning_curve at 0x0000020548D1C430>\n",
      "mlflow                            module      <module 'mlflow' from 'c:<...>es\\\\mlflow\\\\__init__.py'>\n",
      "np                                module      <module 'numpy' from 'c:\\<...>ges\\\\numpy\\\\__init__.py'>\n",
      "os                                module      <module 'os' from 'C:\\\\Te<...>\\\\Anaconda3\\\\lib\\\\os.py'>\n",
      "pd                                module      <module 'pandas' from 'c:<...>es\\\\pandas\\\\__init__.py'>\n",
      "pickle                            module      <module 'pickle' from 'C:<...>aconda3\\\\lib\\\\pickle.py'>\n",
      "plt                               module      <module 'matplotlib.pyplo<...>\\\\matplotlib\\\\pyplot.py'>\n",
      "precision_recall_fscore_support   function    <function precision_recal<...>rt at 0x0000020548B528B0>\n",
      "random                            module      <module 'random' from 'C:<...>aconda3\\\\lib\\\\random.py'>\n",
      "sns                               module      <module 'seaborn' from 'c<...>s\\\\seaborn\\\\__init__.py'>\n",
      "sp                                module      <module 'scipy.sparse' fr<...>py\\\\sparse\\\\__init__.py'>\n",
      "tqdm                              type        <class 'tqdm.std.tqdm'>\n",
      "train_test_split                  function    <function train_test_split at 0x0000020548D17790>\n",
      "utils                             module      <module 'iteration_0_util<...> at 0x0000020519FF2040>)>\n"
     ]
    }
   ],
   "source": [
    "%whos"
   ]
  },
  {
   "cell_type": "markdown",
   "id": "01fa02d1",
   "metadata": {},
   "source": [
    "# make X, y"
   ]
  },
  {
   "cell_type": "code",
   "execution_count": 6,
   "id": "98fd2f38",
   "metadata": {},
   "outputs": [],
   "source": [
    "DATE_TIME = \"2021-11-18_20-39-00\""
   ]
  },
  {
   "cell_type": "code",
   "execution_count": 7,
   "id": "0cd663ae",
   "metadata": {},
   "outputs": [],
   "source": [
    "# get list \n",
    "list_path_sample_img = []\n",
    "list_path_sample_img.extend(glob.glob(PATH_DATA_SAMPLE+\"/\"+DATE_TIME+ \"/\"+ \"*.pklz\"))"
   ]
  },
  {
   "cell_type": "code",
   "execution_count": 8,
   "id": "d1b92d31",
   "metadata": {},
   "outputs": [],
   "source": [
    "# create dataframe with two columns: \n",
    "## path_sample_img: image path in sample\n",
    "## label: Healthy ou Sick\n",
    "def make_dataFrame(list_path_sample_img: list) -> pd.DataFrame:\n",
    "\n",
    "    df_sample_img = pd.DataFrame(columns = [\"path_sample_img\", \"label\"])\n",
    "    for path_img in tqdm(list_path_sample_img):\n",
    "\n",
    "        _, file_name, _ = utils.split_file_info(path_img)\n",
    "        label = file_name[0]\n",
    "        df_temporary = pd.DataFrame({\"path_sample_img\": path_img,\n",
    "                                     \"label\": label}, index = [0])\n",
    "        df_sample_img = pd.concat([df_sample_img, df_temporary])\n",
    "\n",
    "    # randomise and reset index\n",
    "    df_sample_img = df_sample_img.sample(frac=1).reset_index(drop = True)\n",
    "    return df_sample_img"
   ]
  },
  {
   "cell_type": "code",
   "execution_count": 9,
   "id": "55f131a1",
   "metadata": {},
   "outputs": [],
   "source": [
    "# set options \n",
    "pd.set_option('display.max_colwidth', None)\n",
    "# to rest options\n",
    "# pd.reset_option('^display.', silent=True)"
   ]
  },
  {
   "cell_type": "code",
   "execution_count": 10,
   "id": "adffddf2",
   "metadata": {},
   "outputs": [
    {
     "name": "stderr",
     "output_type": "stream",
     "text": [
      "100%|██████████████████████████████████████████████████████████████████████████| 20000/20000 [00:11<00:00, 1808.73it/s]\n"
     ]
    }
   ],
   "source": [
    "df_sample_img = make_dataFrame(list_path_sample_img)"
   ]
  },
  {
   "cell_type": "code",
   "execution_count": 11,
   "id": "e18a97f3",
   "metadata": {},
   "outputs": [
    {
     "data": {
      "text/html": [
       "<div>\n",
       "<style scoped>\n",
       "    .dataframe tbody tr th:only-of-type {\n",
       "        vertical-align: middle;\n",
       "    }\n",
       "\n",
       "    .dataframe tbody tr th {\n",
       "        vertical-align: top;\n",
       "    }\n",
       "\n",
       "    .dataframe thead th {\n",
       "        text-align: right;\n",
       "    }\n",
       "</style>\n",
       "<table border=\"1\" class=\"dataframe\">\n",
       "  <thead>\n",
       "    <tr style=\"text-align: right;\">\n",
       "      <th></th>\n",
       "      <th>path_sample_img</th>\n",
       "      <th>label</th>\n",
       "    </tr>\n",
       "  </thead>\n",
       "  <tbody>\n",
       "    <tr>\n",
       "      <th>15601</th>\n",
       "      <td>../data/sample/2021-11-18_20-39-00\\S_C39P4thinF_original_IMG_20150622_111942_cell_19.pklz</td>\n",
       "      <td>S</td>\n",
       "    </tr>\n",
       "    <tr>\n",
       "      <th>16337</th>\n",
       "      <td>../data/sample/2021-11-18_20-39-00\\S_C81P42ThinF_IMG_20150817_120712_cell_162.pklz</td>\n",
       "      <td>S</td>\n",
       "    </tr>\n",
       "    <tr>\n",
       "      <th>5739</th>\n",
       "      <td>../data/sample/2021-11-18_20-39-00\\H_C52P13thinF_IMG_20150725_125847_cell_1.pklz</td>\n",
       "      <td>H</td>\n",
       "    </tr>\n",
       "    <tr>\n",
       "      <th>4403</th>\n",
       "      <td>../data/sample/2021-11-18_20-39-00\\H_C160P121ThinF_IMG_20151116_093704_cell_72.pklz</td>\n",
       "      <td>H</td>\n",
       "    </tr>\n",
       "    <tr>\n",
       "      <th>1404</th>\n",
       "      <td>../data/sample/2021-11-18_20-39-00\\S_C59P20thinF_IMG_20150803_112733_cell_182.pklz</td>\n",
       "      <td>S</td>\n",
       "    </tr>\n",
       "  </tbody>\n",
       "</table>\n",
       "</div>"
      ],
      "text/plain": [
       "                                                                                 path_sample_img  \\\n",
       "15601  ../data/sample/2021-11-18_20-39-00\\S_C39P4thinF_original_IMG_20150622_111942_cell_19.pklz   \n",
       "16337         ../data/sample/2021-11-18_20-39-00\\S_C81P42ThinF_IMG_20150817_120712_cell_162.pklz   \n",
       "5739            ../data/sample/2021-11-18_20-39-00\\H_C52P13thinF_IMG_20150725_125847_cell_1.pklz   \n",
       "4403         ../data/sample/2021-11-18_20-39-00\\H_C160P121ThinF_IMG_20151116_093704_cell_72.pklz   \n",
       "1404          ../data/sample/2021-11-18_20-39-00\\S_C59P20thinF_IMG_20150803_112733_cell_182.pklz   \n",
       "\n",
       "      label  \n",
       "15601     S  \n",
       "16337     S  \n",
       "5739      H  \n",
       "4403      H  \n",
       "1404      S  "
      ]
     },
     "execution_count": 11,
     "metadata": {},
     "output_type": "execute_result"
    }
   ],
   "source": [
    "df_sample_img.sample(5)"
   ]
  },
  {
   "cell_type": "code",
   "execution_count": 12,
   "id": "31d31b95",
   "metadata": {},
   "outputs": [],
   "source": [
    "# split train, validation, test set\n",
    "df_path_sample_img_train, df_path_sample_img_test  = train_test_split(df_sample_img, test_size=0.2, random_state=1, \\\n",
    "                                                                          stratify=df_sample_img.label)\n",
    "\n",
    "df_path_sample_img_train, df_path_sample_img_valid = train_test_split(df_path_sample_img_train, test_size=0.2, \\\n",
    "                                                                      random_state=1, stratify=df_path_sample_img_train.label)"
   ]
  },
  {
   "cell_type": "code",
   "execution_count": 13,
   "id": "0cdf411e",
   "metadata": {},
   "outputs": [],
   "source": [
    "# # split train, validation, test set\n",
    "# list_path_sample_img_train, list_path_sample_img_test  = train_test_split(list_path_sample_img, test_size=0.2)\n",
    "# list_path_sample_img_train, list_path_sample_img_valid = train_test_split(list_path_sample_img_train, test_size=0.2)"
   ]
  },
  {
   "cell_type": "code",
   "execution_count": 14,
   "id": "3d9609f4",
   "metadata": {},
   "outputs": [],
   "source": [
    "def make_Xy(list_path_sample_img: list) -> (np.array, np.array):\n",
    "    X = np.ndarray( (len(list_path_sample_img), IMG_SIZE, IMG_SIZE, 3) ,dtype = \"float16\")\n",
    "    y = np.array([\"\"] * len(list_path_sample_img))\n",
    "    for i, path in tqdm(enumerate(list_path_sample_img)):\n",
    "        \n",
    "        X[i] = utils.pickle_read(path).astype(\"float16\")\n",
    "    \n",
    "        _, file_name, _ = utils.split_file_info(path)\n",
    "        y[i] = file_name[0]\n",
    "    \n",
    "    return X, y\n",
    "    "
   ]
  },
  {
   "cell_type": "code",
   "execution_count": 15,
   "id": "5a72ecd5",
   "metadata": {},
   "outputs": [
    {
     "name": "stderr",
     "output_type": "stream",
     "text": [
      "12800it [00:10, 1172.60it/s]\n"
     ]
    }
   ],
   "source": [
    "X_train, y_train  = make_Xy(df_path_sample_img_train.path_sample_img)"
   ]
  },
  {
   "cell_type": "code",
   "execution_count": 16,
   "id": "d64f68a2",
   "metadata": {},
   "outputs": [
    {
     "name": "stderr",
     "output_type": "stream",
     "text": [
      "3200it [00:02, 1193.59it/s]\n"
     ]
    }
   ],
   "source": [
    "X_valid, y_valid  = make_Xy(df_path_sample_img_valid.path_sample_img)"
   ]
  },
  {
   "cell_type": "code",
   "execution_count": 17,
   "id": "302ca734",
   "metadata": {},
   "outputs": [
    {
     "name": "stderr",
     "output_type": "stream",
     "text": [
      "4000it [00:03, 1152.41it/s]\n"
     ]
    }
   ],
   "source": [
    "X_test, y_test  = make_Xy(df_path_sample_img_test.path_sample_img)"
   ]
  },
  {
   "cell_type": "code",
   "execution_count": 18,
   "id": "bb1d2a93",
   "metadata": {},
   "outputs": [
    {
     "name": "stdout",
     "output_type": "stream",
     "text": [
      "(array(['H', 'S'], dtype='<U1'), array([6400, 6400], dtype=int64))\n",
      "(array(['H', 'S'], dtype='<U1'), array([1600, 1600], dtype=int64))\n",
      "(array(['H', 'S'], dtype='<U1'), array([2000, 2000], dtype=int64))\n"
     ]
    }
   ],
   "source": [
    "# verification\n",
    "print(np.unique(y_train, return_counts=True))\n",
    "print(np.unique(y_valid, return_counts=True))\n",
    "print(np.unique(y_test,  return_counts=True))"
   ]
  },
  {
   "cell_type": "code",
   "execution_count": 19,
   "id": "beeda530",
   "metadata": {},
   "outputs": [
    {
     "name": "stdout",
     "output_type": "stream",
     "text": [
      "(12800, 64, 64, 3)\n",
      "(3200, 64, 64, 3)\n",
      "(4000, 64, 64, 3)\n"
     ]
    }
   ],
   "source": [
    "print(X_train.shape)\n",
    "print(X_valid.shape)\n",
    "print(X_test.shape)"
   ]
  },
  {
   "cell_type": "markdown",
   "id": "7a92fdbe",
   "metadata": {},
   "source": [
    "# model_cnn"
   ]
  },
  {
   "cell_type": "markdown",
   "id": "632aae0e",
   "metadata": {},
   "source": [
    "* Ref: https://towardsdatascience.com/detecting-malaria-with-deep-learning-9e45c1e34b60\n",
    "* https://towardsdatascience.com/understanding-and-calculating-the-number-of-parameters-in-convolution-neural-networks-cnns-fc88790d530d"
   ]
  },
  {
   "cell_type": "code",
   "execution_count": 20,
   "id": "54860013",
   "metadata": {},
   "outputs": [],
   "source": [
    "BATCH_SIZE = 500\n",
    "#percentage = 0.10\n",
    "#BATCH_SIZE = int(len(X_train) * percentage)\n",
    "\n",
    "NUM_CLASSES = 2\n",
    "EPOCHS = 25\n",
    "INPUT_SHAPE = (IMG_SIZE, IMG_SIZE, 3)"
   ]
  },
  {
   "cell_type": "code",
   "execution_count": 21,
   "id": "19b6ac0e",
   "metadata": {},
   "outputs": [],
   "source": [
    "# Encoder y\n",
    "from sklearn.preprocessing import LabelEncoder"
   ]
  },
  {
   "cell_type": "code",
   "execution_count": 22,
   "id": "8d776d9a",
   "metadata": {},
   "outputs": [],
   "source": [
    "le = LabelEncoder()"
   ]
  },
  {
   "cell_type": "code",
   "execution_count": 23,
   "id": "c9b79033",
   "metadata": {},
   "outputs": [],
   "source": [
    "y_train_enc = le.fit_transform(y_train)"
   ]
  },
  {
   "cell_type": "code",
   "execution_count": 24,
   "id": "ec7bc157",
   "metadata": {},
   "outputs": [],
   "source": [
    "y_valid_enc = le.transform(y_valid)\n",
    "y_test_enc  = le.transform(y_test)"
   ]
  },
  {
   "cell_type": "code",
   "execution_count": 25,
   "id": "112be444",
   "metadata": {},
   "outputs": [
    {
     "data": {
      "text/plain": [
       "array(['H', 'S'], dtype='<U1')"
      ]
     },
     "execution_count": 25,
     "metadata": {},
     "output_type": "execute_result"
    }
   ],
   "source": [
    "le.classes_"
   ]
  },
  {
   "cell_type": "code",
   "execution_count": 26,
   "id": "b34eb630",
   "metadata": {},
   "outputs": [],
   "source": [
    "#!pip uninstall tensorflow"
   ]
  },
  {
   "cell_type": "markdown",
   "id": "65f8c2d4",
   "metadata": {},
   "source": [
    "Créer un fichier .reg avec les instructions suivantes :\n",
    "\n",
    "===\n",
    "\n",
    "Windows Registry Editor Version 5.00\n",
    "\n",
    "[HKEY_LOCAL_MACHINE\\SYSTEM\\CurrentControlSet\\Control\\FileSystem]\n",
    "\"LongPathsEnabled\"=dword:00000001\n",
    "\n",
    "---\n",
    "\n",
    "Exécuter le .reg"
   ]
  },
  {
   "cell_type": "code",
   "execution_count": 27,
   "id": "646e9ab2",
   "metadata": {},
   "outputs": [],
   "source": [
    "#!pip install tensorflow"
   ]
  },
  {
   "cell_type": "code",
   "execution_count": 28,
   "id": "62add767",
   "metadata": {},
   "outputs": [],
   "source": [
    "import tensorflow as tf"
   ]
  },
  {
   "cell_type": "code",
   "execution_count": 29,
   "id": "5fc97c10",
   "metadata": {},
   "outputs": [],
   "source": [
    "from keras.models import Sequential"
   ]
  },
  {
   "cell_type": "code",
   "execution_count": 30,
   "id": "8798a5a5",
   "metadata": {},
   "outputs": [],
   "source": [
    "#assert False"
   ]
  },
  {
   "cell_type": "code",
   "execution_count": 31,
   "id": "4c7f239d",
   "metadata": {},
   "outputs": [],
   "source": [
    "def plot_history(history):\n",
    "    plt.figure(figsize=(16,9))\n",
    "    # plot loss\n",
    "    plt.subplot(211)\n",
    "    plt.grid()\n",
    "    plt.title('binary_crossentropy')\n",
    "    plt.plot(history.history['loss'], \"o-\", color='blue', label='train')\n",
    "    plt.plot(history.history['val_loss'], \"o-\", color='orange', label='validation')\n",
    "    plt.legend()    \n",
    "    # plot accuracy\n",
    "    plt.subplot(212)\n",
    "    plt.grid()\n",
    "    plt.title('Classification Accuracy')\n",
    "    plt.plot(history.history['accuracy'], \"o-\",color='blue', label='train')\n",
    "    plt.plot(history.history['val_accuracy'], \"o-\",color='orange', label='validation')\n",
    "    plt.legend()\n",
    "    plt.show()"
   ]
  },
  {
   "cell_type": "code",
   "execution_count": 75,
   "id": "13778f5c",
   "metadata": {},
   "outputs": [],
   "source": [
    "def make_model(seq_num: int, drop_out_rate: float) -> Sequential:\n",
    "    model_cnn_6 = Sequential(name=\"cnn_\" + str(seq_num) + \"_drop_out_\" + str(drop_out_rate))\n",
    "    model_cnn_6.add(tf.keras.layers.Input(name = \"input\", shape=INPUT_SHAPE))\n",
    "    model_cnn_6.add(tf.keras.layers.Conv2D(name = \"conv2D\",\n",
    "                                         filters=32,\n",
    "                                         kernel_size=(3,3),\n",
    "                                         activation=\"LeakyReLU\",\n",
    "                                         padding=\"same\",\n",
    "                                         kernel_initializer=\"he_uniform\"\n",
    "                                        ))\n",
    "    model_cnn_6.add(tf.keras.layers.MaxPooling2D(name=\"pooling\", pool_size=(2,2)))\n",
    "    model_cnn_6.add(tf.keras.layers.Dropout(rate=drop_out_rate, name=\"dropout\"))\n",
    "\n",
    "    model_cnn_6.add(tf.keras.layers.Conv2D(name = \"conv2D_2\",\n",
    "                                         filters=64,\n",
    "                                         kernel_size=(3,3),\n",
    "                                         activation=\"LeakyReLU\",\n",
    "                                         padding=\"same\",\n",
    "                                         kernel_initializer=\"he_uniform\"\n",
    "                                        ))\n",
    "    model_cnn_6.add(tf.keras.layers.MaxPooling2D(name=\"pooling_2\", pool_size=(2,2)))\n",
    "    model_cnn_6.add(tf.keras.layers.Dropout(rate=drop_out_rate, name=\"dropout_2\"))\n",
    "\n",
    "    model_cnn_6.add(tf.keras.layers.Conv2D(name = \"conv2D_3\",\n",
    "                                         filters=128,\n",
    "                                         kernel_size=(3,3),\n",
    "                                         activation=\"LeakyReLU\",\n",
    "                                         padding=\"same\",\n",
    "                                         kernel_initializer=\"he_uniform\"\n",
    "                                        ))\n",
    "    model_cnn_6.add(tf.keras.layers.MaxPooling2D(name=\"pooling_3\", pool_size=(2,2)))\n",
    "    model_cnn_6.add(tf.keras.layers.Dropout(rate=drop_out_rate, name=\"dropout_3\"))\n",
    "\n",
    "    model_cnn_6.add(tf.keras.layers.Flatten(name=\"flatten\"))\n",
    "    model_cnn_6.add(tf.keras.layers.Dense(name=\"dense_hidden\", units = 1024, activation=\"LeakyReLU\",\n",
    "                                        kernel_initializer=\"he_uniform\" ))\n",
    "    model_cnn_6.add(tf.keras.layers.Dense(name=\"dense_hidden_2\", units = 128, activation=\"LeakyReLU\",\n",
    "                                        kernel_initializer=\"he_uniform\" ))\n",
    "    model_cnn_6.add(tf.keras.layers.Dense(name=\"ouput\", units = 1, activation=\"sigmoid\"))\n",
    "\n",
    "    # compiler modele\n",
    "    model_cnn_6.compile(optimizer = tf.keras.optimizers.Adam(learning_rate=1e-3),\\\n",
    "                        loss =\"binary_crossentropy\", metrics=[\"accuracy\"])\n",
    "\n",
    "    return model_cnn_6"
   ]
  },
  {
   "cell_type": "code",
   "execution_count": 76,
   "id": "29ac772c",
   "metadata": {},
   "outputs": [],
   "source": [
    "model_cnn_6 = make_model(6, 0.2)"
   ]
  },
  {
   "cell_type": "code",
   "execution_count": 78,
   "id": "2d4567cc",
   "metadata": {},
   "outputs": [
    {
     "name": "stdout",
     "output_type": "stream",
     "text": [
      "Model: \"cnn_6_drop_out_0.2\"\n",
      "_________________________________________________________________\n",
      " Layer (type)                Output Shape              Param #   \n",
      "=================================================================\n",
      " conv2D (Conv2D)             (None, 64, 64, 32)        896       \n",
      "                                                                 \n",
      " pooling (MaxPooling2D)      (None, 32, 32, 32)        0         \n",
      "                                                                 \n",
      " dropout (Dropout)           (None, 32, 32, 32)        0         \n",
      "                                                                 \n",
      " conv2D_2 (Conv2D)           (None, 32, 32, 64)        18496     \n",
      "                                                                 \n",
      " pooling_2 (MaxPooling2D)    (None, 16, 16, 64)        0         \n",
      "                                                                 \n",
      " dropout_2 (Dropout)         (None, 16, 16, 64)        0         \n",
      "                                                                 \n",
      " conv2D_3 (Conv2D)           (None, 16, 16, 128)       73856     \n",
      "                                                                 \n",
      " pooling_3 (MaxPooling2D)    (None, 8, 8, 128)         0         \n",
      "                                                                 \n",
      " dropout_3 (Dropout)         (None, 8, 8, 128)         0         \n",
      "                                                                 \n",
      " flatten (Flatten)           (None, 8192)              0         \n",
      "                                                                 \n",
      " dense_hidden (Dense)        (None, 1024)              8389632   \n",
      "                                                                 \n",
      " dense_hidden_2 (Dense)      (None, 128)               131200    \n",
      "                                                                 \n",
      " ouput (Dense)               (None, 1)                 129       \n",
      "                                                                 \n",
      "=================================================================\n",
      "Total params: 8,614,209\n",
      "Trainable params: 8,614,209\n",
      "Non-trainable params: 0\n",
      "_________________________________________________________________\n"
     ]
    }
   ],
   "source": [
    "model_cnn_6.summary()"
   ]
  },
  {
   "cell_type": "code",
   "execution_count": 68,
   "id": "798ad53a",
   "metadata": {},
   "outputs": [],
   "source": [
    "from tensorflow.keras.preprocessing.image import ImageDataGenerator"
   ]
  },
  {
   "cell_type": "code",
   "execution_count": 69,
   "id": "4b4bfe3a",
   "metadata": {},
   "outputs": [],
   "source": [
    "aug = ImageDataGenerator(rotation_range=359, \\\n",
    "                         zoom_range=0.15, \\\n",
    "                         width_shift_range=0.2, height_shift_range=0.2, \\\n",
    "                         shear_range=0.15, \\\n",
    "                         horizontal_flip=True, \\\n",
    "                         vertical_flip=True, \\\n",
    "                         fill_mode=\"nearest\")"
   ]
  },
  {
   "cell_type": "code",
   "execution_count": 70,
   "id": "0157bda9",
   "metadata": {},
   "outputs": [
    {
     "data": {
      "text/plain": [
       "25"
      ]
     },
     "execution_count": 70,
     "metadata": {},
     "output_type": "execute_result"
    }
   ],
   "source": [
    "len(X_train) // BATCH_SIZE"
   ]
  },
  {
   "cell_type": "code",
   "execution_count": 71,
   "id": "4df37c30",
   "metadata": {},
   "outputs": [
    {
     "data": {
      "text/plain": [
       "'2.7.0'"
      ]
     },
     "execution_count": 71,
     "metadata": {},
     "output_type": "execute_result"
    }
   ],
   "source": [
    "tf.__version__"
   ]
  },
  {
   "cell_type": "code",
   "execution_count": 46,
   "id": "411b0e0b",
   "metadata": {},
   "outputs": [
    {
     "name": "stdout",
     "output_type": "stream",
     "text": [
      "Epoch 1/25\n",
      "25/25 [==============================] - 51s 2s/step - loss: 3.8504 - accuracy: 0.5082 - val_loss: 0.6712 - val_accuracy: 0.5503\n",
      "Epoch 2/25\n",
      "25/25 [==============================] - 48s 2s/step - loss: 0.7033 - accuracy: 0.5396 - val_loss: 0.9816 - val_accuracy: 0.5053\n",
      "Epoch 3/25\n",
      "25/25 [==============================] - 48s 2s/step - loss: 0.6566 - accuracy: 0.6140 - val_loss: 1.7821 - val_accuracy: 0.5031\n",
      "Epoch 4/25\n",
      "25/25 [==============================] - 48s 2s/step - loss: 0.6423 - accuracy: 0.6355 - val_loss: 2.1795 - val_accuracy: 0.5041\n",
      "Epoch 5/25\n",
      "25/25 [==============================] - 48s 2s/step - loss: 0.6345 - accuracy: 0.6479 - val_loss: 2.2727 - val_accuracy: 0.5072\n",
      "Epoch 6/25\n",
      "25/25 [==============================] - 49s 2s/step - loss: 0.6312 - accuracy: 0.6508 - val_loss: 2.1158 - val_accuracy: 0.5081\n",
      "Epoch 7/25\n",
      "25/25 [==============================] - 49s 2s/step - loss: 0.6365 - accuracy: 0.6459 - val_loss: 1.3829 - val_accuracy: 0.5178\n",
      "Epoch 8/25\n",
      "25/25 [==============================] - 47s 2s/step - loss: 0.6256 - accuracy: 0.6594 - val_loss: 1.6761 - val_accuracy: 0.5172\n",
      "Epoch 9/25\n",
      "25/25 [==============================] - 48s 2s/step - loss: 0.6214 - accuracy: 0.6613 - val_loss: 1.5496 - val_accuracy: 0.5197\n",
      "Epoch 10/25\n",
      "25/25 [==============================] - 48s 2s/step - loss: 0.6199 - accuracy: 0.6597 - val_loss: 1.3240 - val_accuracy: 0.5297\n",
      "Epoch 11/25\n",
      "25/25 [==============================] - 49s 2s/step - loss: 0.6088 - accuracy: 0.6764 - val_loss: 1.1379 - val_accuracy: 0.5431\n",
      "Epoch 12/25\n",
      "25/25 [==============================] - 49s 2s/step - loss: 0.6063 - accuracy: 0.6738 - val_loss: 0.9548 - val_accuracy: 0.5666\n",
      "Epoch 13/25\n",
      "25/25 [==============================] - 48s 2s/step - loss: 0.6059 - accuracy: 0.6747 - val_loss: 0.7268 - val_accuracy: 0.6231\n",
      "Epoch 14/25\n",
      "25/25 [==============================] - 49s 2s/step - loss: 0.6033 - accuracy: 0.6776 - val_loss: 0.7238 - val_accuracy: 0.6294\n",
      "Epoch 15/25\n",
      "25/25 [==============================] - 47s 2s/step - loss: 0.6207 - accuracy: 0.6629 - val_loss: 0.5885 - val_accuracy: 0.7003\n",
      "Epoch 16/25\n",
      "25/25 [==============================] - 47s 2s/step - loss: 0.6020 - accuracy: 0.6761 - val_loss: 0.6147 - val_accuracy: 0.6931\n",
      "Epoch 17/25\n",
      "25/25 [==============================] - 49s 2s/step - loss: 0.5907 - accuracy: 0.6836 - val_loss: 0.5801 - val_accuracy: 0.7078\n",
      "Epoch 18/25\n",
      "25/25 [==============================] - 47s 2s/step - loss: 0.5896 - accuracy: 0.6889 - val_loss: 0.5991 - val_accuracy: 0.7138\n",
      "Epoch 19/25\n",
      "25/25 [==============================] - 48s 2s/step - loss: 0.5730 - accuracy: 0.7033 - val_loss: 1.2320 - val_accuracy: 0.5000\n",
      "Epoch 20/25\n",
      "25/25 [==============================] - 49s 2s/step - loss: 0.5712 - accuracy: 0.7027 - val_loss: 1.3632 - val_accuracy: 0.5000\n",
      "Epoch 21/25\n",
      "25/25 [==============================] - 49s 2s/step - loss: 0.5401 - accuracy: 0.7306 - val_loss: 2.3096 - val_accuracy: 0.5000\n",
      "Epoch 22/25\n",
      "25/25 [==============================] - 48s 2s/step - loss: 0.5248 - accuracy: 0.7463 - val_loss: 3.4389 - val_accuracy: 0.5000\n",
      "Epoch 23/25\n",
      "25/25 [==============================] - 49s 2s/step - loss: 0.5330 - accuracy: 0.7402 - val_loss: 1.8702 - val_accuracy: 0.5000\n",
      "Epoch 24/25\n",
      "25/25 [==============================] - 50s 2s/step - loss: 0.4984 - accuracy: 0.7683 - val_loss: 3.1496 - val_accuracy: 0.5000\n",
      "Epoch 25/25\n",
      "25/25 [==============================] - 50s 2s/step - loss: 0.4429 - accuracy: 0.7981 - val_loss: 4.6455 - val_accuracy: 0.5000\n"
     ]
    }
   ],
   "source": [
    "history_6 = model_cnn_6.fit( \\\n",
    "                            aug.flow(X_train, y_train_enc, batch_size=BATCH_SIZE, subset=None), \\\n",
    "                            validation_data = (X_valid, y_valid_enc), \\\n",
    "                            steps_per_epoch = len(X_train) // BATCH_SIZE, \\\n",
    "                            epochs = EPOCHS\n",
    "                        )"
   ]
  },
  {
   "cell_type": "code",
   "execution_count": 47,
   "id": "10fd777b",
   "metadata": {},
   "outputs": [
    {
     "data": {
      "image/png": "[encoded data removed]",
      "text/plain": [
       "<Figure size 1152x648 with 2 Axes>"
      ]
     },
     "metadata": {
      "needs_background": "light"
     },
     "output_type": "display_data"
    }
   ],
   "source": [
    "plot_history(history_6)"
   ]
  },
  {
   "cell_type": "code",
   "execution_count": 48,
   "id": "6692b5c9",
   "metadata": {},
   "outputs": [],
   "source": [
    "y_pred_proba = model_cnn_6.predict(X_test)"
   ]
  },
  {
   "cell_type": "code",
   "execution_count": 49,
   "id": "765e73e8",
   "metadata": {},
   "outputs": [],
   "source": [
    "def get_classes(y_pred_proba: np.array, le:LabelEncoder) -> np.array:\n",
    "    y_pred_class_num = np.rint(y_pred_proba).astype(int)\n",
    "    y_pred_class_text = le.inverse_transform(y_pred_class_num.ravel())\n",
    "    return y_pred_class_text"
   ]
  },
  {
   "cell_type": "code",
   "execution_count": 50,
   "id": "165c57ff",
   "metadata": {},
   "outputs": [],
   "source": [
    "y_pred = get_classes(y_pred_proba, le)"
   ]
  },
  {
   "cell_type": "markdown",
   "id": "c92e3a34",
   "metadata": {},
   "source": [
    "Légende :\n",
    "* H : Healthy\n",
    "* S : Sick"
   ]
  },
  {
   "cell_type": "code",
   "execution_count": 80,
   "id": "9768a855",
   "metadata": {},
   "outputs": [
    {
     "data": {
      "text/plain": [
       "numpy.ndarray"
      ]
     },
     "execution_count": 80,
     "metadata": {},
     "output_type": "execute_result"
    }
   ],
   "source": [
    "type(y_pred)"
   ]
  },
  {
   "cell_type": "code",
   "execution_count": 81,
   "id": "e11adbf1",
   "metadata": {},
   "outputs": [],
   "source": [
    "def get_metrics(y_test: np.array, y_pred: np.array)->(pd.DataFrame, pd.DataFrame):\n",
    "    # create dataframe metrics\n",
    "    df_metrics = pd.DataFrame(precision_recall_fscore_support(y_test, y_pred), columns = [\"H\", \"S\"], \n",
    "             index=[\"Precion\", \"Recall\", \"F1\", \"Support\"])\n",
    "    # add average column    \n",
    "    df_metrics[\"average_macro\"] = precision_recall_fscore_support(y_test, y_pred, average = \"macro\")\n",
    "    df_metrics = df_metrics.replace(np.nan, -999)\n",
    "    sr_metrics = df_metrics.stack(dropna=False)\n",
    "\n",
    "    df_confusion_matrix = pd.DataFrame(confusion_matrix(y_test, y_pred), columns = [\"cm_H\", \"cm_S\"], index = [\"cm_H\", \"cm_S\"])\n",
    "    sr_confusion_matrix = df_confusion_matrix.stack()\n",
    "    sr_metrics = pd.concat([sr_metrics, sr_confusion_matrix])\n",
    "    \n",
    "    return df_metrics, df_confusion_matrix"
   ]
  },
  {
   "cell_type": "code",
   "execution_count": 82,
   "id": "aa6c7b4d",
   "metadata": {},
   "outputs": [
    {
     "name": "stderr",
     "output_type": "stream",
     "text": [
      "c:\\users\\rené\\documents\\rene\\ia\\ia297\\jupyter\\420-a62-bb_projetsynthese\\projet_keras\\keras\\lib\\site-packages\\sklearn\\metrics\\_classification.py:1318: UndefinedMetricWarning: Precision and F-score are ill-defined and being set to 0.0 in labels with no predicted samples. Use `zero_division` parameter to control this behavior.\n",
      "  _warn_prf(average, modifier, msg_start, len(result))\n",
      "c:\\users\\rené\\documents\\rene\\ia\\ia297\\jupyter\\420-a62-bb_projetsynthese\\projet_keras\\keras\\lib\\site-packages\\sklearn\\metrics\\_classification.py:1318: UndefinedMetricWarning: Precision and F-score are ill-defined and being set to 0.0 in labels with no predicted samples. Use `zero_division` parameter to control this behavior.\n",
      "  _warn_prf(average, modifier, msg_start, len(result))\n"
     ]
    }
   ],
   "source": [
    "df_metrics, df_confusion_matrix = get_metrics(y_test, y_pred)"
   ]
  },
  {
   "cell_type": "code",
   "execution_count": 83,
   "id": "7ab2d6f7",
   "metadata": {},
   "outputs": [
    {
     "data": {
      "text/html": [
       "<div>\n",
       "<style scoped>\n",
       "    .dataframe tbody tr th:only-of-type {\n",
       "        vertical-align: middle;\n",
       "    }\n",
       "\n",
       "    .dataframe tbody tr th {\n",
       "        vertical-align: top;\n",
       "    }\n",
       "\n",
       "    .dataframe thead th {\n",
       "        text-align: right;\n",
       "    }\n",
       "</style>\n",
       "<table border=\"1\" class=\"dataframe\">\n",
       "  <thead>\n",
       "    <tr style=\"text-align: right;\">\n",
       "      <th></th>\n",
       "      <th>H</th>\n",
       "      <th>S</th>\n",
       "      <th>average_macro</th>\n",
       "    </tr>\n",
       "  </thead>\n",
       "  <tbody>\n",
       "    <tr>\n",
       "      <th>Precion</th>\n",
       "      <td>0.0</td>\n",
       "      <td>0.500000</td>\n",
       "      <td>0.250000</td>\n",
       "    </tr>\n",
       "    <tr>\n",
       "      <th>Recall</th>\n",
       "      <td>0.0</td>\n",
       "      <td>1.000000</td>\n",
       "      <td>0.500000</td>\n",
       "    </tr>\n",
       "    <tr>\n",
       "      <th>F1</th>\n",
       "      <td>0.0</td>\n",
       "      <td>0.666667</td>\n",
       "      <td>0.333333</td>\n",
       "    </tr>\n",
       "    <tr>\n",
       "      <th>Support</th>\n",
       "      <td>2000.0</td>\n",
       "      <td>2000.000000</td>\n",
       "      <td>-999.000000</td>\n",
       "    </tr>\n",
       "  </tbody>\n",
       "</table>\n",
       "</div>"
      ],
      "text/plain": [
       "              H            S  average_macro\n",
       "Precion     0.0     0.500000       0.250000\n",
       "Recall      0.0     1.000000       0.500000\n",
       "F1          0.0     0.666667       0.333333\n",
       "Support  2000.0  2000.000000    -999.000000"
      ]
     },
     "execution_count": 83,
     "metadata": {},
     "output_type": "execute_result"
    }
   ],
   "source": [
    "df_metrics"
   ]
  },
  {
   "cell_type": "code",
   "execution_count": 84,
   "id": "db0563d0",
   "metadata": {},
   "outputs": [
    {
     "data": {
      "text/html": [
       "<div>\n",
       "<style scoped>\n",
       "    .dataframe tbody tr th:only-of-type {\n",
       "        vertical-align: middle;\n",
       "    }\n",
       "\n",
       "    .dataframe tbody tr th {\n",
       "        vertical-align: top;\n",
       "    }\n",
       "\n",
       "    .dataframe thead th {\n",
       "        text-align: right;\n",
       "    }\n",
       "</style>\n",
       "<table border=\"1\" class=\"dataframe\">\n",
       "  <thead>\n",
       "    <tr style=\"text-align: right;\">\n",
       "      <th></th>\n",
       "      <th>cm_H</th>\n",
       "      <th>cm_S</th>\n",
       "    </tr>\n",
       "  </thead>\n",
       "  <tbody>\n",
       "    <tr>\n",
       "      <th>cm_H</th>\n",
       "      <td>0</td>\n",
       "      <td>2000</td>\n",
       "    </tr>\n",
       "    <tr>\n",
       "      <th>cm_S</th>\n",
       "      <td>0</td>\n",
       "      <td>2000</td>\n",
       "    </tr>\n",
       "  </tbody>\n",
       "</table>\n",
       "</div>"
      ],
      "text/plain": [
       "      cm_H  cm_S\n",
       "cm_H     0  2000\n",
       "cm_S     0  2000"
      ]
     },
     "execution_count": 84,
     "metadata": {},
     "output_type": "execute_result"
    }
   ],
   "source": [
    "df_confusion_matrix"
   ]
  },
  {
   "cell_type": "markdown",
   "id": "e0008413",
   "metadata": {},
   "source": [
    "## Dropt out 0.1"
   ]
  },
  {
   "cell_type": "code",
   "execution_count": 88,
   "id": "2ad1b488",
   "metadata": {},
   "outputs": [],
   "source": [
    "model_cnn_7 = make_model(7, 0.1)"
   ]
  },
  {
   "cell_type": "code",
   "execution_count": 89,
   "id": "4361455f",
   "metadata": {},
   "outputs": [
    {
     "name": "stdout",
     "output_type": "stream",
     "text": [
      "Model: \"cnn_7_drop_out_0.1\"\n",
      "_________________________________________________________________\n",
      " Layer (type)                Output Shape              Param #   \n",
      "=================================================================\n",
      " conv2D (Conv2D)             (None, 64, 64, 32)        896       \n",
      "                                                                 \n",
      " pooling (MaxPooling2D)      (None, 32, 32, 32)        0         \n",
      "                                                                 \n",
      " dropout (Dropout)           (None, 32, 32, 32)        0         \n",
      "                                                                 \n",
      " conv2D_2 (Conv2D)           (None, 32, 32, 64)        18496     \n",
      "                                                                 \n",
      " pooling_2 (MaxPooling2D)    (None, 16, 16, 64)        0         \n",
      "                                                                 \n",
      " dropout_2 (Dropout)         (None, 16, 16, 64)        0         \n",
      "                                                                 \n",
      " conv2D_3 (Conv2D)           (None, 16, 16, 128)       73856     \n",
      "                                                                 \n",
      " pooling_3 (MaxPooling2D)    (None, 8, 8, 128)         0         \n",
      "                                                                 \n",
      " dropout_3 (Dropout)         (None, 8, 8, 128)         0         \n",
      "                                                                 \n",
      " flatten (Flatten)           (None, 8192)              0         \n",
      "                                                                 \n",
      " dense_hidden (Dense)        (None, 1024)              8389632   \n",
      "                                                                 \n",
      " dense_hidden_2 (Dense)      (None, 128)               131200    \n",
      "                                                                 \n",
      " ouput (Dense)               (None, 1)                 129       \n",
      "                                                                 \n",
      "=================================================================\n",
      "Total params: 8,614,209\n",
      "Trainable params: 8,614,209\n",
      "Non-trainable params: 0\n",
      "_________________________________________________________________\n"
     ]
    }
   ],
   "source": [
    "model_cnn_7.summary()"
   ]
  },
  {
   "cell_type": "code",
   "execution_count": 90,
   "id": "dc46b777",
   "metadata": {},
   "outputs": [
    {
     "name": "stdout",
     "output_type": "stream",
     "text": [
      "Epoch 1/25\n",
      "25/25 [==============================] - 48s 2s/step - loss: 3.0553 - accuracy: 0.5029 - val_loss: 0.6954 - val_accuracy: 0.5203\n",
      "Epoch 2/25\n",
      "25/25 [==============================] - 49s 2s/step - loss: 0.6799 - accuracy: 0.5760 - val_loss: 0.6473 - val_accuracy: 0.6375\n",
      "Epoch 3/25\n",
      "25/25 [==============================] - 51s 2s/step - loss: 0.6552 - accuracy: 0.6181 - val_loss: 0.6615 - val_accuracy: 0.6012\n",
      "Epoch 4/25\n",
      "25/25 [==============================] - 51s 2s/step - loss: 0.6352 - accuracy: 0.6520 - val_loss: 0.7774 - val_accuracy: 0.5544\n",
      "Epoch 5/25\n",
      "25/25 [==============================] - 49s 2s/step - loss: 0.6325 - accuracy: 0.6518 - val_loss: 0.9123 - val_accuracy: 0.5506\n",
      "Epoch 6/25\n",
      "25/25 [==============================] - 50s 2s/step - loss: 0.6469 - accuracy: 0.6363 - val_loss: 0.6201 - val_accuracy: 0.6669\n",
      "Epoch 7/25\n",
      "25/25 [==============================] - 50s 2s/step - loss: 0.6337 - accuracy: 0.6499 - val_loss: 0.6466 - val_accuracy: 0.6388\n",
      "Epoch 8/25\n",
      "25/25 [==============================] - 51s 2s/step - loss: 0.6218 - accuracy: 0.6690 - val_loss: 0.6424 - val_accuracy: 0.6300\n",
      "Epoch 9/25\n",
      "25/25 [==============================] - 49s 2s/step - loss: 0.6239 - accuracy: 0.6561 - val_loss: 0.6503 - val_accuracy: 0.6263\n",
      "Epoch 10/25\n",
      "25/25 [==============================] - 48s 2s/step - loss: 0.6172 - accuracy: 0.6695 - val_loss: 0.6538 - val_accuracy: 0.6228\n",
      "Epoch 11/25\n",
      "25/25 [==============================] - 49s 2s/step - loss: 0.6136 - accuracy: 0.6693 - val_loss: 0.6049 - val_accuracy: 0.6728\n",
      "Epoch 12/25\n",
      "25/25 [==============================] - 49s 2s/step - loss: 0.6008 - accuracy: 0.6850 - val_loss: 0.5583 - val_accuracy: 0.7281\n",
      "Epoch 13/25\n",
      "25/25 [==============================] - 49s 2s/step - loss: 0.5871 - accuracy: 0.6945 - val_loss: 0.5637 - val_accuracy: 0.7113\n",
      "Epoch 14/25\n",
      "25/25 [==============================] - 47s 2s/step - loss: 0.5811 - accuracy: 0.6987 - val_loss: 0.5554 - val_accuracy: 0.7134\n",
      "Epoch 15/25\n",
      "25/25 [==============================] - 47s 2s/step - loss: 0.5572 - accuracy: 0.7192 - val_loss: 0.4949 - val_accuracy: 0.7578\n",
      "Epoch 16/25\n",
      "25/25 [==============================] - 47s 2s/step - loss: 0.5301 - accuracy: 0.7359 - val_loss: 0.4366 - val_accuracy: 0.8050\n",
      "Epoch 17/25\n",
      "25/25 [==============================] - 47s 2s/step - loss: 0.5366 - accuracy: 0.7360 - val_loss: 0.4624 - val_accuracy: 0.7887\n",
      "Epoch 18/25\n",
      "25/25 [==============================] - 48s 2s/step - loss: 0.4637 - accuracy: 0.7848 - val_loss: 0.3322 - val_accuracy: 0.8553\n",
      "Epoch 19/25\n",
      "25/25 [==============================] - 48s 2s/step - loss: 0.4639 - accuracy: 0.7837 - val_loss: 0.3142 - val_accuracy: 0.8781\n",
      "Epoch 20/25\n",
      "25/25 [==============================] - 47s 2s/step - loss: 0.3890 - accuracy: 0.8338 - val_loss: 0.2893 - val_accuracy: 0.8813\n",
      "Epoch 21/25\n",
      "25/25 [==============================] - 47s 2s/step - loss: 0.3615 - accuracy: 0.8496 - val_loss: 0.2441 - val_accuracy: 0.9000\n",
      "Epoch 22/25\n",
      "25/25 [==============================] - 48s 2s/step - loss: 0.3657 - accuracy: 0.8477 - val_loss: 0.3092 - val_accuracy: 0.8784\n",
      "Epoch 23/25\n",
      "25/25 [==============================] - 47s 2s/step - loss: 0.3440 - accuracy: 0.8592 - val_loss: 0.2777 - val_accuracy: 0.8841\n",
      "Epoch 24/25\n",
      "25/25 [==============================] - 48s 2s/step - loss: 0.3226 - accuracy: 0.8725 - val_loss: 0.2349 - val_accuracy: 0.9044\n",
      "Epoch 25/25\n",
      "25/25 [==============================] - 48s 2s/step - loss: 0.3466 - accuracy: 0.8586 - val_loss: 0.2275 - val_accuracy: 0.9106\n"
     ]
    }
   ],
   "source": [
    "history_7 = model_cnn_7.fit( \\\n",
    "                            aug.flow(X_train, y_train_enc, batch_size=BATCH_SIZE, subset=None), \\\n",
    "                            validation_data = (X_valid, y_valid_enc), \\\n",
    "                            steps_per_epoch = len(X_train) // BATCH_SIZE, \\\n",
    "                            epochs = EPOCHS\n",
    "                        )"
   ]
  },
  {
   "cell_type": "code",
   "execution_count": 96,
   "id": "61a65669",
   "metadata": {},
   "outputs": [
    {
     "data": {
      "image/png": "[encoded data removed]",
      "text/plain": [
       "<Figure size 1152x648 with 2 Axes>"
      ]
     },
     "metadata": {
      "needs_background": "light"
     },
     "output_type": "display_data"
    }
   ],
   "source": [
    "plot_history(history_7)"
   ]
  },
  {
   "cell_type": "code",
   "execution_count": 91,
   "id": "6781ac8d",
   "metadata": {},
   "outputs": [],
   "source": [
    "y_pred_proba = model_cnn_7.predict(X_test)"
   ]
  },
  {
   "cell_type": "code",
   "execution_count": 92,
   "id": "b67a3122",
   "metadata": {},
   "outputs": [],
   "source": [
    "y_pred = get_classes(y_pred_proba, le)"
   ]
  },
  {
   "cell_type": "code",
   "execution_count": 93,
   "id": "092536fb",
   "metadata": {},
   "outputs": [],
   "source": [
    "df_metrics, df_confusion_matrix = get_metrics(y_test, y_pred)"
   ]
  },
  {
   "cell_type": "code",
   "execution_count": 94,
   "id": "9c1c1b8c",
   "metadata": {},
   "outputs": [
    {
     "data": {
      "text/html": [
       "<div>\n",
       "<style scoped>\n",
       "    .dataframe tbody tr th:only-of-type {\n",
       "        vertical-align: middle;\n",
       "    }\n",
       "\n",
       "    .dataframe tbody tr th {\n",
       "        vertical-align: top;\n",
       "    }\n",
       "\n",
       "    .dataframe thead th {\n",
       "        text-align: right;\n",
       "    }\n",
       "</style>\n",
       "<table border=\"1\" class=\"dataframe\">\n",
       "  <thead>\n",
       "    <tr style=\"text-align: right;\">\n",
       "      <th></th>\n",
       "      <th>H</th>\n",
       "      <th>S</th>\n",
       "      <th>average_macro</th>\n",
       "    </tr>\n",
       "  </thead>\n",
       "  <tbody>\n",
       "    <tr>\n",
       "      <th>Precion</th>\n",
       "      <td>0.904</td>\n",
       "      <td>0.904</td>\n",
       "      <td>0.904</td>\n",
       "    </tr>\n",
       "    <tr>\n",
       "      <th>Recall</th>\n",
       "      <td>0.904</td>\n",
       "      <td>0.904</td>\n",
       "      <td>0.904</td>\n",
       "    </tr>\n",
       "    <tr>\n",
       "      <th>F1</th>\n",
       "      <td>0.904</td>\n",
       "      <td>0.904</td>\n",
       "      <td>0.904</td>\n",
       "    </tr>\n",
       "    <tr>\n",
       "      <th>Support</th>\n",
       "      <td>2000.000</td>\n",
       "      <td>2000.000</td>\n",
       "      <td>-999.000</td>\n",
       "    </tr>\n",
       "  </tbody>\n",
       "</table>\n",
       "</div>"
      ],
      "text/plain": [
       "                H         S  average_macro\n",
       "Precion     0.904     0.904          0.904\n",
       "Recall      0.904     0.904          0.904\n",
       "F1          0.904     0.904          0.904\n",
       "Support  2000.000  2000.000       -999.000"
      ]
     },
     "execution_count": 94,
     "metadata": {},
     "output_type": "execute_result"
    }
   ],
   "source": [
    "df_metrics"
   ]
  },
  {
   "cell_type": "code",
   "execution_count": 95,
   "id": "b86d5417",
   "metadata": {},
   "outputs": [
    {
     "data": {
      "text/html": [
       "<div>\n",
       "<style scoped>\n",
       "    .dataframe tbody tr th:only-of-type {\n",
       "        vertical-align: middle;\n",
       "    }\n",
       "\n",
       "    .dataframe tbody tr th {\n",
       "        vertical-align: top;\n",
       "    }\n",
       "\n",
       "    .dataframe thead th {\n",
       "        text-align: right;\n",
       "    }\n",
       "</style>\n",
       "<table border=\"1\" class=\"dataframe\">\n",
       "  <thead>\n",
       "    <tr style=\"text-align: right;\">\n",
       "      <th></th>\n",
       "      <th>cm_H</th>\n",
       "      <th>cm_S</th>\n",
       "    </tr>\n",
       "  </thead>\n",
       "  <tbody>\n",
       "    <tr>\n",
       "      <th>cm_H</th>\n",
       "      <td>1808</td>\n",
       "      <td>192</td>\n",
       "    </tr>\n",
       "    <tr>\n",
       "      <th>cm_S</th>\n",
       "      <td>192</td>\n",
       "      <td>1808</td>\n",
       "    </tr>\n",
       "  </tbody>\n",
       "</table>\n",
       "</div>"
      ],
      "text/plain": [
       "      cm_H  cm_S\n",
       "cm_H  1808   192\n",
       "cm_S   192  1808"
      ]
     },
     "execution_count": 95,
     "metadata": {},
     "output_type": "execute_result"
    }
   ],
   "source": [
    "df_confusion_matrix"
   ]
  },
  {
   "cell_type": "markdown",
   "id": "3fc5cb8e",
   "metadata": {},
   "source": [
    "## Drop out 0.05"
   ]
  },
  {
   "cell_type": "code",
   "execution_count": 97,
   "id": "89a6d084",
   "metadata": {},
   "outputs": [],
   "source": [
    "model_cnn_8 = make_model(8, 0.05)"
   ]
  },
  {
   "cell_type": "code",
   "execution_count": 99,
   "id": "3e4e2c49",
   "metadata": {},
   "outputs": [
    {
     "name": "stdout",
     "output_type": "stream",
     "text": [
      "Model: \"cnn_8_drop_out_0.05\"\n",
      "_________________________________________________________________\n",
      " Layer (type)                Output Shape              Param #   \n",
      "=================================================================\n",
      " conv2D (Conv2D)             (None, 64, 64, 32)        896       \n",
      "                                                                 \n",
      " pooling (MaxPooling2D)      (None, 32, 32, 32)        0         \n",
      "                                                                 \n",
      " dropout (Dropout)           (None, 32, 32, 32)        0         \n",
      "                                                                 \n",
      " conv2D_2 (Conv2D)           (None, 32, 32, 64)        18496     \n",
      "                                                                 \n",
      " pooling_2 (MaxPooling2D)    (None, 16, 16, 64)        0         \n",
      "                                                                 \n",
      " dropout_2 (Dropout)         (None, 16, 16, 64)        0         \n",
      "                                                                 \n",
      " conv2D_3 (Conv2D)           (None, 16, 16, 128)       73856     \n",
      "                                                                 \n",
      " pooling_3 (MaxPooling2D)    (None, 8, 8, 128)         0         \n",
      "                                                                 \n",
      " dropout_3 (Dropout)         (None, 8, 8, 128)         0         \n",
      "                                                                 \n",
      " flatten (Flatten)           (None, 8192)              0         \n",
      "                                                                 \n",
      " dense_hidden (Dense)        (None, 1024)              8389632   \n",
      "                                                                 \n",
      " dense_hidden_2 (Dense)      (None, 128)               131200    \n",
      "                                                                 \n",
      " ouput (Dense)               (None, 1)                 129       \n",
      "                                                                 \n",
      "=================================================================\n",
      "Total params: 8,614,209\n",
      "Trainable params: 8,614,209\n",
      "Non-trainable params: 0\n",
      "_________________________________________________________________\n"
     ]
    }
   ],
   "source": [
    "model_cnn_8.summary()"
   ]
  },
  {
   "cell_type": "code",
   "execution_count": 100,
   "id": "171b09df",
   "metadata": {},
   "outputs": [
    {
     "name": "stdout",
     "output_type": "stream",
     "text": [
      "Epoch 1/25\n",
      "25/25 [==============================] - 49s 2s/step - loss: 2.7777 - accuracy: 0.5026 - val_loss: 0.6961 - val_accuracy: 0.5075\n",
      "Epoch 2/25\n",
      "25/25 [==============================] - 47s 2s/step - loss: 0.6751 - accuracy: 0.5782 - val_loss: 0.6549 - val_accuracy: 0.6087\n",
      "Epoch 3/25\n",
      "25/25 [==============================] - 47s 2s/step - loss: 0.6490 - accuracy: 0.6315 - val_loss: 0.6221 - val_accuracy: 0.6609\n",
      "Epoch 4/25\n",
      "25/25 [==============================] - 47s 2s/step - loss: 0.6654 - accuracy: 0.5929 - val_loss: 0.6876 - val_accuracy: 0.5669\n",
      "Epoch 5/25\n",
      "25/25 [==============================] - 48s 2s/step - loss: 0.6377 - accuracy: 0.6463 - val_loss: 0.6487 - val_accuracy: 0.6347\n",
      "Epoch 6/25\n",
      "25/25 [==============================] - 48s 2s/step - loss: 0.6271 - accuracy: 0.6633 - val_loss: 0.6623 - val_accuracy: 0.6344\n",
      "Epoch 7/25\n",
      "25/25 [==============================] - 48s 2s/step - loss: 0.6140 - accuracy: 0.6706 - val_loss: 0.6858 - val_accuracy: 0.6272\n",
      "Epoch 8/25\n",
      "25/25 [==============================] - 47s 2s/step - loss: 0.6185 - accuracy: 0.6646 - val_loss: 0.5974 - val_accuracy: 0.6834\n",
      "Epoch 9/25\n",
      "25/25 [==============================] - 47s 2s/step - loss: 0.6186 - accuracy: 0.6650 - val_loss: 0.6014 - val_accuracy: 0.6712\n",
      "Epoch 10/25\n",
      "25/25 [==============================] - 47s 2s/step - loss: 0.5978 - accuracy: 0.6861 - val_loss: 0.5710 - val_accuracy: 0.7122\n",
      "Epoch 11/25\n",
      "25/25 [==============================] - 47s 2s/step - loss: 0.5877 - accuracy: 0.6919 - val_loss: 0.5459 - val_accuracy: 0.7244\n",
      "Epoch 12/25\n",
      "25/25 [==============================] - 49s 2s/step - loss: 0.5779 - accuracy: 0.6955 - val_loss: 0.5244 - val_accuracy: 0.7412\n",
      "Epoch 13/25\n",
      "25/25 [==============================] - 47s 2s/step - loss: 0.5620 - accuracy: 0.7119 - val_loss: 0.5220 - val_accuracy: 0.7437\n",
      "Epoch 14/25\n",
      "25/25 [==============================] - 47s 2s/step - loss: 0.5464 - accuracy: 0.7248 - val_loss: 0.4801 - val_accuracy: 0.7775\n",
      "Epoch 15/25\n",
      "25/25 [==============================] - 47s 2s/step - loss: 0.4940 - accuracy: 0.7645 - val_loss: 0.5668 - val_accuracy: 0.7262\n",
      "Epoch 16/25\n",
      "25/25 [==============================] - 47s 2s/step - loss: 0.4732 - accuracy: 0.7776 - val_loss: 0.5943 - val_accuracy: 0.7319\n",
      "Epoch 17/25\n",
      "25/25 [==============================] - 47s 2s/step - loss: 0.4032 - accuracy: 0.8248 - val_loss: 1.0149 - val_accuracy: 0.5375\n",
      "Epoch 18/25\n",
      "25/25 [==============================] - 48s 2s/step - loss: 0.5066 - accuracy: 0.7740 - val_loss: 0.3603 - val_accuracy: 0.8647\n",
      "Epoch 19/25\n",
      "25/25 [==============================] - 47s 2s/step - loss: 0.3688 - accuracy: 0.8488 - val_loss: 0.3991 - val_accuracy: 0.8444\n",
      "Epoch 20/25\n",
      "25/25 [==============================] - 47s 2s/step - loss: 0.3251 - accuracy: 0.8733 - val_loss: 0.3866 - val_accuracy: 0.8213\n",
      "Epoch 21/25\n",
      "25/25 [==============================] - 47s 2s/step - loss: 0.3207 - accuracy: 0.8731 - val_loss: 0.3807 - val_accuracy: 0.8378\n",
      "Epoch 22/25\n",
      "25/25 [==============================] - 47s 2s/step - loss: 0.2892 - accuracy: 0.8876 - val_loss: 0.2868 - val_accuracy: 0.8853\n",
      "Epoch 23/25\n",
      "25/25 [==============================] - 47s 2s/step - loss: 0.2915 - accuracy: 0.8897 - val_loss: 0.2319 - val_accuracy: 0.9134\n",
      "Epoch 24/25\n",
      "25/25 [==============================] - 47s 2s/step - loss: 0.2882 - accuracy: 0.8869 - val_loss: 0.1856 - val_accuracy: 0.9384\n",
      "Epoch 25/25\n",
      "25/25 [==============================] - 48s 2s/step - loss: 0.2745 - accuracy: 0.8935 - val_loss: 0.2541 - val_accuracy: 0.9081\n"
     ]
    }
   ],
   "source": [
    "history_8 = model_cnn_8.fit( \\\n",
    "                            aug.flow(X_train, y_train_enc, batch_size=BATCH_SIZE, subset=None), \\\n",
    "                            validation_data = (X_valid, y_valid_enc), \\\n",
    "                            steps_per_epoch = len(X_train) // BATCH_SIZE, \\\n",
    "                            epochs = EPOCHS\n",
    "                        )"
   ]
  },
  {
   "cell_type": "code",
   "execution_count": 101,
   "id": "00431a7a",
   "metadata": {},
   "outputs": [
    {
     "data": {
      "image/png": "[encoded data removed]",
      "text/plain": [
       "<Figure size 1152x648 with 2 Axes>"
      ]
     },
     "metadata": {
      "needs_background": "light"
     },
     "output_type": "display_data"
    }
   ],
   "source": [
    "plot_history(history_8)"
   ]
  },
  {
   "cell_type": "code",
   "execution_count": 102,
   "id": "3feda6d5",
   "metadata": {},
   "outputs": [],
   "source": [
    "y_pred_proba = model_cnn_8.predict(X_test)"
   ]
  },
  {
   "cell_type": "code",
   "execution_count": 103,
   "id": "011a885d",
   "metadata": {},
   "outputs": [],
   "source": [
    "y_pred = get_classes(y_pred_proba, le)"
   ]
  },
  {
   "cell_type": "code",
   "execution_count": 104,
   "id": "62846d88",
   "metadata": {},
   "outputs": [],
   "source": [
    "df_metrics, df_confusion_matrix = get_metrics(y_test, y_pred)"
   ]
  },
  {
   "cell_type": "code",
   "execution_count": 105,
   "id": "8a16accc",
   "metadata": {},
   "outputs": [
    {
     "data": {
      "text/html": [
       "<div>\n",
       "<style scoped>\n",
       "    .dataframe tbody tr th:only-of-type {\n",
       "        vertical-align: middle;\n",
       "    }\n",
       "\n",
       "    .dataframe tbody tr th {\n",
       "        vertical-align: top;\n",
       "    }\n",
       "\n",
       "    .dataframe thead th {\n",
       "        text-align: right;\n",
       "    }\n",
       "</style>\n",
       "<table border=\"1\" class=\"dataframe\">\n",
       "  <thead>\n",
       "    <tr style=\"text-align: right;\">\n",
       "      <th></th>\n",
       "      <th>H</th>\n",
       "      <th>S</th>\n",
       "      <th>average_macro</th>\n",
       "    </tr>\n",
       "  </thead>\n",
       "  <tbody>\n",
       "    <tr>\n",
       "      <th>Precion</th>\n",
       "      <td>0.940212</td>\n",
       "      <td>0.894313</td>\n",
       "      <td>0.917262</td>\n",
       "    </tr>\n",
       "    <tr>\n",
       "      <th>Recall</th>\n",
       "      <td>0.888500</td>\n",
       "      <td>0.943500</td>\n",
       "      <td>0.916000</td>\n",
       "    </tr>\n",
       "    <tr>\n",
       "      <th>F1</th>\n",
       "      <td>0.913625</td>\n",
       "      <td>0.918248</td>\n",
       "      <td>0.915936</td>\n",
       "    </tr>\n",
       "    <tr>\n",
       "      <th>Support</th>\n",
       "      <td>2000.000000</td>\n",
       "      <td>2000.000000</td>\n",
       "      <td>-999.000000</td>\n",
       "    </tr>\n",
       "  </tbody>\n",
       "</table>\n",
       "</div>"
      ],
      "text/plain": [
       "                   H            S  average_macro\n",
       "Precion     0.940212     0.894313       0.917262\n",
       "Recall      0.888500     0.943500       0.916000\n",
       "F1          0.913625     0.918248       0.915936\n",
       "Support  2000.000000  2000.000000    -999.000000"
      ]
     },
     "execution_count": 105,
     "metadata": {},
     "output_type": "execute_result"
    }
   ],
   "source": [
    "df_metrics"
   ]
  },
  {
   "cell_type": "code",
   "execution_count": 106,
   "id": "fcabe4d4",
   "metadata": {},
   "outputs": [
    {
     "data": {
      "text/html": [
       "<div>\n",
       "<style scoped>\n",
       "    .dataframe tbody tr th:only-of-type {\n",
       "        vertical-align: middle;\n",
       "    }\n",
       "\n",
       "    .dataframe tbody tr th {\n",
       "        vertical-align: top;\n",
       "    }\n",
       "\n",
       "    .dataframe thead th {\n",
       "        text-align: right;\n",
       "    }\n",
       "</style>\n",
       "<table border=\"1\" class=\"dataframe\">\n",
       "  <thead>\n",
       "    <tr style=\"text-align: right;\">\n",
       "      <th></th>\n",
       "      <th>cm_H</th>\n",
       "      <th>cm_S</th>\n",
       "    </tr>\n",
       "  </thead>\n",
       "  <tbody>\n",
       "    <tr>\n",
       "      <th>cm_H</th>\n",
       "      <td>1777</td>\n",
       "      <td>223</td>\n",
       "    </tr>\n",
       "    <tr>\n",
       "      <th>cm_S</th>\n",
       "      <td>113</td>\n",
       "      <td>1887</td>\n",
       "    </tr>\n",
       "  </tbody>\n",
       "</table>\n",
       "</div>"
      ],
      "text/plain": [
       "      cm_H  cm_S\n",
       "cm_H  1777   223\n",
       "cm_S   113  1887"
      ]
     },
     "execution_count": 106,
     "metadata": {},
     "output_type": "execute_result"
    }
   ],
   "source": [
    "df_confusion_matrix"
   ]
  },
  {
   "cell_type": "markdown",
   "id": "d4581a52",
   "metadata": {},
   "source": [
    "# TODO"
   ]
  },
  {
   "cell_type": "markdown",
   "id": "4c0a420c",
   "metadata": {},
   "source": [
    "* Mettre des dropOut\n",
    "* faire équivalent de predict_classes() qui n'existe plus dans tf nouvelle version.:\n",
    "*   On pourra utiliser la proba retournée par model.predict, if >0.50 classe 1\n",
    "* evaluer avec X_test et matrice de confusion\n",
    "* reprendre les lignes de suivi des metriques avec MLFlow comme on a fait pour RandomForest\n",
    "* sauvegarder model_cnn + X_train etc.. et push dans gdrive"
   ]
  },
  {
   "cell_type": "code",
   "execution_count": null,
   "id": "17c0c8e5",
   "metadata": {},
   "outputs": [],
   "source": []
  },
  {
   "cell_type": "code",
   "execution_count": null,
   "id": "9c4a91d7",
   "metadata": {},
   "outputs": [],
   "source": [
    "# # matrice de confusion\n",
    "# from sklearn import metrics\n",
    "# metrics.confusion_matrix(y_test_enc, y_pred, normalize=\"true\")"
   ]
  },
  {
   "cell_type": "code",
   "execution_count": null,
   "id": "db086916",
   "metadata": {},
   "outputs": [],
   "source": []
  },
  {
   "cell_type": "code",
   "execution_count": null,
   "id": "65267787",
   "metadata": {},
   "outputs": [],
   "source": [
    "#Augmenter Batch Size = int(len(X_Tain) * %) + 1\n",
    "#Reduire le learning rate"
   ]
  },
  {
   "cell_type": "code",
   "execution_count": null,
   "id": "9f6956d6",
   "metadata": {},
   "outputs": [],
   "source": [
    "#model_cnn_4.save(PATH_MODEL + \"/model_cnn_4.h5\")"
   ]
  },
  {
   "cell_type": "markdown",
   "id": "b98a41c7",
   "metadata": {},
   "source": [
    "Keras avec GPU AMD\n",
    "https://medium.com/@Vatsal410/keras-without-nvidia-gpus-with-plaidml-and-amd-gpu-4ba6f60025ce"
   ]
  }
 ],
 "metadata": {
  "kernelspec": {
   "display_name": "Python 3 (ipykernel)",
   "language": "python",
   "name": "python3"
  },
  "language_info": {
   "codemirror_mode": {
    "name": "ipython",
    "version": 3
   },
   "file_extension": ".py",
   "mimetype": "text/x-python",
   "name": "python",
   "nbconvert_exporter": "python",
   "pygments_lexer": "ipython3",
   "version": "3.8.5"
  },
  "toc": {
   "base_numbering": 1,
   "nav_menu": {},
   "number_sections": true,
   "sideBar": true,
   "skip_h1_title": false,
   "title_cell": "Table of Contents",
   "title_sidebar": "Contents",
   "toc_cell": false,
   "toc_position": {
    "height": "calc(100% - 180px)",
    "left": "10px",
    "top": "150px",
    "width": "349.091px"
   },
   "toc_section_display": true,
   "toc_window_display": true
  }
 },
 "nbformat": 4,
 "nbformat_minor": 5
}
