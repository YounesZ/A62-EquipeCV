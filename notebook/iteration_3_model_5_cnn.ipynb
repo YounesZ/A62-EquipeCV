{
 "cells": [
  {
   "cell_type": "code",
   "execution_count": 1,
   "id": "ad865c85",
   "metadata": {},
   "outputs": [],
   "source": [
    "import import_ipynb"
   ]
  },
  {
   "cell_type": "code",
   "execution_count": 2,
   "id": "5a2ac324",
   "metadata": {},
   "outputs": [],
   "source": [
    "%run iteration_0_imports.py"
   ]
  },
  {
   "cell_type": "code",
   "execution_count": 3,
   "id": "e8567f07",
   "metadata": {},
   "outputs": [],
   "source": [
    "%run iteration_0_parameters.py"
   ]
  },
  {
   "cell_type": "code",
   "execution_count": 4,
   "id": "fcbd8b98",
   "metadata": {},
   "outputs": [
    {
     "name": "stdout",
     "output_type": "stream",
     "text": [
      "importing Jupyter notebook from iteration_0_utils.ipynb\n"
     ]
    }
   ],
   "source": [
    "import iteration_0_utils as utils"
   ]
  },
  {
   "cell_type": "code",
   "execution_count": 5,
   "id": "a411afe7",
   "metadata": {},
   "outputs": [
    {
     "name": "stdout",
     "output_type": "stream",
     "text": [
      "Variable                          Type        Data/Info\n",
      "-------------------------------------------------------\n",
      "HEALTHY                           str         H\n",
      "IMG_IN_COLOR                      int         1\n",
      "IMG_SIZE                          int         64\n",
      "Image                             module      <module 'PIL.Image' from <...>packages\\\\PIL\\\\Image.py'>\n",
      "NBR_SAMPLE                        int         20000\n",
      "PATH_DATA                         str         ../data\n",
      "PATH_DATA_EDA                     str         ../data/eda\n",
      "PATH_DATA_LIST                    str         ../data/list\n",
      "PATH_DATA_SAMPLE                  str         ../data/sample\n",
      "PATH_MODEL                        str         ../model\n",
      "PATH_ROOT                         str         ..\n",
      "PATH_SOURCE_IMG                   str         ../cell_images\n",
      "RandomForestClassifier            ABCMeta     <class 'sklearn.ensemble.<...>.RandomForestClassifier'>\n",
      "SICK                              str         S\n",
      "classification_report             function    <function classification_<...>rt at 0x000002C7F6D4EAF0>\n",
      "confusion_matrix                  function    <function confusion_matrix at 0x000002C7F6D4E280>\n",
      "cv2                               module      <module 'cv2' from 'C:\\\\U<...>kages\\\\cv2\\\\__init__.py'>\n",
      "datetime                          type        <class 'datetime.datetime'>\n",
      "f1_score                          function    <function f1_score at 0x000002C7F6D4E5E0>\n",
      "gc                                module      <module 'gc' (built-in)>\n",
      "glob                              module      <module 'glob' from 'C:\\\\<...>Anaconda3\\\\lib\\\\glob.py'>\n",
      "gzip                              module      <module 'gzip' from 'C:\\\\<...>Anaconda3\\\\lib\\\\gzip.py'>\n",
      "import_ipynb                      module      <module 'import_ipynb' fr<...>ckages\\\\import_ipynb.py'>\n",
      "learning_curve                    function    <function learning_curve at 0x000002C7F6F19430>\n",
      "mlflow                            module      <module 'mlflow' from 'C:<...>es\\\\mlflow\\\\__init__.py'>\n",
      "np                                module      <module 'numpy' from 'C:\\<...>ges\\\\numpy\\\\__init__.py'>\n",
      "os                                module      <module 'os' from 'C:\\\\Te<...>\\\\Anaconda3\\\\lib\\\\os.py'>\n",
      "pd                                module      <module 'pandas' from 'C:<...>es\\\\pandas\\\\__init__.py'>\n",
      "pickle                            module      <module 'pickle' from 'C:<...>aconda3\\\\lib\\\\pickle.py'>\n",
      "plt                               module      <module 'matplotlib.pyplo<...>\\\\matplotlib\\\\pyplot.py'>\n",
      "precision_recall_fscore_support   function    <function precision_recal<...>rt at 0x000002C7F6D4E8B0>\n",
      "random                            module      <module 'random' from 'C:<...>aconda3\\\\lib\\\\random.py'>\n",
      "sns                               module      <module 'seaborn' from 'C<...>s\\\\seaborn\\\\__init__.py'>\n",
      "sp                                module      <module 'scipy.sparse' fr<...>py\\\\sparse\\\\__init__.py'>\n",
      "tqdm                              type        <class 'tqdm.std.tqdm'>\n",
      "train_test_split                  function    <function train_test_split at 0x000002C7F6F11790>\n",
      "utils                             module      <module 'iteration_0_util<...> at 0x000002C7C81F8100>)>\n"
     ]
    }
   ],
   "source": [
    "%whos"
   ]
  },
  {
   "cell_type": "markdown",
   "id": "01fa02d1",
   "metadata": {},
   "source": [
    "# make X, y"
   ]
  },
  {
   "cell_type": "code",
   "execution_count": 6,
   "id": "98fd2f38",
   "metadata": {},
   "outputs": [],
   "source": [
    "DATE_TIME = \"2021-11-18_20-39-00\""
   ]
  },
  {
   "cell_type": "code",
   "execution_count": 7,
   "id": "0cd663ae",
   "metadata": {},
   "outputs": [],
   "source": [
    "# get list \n",
    "list_path_sample_img = []\n",
    "list_path_sample_img.extend(glob.glob(PATH_DATA_SAMPLE+\"/\"+DATE_TIME+ \"/\"+ \"*.pklz\"))"
   ]
  },
  {
   "cell_type": "code",
   "execution_count": 8,
   "id": "0cdf411e",
   "metadata": {},
   "outputs": [],
   "source": [
    "# split train, validation, test set\n",
    "list_path_sample_img_train, list_path_sample_img_test  = train_test_split(list_path_sample_img, test_size=0.2)\n",
    "list_path_sample_img_train, list_path_sample_img_valid = train_test_split(list_path_sample_img_train, test_size=0.2)"
   ]
  },
  {
   "cell_type": "code",
   "execution_count": 9,
   "id": "3d9609f4",
   "metadata": {},
   "outputs": [],
   "source": [
    "def make_Xy(list_path_sample_img: list) -> (np.array, np.array):\n",
    "    X = np.ndarray( (len(list_path_sample_img), IMG_SIZE, IMG_SIZE, 3) ,dtype = \"float16\")\n",
    "    y = np.array([\"\"] * len(list_path_sample_img))\n",
    "    for i, path in tqdm(enumerate(list_path_sample_img)):\n",
    "        \n",
    "        X[i] = utils.pickle_read(path).astype(\"float16\")\n",
    "    \n",
    "        _, file_name, _ = utils.split_file_info(path)\n",
    "        y[i] = file_name[0]\n",
    "    \n",
    "    return X, y\n",
    "    "
   ]
  },
  {
   "cell_type": "code",
   "execution_count": 10,
   "id": "5a72ecd5",
   "metadata": {},
   "outputs": [
    {
     "name": "stderr",
     "output_type": "stream",
     "text": [
      "12800it [00:11, 1126.76it/s]\n"
     ]
    }
   ],
   "source": [
    "X_train, y_train  = make_Xy(list_path_sample_img_train)"
   ]
  },
  {
   "cell_type": "code",
   "execution_count": 11,
   "id": "d64f68a2",
   "metadata": {},
   "outputs": [
    {
     "name": "stderr",
     "output_type": "stream",
     "text": [
      "3200it [00:02, 1126.92it/s]\n"
     ]
    }
   ],
   "source": [
    "X_valid, y_valid  = make_Xy(list_path_sample_img_valid)"
   ]
  },
  {
   "cell_type": "code",
   "execution_count": 12,
   "id": "302ca734",
   "metadata": {},
   "outputs": [
    {
     "name": "stderr",
     "output_type": "stream",
     "text": [
      "4000it [00:03, 1122.34it/s]\n"
     ]
    }
   ],
   "source": [
    "X_test, y_test  = make_Xy(list_path_sample_img_test)"
   ]
  },
  {
   "cell_type": "markdown",
   "id": "7a92fdbe",
   "metadata": {},
   "source": [
    "# model_cnn"
   ]
  },
  {
   "cell_type": "markdown",
   "id": "632aae0e",
   "metadata": {},
   "source": [
    "* Ref: https://towardsdatascience.com/detecting-malaria-with-deep-learning-9e45c1e34b60\n",
    "* https://towardsdatascience.com/understanding-and-calculating-the-number-of-parameters-in-convolution-neural-networks-cnns-fc88790d530d"
   ]
  },
  {
   "cell_type": "code",
   "execution_count": 13,
   "id": "54860013",
   "metadata": {},
   "outputs": [],
   "source": [
    "BATCH_SIZE = 500\n",
    "NUM_CLASSES = 2\n",
    "EPOCHS = 25\n",
    "INPUT_SHAPE = (IMG_SIZE, IMG_SIZE, 3)"
   ]
  },
  {
   "cell_type": "code",
   "execution_count": 14,
   "id": "19b6ac0e",
   "metadata": {},
   "outputs": [],
   "source": [
    "# Encoder y\n",
    "from sklearn.preprocessing import LabelEncoder"
   ]
  },
  {
   "cell_type": "code",
   "execution_count": 15,
   "id": "8d776d9a",
   "metadata": {},
   "outputs": [],
   "source": [
    "le = LabelEncoder()"
   ]
  },
  {
   "cell_type": "code",
   "execution_count": 16,
   "id": "c9b79033",
   "metadata": {},
   "outputs": [],
   "source": [
    "y_train_enc = le.fit_transform(y_train)"
   ]
  },
  {
   "cell_type": "code",
   "execution_count": 17,
   "id": "ec7bc157",
   "metadata": {},
   "outputs": [],
   "source": [
    "y_valid_enc = le.transform(y_valid)\n",
    "y_test_enc  = le.transform(y_test)"
   ]
  },
  {
   "cell_type": "code",
   "execution_count": 18,
   "id": "112be444",
   "metadata": {},
   "outputs": [
    {
     "data": {
      "text/plain": [
       "array(['H', 'S'], dtype='<U1')"
      ]
     },
     "execution_count": 18,
     "metadata": {},
     "output_type": "execute_result"
    }
   ],
   "source": [
    "le.classes_"
   ]
  },
  {
   "cell_type": "code",
   "execution_count": 19,
   "id": "b34eb630",
   "metadata": {},
   "outputs": [],
   "source": [
    "#!pip uninstall tensorflow"
   ]
  },
  {
   "cell_type": "markdown",
   "id": "65f8c2d4",
   "metadata": {},
   "source": [
    "Créer un fichier .reg avec les instructions suivantes :\n",
    "\n",
    "===\n",
    "\n",
    "Windows Registry Editor Version 5.00\n",
    "\n",
    "[HKEY_LOCAL_MACHINE\\SYSTEM\\CurrentControlSet\\Control\\FileSystem]\n",
    "\"LongPathsEnabled\"=dword:00000001\n",
    "\n",
    "---\n",
    "\n",
    "Exécuter le .reg"
   ]
  },
  {
   "cell_type": "code",
   "execution_count": 20,
   "id": "646e9ab2",
   "metadata": {},
   "outputs": [],
   "source": [
    "#!pip install tensorflow"
   ]
  },
  {
   "cell_type": "code",
   "execution_count": 21,
   "id": "62add767",
   "metadata": {},
   "outputs": [],
   "source": [
    "import tensorflow as tf"
   ]
  },
  {
   "cell_type": "code",
   "execution_count": 22,
   "id": "5fc97c10",
   "metadata": {},
   "outputs": [],
   "source": [
    "from keras.models import Sequential"
   ]
  },
  {
   "cell_type": "code",
   "execution_count": 23,
   "id": "8798a5a5",
   "metadata": {},
   "outputs": [],
   "source": [
    "#assert False"
   ]
  },
  {
   "cell_type": "code",
   "execution_count": 24,
   "id": "4c7f239d",
   "metadata": {},
   "outputs": [],
   "source": [
    "def plot_history(history):\n",
    "    plt.figure(figsize=(16,9))\n",
    "    # plot loss\n",
    "    plt.subplot(211)\n",
    "    plt.grid()\n",
    "    plt.title('binary_crossentropy')\n",
    "    plt.plot(history.history['loss'], \"o-\", color='blue', label='train')\n",
    "    plt.plot(history.history['val_loss'], \"o-\", color='orange', label='validation')\n",
    "    plt.legend()    \n",
    "    # plot accuracy\n",
    "    plt.subplot(212)\n",
    "    plt.grid()\n",
    "    plt.title('Classification Accuracy')\n",
    "    plt.plot(history.history['accuracy'], \"o-\",color='blue', label='train')\n",
    "    plt.plot(history.history['val_accuracy'], \"o-\",color='orange', label='validation')\n",
    "    plt.legend()\n",
    "    plt.show()"
   ]
  },
  {
   "cell_type": "code",
   "execution_count": 33,
   "id": "13778f5c",
   "metadata": {},
   "outputs": [],
   "source": [
    "model_cnn_5 = Sequential()\n",
    "model_cnn_5.add(tf.keras.layers.Input(name = \"input\", shape=INPUT_SHAPE))\n",
    "model_cnn_5.add(tf.keras.layers.Conv2D(name = \"conv2D\",\n",
    "                                     filters=32,\n",
    "                                     kernel_size=(3,3),\n",
    "                                     activation=\"LeakyReLU\",\n",
    "                                     padding=\"same\",\n",
    "                                     kernel_initializer=\"he_uniform\"\n",
    "                                    ))\n",
    "model_cnn_5.add(tf.keras.layers.MaxPooling2D(name=\"pooling\", pool_size=(2,2)))\n",
    "\n",
    "model_cnn_5.add(tf.keras.layers.Conv2D(name = \"conv2D_2\",\n",
    "                                     filters=64,\n",
    "                                     kernel_size=(3,3),\n",
    "                                     activation=\"LeakyReLU\",\n",
    "                                     padding=\"same\",\n",
    "                                     kernel_initializer=\"he_uniform\"\n",
    "                                    ))\n",
    "model_cnn_5.add(tf.keras.layers.MaxPooling2D(name=\"pooling_2\", pool_size=(2,2)))\n",
    "\n",
    "model_cnn_5.add(tf.keras.layers.Conv2D(name = \"conv2D_3\",\n",
    "                                     filters=128,\n",
    "                                     kernel_size=(3,3),\n",
    "                                     activation=\"LeakyReLU\",\n",
    "                                     padding=\"same\",\n",
    "                                     kernel_initializer=\"he_uniform\"\n",
    "                                    ))\n",
    "model_cnn_5.add(tf.keras.layers.MaxPooling2D(name=\"pooling_3\", pool_size=(2,2)))\n",
    "\n",
    "model_cnn_5.add(tf.keras.layers.Flatten(name=\"flatten\"))\n",
    "model_cnn_5.add(tf.keras.layers.Dense(name=\"dense_hidden\", units = 1024, activation=\"LeakyReLU\",\n",
    "                                    kernel_initializer=\"he_uniform\" ))\n",
    "model_cnn_5.add(tf.keras.layers.Dense(name=\"dense_hidden_2\", units = 128, activation=\"LeakyReLU\",\n",
    "                                    kernel_initializer=\"he_uniform\" ))\n",
    "model_cnn_5.add(tf.keras.layers.Dense(name=\"ouput\", units = 1, activation=\"sigmoid\"))\n"
   ]
  },
  {
   "cell_type": "code",
   "execution_count": 34,
   "id": "29ac772c",
   "metadata": {},
   "outputs": [],
   "source": [
    "# compiler modele\n",
    "model_cnn_5.compile(optimizer = tf.keras.optimizers.Adam(learning_rate=1e-3),\\\n",
    "                    loss =\"binary_crossentropy\", metrics=[\"accuracy\"])"
   ]
  },
  {
   "cell_type": "code",
   "execution_count": 35,
   "id": "2d4567cc",
   "metadata": {},
   "outputs": [
    {
     "name": "stdout",
     "output_type": "stream",
     "text": [
      "Model: \"sequential_1\"\n",
      "_________________________________________________________________\n",
      " Layer (type)                Output Shape              Param #   \n",
      "=================================================================\n",
      " conv2D (Conv2D)             (None, 64, 64, 32)        896       \n",
      "                                                                 \n",
      " pooling (MaxPooling2D)      (None, 32, 32, 32)        0         \n",
      "                                                                 \n",
      " conv2D_2 (Conv2D)           (None, 32, 32, 64)        18496     \n",
      "                                                                 \n",
      " pooling_2 (MaxPooling2D)    (None, 16, 16, 64)        0         \n",
      "                                                                 \n",
      " conv2D_3 (Conv2D)           (None, 16, 16, 128)       73856     \n",
      "                                                                 \n",
      " pooling_3 (MaxPooling2D)    (None, 8, 8, 128)         0         \n",
      "                                                                 \n",
      " flatten (Flatten)           (None, 8192)              0         \n",
      "                                                                 \n",
      " dense_hidden (Dense)        (None, 1024)              8389632   \n",
      "                                                                 \n",
      " dense_hidden_2 (Dense)      (None, 128)               131200    \n",
      "                                                                 \n",
      " ouput (Dense)               (None, 1)                 129       \n",
      "                                                                 \n",
      "=================================================================\n",
      "Total params: 8,614,209\n",
      "Trainable params: 8,614,209\n",
      "Non-trainable params: 0\n",
      "_________________________________________________________________\n"
     ]
    }
   ],
   "source": [
    "model_cnn_5.summary()"
   ]
  },
  {
   "cell_type": "code",
   "execution_count": 36,
   "id": "7d599c42",
   "metadata": {},
   "outputs": [
    {
     "data": {
      "text/plain": [
       "(12800, 64, 64, 3)"
      ]
     },
     "execution_count": 36,
     "metadata": {},
     "output_type": "execute_result"
    }
   ],
   "source": [
    "X_train.shape"
   ]
  },
  {
   "cell_type": "code",
   "execution_count": 37,
   "id": "798ad53a",
   "metadata": {},
   "outputs": [],
   "source": [
    "from tensorflow.keras.preprocessing.image import ImageDataGenerator"
   ]
  },
  {
   "cell_type": "code",
   "execution_count": 38,
   "id": "4b4bfe3a",
   "metadata": {},
   "outputs": [],
   "source": [
    "aug = ImageDataGenerator(rotation_range=359, \\\n",
    "                         zoom_range=0.15, \\\n",
    "                         width_shift_range=0.2, height_shift_range=0.2, \\\n",
    "                         shear_range=0.15, \\\n",
    "                         horizontal_flip=True, \\\n",
    "                         vertical_flip=True, \\\n",
    "                         fill_mode=\"nearest\")"
   ]
  },
  {
   "cell_type": "code",
   "execution_count": 39,
   "id": "0157bda9",
   "metadata": {},
   "outputs": [
    {
     "data": {
      "text/plain": [
       "25"
      ]
     },
     "execution_count": 39,
     "metadata": {},
     "output_type": "execute_result"
    }
   ],
   "source": [
    "len(X_train) // BATCH_SIZE"
   ]
  },
  {
   "cell_type": "code",
   "execution_count": 40,
   "id": "411b0e0b",
   "metadata": {},
   "outputs": [
    {
     "name": "stdout",
     "output_type": "stream",
     "text": [
      "Epoch 1/25\n",
      "25/25 [==============================] - 52s 2s/step - loss: 1.9450 - accuracy: 0.5181 - val_loss: 0.6907 - val_accuracy: 0.5238\n",
      "Epoch 2/25\n",
      "25/25 [==============================] - 48s 2s/step - loss: 0.6668 - accuracy: 0.5904 - val_loss: 0.6635 - val_accuracy: 0.6056\n",
      "Epoch 3/25\n",
      "25/25 [==============================] - 49s 2s/step - loss: 0.6420 - accuracy: 0.6362 - val_loss: 0.6458 - val_accuracy: 0.6222\n",
      "Epoch 4/25\n",
      "25/25 [==============================] - 48s 2s/step - loss: 0.6276 - accuracy: 0.6559 - val_loss: 0.6442 - val_accuracy: 0.6313\n",
      "Epoch 5/25\n",
      "25/25 [==============================] - 51s 2s/step - loss: 0.6129 - accuracy: 0.6755 - val_loss: 0.6056 - val_accuracy: 0.6697\n",
      "Epoch 6/25\n",
      "25/25 [==============================] - 50s 2s/step - loss: 0.6020 - accuracy: 0.6799 - val_loss: 0.5825 - val_accuracy: 0.7022\n",
      "Epoch 7/25\n",
      "25/25 [==============================] - 54s 2s/step - loss: 0.5920 - accuracy: 0.6906 - val_loss: 0.5886 - val_accuracy: 0.7003\n",
      "Epoch 8/25\n",
      "25/25 [==============================] - 48s 2s/step - loss: 0.5696 - accuracy: 0.7110 - val_loss: 0.5164 - val_accuracy: 0.7503\n",
      "Epoch 9/25\n",
      "25/25 [==============================] - 47s 2s/step - loss: 0.5226 - accuracy: 0.7451 - val_loss: 0.4580 - val_accuracy: 0.7862\n",
      "Epoch 10/25\n",
      "25/25 [==============================] - 47s 2s/step - loss: 0.4755 - accuracy: 0.7781 - val_loss: 0.3883 - val_accuracy: 0.8366\n",
      "Epoch 11/25\n",
      "25/25 [==============================] - 48s 2s/step - loss: 0.3923 - accuracy: 0.8284 - val_loss: 0.3705 - val_accuracy: 0.8456\n",
      "Epoch 12/25\n",
      "25/25 [==============================] - 47s 2s/step - loss: 0.3639 - accuracy: 0.8466 - val_loss: 0.2838 - val_accuracy: 0.8956\n",
      "Epoch 13/25\n",
      "25/25 [==============================] - 48s 2s/step - loss: 0.3261 - accuracy: 0.8708 - val_loss: 0.2130 - val_accuracy: 0.9191\n",
      "Epoch 14/25\n",
      "25/25 [==============================] - 47s 2s/step - loss: 0.2905 - accuracy: 0.8884 - val_loss: 0.2203 - val_accuracy: 0.9322\n",
      "Epoch 15/25\n",
      "25/25 [==============================] - 47s 2s/step - loss: 0.2812 - accuracy: 0.8946 - val_loss: 0.1937 - val_accuracy: 0.9300\n",
      "Epoch 16/25\n",
      "25/25 [==============================] - 48s 2s/step - loss: 0.2621 - accuracy: 0.9019 - val_loss: 0.1815 - val_accuracy: 0.9356\n",
      "Epoch 17/25\n",
      "25/25 [==============================] - 48s 2s/step - loss: 0.2600 - accuracy: 0.9002 - val_loss: 0.1637 - val_accuracy: 0.9469\n",
      "Epoch 18/25\n",
      "25/25 [==============================] - 48s 2s/step - loss: 0.2492 - accuracy: 0.9062 - val_loss: 0.1610 - val_accuracy: 0.9441\n",
      "Epoch 19/25\n",
      "25/25 [==============================] - 48s 2s/step - loss: 0.2455 - accuracy: 0.9100 - val_loss: 0.1529 - val_accuracy: 0.9497\n",
      "Epoch 20/25\n",
      "25/25 [==============================] - 49s 2s/step - loss: 0.2351 - accuracy: 0.9146 - val_loss: 0.1577 - val_accuracy: 0.9459\n",
      "Epoch 21/25\n",
      "25/25 [==============================] - 47s 2s/step - loss: 0.2353 - accuracy: 0.9128 - val_loss: 0.1569 - val_accuracy: 0.9484\n",
      "Epoch 22/25\n",
      "25/25 [==============================] - 47s 2s/step - loss: 0.2359 - accuracy: 0.9146 - val_loss: 0.1561 - val_accuracy: 0.9497\n",
      "Epoch 23/25\n",
      "25/25 [==============================] - 48s 2s/step - loss: 0.2310 - accuracy: 0.9173 - val_loss: 0.1503 - val_accuracy: 0.9550\n",
      "Epoch 24/25\n",
      "25/25 [==============================] - 48s 2s/step - loss: 0.2217 - accuracy: 0.9209 - val_loss: 0.1454 - val_accuracy: 0.9522\n",
      "Epoch 25/25\n",
      "25/25 [==============================] - 47s 2s/step - loss: 0.2495 - accuracy: 0.9092 - val_loss: 0.1541 - val_accuracy: 0.9469\n"
     ]
    }
   ],
   "source": [
    "history_5 = model_cnn_5.fit( \\\n",
    "                            aug.flow(X_train, y_train_enc, batch_size=BATCH_SIZE, subset=None), \\\n",
    "                            validation_data = (X_valid, y_valid_enc), \\\n",
    "                            steps_per_epoch = len(X_train) // BATCH_SIZE, \\\n",
    "                            epochs = EPOCHS\n",
    "                        )"
   ]
  },
  {
   "cell_type": "code",
   "execution_count": 41,
   "id": "fbaf07ed",
   "metadata": {},
   "outputs": [
    {
     "data": {
      "image/png": "[encoded data removed]",
      "text/plain": [
       "<Figure size 1152x648 with 2 Axes>"
      ]
     },
     "metadata": {
      "needs_background": "light"
     },
     "output_type": "display_data"
    }
   ],
   "source": [
    "plot_history(history_5)"
   ]
  },
  {
   "cell_type": "code",
   "execution_count": 42,
   "id": "65267787",
   "metadata": {},
   "outputs": [],
   "source": [
    "#Augmenter Batch Size = int(len(X_Tain) * %) + 1\n",
    "#Reduire le learning rate"
   ]
  },
  {
   "cell_type": "code",
   "execution_count": null,
   "id": "7838dc41",
   "metadata": {},
   "outputs": [],
   "source": []
  },
  {
   "cell_type": "code",
   "execution_count": null,
   "id": "9f6956d6",
   "metadata": {},
   "outputs": [],
   "source": [
    "#model_cnn_4.save(PATH_MODEL + \"/model_cnn_4.h5\")"
   ]
  },
  {
   "cell_type": "markdown",
   "id": "b98a41c7",
   "metadata": {},
   "source": [
    "Keras avec GPU AMD\n",
    "https://medium.com/@Vatsal410/keras-without-nvidia-gpus-with-plaidml-and-amd-gpu-4ba6f60025ce"
   ]
  }
 ],
 "metadata": {
  "kernelspec": {
   "display_name": "keras",
   "language": "python",
   "name": "keras"
  },
  "language_info": {
   "codemirror_mode": {
    "name": "ipython",
    "version": 3
   },
   "file_extension": ".py",
   "mimetype": "text/x-python",
   "name": "python",
   "nbconvert_exporter": "python",
   "pygments_lexer": "ipython3",
   "version": "3.8.5"
  },
  "toc": {
   "base_numbering": 1,
   "nav_menu": {},
   "number_sections": true,
   "sideBar": true,
   "skip_h1_title": false,
   "title_cell": "Table of Contents",
   "title_sidebar": "Contents",
   "toc_cell": false,
   "toc_position": {
    "height": "calc(100% - 180px)",
    "left": "10px",
    "top": "150px",
    "width": "349.091px"
   },
   "toc_section_display": true,
   "toc_window_display": true
  }
 },
 "nbformat": 4,
 "nbformat_minor": 5
}
