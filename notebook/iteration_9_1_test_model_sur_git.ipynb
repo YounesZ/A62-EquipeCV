{
 "cells": [
  {
   "cell_type": "code",
   "execution_count": 5,
   "id": "played-massage",
   "metadata": {},
   "outputs": [
    {
     "name": "stdout",
     "output_type": "stream",
     "text": [
      "Requirement already satisfied: import_ipynb in c:\\users\\kbenmus\\anaconda3\\lib\\site-packages (0.1.3)\n"
     ]
    }
   ],
   "source": [
    "!pip install import_ipynb"
   ]
  },
  {
   "cell_type": "code",
   "execution_count": 6,
   "id": "continuous-barbados",
   "metadata": {},
   "outputs": [],
   "source": [
    "import import_ipynb"
   ]
  },
  {
   "cell_type": "code",
   "execution_count": 7,
   "id": "adaptive-luxembourg",
   "metadata": {},
   "outputs": [],
   "source": [
    "%run iteration_0_imports.py"
   ]
  },
  {
   "cell_type": "code",
   "execution_count": 8,
   "id": "exclusive-prescription",
   "metadata": {},
   "outputs": [],
   "source": [
    "%run iteration_0_parameters.py"
   ]
  },
  {
   "cell_type": "code",
   "execution_count": 9,
   "id": "christian-anthropology",
   "metadata": {},
   "outputs": [],
   "source": [
    "import iteration_0_utils as utils"
   ]
  },
  {
   "cell_type": "code",
   "execution_count": 13,
   "id": "covered-sandwich",
   "metadata": {},
   "outputs": [
    {
     "name": "stdout",
     "output_type": "stream",
     "text": [
      "RandomForestClassifier(random_state=0)\n"
     ]
    }
   ],
   "source": [
    "model_rf = utils.pickle_read(PATH_MODEL+\"/\"+\"model_rf.pklz\")\n",
    "print(model_rf)"
   ]
  },
  {
   "cell_type": "code",
   "execution_count": null,
   "id": "anticipated-allen",
   "metadata": {},
   "outputs": [],
   "source": []
  }
 ],
 "metadata": {
  "kernelspec": {
   "display_name": "Python 3",
   "language": "python",
   "name": "python3"
  },
  "language_info": {
   "codemirror_mode": {
    "name": "ipython",
    "version": 3
   },
   "file_extension": ".py",
   "mimetype": "text/x-python",
   "name": "python",
   "nbconvert_exporter": "python",
   "pygments_lexer": "ipython3",
   "version": "3.8.5"
  },
  "toc": {
   "base_numbering": 1,
   "nav_menu": {},
   "number_sections": true,
   "sideBar": true,
   "skip_h1_title": false,
   "title_cell": "Table of Contents",
   "title_sidebar": "Contents",
   "toc_cell": false,
   "toc_position": {},
   "toc_section_display": true,
   "toc_window_display": false
  }
 },
 "nbformat": 4,
 "nbformat_minor": 5
}
