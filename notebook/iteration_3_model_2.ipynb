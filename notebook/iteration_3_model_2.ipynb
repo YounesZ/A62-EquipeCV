{
 "cells": [
  {
   "cell_type": "code",
   "execution_count": 1,
   "id": "mWbT3ByGjWVq",
   "metadata": {
    "colab": {
     "base_uri": "https://localhost:8080/"
    },
    "executionInfo": {
     "elapsed": 1171,
     "status": "ok",
     "timestamp": 1638109713407,
     "user": {
      "displayName": "Rene MAROT",
      "photoUrl": "https://lh3.googleusercontent.com/a/default-user=s64",
      "userId": "11976636736374307912"
     },
     "user_tz": 300
    },
    "id": "mWbT3ByGjWVq",
    "outputId": "e3e30821-7ca9-4395-c794-46c005e5c125"
   },
   "outputs": [],
   "source": [
    "# from google.colab import drive\n",
    "# drive.mount('/content/drive',force_remount=True)"
   ]
  },
  {
   "cell_type": "code",
   "execution_count": 2,
   "id": "4nywuULljavL",
   "metadata": {
    "colab": {
     "base_uri": "https://localhost:8080/"
    },
    "executionInfo": {
     "elapsed": 3134,
     "status": "ok",
     "timestamp": 1638109716538,
     "user": {
      "displayName": "Rene MAROT",
      "photoUrl": "https://lh3.googleusercontent.com/a/default-user=s64",
      "userId": "11976636736374307912"
     },
     "user_tz": 300
    },
    "id": "4nywuULljavL",
    "outputId": "99fdc144-63f3-43d0-9960-666fc90947b4"
   },
   "outputs": [],
   "source": [
    "# !pip install import-ipynb"
   ]
  },
  {
   "cell_type": "code",
   "execution_count": 3,
   "id": "2Q53jFqrjguA",
   "metadata": {
    "executionInfo": {
     "elapsed": 6,
     "status": "ok",
     "timestamp": 1638109716538,
     "user": {
      "displayName": "Rene MAROT",
      "photoUrl": "https://lh3.googleusercontent.com/a/default-user=s64",
      "userId": "11976636736374307912"
     },
     "user_tz": 300
    },
    "id": "2Q53jFqrjguA"
   },
   "outputs": [],
   "source": [
    "import import_ipynb"
   ]
  },
  {
   "cell_type": "code",
   "execution_count": 4,
   "id": "PL4y3jX7jhq5",
   "metadata": {
    "colab": {
     "base_uri": "https://localhost:8080/"
    },
    "executionInfo": {
     "elapsed": 7,
     "status": "ok",
     "timestamp": 1638109716539,
     "user": {
      "displayName": "Rene MAROT",
      "photoUrl": "https://lh3.googleusercontent.com/a/default-user=s64",
      "userId": "11976636736374307912"
     },
     "user_tz": 300
    },
    "id": "PL4y3jX7jhq5",
    "outputId": "0c604956-5ba6-4e95-c50b-95083a87393a"
   },
   "outputs": [],
   "source": [
    "# %cd /content/drive/MyDrive/A62_projet_synthese_feature/feature-colab-from-git/notebook"
   ]
  },
  {
   "cell_type": "code",
   "execution_count": 5,
   "id": "tutorial-remainder",
   "metadata": {
    "executionInfo": {
     "elapsed": 422,
     "status": "ok",
     "timestamp": 1638109716957,
     "user": {
      "displayName": "Rene MAROT",
      "photoUrl": "https://lh3.googleusercontent.com/a/default-user=s64",
      "userId": "11976636736374307912"
     },
     "user_tz": 300
    },
    "id": "tutorial-remainder"
   },
   "outputs": [],
   "source": [
    "%run iteration_0_imports.py"
   ]
  },
  {
   "cell_type": "code",
   "execution_count": 6,
   "id": "bottom-davis",
   "metadata": {
    "executionInfo": {
     "elapsed": 11,
     "status": "ok",
     "timestamp": 1638109716960,
     "user": {
      "displayName": "Rene MAROT",
      "photoUrl": "https://lh3.googleusercontent.com/a/default-user=s64",
      "userId": "11976636736374307912"
     },
     "user_tz": 300
    },
    "id": "bottom-davis"
   },
   "outputs": [],
   "source": [
    "%run iteration_0_parameters.py"
   ]
  },
  {
   "cell_type": "code",
   "execution_count": 7,
   "id": "remarkable-allocation",
   "metadata": {
    "colab": {
     "base_uri": "https://localhost:8080/"
    },
    "executionInfo": {
     "elapsed": 10,
     "status": "ok",
     "timestamp": 1638109716960,
     "user": {
      "displayName": "Rene MAROT",
      "photoUrl": "https://lh3.googleusercontent.com/a/default-user=s64",
      "userId": "11976636736374307912"
     },
     "user_tz": 300
    },
    "id": "remarkable-allocation",
    "outputId": "944cabff-d789-4318-80f8-4c49b9526910"
   },
   "outputs": [
    {
     "name": "stdout",
     "output_type": "stream",
     "text": [
      "importing Jupyter notebook from iteration_0_utils.ipynb\n"
     ]
    }
   ],
   "source": [
    "import iteration_0_utils as utils"
   ]
  },
  {
   "cell_type": "code",
   "execution_count": 8,
   "id": "-_APVUTbka3o",
   "metadata": {
    "colab": {
     "base_uri": "https://localhost:8080/"
    },
    "executionInfo": {
     "elapsed": 10,
     "status": "ok",
     "timestamp": 1638109716961,
     "user": {
      "displayName": "Rene MAROT",
      "photoUrl": "https://lh3.googleusercontent.com/a/default-user=s64",
      "userId": "11976636736374307912"
     },
     "user_tz": 300
    },
    "id": "-_APVUTbka3o",
    "outputId": "30b97fc3-8763-4ac2-f83b-e9eaf158f969",
    "scrolled": true
   },
   "outputs": [
    {
     "name": "stdout",
     "output_type": "stream",
     "text": [
      "Variable                          Type        Data/Info\n",
      "-------------------------------------------------------\n",
      "HEALTHY                           str         H\n",
      "IMG_IN_COLOR                      int         1\n",
      "IMG_SIZE                          int         64\n",
      "Image                             module      <module 'PIL.Image' from <...>packages\\\\PIL\\\\Image.py'>\n",
      "NBR_SAMPLE                        int         20000\n",
      "PATH_DATA                         str         ../data\n",
      "PATH_DATA_EDA                     str         ../data/eda\n",
      "PATH_DATA_LIST                    str         ../data/list\n",
      "PATH_DATA_SAMPLE                  str         ../data/sample\n",
      "PATH_MODEL                        str         ../model\n",
      "PATH_ROOT                         str         ..\n",
      "PATH_SOURCE_IMG                   str         ../cell_images\n",
      "RandomForestClassifier            ABCMeta     <class 'sklearn.ensemble.<...>.RandomForestClassifier'>\n",
      "SICK                              str         S\n",
      "classification_report             function    <function classification_<...>rt at 0x0000028547C31430>\n",
      "confusion_matrix                  function    <function confusion_matrix at 0x0000028547C2B4C0>\n",
      "cv2                               module      <module 'cv2' from 'C:\\\\U<...>kages\\\\cv2\\\\__init__.py'>\n",
      "datetime                          type        <class 'datetime.datetime'>\n",
      "f1_score                          function    <function f1_score at 0x0000028547C2BB80>\n",
      "gc                                module      <module 'gc' (built-in)>\n",
      "glob                              module      <module 'glob' from 'C:\\\\<...>anaconda3\\\\lib\\\\glob.py'>\n",
      "gzip                              module      <module 'gzip' from 'C:\\\\<...>anaconda3\\\\lib\\\\gzip.py'>\n",
      "import_ipynb                      module      <module 'import_ipynb' fr<...>ckages\\\\import_ipynb.py'>\n",
      "learning_curve                    function    <function learning_curve at 0x0000028547E00550>\n",
      "mlflow                            module      <module 'mlflow' from 'C:<...>es\\\\mlflow\\\\__init__.py'>\n",
      "np                                module      <module 'numpy' from 'C:\\<...>ges\\\\numpy\\\\__init__.py'>\n",
      "os                                module      <module 'os' from 'C:\\\\Us<...>\\\\anaconda3\\\\lib\\\\os.py'>\n",
      "pd                                module      <module 'pandas' from 'C:<...>es\\\\pandas\\\\__init__.py'>\n",
      "pickle                            module      <module 'pickle' from 'C:<...>aconda3\\\\lib\\\\pickle.py'>\n",
      "plt                               module      <module 'matplotlib.pyplo<...>\\\\matplotlib\\\\pyplot.py'>\n",
      "precision_recall_fscore_support   function    <function precision_recal<...>rt at 0x0000028547C2BF70>\n",
      "random                            module      <module 'random' from 'C:<...>aconda3\\\\lib\\\\random.py'>\n",
      "sns                               module      <module 'seaborn' from 'C<...>s\\\\seaborn\\\\__init__.py'>\n",
      "sp                                module      <module 'scipy.sparse' fr<...>py\\\\sparse\\\\__init__.py'>\n",
      "tqdm                              type        <class 'tqdm.std.tqdm'>\n",
      "train_test_split                  function    <function train_test_split at 0x0000028547DFC5E0>\n",
      "utils                             module      <module 'iteration_0_util<...> at 0x000002854B33BDC0>)>\n"
     ]
    }
   ],
   "source": [
    "%whos"
   ]
  },
  {
   "cell_type": "code",
   "execution_count": 9,
   "id": "developing-correspondence",
   "metadata": {
    "colab": {
     "base_uri": "https://localhost:8080/",
     "height": 35
    },
    "executionInfo": {
     "elapsed": 178,
     "status": "ok",
     "timestamp": 1638109717130,
     "user": {
      "displayName": "Rene MAROT",
      "photoUrl": "https://lh3.googleusercontent.com/a/default-user=s64",
      "userId": "11976636736374307912"
     },
     "user_tz": 300
    },
    "id": "developing-correspondence",
    "outputId": "cdfa1b1f-05eb-4543-b8f0-c9c3bc56b89d"
   },
   "outputs": [
    {
     "data": {
      "text/plain": [
       "'\\nPATH_SAMPLE = \"data/sample\"\\nHEALTHY = \"H\"\\nSICK = \"S\"\\nIMG_SIZE = 400\\n'"
      ]
     },
     "execution_count": 9,
     "metadata": {},
     "output_type": "execute_result"
    }
   ],
   "source": [
    "DATE_TIME = \"2021-11-18_20-39-00\"\n",
    "\n",
    "\"\"\"\n",
    "PATH_SAMPLE = \"data/sample\"\n",
    "HEALTHY = \"H\"\n",
    "SICK = \"S\"\n",
    "IMG_SIZE = 400\n",
    "\"\"\""
   ]
  },
  {
   "cell_type": "markdown",
   "id": "statewide-motel",
   "metadata": {
    "id": "statewide-motel"
   },
   "source": [
    "# Modele"
   ]
  },
  {
   "cell_type": "code",
   "execution_count": 10,
   "id": "better-james",
   "metadata": {
    "colab": {
     "base_uri": "https://localhost:8080/",
     "height": 35
    },
    "executionInfo": {
     "elapsed": 18,
     "status": "ok",
     "timestamp": 1638109717130,
     "user": {
      "displayName": "Rene MAROT",
      "photoUrl": "https://lh3.googleusercontent.com/a/default-user=s64",
      "userId": "11976636736374307912"
     },
     "user_tz": 300
    },
    "id": "better-james",
    "outputId": "111c4f87-7b2c-4939-dc2e-a01d022b8983"
   },
   "outputs": [
    {
     "data": {
      "text/plain": [
       "'../data/sample'"
      ]
     },
     "execution_count": 10,
     "metadata": {},
     "output_type": "execute_result"
    }
   ],
   "source": [
    "PATH_DATA_SAMPLE"
   ]
  },
  {
   "cell_type": "code",
   "execution_count": 11,
   "id": "saving-white",
   "metadata": {
    "colab": {
     "base_uri": "https://localhost:8080/"
    },
    "executionInfo": {
     "elapsed": 17,
     "status": "ok",
     "timestamp": 1638109717130,
     "user": {
      "displayName": "Rene MAROT",
      "photoUrl": "https://lh3.googleusercontent.com/a/default-user=s64",
      "userId": "11976636736374307912"
     },
     "user_tz": 300
    },
    "id": "saving-white",
    "outputId": "88c716da-70f3-461d-e8b5-a80f0e01a0ea"
   },
   "outputs": [
    {
     "data": {
      "text/plain": [
       "20000"
      ]
     },
     "execution_count": 11,
     "metadata": {},
     "output_type": "execute_result"
    }
   ],
   "source": [
    "NBR_SAMPLE"
   ]
  },
  {
   "cell_type": "code",
   "execution_count": 12,
   "id": "charming-deviation",
   "metadata": {
    "colab": {
     "base_uri": "https://localhost:8080/",
     "height": 35
    },
    "executionInfo": {
     "elapsed": 17,
     "status": "ok",
     "timestamp": 1638109717131,
     "user": {
      "displayName": "Rene MAROT",
      "photoUrl": "https://lh3.googleusercontent.com/a/default-user=s64",
      "userId": "11976636736374307912"
     },
     "user_tz": 300
    },
    "id": "charming-deviation",
    "outputId": "f8cf357c-6ff2-4cc7-f098-e6132f442ca3"
   },
   "outputs": [
    {
     "data": {
      "text/plain": [
       "'2021-11-18_20-39-00'"
      ]
     },
     "execution_count": 12,
     "metadata": {},
     "output_type": "execute_result"
    }
   ],
   "source": [
    "DATE_TIME"
   ]
  },
  {
   "cell_type": "code",
   "execution_count": 13,
   "id": "detailed-lodging",
   "metadata": {
    "colab": {
     "base_uri": "https://localhost:8080/"
    },
    "executionInfo": {
     "elapsed": 16,
     "status": "ok",
     "timestamp": 1638109717131,
     "user": {
      "displayName": "Rene MAROT",
      "photoUrl": "https://lh3.googleusercontent.com/a/default-user=s64",
      "userId": "11976636736374307912"
     },
     "user_tz": 300
    },
    "id": "detailed-lodging",
    "outputId": "a7140e03-4b86-4121-f208-4ed447f91bf5"
   },
   "outputs": [
    {
     "data": {
      "text/plain": [
       "64"
      ]
     },
     "execution_count": 13,
     "metadata": {},
     "output_type": "execute_result"
    }
   ],
   "source": [
    "IMG_SIZE"
   ]
  },
  {
   "cell_type": "markdown",
   "id": "visible-afternoon",
   "metadata": {},
   "source": [
    "## Split X y"
   ]
  },
  {
   "cell_type": "code",
   "execution_count": 16,
   "id": "mounted-partner",
   "metadata": {},
   "outputs": [],
   "source": [
    "X = utils.pickle_read(PATH_MODEL + \"/\" + \"X.pklz\")\n",
    "y = utils.pickle_read(PATH_MODEL + \"/\" + \"y.pklz\")"
   ]
  },
  {
   "cell_type": "code",
   "execution_count": 17,
   "id": "particular-snowboard",
   "metadata": {},
   "outputs": [],
   "source": [
    "X_train, X_test, y_train, y_test = train_test_split(X, y, test_size = 0.2, stratify=y, random_state = 0) "
   ]
  },
  {
   "cell_type": "code",
   "execution_count": 18,
   "id": "accessible-cambridge",
   "metadata": {},
   "outputs": [
    {
     "data": {
      "text/plain": [
       "40"
      ]
     },
     "execution_count": 18,
     "metadata": {},
     "output_type": "execute_result"
    }
   ],
   "source": [
    "del X\n",
    "del y\n",
    "gc.collect()\n",
    "gc.collect()"
   ]
  },
  {
   "cell_type": "markdown",
   "id": "bulgarian-villa",
   "metadata": {
    "id": "bulgarian-villa"
   },
   "source": [
    "## Random forest"
   ]
  },
  {
   "cell_type": "code",
   "execution_count": 21,
   "id": "ahead-bulgarian",
   "metadata": {
    "id": "ahead-bulgarian"
   },
   "outputs": [],
   "source": [
    "model_rf = RandomForestClassifier(random_state = 0)"
   ]
  },
  {
   "cell_type": "code",
   "execution_count": 22,
   "id": "unauthorized-shark",
   "metadata": {},
   "outputs": [],
   "source": [
    "# X_train = utils.pickle_read(PATH_MODEL + \"/\" + \"X_train_pix_normalized.pklz\")\n",
    "# X_test = utils.pickle_read(PATH_MODEL + \"/\" + \"X_test_pix_normalized.pklz\")\n",
    "\n",
    "# y_train = utils.pickle_read(PATH_MODEL + \"/\" + \"y_train_pix_normalized.pklz\")\n",
    "# y_test = utils.pickle_read(PATH_MODEL + \"/\" + \"y_test_pix_normalized.pklz\")"
   ]
  },
  {
   "cell_type": "code",
   "execution_count": 23,
   "id": "going-operations",
   "metadata": {},
   "outputs": [],
   "source": [
    "# fit model\n",
    "model_rf.fit(X_train, y_train)\n",
    "y_pred = model_rf.predict(X_test)"
   ]
  },
  {
   "cell_type": "markdown",
   "id": "comparable-netscape",
   "metadata": {},
   "source": [
    "## Obtenir les métriques"
   ]
  },
  {
   "cell_type": "code",
   "execution_count": 24,
   "id": "solved-consumer",
   "metadata": {},
   "outputs": [],
   "source": [
    "# create dataframe metrics\n",
    "df_metrics = pd.DataFrame(precision_recall_fscore_support(y_test, y_pred), columns = [\"H\", \"S\"], \n",
    "         index=[\"Precion\", \"Recall\", \"F1\", \"Support\"])\n",
    "# add average column    \n",
    "df_metrics[\"average_macro\"] = precision_recall_fscore_support(y_test, y_pred, average = \"macro\")\n",
    "df_metrics = df_metrics.replace(np.nan, -999)\n",
    "sr_metrics = df_metrics.stack(dropna=False)\n",
    "\n",
    "df_confusion_matrix = pd.DataFrame(confusion_matrix(y_test, y_pred), columns = [\"cm_H\", \"cm_S\"], index = [\"cm_H\", \"cm_S\"])\n",
    "sr_confusion_matrix = df_confusion_matrix.stack()\n",
    "sr_metrics = pd.concat([sr_metrics, sr_confusion_matrix])"
   ]
  },
  {
   "cell_type": "code",
   "execution_count": 25,
   "id": "unlikely-taiwan",
   "metadata": {},
   "outputs": [
    {
     "data": {
      "text/html": [
       "<div>\n",
       "<style scoped>\n",
       "    .dataframe tbody tr th:only-of-type {\n",
       "        vertical-align: middle;\n",
       "    }\n",
       "\n",
       "    .dataframe tbody tr th {\n",
       "        vertical-align: top;\n",
       "    }\n",
       "\n",
       "    .dataframe thead th {\n",
       "        text-align: right;\n",
       "    }\n",
       "</style>\n",
       "<table border=\"1\" class=\"dataframe\">\n",
       "  <thead>\n",
       "    <tr style=\"text-align: right;\">\n",
       "      <th></th>\n",
       "      <th>H</th>\n",
       "      <th>S</th>\n",
       "      <th>average_macro</th>\n",
       "    </tr>\n",
       "  </thead>\n",
       "  <tbody>\n",
       "    <tr>\n",
       "      <th>Precion</th>\n",
       "      <td>0.763811</td>\n",
       "      <td>0.756783</td>\n",
       "      <td>0.760297</td>\n",
       "    </tr>\n",
       "    <tr>\n",
       "      <th>Recall</th>\n",
       "      <td>0.753500</td>\n",
       "      <td>0.767000</td>\n",
       "      <td>0.760250</td>\n",
       "    </tr>\n",
       "    <tr>\n",
       "      <th>F1</th>\n",
       "      <td>0.758621</td>\n",
       "      <td>0.761857</td>\n",
       "      <td>0.760239</td>\n",
       "    </tr>\n",
       "    <tr>\n",
       "      <th>Support</th>\n",
       "      <td>2000.000000</td>\n",
       "      <td>2000.000000</td>\n",
       "      <td>-999.000000</td>\n",
       "    </tr>\n",
       "  </tbody>\n",
       "</table>\n",
       "</div>"
      ],
      "text/plain": [
       "                   H            S  average_macro\n",
       "Precion     0.763811     0.756783       0.760297\n",
       "Recall      0.753500     0.767000       0.760250\n",
       "F1          0.758621     0.761857       0.760239\n",
       "Support  2000.000000  2000.000000    -999.000000"
      ]
     },
     "execution_count": 25,
     "metadata": {},
     "output_type": "execute_result"
    }
   ],
   "source": [
    "df_metrics"
   ]
  },
  {
   "cell_type": "code",
   "execution_count": 26,
   "id": "focused-seattle",
   "metadata": {},
   "outputs": [
    {
     "data": {
      "text/html": [
       "<div>\n",
       "<style scoped>\n",
       "    .dataframe tbody tr th:only-of-type {\n",
       "        vertical-align: middle;\n",
       "    }\n",
       "\n",
       "    .dataframe tbody tr th {\n",
       "        vertical-align: top;\n",
       "    }\n",
       "\n",
       "    .dataframe thead th {\n",
       "        text-align: right;\n",
       "    }\n",
       "</style>\n",
       "<table border=\"1\" class=\"dataframe\">\n",
       "  <thead>\n",
       "    <tr style=\"text-align: right;\">\n",
       "      <th></th>\n",
       "      <th>cm_H</th>\n",
       "      <th>cm_S</th>\n",
       "    </tr>\n",
       "  </thead>\n",
       "  <tbody>\n",
       "    <tr>\n",
       "      <th>cm_H</th>\n",
       "      <td>1507</td>\n",
       "      <td>493</td>\n",
       "    </tr>\n",
       "    <tr>\n",
       "      <th>cm_S</th>\n",
       "      <td>466</td>\n",
       "      <td>1534</td>\n",
       "    </tr>\n",
       "  </tbody>\n",
       "</table>\n",
       "</div>"
      ],
      "text/plain": [
       "      cm_H  cm_S\n",
       "cm_H  1507   493\n",
       "cm_S   466  1534"
      ]
     },
     "execution_count": 26,
     "metadata": {},
     "output_type": "execute_result"
    }
   ],
   "source": [
    "df_confusion_matrix"
   ]
  },
  {
   "cell_type": "markdown",
   "id": "cheap-tower",
   "metadata": {},
   "source": [
    "## Tracker les métriques"
   ]
  },
  {
   "cell_type": "markdown",
   "id": "introductory-dressing",
   "metadata": {},
   "source": [
    "* **N.B**:\n",
    "    * **Dans un terminal lancer la commande : mlflow ui**"
   ]
  },
  {
   "cell_type": "code",
   "execution_count": 27,
   "id": "circular-remains",
   "metadata": {},
   "outputs": [],
   "source": [
    "mlflow.set_experiment(experiment_name='Projet_A62')\n",
    "mlflow.set_tracking_uri(\"http://localhost:5000\")"
   ]
  },
  {
   "cell_type": "code",
   "execution_count": 28,
   "id": "allied-arrest",
   "metadata": {},
   "outputs": [],
   "source": [
    "with mlflow.start_run(nested=True) as run:\n",
    "    for idx, val in enumerate(sr_metrics):\n",
    "        mlflow.log_metric(\"_\".join(sr_metrics.index[idx]) ,val)\n",
    "    \n",
    "    mlflow.sklearn.log_model(model_rf, \"model\")\n",
    "    mlflow.set_tag(\"model_rf\", str(model_rf))"
   ]
  },
  {
   "cell_type": "code",
   "execution_count": null,
   "id": "focused-dynamics",
   "metadata": {},
   "outputs": [],
   "source": []
  },
  {
   "cell_type": "code",
   "execution_count": 30,
   "id": "piano-charm",
   "metadata": {},
   "outputs": [],
   "source": [
    "# Sauvegarder le modèle\n",
    "os.makedirs(PATH_MODEL, exist_ok=True)\n",
    "utils.pickle_save(model_rf, PATH_MODEL + \"/\" + \"model_rf.pklz\")"
   ]
  },
  {
   "cell_type": "code",
   "execution_count": null,
   "id": "threaded-berry",
   "metadata": {},
   "outputs": [],
   "source": []
  },
  {
   "cell_type": "code",
   "execution_count": null,
   "id": "present-default",
   "metadata": {},
   "outputs": [],
   "source": []
  },
  {
   "cell_type": "markdown",
   "id": "adequate-dodge",
   "metadata": {},
   "source": [
    "### Courbe d'apprentissage"
   ]
  },
  {
   "cell_type": "code",
   "execution_count": 32,
   "id": "moved-photographer",
   "metadata": {},
   "outputs": [],
   "source": [
    "def spot_overfit_needed_data(model, X_train, y_train, cv = 5, scoring= \"f1_macro\"):\n",
    "\n",
    "    N, train_score, val_score = learning_curve(model, X_train, y_train, cv = cv, \n",
    "                                               train_sizes =np.linspace(0.1, 1, 10),\n",
    "                                                scoring = scoring)\n",
    "\n",
    "    plt.figure(figsize=(12,8))\n",
    "    plt.grid()\n",
    "    axes = plt.gca()\n",
    "    axes.set_ylim([0.5,1.05])\n",
    "    plt.plot(N, train_score.mean(axis = 1), \"o-\", label = \"train_score\")\n",
    "    plt.plot(N, val_score.mean(axis = 1)  , \"o-\", label = \"validation_score\")\n",
    "    plt.legend()\n",
    "    plt.show()\n"
   ]
  },
  {
   "cell_type": "code",
   "execution_count": 23,
   "id": "composite-cargo",
   "metadata": {},
   "outputs": [
    {
     "data": {
      "image/png": "[encoded data removed]",
      "text/plain": [
       "<Figure size 864x576 with 1 Axes>"
      ]
     },
     "metadata": {
      "needs_background": "light"
     },
     "output_type": "display_data"
    }
   ],
   "source": [
    "spot_overfit_needed_data(model_rf, X_train, y_train)"
   ]
  },
  {
   "cell_type": "code",
   "execution_count": null,
   "id": "vocal-landscape",
   "metadata": {},
   "outputs": [],
   "source": []
  }
 ],
 "metadata": {
  "colab": {
   "collapsed_sections": [],
   "name": "iteration_01_3_model_1.ipynb",
   "provenance": [
    {
     "file_id": "https://github.com/YounesZ/A62-EquipeCV/blob/feature-colab-integration/notebook/iteration_01_3_model_1.ipynb",
     "timestamp": 1637801011348
    }
   ]
  },
  "kernelspec": {
   "display_name": "Python 3",
   "language": "python",
   "name": "python3"
  },
  "language_info": {
   "codemirror_mode": {
    "name": "ipython",
    "version": 3
   },
   "file_extension": ".py",
   "mimetype": "text/x-python",
   "name": "python",
   "nbconvert_exporter": "python",
   "pygments_lexer": "ipython3",
   "version": "3.8.5"
  },
  "toc": {
   "base_numbering": 1,
   "nav_menu": {},
   "number_sections": true,
   "sideBar": true,
   "skip_h1_title": false,
   "title_cell": "Table of Contents",
   "title_sidebar": "Contents",
   "toc_cell": false,
   "toc_position": {},
   "toc_section_display": true,
   "toc_window_display": false
  }
 },
 "nbformat": 4,
 "nbformat_minor": 5
}
