{
 "cells": [
  {
   "cell_type": "code",
   "execution_count": 10,
   "id": "qX_BO-SJlUo4",
   "metadata": {
    "colab": {
     "base_uri": "https://localhost:8080/"
    },
    "executionInfo": {
     "elapsed": 4861,
     "status": "ok",
     "timestamp": 1637801738164,
     "user": {
      "displayName": "Rene MAROT",
      "photoUrl": "https://lh3.googleusercontent.com/a/default-user=s64",
      "userId": "11976636736374307912"
     },
     "user_tz": 300
    },
    "id": "qX_BO-SJlUo4",
    "outputId": "06a72c96-3d27-4001-bcd1-964e8786de9b"
   },
   "outputs": [
    {
     "name": "stdout",
     "output_type": "stream",
     "text": [
      "Requirement already satisfied: import-ipynb in c:\\users\\rené\\documents\\rene\\ia\\ia297\\jupyter\\420-a62-bb_projetsynthese\\projet_keras\\keras\\lib\\site-packages (0.1.3)\n"
     ]
    }
   ],
   "source": [
    "!pip install import-ipynb"
   ]
  },
  {
   "cell_type": "code",
   "execution_count": 11,
   "id": "KhoH0rQZlWqn",
   "metadata": {
    "executionInfo": {
     "elapsed": 7,
     "status": "ok",
     "timestamp": 1637801738164,
     "user": {
      "displayName": "Rene MAROT",
      "photoUrl": "https://lh3.googleusercontent.com/a/default-user=s64",
      "userId": "11976636736374307912"
     },
     "user_tz": 300
    },
    "id": "KhoH0rQZlWqn"
   },
   "outputs": [],
   "source": [
    "import import_ipynb"
   ]
  },
  {
   "cell_type": "code",
   "execution_count": 12,
   "id": "fRWCR9cxlaeI",
   "metadata": {
    "executionInfo": {
     "elapsed": 1256,
     "status": "ok",
     "timestamp": 1637801739416,
     "user": {
      "displayName": "Rene MAROT",
      "photoUrl": "https://lh3.googleusercontent.com/a/default-user=s64",
      "userId": "11976636736374307912"
     },
     "user_tz": 300
    },
    "id": "fRWCR9cxlaeI"
   },
   "outputs": [],
   "source": [
    "%run iteration_0_imports.py"
   ]
  },
  {
   "cell_type": "code",
   "execution_count": 13,
   "id": "dFjSi_MilcsA",
   "metadata": {
    "executionInfo": {
     "elapsed": 226,
     "status": "ok",
     "timestamp": 1637801739639,
     "user": {
      "displayName": "Rene MAROT",
      "photoUrl": "https://lh3.googleusercontent.com/a/default-user=s64",
      "userId": "11976636736374307912"
     },
     "user_tz": 300
    },
    "id": "dFjSi_MilcsA"
   },
   "outputs": [],
   "source": [
    "%run iteration_0_parameters.py"
   ]
  },
  {
   "cell_type": "code",
   "execution_count": 14,
   "id": "rqq01a-rletv",
   "metadata": {
    "colab": {
     "base_uri": "https://localhost:8080/"
    },
    "executionInfo": {
     "elapsed": 38,
     "status": "ok",
     "timestamp": 1637801739639,
     "user": {
      "displayName": "Rene MAROT",
      "photoUrl": "https://lh3.googleusercontent.com/a/default-user=s64",
      "userId": "11976636736374307912"
     },
     "user_tz": 300
    },
    "id": "rqq01a-rletv",
    "outputId": "04656012-9040-4b8f-cece-26854cd9a135"
   },
   "outputs": [
    {
     "name": "stdout",
     "output_type": "stream",
     "text": [
      "importing Jupyter notebook from iteration_0_utils.ipynb\n"
     ]
    }
   ],
   "source": [
    "import iteration_0_utils as utils"
   ]
  },
  {
   "cell_type": "code",
   "execution_count": 15,
   "id": "5szft19dlkjf",
   "metadata": {
    "colab": {
     "base_uri": "https://localhost:8080/"
    },
    "executionInfo": {
     "elapsed": 37,
     "status": "ok",
     "timestamp": 1637801739640,
     "user": {
      "displayName": "Rene MAROT",
      "photoUrl": "https://lh3.googleusercontent.com/a/default-user=s64",
      "userId": "11976636736374307912"
     },
     "user_tz": 300
    },
    "id": "5szft19dlkjf",
    "outputId": "954c29a2-4d97-45af-b404-bbc4735b7d57"
   },
   "outputs": [
    {
     "name": "stdout",
     "output_type": "stream",
     "text": [
      "Variable                          Type        Data/Info\n",
      "-------------------------------------------------------\n",
      "HEALTHY                           str         H\n",
      "IMG_IN_COLOR                      int         1\n",
      "IMG_SIZE                          int         64\n",
      "Image                             module      <module 'PIL.Image' from <...>packages\\\\PIL\\\\Image.py'>\n",
      "NBR_SAMPLE                        int         20000\n",
      "PATH_DATA                         str         ../data\n",
      "PATH_DATA_EDA                     str         ../data/eda\n",
      "PATH_DATA_LIST                    str         ../data/list\n",
      "PATH_DATA_SAMPLE                  str         ../data/sample\n",
      "PATH_MODEL                        str         ../model\n",
      "PATH_ROOT                         str         ..\n",
      "PATH_SOURCE_IMG                   str         ../cell_images\n",
      "RandomForestClassifier            ABCMeta     <class 'sklearn.ensemble.<...>.RandomForestClassifier'>\n",
      "SICK                              str         S\n",
      "classification_report             function    <function classification_<...>rt at 0x00000247B5F650D0>\n",
      "confusion_matrix                  function    <function confusion_matrix at 0x00000247B5F4C820>\n",
      "cv2                               module      <module 'cv2' from 'c:\\\\u<...>kages\\\\cv2\\\\__init__.py'>\n",
      "datetime                          type        <class 'datetime.datetime'>\n",
      "f1_score                          function    <function f1_score at 0x00000247B5F4CB80>\n",
      "gc                                module      <module 'gc' (built-in)>\n",
      "glob                              module      <module 'glob' from 'C:\\\\<...>Anaconda3\\\\lib\\\\glob.py'>\n",
      "gzip                              module      <module 'gzip' from 'C:\\\\<...>Anaconda3\\\\lib\\\\gzip.py'>\n",
      "import_ipynb                      module      <module 'import_ipynb' fr<...>ckages\\\\import_ipynb.py'>\n",
      "learning_curve                    function    <function learning_curve at 0x00000247B60FD9D0>\n",
      "mlflow                            module      <module 'mlflow' from 'c:<...>es\\\\mlflow\\\\__init__.py'>\n",
      "np                                module      <module 'numpy' from 'c:\\<...>ges\\\\numpy\\\\__init__.py'>\n",
      "os                                module      <module 'os' from 'C:\\\\Te<...>\\\\Anaconda3\\\\lib\\\\os.py'>\n",
      "pd                                module      <module 'pandas' from 'c:<...>es\\\\pandas\\\\__init__.py'>\n",
      "pickle                            module      <module 'pickle' from 'C:<...>aconda3\\\\lib\\\\pickle.py'>\n",
      "plt                               module      <module 'matplotlib.pyplo<...>\\\\matplotlib\\\\pyplot.py'>\n",
      "precision_recall_fscore_support   function    <function precision_recal<...>rt at 0x00000247B5F4CE50>\n",
      "random                            module      <module 'random' from 'C:<...>aconda3\\\\lib\\\\random.py'>\n",
      "sns                               module      <module 'seaborn' from 'c<...>s\\\\seaborn\\\\__init__.py'>\n",
      "sp                                module      <module 'scipy.sparse' fr<...>py\\\\sparse\\\\__init__.py'>\n",
      "tqdm                              type        <class 'tqdm.std.tqdm'>\n",
      "train_test_split                  function    <function train_test_split at 0x00000247B60F4D30>\n",
      "utils                             module      <module 'iteration_0_util<...> at 0x00000247867D61F0>)>\n"
     ]
    }
   ],
   "source": [
    "%whos"
   ]
  },
  {
   "cell_type": "code",
   "execution_count": 16,
   "id": "k7o4LK2tlB9B",
   "metadata": {
    "executionInfo": {
     "elapsed": 35,
     "status": "ok",
     "timestamp": 1637801739640,
     "user": {
      "displayName": "Rene MAROT",
      "photoUrl": "https://lh3.googleusercontent.com/a/default-user=s64",
      "userId": "11976636736374307912"
     },
     "user_tz": 300
    },
    "id": "k7o4LK2tlB9B"
   },
   "outputs": [],
   "source": [
    "DATE_TIME = \"2021-11-18_20-39-00\""
   ]
  },
  {
   "cell_type": "markdown",
   "id": "vTjbfJwslB9C",
   "metadata": {
    "id": "vTjbfJwslB9C"
   },
   "source": [
    "# Production"
   ]
  },
  {
   "cell_type": "markdown",
   "id": "fFOV9NAnlB9D",
   "metadata": {
    "id": "fFOV9NAnlB9D"
   },
   "source": [
    "## make X"
   ]
  },
  {
   "cell_type": "code",
   "execution_count": 17,
   "id": "AKGJMse8lB9E",
   "metadata": {
    "colab": {
     "base_uri": "https://localhost:8080/",
     "height": 35
    },
    "executionInfo": {
     "elapsed": 35,
     "status": "ok",
     "timestamp": 1637801739641,
     "user": {
      "displayName": "Rene MAROT",
      "photoUrl": "https://lh3.googleusercontent.com/a/default-user=s64",
      "userId": "11976636736374307912"
     },
     "user_tz": 300
    },
    "id": "AKGJMse8lB9E",
    "outputId": "ea179b0d-7767-4dc4-911a-fbd29212be6d"
   },
   "outputs": [
    {
     "data": {
      "text/plain": [
       "'../data/sample'"
      ]
     },
     "execution_count": 17,
     "metadata": {},
     "output_type": "execute_result"
    }
   ],
   "source": [
    "PATH_DATA_SAMPLE"
   ]
  },
  {
   "cell_type": "code",
   "execution_count": 18,
   "id": "gq0X33_HlB9E",
   "metadata": {
    "colab": {
     "base_uri": "https://localhost:8080/",
     "height": 35
    },
    "executionInfo": {
     "elapsed": 36,
     "status": "ok",
     "timestamp": 1637801739643,
     "user": {
      "displayName": "Rene MAROT",
      "photoUrl": "https://lh3.googleusercontent.com/a/default-user=s64",
      "userId": "11976636736374307912"
     },
     "user_tz": 300
    },
    "id": "gq0X33_HlB9E",
    "outputId": "b93cf5d3-9f8e-452c-e671-75ce080ebed6"
   },
   "outputs": [
    {
     "data": {
      "text/plain": [
       "'2021-11-18_20-39-00'"
      ]
     },
     "execution_count": 18,
     "metadata": {},
     "output_type": "execute_result"
    }
   ],
   "source": [
    "DATE_TIME"
   ]
  },
  {
   "cell_type": "code",
   "execution_count": 19,
   "id": "1xDNKrMulB9F",
   "metadata": {
    "colab": {
     "base_uri": "https://localhost:8080/"
    },
    "executionInfo": {
     "elapsed": 35,
     "status": "ok",
     "timestamp": 1637801739643,
     "user": {
      "displayName": "Rene MAROT",
      "photoUrl": "https://lh3.googleusercontent.com/a/default-user=s64",
      "userId": "11976636736374307912"
     },
     "user_tz": 300
    },
    "id": "1xDNKrMulB9F",
    "outputId": "a1d2d638-90a3-4d9f-99ac-25bf1333d212"
   },
   "outputs": [
    {
     "data": {
      "text/plain": [
       "64"
      ]
     },
     "execution_count": 19,
     "metadata": {},
     "output_type": "execute_result"
    }
   ],
   "source": [
    "IMG_SIZE"
   ]
  },
  {
   "cell_type": "code",
   "execution_count": 20,
   "id": "kXrFQhxhlB9G",
   "metadata": {
    "executionInfo": {
     "elapsed": 33,
     "status": "ok",
     "timestamp": 1637801739644,
     "user": {
      "displayName": "Rene MAROT",
      "photoUrl": "https://lh3.googleusercontent.com/a/default-user=s64",
      "userId": "11976636736374307912"
     },
     "user_tz": 300
    },
    "id": "kXrFQhxhlB9G"
   },
   "outputs": [],
   "source": [
    "IMG_IN_COLOR = 1\n",
    "def positive_global_std(path_img: str) -> np.array:\n",
    "    img_arr = cv2.imread(path_img, flags = IMG_IN_COLOR)\n",
    "    mean = img_arr.mean()\n",
    "    std  = img_arr.std()\n",
    "    img_arr_std = (img_arr - mean) / std\n",
    "    \n",
    "    # clip les valeurs\n",
    "    img_arr_std = np.clip(img_arr_std, -1.0, 1.0)\n",
    "    \n",
    "    # shift to 0--1\n",
    "    img_arr_std = (img_arr_std + 1.0) / 2.0\n",
    "    \n",
    "    return img_arr_std"
   ]
  },
  {
   "cell_type": "code",
   "execution_count": 45,
   "id": "M5PhhqKKlB9G",
   "metadata": {
    "executionInfo": {
     "elapsed": 765,
     "status": "ok",
     "timestamp": 1637801803244,
     "user": {
      "displayName": "Rene MAROT",
      "photoUrl": "https://lh3.googleusercontent.com/a/default-user=s64",
      "userId": "11976636736374307912"
     },
     "user_tz": 300
    },
    "id": "M5PhhqKKlB9G"
   },
   "outputs": [],
   "source": [
    "path_img = PATH_SOURCE_IMG + \"/Parasitized/C33P1thinF_IMG_20150619_121503a_cell_158.png\""
   ]
  },
  {
   "cell_type": "code",
   "execution_count": 46,
   "id": "07bd3204",
   "metadata": {},
   "outputs": [],
   "source": [
    "#=== Pour prétraitement des images\n",
    "def normalize_pixels(img_arr: np.array) -> np.array:\n",
    "    img_arr_norm = img_arr / 255.0\n",
    "    return img_arr_norm.astype(\"float16\")\n",
    "\n",
    "def image_resize(path_img: str) -> np.array:\n",
    "    img_arr = cv2.imread(path_img, flags=IMG_IN_COLOR)\n",
    "\n",
    "    h, w, _ = img_arr.shape\n",
    "    ratio = IMG_SIZE / max(h, w)\n",
    "    img_arr_resize = cv2.resize(img_arr, dsize=(int(np.ceil(w * ratio)), int(np.ceil(h * ratio))))\n",
    "    return img_arr_resize\n",
    "\n",
    "def preprocess_img(path_img: str, img_size: int = IMG_SIZE) -> np.array:\n",
    "    # img_arr_std = positive_global_std(image_resize(path_img))\n",
    "    img_arr_preprocessed = normalize_pixels(image_resize(path_img))\n",
    "    # padding\n",
    "    img_arr_padded = np.zeros((IMG_SIZE, IMG_SIZE, 3), dtype=type(img_arr_preprocessed[0, 0, 0]))\n",
    "    img_arr_padded[:img_arr_preprocessed.shape[0], :img_arr_preprocessed.shape[1], :] = img_arr_preprocessed\n",
    "\n",
    "    return img_arr_padded\n",
    "#--- Pour prétraitement des images\n"
   ]
  },
  {
   "cell_type": "code",
   "execution_count": 47,
   "id": "b7631f4e",
   "metadata": {},
   "outputs": [],
   "source": [
    "preprocessed_img_arr = preprocess_img(path_img, IMG_SIZE).reshape((1, 64, 64, 3))"
   ]
  },
  {
   "cell_type": "code",
   "execution_count": 26,
   "id": "2318e26b",
   "metadata": {},
   "outputs": [],
   "source": [
    "import tensorflow as tf\n",
    "from tensorflow import keras"
   ]
  },
  {
   "cell_type": "code",
   "execution_count": 27,
   "id": "sErQO8A_lB9H",
   "metadata": {
    "executionInfo": {
     "elapsed": 1023,
     "status": "ok",
     "timestamp": 1637801819818,
     "user": {
      "displayName": "Rene MAROT",
      "photoUrl": "https://lh3.googleusercontent.com/a/default-user=s64",
      "userId": "11976636736374307912"
     },
     "user_tz": 300
    },
    "id": "sErQO8A_lB9H"
   },
   "outputs": [],
   "source": [
    "model = keras.models.load_model(PATH_MODEL)"
   ]
  },
  {
   "cell_type": "code",
   "execution_count": 28,
   "id": "a819ec63",
   "metadata": {},
   "outputs": [
    {
     "data": {
      "text/plain": [
       "<keras.engine.sequential.Sequential at 0x247865ba820>"
      ]
     },
     "execution_count": 28,
     "metadata": {},
     "output_type": "execute_result"
    }
   ],
   "source": [
    "model"
   ]
  },
  {
   "cell_type": "code",
   "execution_count": 43,
   "id": "Xaw7rvHFlB9I",
   "metadata": {
    "executionInfo": {
     "elapsed": 156,
     "status": "ok",
     "timestamp": 1637801828108,
     "user": {
      "displayName": "Rene MAROT",
      "photoUrl": "https://lh3.googleusercontent.com/a/default-user=s64",
      "userId": "11976636736374307912"
     },
     "user_tz": 300
    },
    "id": "Xaw7rvHFlB9I"
   },
   "outputs": [],
   "source": [
    "img_prediction = model.predict(preprocessed_img_arr)"
   ]
  },
  {
   "cell_type": "code",
   "execution_count": 44,
   "id": "191QfEzolB9I",
   "metadata": {
    "colab": {
     "base_uri": "https://localhost:8080/"
    },
    "executionInfo": {
     "elapsed": 137,
     "status": "ok",
     "timestamp": 1637801831261,
     "user": {
      "displayName": "Rene MAROT",
      "photoUrl": "https://lh3.googleusercontent.com/a/default-user=s64",
      "userId": "11976636736374307912"
     },
     "user_tz": 300
    },
    "id": "191QfEzolB9I",
    "outputId": "2f8f14c5-4dca-45f3-d4fa-4fc1a0a247f1"
   },
   "outputs": [
    {
     "data": {
      "text/plain": [
       "array([[0.6361934]], dtype=float32)"
      ]
     },
     "execution_count": 44,
     "metadata": {},
     "output_type": "execute_result"
    }
   ],
   "source": [
    "img_prediction"
   ]
  },
  {
   "cell_type": "code",
   "execution_count": null,
   "id": "go8DKehylB9K",
   "metadata": {
    "executionInfo": {
     "elapsed": 10,
     "status": "aborted",
     "timestamp": 1637801739805,
     "user": {
      "displayName": "Rene MAROT",
      "photoUrl": "https://lh3.googleusercontent.com/a/default-user=s64",
      "userId": "11976636736374307912"
     },
     "user_tz": 300
    },
    "id": "go8DKehylB9K"
   },
   "outputs": [],
   "source": []
  }
 ],
 "metadata": {
  "colab": {
   "collapsed_sections": [],
   "name": "iteration_01_4_production.ipynb",
   "provenance": [
    {
     "file_id": "https://github.com/YounesZ/A62-EquipeCV/blob/feature-colab-integration/notebook/iteration_01_4_production.ipynb",
     "timestamp": 1637801538299
    }
   ]
  },
  "kernelspec": {
   "display_name": "Python 3 (ipykernel)",
   "language": "python",
   "name": "python3"
  },
  "language_info": {
   "codemirror_mode": {
    "name": "ipython",
    "version": 3
   },
   "file_extension": ".py",
   "mimetype": "text/x-python",
   "name": "python",
   "nbconvert_exporter": "python",
   "pygments_lexer": "ipython3",
   "version": "3.8.5"
  },
  "toc": {
   "base_numbering": 1,
   "nav_menu": {},
   "number_sections": true,
   "sideBar": true,
   "skip_h1_title": false,
   "title_cell": "Table of Contents",
   "title_sidebar": "Contents",
   "toc_cell": false,
   "toc_position": {},
   "toc_section_display": true,
   "toc_window_display": false
  }
 },
 "nbformat": 4,
 "nbformat_minor": 5
}
