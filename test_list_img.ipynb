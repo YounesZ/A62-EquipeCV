{
  "nbformat": 4,
  "nbformat_minor": 0,
  "metadata": {
    "colab": {
      "name": "test_list_img.ipynb",
      "provenance": [],
      "toc_visible": true,
      "authorship_tag": "ABX9TyMP4ppc6rCvxkb7DcN8TTW/",
      "include_colab_link": true
    },
    "kernelspec": {
      "name": "python3",
      "display_name": "Python 3"
    },
    "language_info": {
      "name": "python"
    }
  },
  "cells": [
    {
      "cell_type": "markdown",
      "metadata": {
        "id": "view-in-github",
        "colab_type": "text"
      },
      "source": [
        "<a href=\"https://colab.research.google.com/github/YounesZ/A62-EquipeCV/blob/feature-import/test_list_img.ipynb\" target=\"_parent\"><img src=\"https://colab.research.google.com/assets/colab-badge.svg\" alt=\"Open In Colab\"/></a>"
      ]
    },
    {
      "cell_type": "code",
      "metadata": {
        "colab": {
          "base_uri": "https://localhost:8080/"
        },
        "id": "GGQPDe_bucsG",
        "outputId": "49afc6b1-9fe3-4cd9-e87d-955169708298"
      },
      "source": [
        "from google.colab import drive\n",
        "drive.mount('/content/drive',force_remount=True)"
      ],
      "execution_count": 53,
      "outputs": [
        {
          "output_type": "stream",
          "name": "stdout",
          "text": [
            "Mounted at /content/drive\n"
          ]
        }
      ]
    },
    {
      "cell_type": "code",
      "metadata": {
        "id": "itCsCfuBuvTe"
      },
      "source": [
        "list_path_sick_img = []\n",
        "\n",
        "list_path_sick_img.extend(glob.glob(\"/content/drive/MyDrive/A62_projet_synthese/A62_projet_synthese_lnk/cell_images/Parasitized/*.*\"))"
      ],
      "execution_count": 58,
      "outputs": []
    },
    {
      "cell_type": "code",
      "metadata": {
        "colab": {
          "base_uri": "https://localhost:8080/"
        },
        "id": "wvKb-PX4u5tv",
        "outputId": "8e4eccf9-a80c-4d2a-ab67-1faef0f78eae"
      },
      "source": [
        "list_path_sick_img"
      ],
      "execution_count": 59,
      "outputs": [
        {
          "output_type": "execute_result",
          "data": {
            "text/plain": [
              "['/content/drive/MyDrive/A62_projet_synthese/A62_projet_synthese_lnk/cell_images/Parasitized/C33P1thinF_IMG_20150619_114756a_cell_179.png',\n",
              " '/content/drive/MyDrive/A62_projet_synthese/A62_projet_synthese_lnk/cell_images/Parasitized/C33P1thinF_IMG_20150619_114756a_cell_180.png',\n",
              " '/content/drive/MyDrive/A62_projet_synthese/A62_projet_synthese_lnk/cell_images/Parasitized/C33P1thinF_IMG_20150619_114756a_cell_181.png',\n",
              " '/content/drive/MyDrive/A62_projet_synthese/A62_projet_synthese_lnk/cell_images/Parasitized/C33P1thinF_IMG_20150619_114756a_cell_182.png']"
            ]
          },
          "metadata": {},
          "execution_count": 59
        }
      ]
    }
  ]
}